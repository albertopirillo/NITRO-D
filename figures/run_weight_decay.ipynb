{
 "cells": [
  {
   "cell_type": "code",
   "execution_count": null,
   "id": "9c7fc6a0",
   "metadata": {},
   "outputs": [],
   "source": [
    "import numpy as np\n",
    "import cupy as cp\n",
    "import pathlib\n",
    "import csv\n",
    "import sys"
   ]
  },
  {
   "cell_type": "code",
   "execution_count": null,
   "id": "246a6d0d",
   "metadata": {},
   "outputs": [],
   "source": [
    "sys.path.append(str(pathlib.Path('../').resolve()))"
   ]
  },
  {
   "cell_type": "code",
   "execution_count": null,
   "id": "06bdf5f5",
   "metadata": {},
   "outputs": [],
   "source": [
    "from lib.experiments import train_test_experiment, build_CNN, build_augmentation_pipeline\n",
    "from lib.utils.enums import NonLinearity, Initialization, Dataset, OptimizerName\n",
    "from lib.utils.data import load_integer_dataset\n",
    "from lib.utils.misc import to_cpu"
   ]
  },
  {
   "cell_type": "markdown",
   "id": "f995322a",
   "metadata": {},
   "source": [
    "## Experiments config"
   ]
  },
  {
   "cell_type": "code",
   "execution_count": null,
   "id": "28982ce3",
   "metadata": {},
   "outputs": [],
   "source": [
    "architecture = [\n",
    "    ('Conv2d', 128, 3, 1, 1),\n",
    "    ('Conv2d', 256, 3, 1, 1),\n",
    "    ('MaxPool2d', 2, 2),\n",
    "    ('Conv2d', 256, 3, 1, 1),\n",
    "    ('Conv2d', 512, 3, 1, 1),\n",
    "    ('MaxPool2d', 2, 2),\n",
    "    ('Conv2d', 512, 3, 1, 1),\n",
    "    ('MaxPool2d', 2, 2),\n",
    "    ('Conv2d', 512, 3, 1, 1),\n",
    "    ('MaxPool2d', 2, 2),\n",
    "]\n",
    "num_fc_layers = 2\n",
    "num_fc_hidden = [1024]"
   ]
  },
  {
   "cell_type": "code",
   "execution_count": null,
   "id": "ece94a15",
   "metadata": {},
   "outputs": [],
   "source": [
    "dataset_config = dict(\n",
    "    dataset=Dataset.CIFAR10.name,\n",
    "    subsample_ratio=0.5,\n",
    "    ohe_values=(0, 32),\n",
    "    data_augmentation=False,\n",
    "    normalize=True,\n",
    ")"
   ]
  },
  {
   "cell_type": "code",
   "execution_count": null,
   "id": "4b4f2af7",
   "metadata": {},
   "outputs": [],
   "source": [
    "network_config = dict(\n",
    "    architecture=architecture,\n",
    "    num_fc_layers=num_fc_layers,\n",
    "    num_fc_hidden=num_fc_hidden,\n",
    "    non_linearity=NonLinearity.NITRO_LEAKY_RELU.name,\n",
    "    init=Initialization.UNIFORM_KAIMING_LEAKY_RELU.name,\n",
    "    pred_decoder_dim=4096,\n",
    "    fe_dropout_rate=0.0,\n",
    "    fc_dropout_rate=0.0,\n",
    "    seed=42,\n",
    "    dtype='int32',\n",
    "    device='cuda',\n",
    "    local_loss='pred',\n",
    "    pooling_type='max',\n",
    "    bias=False,\n",
    "    debug=False,\n",
    ")"
   ]
  },
  {
   "cell_type": "code",
   "execution_count": null,
   "id": "f422b4a7",
   "metadata": {},
   "outputs": [],
   "source": [
    "training_config = dict(\n",
    "    batch_size=64,\n",
    "    num_epochs=30,\n",
    "    lr_inv=512,\n",
    "    lr_amp_factor=640,\n",
    "    fwd_decay_inv=None,\n",
    "    subnet_decay_inv=None,\n",
    "    optimizer=OptimizerName.INTEGER_SGD.name,\n",
    ")"
   ]
  },
  {
   "cell_type": "code",
   "execution_count": null,
   "id": "3c08a50a",
   "metadata": {},
   "outputs": [],
   "source": [
    "config = dataset_config | network_config | training_config"
   ]
  },
  {
   "cell_type": "code",
   "execution_count": null,
   "id": "9d3cac30e4ff1be6",
   "metadata": {
    "collapsed": false
   },
   "outputs": [],
   "source": [
    "def run_experiment(exp_config):\n",
    "    print(f\"{'-' * 64}\")\n",
    "    print(f\"Running experiment with fwd_decay_inv = {exp_config['fwd_decay_inv']} and lrn_decay_inv={exp_config['subnet_decay_inv']}\")\n",
    "    # Setup reproducibility\n",
    "    np.random.seed(exp_config[\"seed\"])\n",
    "    cp.random.seed(exp_config[\"seed\"])\n",
    "    \n",
    "    # Load the dataset\n",
    "    data = load_integer_dataset(exp_config, ohe_values=exp_config[\"ohe_values\"], val_dim=0, show_images=False, show_log=False, data_path='../.data')\n",
    "    X_tr, _, X_test, y_tr, _, y_test = data\n",
    "\n",
    "    # Setup data augmentation\n",
    "    augmentation_pipeline = build_augmentation_pipeline(exp_config)\n",
    "\n",
    "    # Build and train the model\n",
    "    m = build_CNN(exp_config, X_tr=X_tr, y_tr=y_tr)    \n",
    "    best_train_acc, best_test_acc = train_test_experiment(\n",
    "        m, exp_config, X_tr=X_tr, X_te=X_test, y_tr=y_tr, y_te=y_test,\n",
    "        augmentation_pipeline=augmentation_pipeline,\n",
    "        show_local_accuracies=False, show_progress_bar=False\n",
    "    )\n",
    "\n",
    "    # Compute the mean weight for each layer\n",
    "    weights_norm = []\n",
    "    for layer in m.get_layers_with_parameters():\n",
    "        mean_value = np.mean(np.abs(layer.weights))\n",
    "        weights_norm.append(to_cpu(mean_value))\n",
    "\n",
    "    # Append the results to a CSV file\n",
    "    with open('./weight_decay.csv', mode='a', newline='') as f:\n",
    "        writer = csv.writer(f)\n",
    "        writer.writerow([exp_config[\"fwd_decay_inv\"], exp_config[\"subnet_decay_inv\"], best_train_acc, best_test_acc, *weights_norm])\n",
    "\n",
    "    import requests\n",
    "    tg_chat_id = '827408693'\n",
    "    tg_api_token = '6331557290:AAGQaWZP0oANCgL1_0hMiL0XQk_mT7n-tFk'\n",
    "    text = \"Weight decay effect run complete\"\n",
    "    requests.post(f'https://api.telegram.org/bot{tg_api_token}/sendMessage', params={\"chat_id\": tg_chat_id, \"text\": text});"
   ]
  },
  {
   "cell_type": "code",
   "execution_count": null,
   "id": "b2b442f224bb4944",
   "metadata": {
    "collapsed": false
   },
   "outputs": [],
   "source": [
    "fwd_decay_values = [0, 20_000, 15_000, 10_000, 5000]\n",
    "subnet_decay_values = [0, 3000, 1000]"
   ]
  },
  {
   "cell_type": "code",
   "execution_count": null,
   "id": "4e8e8aaffcf53f7f",
   "metadata": {
    "collapsed": false
   },
   "outputs": [],
   "source": [
    "for fwd_decay_inv in fwd_decay_values:\n",
    "    for subnet_decay_inv in subnet_decay_values:\n",
    "        config[\"fwd_decay_inv\"] = fwd_decay_inv \n",
    "        config[\"subnet_decay_inv\"] = subnet_decay_inv\n",
    "        run_experiment(config)"
   ]
  },
  {
   "cell_type": "code",
   "execution_count": null,
   "id": "5c2810ca0d5a44be",
   "metadata": {
    "collapsed": false
   },
   "outputs": [],
   "source": [
    "import requests\n",
    "tg_chat_id = '827408693'\n",
    "tg_api_token = '6331557290:AAGQaWZP0oANCgL1_0hMiL0XQk_mT7n-tFk'\n",
    "text = \"Weight decay effect experiment has finished!\"\n",
    "requests.post(f'https://api.telegram.org/bot{tg_api_token}/sendMessage', params={\"chat_id\": tg_chat_id, \"text\": text});"
   ]
  }
 ],
 "metadata": {
  "kernelspec": {
   "display_name": "Python 3",
   "language": "python",
   "name": "python3"
  },
  "language_info": {
   "codemirror_mode": {
    "name": "ipython",
    "version": 3
   },
   "file_extension": ".py",
   "mimetype": "text/x-python",
   "name": "python",
   "nbconvert_exporter": "python",
   "pygments_lexer": "ipython3",
   "version": "3.11.0"
  }
 },
 "nbformat": 4,
 "nbformat_minor": 5
}
