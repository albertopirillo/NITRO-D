{
 "cells": [
  {
   "cell_type": "code",
   "execution_count": 3,
   "metadata": {},
   "outputs": [],
   "source": [
    "import pathlib\n",
    "import pickle\n",
    "import sys"
   ]
  },
  {
   "cell_type": "code",
   "execution_count": 6,
   "metadata": {},
   "outputs": [],
   "source": [
    "sys.path.append(str(pathlib.Path('../').resolve()))"
   ]
  },
  {
   "cell_type": "code",
   "execution_count": 7,
   "metadata": {},
   "outputs": [],
   "source": [
    "from lib.utils.enums import Dataset\n",
    "from lib.utils.data import load_integer_dataset\n",
    "from lib.utils.nn import accuracy"
   ]
  },
  {
   "cell_type": "markdown",
   "metadata": {},
   "source": [
    "## Model"
   ]
  },
  {
   "cell_type": "code",
   "execution_count": 3,
   "metadata": {},
   "outputs": [],
   "source": [
    "with open('model.pkl', 'rb') as f:\n",
    "    model = pickle.load(f)"
   ]
  },
  {
   "cell_type": "code",
   "execution_count": 4,
   "metadata": {},
   "outputs": [],
   "source": [
    "config = dict(\n",
    "    dataset=Dataset.FASHION_MNIST.name,\n",
    "    subsample_ratio=1.0,\n",
    "    ohe_values=(0, 32),\n",
    "    data_augmentation=True,\n",
    "    normalize=True,\n",
    "    device='cuda'\n",
    ")"
   ]
  },
  {
   "cell_type": "markdown",
   "metadata": {},
   "source": [
    "## Data"
   ]
  },
  {
   "cell_type": "code",
   "execution_count": 5,
   "metadata": {},
   "outputs": [
    {
     "name": "stdout",
     "output_type": "stream",
     "text": [
      "Training on 50000 samples\n",
      "Data normalized. New statistics:\n",
      "-  Min: -46\n",
      "-  Max: 112\n",
      "- Mean: 0\n",
      "-  Std: 55\n",
      "\n",
      "Moved data to device: <CUDA Device 0>\n",
      "Train set:  (50000, 1, 28, 28), (50000, 10)\n",
      "Val set:    (10000, 1, 28, 28), (10000, 10)\n",
      "Test set:   (10000, 1, 28, 28), (10000, 10)\n",
      "Data types: (int8, int8)\n"
     ]
    },
    {
     "data": {
      "image/png": "[encoded data removed]",
      "text/plain": [
       "<Figure size 2000x2000 with 6 Axes>"
      ]
     },
     "metadata": {},
     "output_type": "display_data"
    }
   ],
   "source": [
    "# Show the data and the model\n",
    "dataset = load_integer_dataset(config, ohe_values=config[\"ohe_values\"], val_dim=10_000, show_images=True)\n",
    "X_train, X_val, X_test, y_train, y_val, y_test = dataset"
   ]
  },
  {
   "cell_type": "markdown",
   "metadata": {},
   "source": [
    "## Evaluation"
   ]
  },
  {
   "cell_type": "code",
   "execution_count": 6,
   "metadata": {},
   "outputs": [
    {
     "data": {
      "application/vnd.jupyter.widget-view+json": {
       "model_id": "7f679edf4b9b493286a67610b1e65058",
       "version_major": 2,
       "version_minor": 0
      },
      "text/plain": [
       "  0%|          | 0/391 [00:00<?, ?it/s]"
      ]
     },
     "metadata": {},
     "output_type": "display_data"
    },
    {
     "data": {
      "application/vnd.jupyter.widget-view+json": {
       "model_id": "b369485f087b457788a3e355f5fe1f1d",
       "version_major": 2,
       "version_minor": 0
      },
      "text/plain": [
       "  0%|          | 0/79 [00:00<?, ?it/s]"
      ]
     },
     "metadata": {},
     "output_type": "display_data"
    },
    {
     "data": {
      "application/vnd.jupyter.widget-view+json": {
       "model_id": "714a66cda57a4c539fb5fd1650f0bd08",
       "version_major": 2,
       "version_minor": 0
      },
      "text/plain": [
       "  0%|          | 0/79 [00:00<?, ?it/s]"
      ]
     },
     "metadata": {},
     "output_type": "display_data"
    }
   ],
   "source": [
    "y_pred_train = model.predict(X_train, progress_bar=True)\n",
    "y_pred_val = model.predict(X_val, progress_bar=True)\n",
    "y_pred_test = model.predict(X_test, progress_bar=True)"
   ]
  },
  {
   "cell_type": "code",
   "execution_count": 7,
   "metadata": {},
   "outputs": [
    {
     "name": "stdout",
     "output_type": "stream",
     "text": [
      "Output accuracy:\n",
      "- Train accuracy: 95.07%\n",
      "-   Val accuracy: 95.05%\n",
      " - Test accuracy: 93.23%\n"
     ]
    }
   ],
   "source": [
    "print(f\"Output accuracy:\")\n",
    "print(f\"- Train accuracy: {accuracy(y_train, y_pred_train):.2%}\")\n",
    "print(f\"-   Val accuracy: {accuracy(y_val, y_pred_val):.2%}\")\n",
    "print(f\" - Test accuracy: {accuracy(y_test, y_pred_test):.2%}\")"
   ]
  },
  {
   "cell_type": "code",
   "execution_count": 8,
   "metadata": {},
   "outputs": [
    {
     "data": {
      "application/vnd.jupyter.widget-view+json": {
       "model_id": "bff2b2c746e841d78b7130e76d7da3d8",
       "version_major": 2,
       "version_minor": 0
      },
      "text/plain": [
       "  0%|          | 0/391 [00:00<?, ?it/s]"
      ]
     },
     "metadata": {},
     "output_type": "display_data"
    }
   ],
   "source": [
    "y_subnets = model.subnetworks_predict(X_train, progress_bar=True)\n",
    "for i, y_subnet in enumerate(y_subnets):\n",
    "    subnet_acc = accuracy(y_train, y_subnet)\n",
    "    print(f'Local train accuracy {i}: {subnet_acc:.2%}')"
   ]
  },
  {
   "cell_type": "code",
   "execution_count": null,
   "metadata": {},
   "outputs": [
    {
     "data": {
      "application/vnd.jupyter.widget-view+json": {
       "model_id": "4f49ad9e2cd44100b401a6c7c355fd9c",
       "version_major": 2,
       "version_minor": 0
      },
      "text/plain": [
       "  0%|          | 0/79 [00:00<?, ?it/s]"
      ]
     },
     "metadata": {},
     "output_type": "display_data"
    },
    {
     "name": "stdout",
     "output_type": "stream",
     "text": [
      "Local val accuracy 0: 88.72%\n",
      "Local val accuracy 1: 94.03%\n",
      "Local val accuracy 2: 95.77%\n",
      "Local val accuracy 3: 95.35%\n",
      "Local val accuracy 4: 95.67%\n",
      "Local val accuracy 5: 95.52%\n",
      "Local val accuracy 6: 95.06%\n"
     ]
    }
   ],
   "source": [
    "y_subnets = model.subnetworks_predict(X_val, progress_bar=True)\n",
    "for i, y_subnet in enumerate(y_subnets):\n",
    "    subnet_acc = accuracy(y_val, y_subnet)\n",
    "    print(f'Local val accuracy {i}: {subnet_acc:.2%}')"
   ]
  },
  {
   "cell_type": "code",
   "execution_count": null,
   "metadata": {},
   "outputs": [
    {
     "data": {
      "application/vnd.jupyter.widget-view+json": {
       "model_id": "6c4f2123abbd4b16ae5c70ce217dfec5",
       "version_major": 2,
       "version_minor": 0
      },
      "text/plain": [
       "  0%|          | 0/79 [00:00<?, ?it/s]"
      ]
     },
     "metadata": {},
     "output_type": "display_data"
    },
    {
     "name": "stdout",
     "output_type": "stream",
     "text": [
      "Local test accuracy 0: 87.94%\n",
      "Local test accuracy 1: 91.48%\n",
      "Local test accuracy 2: 92.90%\n",
      "Local test accuracy 3: 93.27%\n",
      "Local test accuracy 4: 93.61%\n",
      "Local test accuracy 5: 93.71%\n",
      "Local test accuracy 6: 93.51%\n"
     ]
    }
   ],
   "source": [
    "y_subnets = model.subnetworks_predict(X_test, progress_bar=True)\n",
    "for i, y_subnet in enumerate(y_subnets):\n",
    "    subnet_acc = accuracy(y_test, y_subnet)\n",
    "    print(f'Local test accuracy {i}: {subnet_acc:.2%}')"
   ]
  }
 ],
 "metadata": {
  "kernelspec": {
   "display_name": ".venv",
   "language": "python",
   "name": "python3"
  },
  "language_info": {
   "codemirror_mode": {
    "name": "ipython",
    "version": 3
   },
   "file_extension": ".py",
   "mimetype": "text/x-python",
   "name": "python",
   "nbconvert_exporter": "python",
   "pygments_lexer": "ipython3",
   "version": "3.11.0"
  }
 },
 "nbformat": 4,
 "nbformat_minor": 2
}
