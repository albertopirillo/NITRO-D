{
 "cells": [
  {
   "cell_type": "markdown",
   "id": "3081df066748711b",
   "metadata": {},
   "source": [
    "# VGG8B - CIFAR-10"
   ]
  },
  {
   "cell_type": "code",
   "execution_count": 1,
   "id": "e582a1f102c5c554",
   "metadata": {
    "ExecuteTime": {
     "end_time": "2024-05-16T21:40:03.026752Z",
     "start_time": "2024-05-16T21:40:02.599556Z"
    },
    "execution": {
     "iopub.execute_input": "2024-05-20T15:22:36.828933Z",
     "iopub.status.busy": "2024-05-20T15:22:36.828358Z",
     "iopub.status.idle": "2024-05-20T15:22:37.210421Z",
     "shell.execute_reply": "2024-05-20T15:22:37.208359Z"
    }
   },
   "outputs": [],
   "source": [
    "import numpy as np\n",
    "import cupy as cp\n",
    "import pathlib\n",
    "import pickle\n",
    "import csv\n",
    "import sys"
   ]
  },
  {
   "cell_type": "code",
   "execution_count": 2,
   "id": "a36c83d0",
   "metadata": {
    "ExecuteTime": {
     "end_time": "2024-05-16T21:40:03.031441Z",
     "start_time": "2024-05-16T21:40:03.027756Z"
    },
    "execution": {
     "iopub.execute_input": "2024-05-20T15:22:37.216776Z",
     "iopub.status.busy": "2024-05-20T15:22:37.216444Z",
     "iopub.status.idle": "2024-05-20T15:22:37.222847Z",
     "shell.execute_reply": "2024-05-20T15:22:37.221195Z"
    }
   },
   "outputs": [],
   "source": [
    "sys.path.append(str(pathlib.Path('../../').resolve()))"
   ]
  },
  {
   "cell_type": "code",
   "execution_count": 3,
   "id": "4a5ce8e9a8902dff",
   "metadata": {
    "ExecuteTime": {
     "end_time": "2024-05-16T21:40:06.366038Z",
     "start_time": "2024-05-16T21:40:03.032460Z"
    },
    "execution": {
     "iopub.execute_input": "2024-05-20T15:22:37.228266Z",
     "iopub.status.busy": "2024-05-20T15:22:37.228019Z",
     "iopub.status.idle": "2024-05-20T15:22:40.098057Z",
     "shell.execute_reply": "2024-05-20T15:22:40.095989Z"
    }
   },
   "outputs": [],
   "source": [
    "from lib.experiments import train_test_experiment, build_CNN, build_augmentation_pipeline\n",
    "from lib.utils.enums import NonLinearity, Initialization, Dataset, OptimizerName\n",
    "from lib.utils.data import load_integer_dataset"
   ]
  },
  {
   "cell_type": "markdown",
   "id": "d1649196b987bc01",
   "metadata": {},
   "source": [
    "## Experiments config"
   ]
  },
  {
   "cell_type": "code",
   "execution_count": 4,
   "id": "5859029d6a812144",
   "metadata": {
    "ExecuteTime": {
     "end_time": "2024-05-16T21:40:06.370394Z",
     "start_time": "2024-05-16T21:40:06.367058Z"
    },
    "execution": {
     "iopub.execute_input": "2024-05-20T15:22:40.103681Z",
     "iopub.status.busy": "2024-05-20T15:22:40.103397Z",
     "iopub.status.idle": "2024-05-20T15:22:40.109729Z",
     "shell.execute_reply": "2024-05-20T15:22:40.108196Z"
    }
   },
   "outputs": [],
   "source": [
    "architecture = [\n",
    "    ('Conv2d', 128, 3, 1, 1),\n",
    "    ('Conv2d', 256, 3, 1, 1),\n",
    "    ('MaxPool2d', 2, 2),\n",
    "    ('Conv2d', 256, 3, 1, 1),\n",
    "    ('Conv2d', 512, 3, 1, 1),\n",
    "    ('MaxPool2d', 2, 2),\n",
    "    ('Conv2d', 512, 3, 1, 1),\n",
    "    ('MaxPool2d', 2, 2),\n",
    "    ('Conv2d', 512, 3, 1, 1),\n",
    "    ('MaxPool2d', 2, 2),\n",
    "]\n",
    "num_fc_layers = 2\n",
    "num_fc_hidden = [1024]"
   ]
  },
  {
   "cell_type": "code",
   "execution_count": 5,
   "id": "2d636533a1995025",
   "metadata": {
    "ExecuteTime": {
     "end_time": "2024-05-16T21:40:06.376370Z",
     "start_time": "2024-05-16T21:40:06.372401Z"
    },
    "execution": {
     "iopub.execute_input": "2024-05-20T15:22:40.114882Z",
     "iopub.status.busy": "2024-05-20T15:22:40.114623Z",
     "iopub.status.idle": "2024-05-20T15:22:40.120889Z",
     "shell.execute_reply": "2024-05-20T15:22:40.119240Z"
    }
   },
   "outputs": [],
   "source": [
    "dataset_config = dict(\n",
    "    dataset=Dataset.CIFAR10.name,\n",
    "    subsample_ratio=1.0,\n",
    "    ohe_values=(0, 32),\n",
    "    data_augmentation=True,\n",
    "    normalize=True,\n",
    ")"
   ]
  },
  {
   "cell_type": "code",
   "execution_count": 6,
   "id": "7d1cd09ad113de03",
   "metadata": {
    "ExecuteTime": {
     "end_time": "2024-05-16T21:40:06.381236Z",
     "start_time": "2024-05-16T21:40:06.377376Z"
    },
    "execution": {
     "iopub.execute_input": "2024-05-20T15:22:40.126725Z",
     "iopub.status.busy": "2024-05-20T15:22:40.126368Z",
     "iopub.status.idle": "2024-05-20T15:22:40.134060Z",
     "shell.execute_reply": "2024-05-20T15:22:40.132355Z"
    }
   },
   "outputs": [],
   "source": [
    "network_config = dict(\n",
    "    architecture=architecture,\n",
    "    num_fc_layers=num_fc_layers,\n",
    "    num_fc_hidden=num_fc_hidden,\n",
    "    non_linearity=NonLinearity.NITRO_LEAKY_RELU.name,\n",
    "    init=Initialization.UNIFORM_KAIMING_LEAKY_RELU.name,\n",
    "    pred_decoder_dim=4096,\n",
    "    fe_dropout_rate=0.0,\n",
    "    fc_dropout_rate=0.15,\n",
    "    seed=47,\n",
    "    dtype='int32',\n",
    "    device='cuda',\n",
    "    local_loss='pred',\n",
    "    pooling_type='max',\n",
    "    bias=False,\n",
    "    debug=False,\n",
    ")"
   ]
  },
  {
   "cell_type": "code",
   "execution_count": 7,
   "id": "9e1722b88a039cfa",
   "metadata": {
    "ExecuteTime": {
     "end_time": "2024-05-16T21:40:06.386552Z",
     "start_time": "2024-05-16T21:40:06.382241Z"
    },
    "execution": {
     "iopub.execute_input": "2024-05-20T15:22:40.140299Z",
     "iopub.status.busy": "2024-05-20T15:22:40.139864Z",
     "iopub.status.idle": "2024-05-20T15:22:40.147487Z",
     "shell.execute_reply": "2024-05-20T15:22:40.145548Z"
    }
   },
   "outputs": [],
   "source": [
    "training_config = dict(\n",
    "    batch_size=64,\n",
    "    num_epochs=150,\n",
    "    lr_inv=512,\n",
    "    lr_amp_factor=640,\n",
    "    fwd_decay_inv=25_000,\n",
    "    subnet_decay_inv=3000,\n",
    "    optimizer=OptimizerName.INTEGER_SGD.name,\n",
    ")"
   ]
  },
  {
   "cell_type": "code",
   "execution_count": 8,
   "id": "358a533d2ff9b822",
   "metadata": {
    "ExecuteTime": {
     "end_time": "2024-05-16T21:40:06.390517Z",
     "start_time": "2024-05-16T21:40:06.387559Z"
    },
    "execution": {
     "iopub.execute_input": "2024-05-20T15:22:40.153959Z",
     "iopub.status.busy": "2024-05-20T15:22:40.153388Z",
     "iopub.status.idle": "2024-05-20T15:22:40.161976Z",
     "shell.execute_reply": "2024-05-20T15:22:40.159984Z"
    }
   },
   "outputs": [],
   "source": [
    "config = dataset_config | network_config | training_config"
   ]
  },
  {
   "cell_type": "markdown",
   "id": "7d4ddf255216adb",
   "metadata": {},
   "source": [
    "## Run the configuration"
   ]
  },
  {
   "cell_type": "code",
   "execution_count": 9,
   "id": "15b3c7d6b72d6db",
   "metadata": {
    "ExecuteTime": {
     "end_time": "2024-05-16T21:40:08.797944Z",
     "start_time": "2024-05-16T21:40:06.391524Z"
    },
    "execution": {
     "iopub.execute_input": "2024-05-20T15:22:40.169665Z",
     "iopub.status.busy": "2024-05-20T15:22:40.168029Z",
     "iopub.status.idle": "2024-05-20T15:22:48.233268Z",
     "shell.execute_reply": "2024-05-20T15:22:48.231796Z"
    }
   },
   "outputs": [
    {
     "name": "stdout",
     "output_type": "stream",
     "text": [
      "Files already downloaded and verified\n"
     ]
    },
    {
     "name": "stdout",
     "output_type": "stream",
     "text": [
      "Files already downloaded and verified\n"
     ]
    },
    {
     "name": "stdout",
     "output_type": "stream",
     "text": [
      "Training on 50000 samples\n"
     ]
    },
    {
     "name": "stdout",
     "output_type": "stream",
     "text": [
      "Data normalized. New statistics:\n",
      "-  Min: [-123 -123 -105]\n",
      "-  Max: [126 127 127]\n",
      "- Mean: [0 0 0]\n",
      "-  Std: [61 61 61]\n",
      "\n"
     ]
    },
    {
     "name": "stdout",
     "output_type": "stream",
     "text": [
      "Moved data to device: <CUDA Device 0>\n",
      "Train set:  (50000, 3, 32, 32), (50000, 10)\n",
      "Test set:   (10000, 3, 32, 32), (10000, 10)\n",
      "Data types: (int8, int8)\n"
     ]
    },
    {
     "data": {
      "image/png": "[encoded data removed]",
      "text/plain": [
       "<Figure size 2000x2000 with 6 Axes>"
      ]
     },
     "metadata": {},
     "output_type": "display_data"
    }
   ],
   "source": [
    "# Show the data and the model\n",
    "dataset = load_integer_dataset(config, ohe_values=config[\"ohe_values\"], val_dim=0, show_images=True, data_path='../.data')\n",
    "X_train, _, _, y_train, _, _ = dataset"
   ]
  },
  {
   "cell_type": "code",
   "execution_count": 10,
   "id": "9d424675633d629a",
   "metadata": {
    "ExecuteTime": {
     "end_time": "2024-05-16T21:40:08.929075Z",
     "start_time": "2024-05-16T21:40:08.799962Z"
    },
    "execution": {
     "iopub.execute_input": "2024-05-20T15:22:48.238134Z",
     "iopub.status.busy": "2024-05-20T15:22:48.237985Z",
     "iopub.status.idle": "2024-05-20T15:22:48.280255Z",
     "shell.execute_reply": "2024-05-20T15:22:48.278935Z"
    }
   },
   "outputs": [
    {
     "name": "stdout",
     "output_type": "stream",
     "text": [
      "IntegerLocalLossCNN(\n",
      "\t(0): Sequential(\n",
      "\t\t\t(0): LocalConv2dBlock(\n",
      "\t\t\t(0): IntegerConv2d(in_channels=3, out_channels=128, bias=False, decay_rate_inv=25000)\n",
      "\t\t\t(1): ConstantScaling(fwd_factor=6912, bwd_factor=1)\n",
      "\t\t\t(2): NitroLeakyReLU(negative_slope_inv=4)\n",
      "\t\t\t(learning_layers): Sequential(\n",
      "\t\t\t(0): MaxPool2d(kernel_size=(8, 4), stride=(8, 4), padding=(0, 0))\n",
      "\t\t\t(1): Flatten()\n",
      "\t\t\t(2): IntegerLinear(in_features=4096, out_features=10, bias=False, decay_rate_inv=3000)\n",
      "\t\t\t(3): ConstantScaling(fwd_factor=1048576, bwd_factor=1)\n",
      "\t\t)\n",
      "\t)\n",
      "\t\t\t(1): LocalConv2dBlock(\n",
      "\t\t\t(0): IntegerConv2d(in_channels=128, out_channels=256, bias=False, decay_rate_inv=25000)\n",
      "\t\t\t(1): ConstantScaling(fwd_factor=294912, bwd_factor=1)\n",
      "\t\t\t(2): NitroLeakyReLU(negative_slope_inv=4)\n",
      "\t\t\t(learning_layers): Sequential(\n",
      "\t\t\t(0): MaxPool2d(kernel_size=(8, 8), stride=(8, 8), padding=(0, 0))\n",
      "\t\t\t(1): Flatten()\n",
      "\t\t\t(2): IntegerLinear(in_features=4096, out_features=10, bias=False, decay_rate_inv=3000)\n",
      "\t\t\t(3): ConstantScaling(fwd_factor=1048576, bwd_factor=1)\n",
      "\t\t)\n",
      "\t)\n",
      "\t\t\t(2): MaxPool2d(kernel_size=(2, 2), stride=(2, 2), padding=(0, 0))\n",
      "\t\t\t(3): LocalConv2dBlock(\n",
      "\t\t\t(0): IntegerConv2d(in_channels=256, out_channels=256, bias=False, decay_rate_inv=25000)\n",
      "\t\t\t(1): ConstantScaling(fwd_factor=589824, bwd_factor=1)\n",
      "\t\t\t(2): NitroLeakyReLU(negative_slope_inv=4)\n",
      "\t\t\t(learning_layers): Sequential(\n",
      "\t\t\t(0): MaxPool2d(kernel_size=(4, 4), stride=(4, 4), padding=(0, 0))\n",
      "\t\t\t(1): Flatten()\n",
      "\t\t\t(2): IntegerLinear(in_features=4096, out_features=10, bias=False, decay_rate_inv=3000)\n",
      "\t\t\t(3): ConstantScaling(fwd_factor=1048576, bwd_factor=1)\n",
      "\t\t)\n",
      "\t)\n",
      "\t\t\t(4): LocalConv2dBlock(\n",
      "\t\t\t(0): IntegerConv2d(in_channels=256, out_channels=512, bias=False, decay_rate_inv=25000)\n",
      "\t\t\t(1): ConstantScaling(fwd_factor=589824, bwd_factor=1)\n",
      "\t\t\t(2): NitroLeakyReLU(negative_slope_inv=4)\n",
      "\t\t\t(learning_layers): Sequential(\n",
      "\t\t\t(0): MaxPool2d(kernel_size=(8, 4), stride=(8, 4), padding=(0, 0))\n",
      "\t\t\t(1): Flatten()\n",
      "\t\t\t(2): IntegerLinear(in_features=4096, out_features=10, bias=False, decay_rate_inv=3000)\n",
      "\t\t\t(3): ConstantScaling(fwd_factor=1048576, bwd_factor=1)\n",
      "\t\t)\n",
      "\t)\n",
      "\t\t\t(5): MaxPool2d(kernel_size=(2, 2), stride=(2, 2), padding=(0, 0))\n",
      "\t\t\t(6): LocalConv2dBlock(\n",
      "\t\t\t(0): IntegerConv2d(in_channels=512, out_channels=512, bias=False, decay_rate_inv=25000)\n",
      "\t\t\t(1): ConstantScaling(fwd_factor=1179648, bwd_factor=1)\n",
      "\t\t\t(2): NitroLeakyReLU(negative_slope_inv=4)\n",
      "\t\t\t(learning_layers): Sequential(\n",
      "\t\t\t(0): MaxPool2d(kernel_size=(4, 2), stride=(4, 2), padding=(0, 0))\n",
      "\t\t\t(1): Flatten()\n",
      "\t\t\t(2): IntegerLinear(in_features=4096, out_features=10, bias=False, decay_rate_inv=3000)\n",
      "\t\t\t(3): ConstantScaling(fwd_factor=1048576, bwd_factor=1)\n",
      "\t\t)\n",
      "\t)\n",
      "\t\t\t(7): MaxPool2d(kernel_size=(2, 2), stride=(2, 2), padding=(0, 0))\n",
      "\t\t\t(8): LocalConv2dBlock(\n",
      "\t\t\t(0): IntegerConv2d(in_channels=512, out_channels=512, bias=False, decay_rate_inv=25000)\n",
      "\t\t\t(1): ConstantScaling(fwd_factor=1179648, bwd_factor=1)\n",
      "\t\t\t(2): NitroLeakyReLU(negative_slope_inv=4)\n",
      "\t\t\t(learning_layers): Sequential(\n",
      "\t\t\t(0): MaxPool2d(kernel_size=(2, 1), stride=(2, 1), padding=(0, 0))\n",
      "\t\t\t(1): Flatten()\n",
      "\t\t\t(2): IntegerLinear(in_features=4096, out_features=10, bias=False, decay_rate_inv=3000)\n",
      "\t\t\t(3): ConstantScaling(fwd_factor=1048576, bwd_factor=1)\n",
      "\t\t)\n",
      "\t)\n",
      "\t\t\t(9): Dropout(dropout_rate=0.15)\n",
      "\t\t\t(10): MaxPool2d(kernel_size=(2, 2), stride=(2, 2), padding=(0, 0))\n",
      "\t\t)\n",
      "\t(1): IntegerLocalLossMLP(\n",
      "\t(0): Sequential(\n",
      "\t\t\t(0): Flatten()\n",
      "\t\t\t(1): LocalLinearBlock(\n",
      "\t\t\t(0): IntegerLinear(in_features=2048, out_features=1024, bias=False, decay_rate_inv=25000)\n",
      "\t\t\t(1): ConstantScaling(fwd_factor=524288, bwd_factor=1)\n",
      "\t\t\t(2): NitroLeakyReLU(negative_slope_inv=4)\n",
      "\t\t\t(learning_layers): Sequential(\n",
      "\t\t\t(0): IntegerLinear(in_features=1024, out_features=10, bias=False, decay_rate_inv=3000)\n",
      "\t\t\t(1): ConstantScaling(fwd_factor=262144, bwd_factor=1)\n",
      "\t\t)\n",
      "\t)\n",
      "\t\t\t(2): Dropout(dropout_rate=0.15)\n",
      "\t\t\t(3): Sequential(\n",
      "\t\t\t(0): IntegerLinear(in_features=1024, out_features=10, bias=False, decay_rate_inv=3000)\n",
      "\t\t\t(1): ConstantScaling(fwd_factor=262144, bwd_factor=1)\n",
      "\t\t)\n",
      "\t\t)\n",
      "\t)\n",
      ")\n"
     ]
    }
   ],
   "source": [
    "model = build_CNN(config, X_tr=X_train, y_tr=y_train)\n",
    "print(model.extra_repr(1))"
   ]
  },
  {
   "cell_type": "code",
   "execution_count": 11,
   "id": "e4c1bb797582873b",
   "metadata": {
    "ExecuteTime": {
     "end_time": "2024-05-15T12:27:52.470933Z",
     "start_time": "2024-05-15T12:27:52.465522Z"
    },
    "execution": {
     "iopub.execute_input": "2024-05-20T15:22:48.284956Z",
     "iopub.status.busy": "2024-05-20T15:22:48.284786Z",
     "iopub.status.idle": "2024-05-20T15:22:48.292056Z",
     "shell.execute_reply": "2024-05-20T15:22:48.290697Z"
    }
   },
   "outputs": [],
   "source": [
    "def run_experiment(exp_config):\n",
    "    # Setup reproducibility\n",
    "    print(f\"{'-' * 64}\")\n",
    "    print(f\"Running experiment with seed {exp_config['seed']}...\")\n",
    "    np.random.seed(exp_config[\"seed\"])\n",
    "    cp.random.seed(exp_config[\"seed\"])\n",
    "    \n",
    "    # Load the dataset\n",
    "    data = load_integer_dataset(exp_config, ohe_values=exp_config[\"ohe_values\"], val_dim=0, show_images=False, show_log=False, data_path='../.data')\n",
    "    X_tr, _, X_test, y_tr, _, y_test = data\n",
    "\n",
    "    # Setup data augmentation\n",
    "    augmentation_pipeline = build_augmentation_pipeline(exp_config)\n",
    "\n",
    "    # Build and train the model\n",
    "    m = build_CNN(exp_config, X_tr=X_tr, y_tr=y_tr)    \n",
    "    best_train_acc, best_test_acc = train_test_experiment(\n",
    "        m, exp_config, X_tr=X_tr, X_te=X_test, y_tr=y_tr, y_te=y_test,\n",
    "        augmentation_pipeline=augmentation_pipeline,\n",
    "        show_local_accuracies=False, show_progress_bar=False\n",
    "    )\n",
    "\n",
    "    # Append the results to a CSV file\n",
    "    with open('./results.csv', mode='a', newline='') as f:\n",
    "        writer = csv.writer(f)\n",
    "        writer.writerow([exp_config[\"seed\"], best_train_acc, best_test_acc])\n",
    "\n",
    "    import requests  \n",
    "    tg_chat_id = '827408693'  \n",
    "    tg_api_token = '6331557290:AAGQaWZP0oANCgL1_0hMiL0XQk_mT7n-tFk'  \n",
    "    text = \"Part 2 run complete!\"  \n",
    "    requests.post(f'https://api.telegram.org/bot{tg_api_token}/sendMessage', params={\"chat_id\":tg_chat_id, \"text\":text})"
   ]
  },
  {
   "cell_type": "code",
   "execution_count": 12,
   "id": "1977595faf571666",
   "metadata": {
    "ExecuteTime": {
     "end_time": "2024-05-15T12:31:49.998199Z",
     "start_time": "2024-05-15T12:27:52.471939Z"
    },
    "execution": {
     "iopub.execute_input": "2024-05-20T15:22:48.296854Z",
     "iopub.status.busy": "2024-05-20T15:22:48.296634Z",
     "iopub.status.idle": "2024-05-21T13:25:22.352828Z",
     "shell.execute_reply": "2024-05-21T13:25:22.350908Z"
    }
   },
   "outputs": [
    {
     "name": "stdout",
     "output_type": "stream",
     "text": [
      "----------------------------------------------------------------\n",
      "Running experiment with seed 47...\n"
     ]
    },
    {
     "name": "stdout",
     "output_type": "stream",
     "text": [
      "Files already downloaded and verified\n"
     ]
    },
    {
     "name": "stdout",
     "output_type": "stream",
     "text": [
      "Files already downloaded and verified\n"
     ]
    },
    {
     "name": "stdout",
     "output_type": "stream",
     "text": [
      "Epoch   1/150 - Train accuracy: 09.951% - Test accuracy: 10.006%\n"
     ]
    },
    {
     "name": "stdout",
     "output_type": "stream",
     "text": [
      "Epoch   2/150 - Train accuracy: 19.708% - Test accuracy: 26.993%\n"
     ]
    },
    {
     "name": "stdout",
     "output_type": "stream",
     "text": [
      "Epoch   3/150 - Train accuracy: 33.631% - Test accuracy: 43.339%\n"
     ]
    },
    {
     "name": "stdout",
     "output_type": "stream",
     "text": [
      "Epoch   4/150 - Train accuracy: 46.681% - Test accuracy: 51.993%\n"
     ]
    },
    {
     "name": "stdout",
     "output_type": "stream",
     "text": [
      "Epoch   5/150 - Train accuracy: 52.887% - Test accuracy: 59.014%\n"
     ]
    },
    {
     "name": "stdout",
     "output_type": "stream",
     "text": [
      "Epoch   6/150 - Train accuracy: 57.666% - Test accuracy: 62.420%\n"
     ]
    },
    {
     "name": "stdout",
     "output_type": "stream",
     "text": [
      "Epoch   7/150 - Train accuracy: 60.869% - Test accuracy: 65.174%\n"
     ]
    },
    {
     "name": "stdout",
     "output_type": "stream",
     "text": [
      "Epoch   8/150 - Train accuracy: 63.952% - Test accuracy: 67.077%\n"
     ]
    },
    {
     "name": "stdout",
     "output_type": "stream",
     "text": [
      "Epoch   9/150 - Train accuracy: 65.175% - Test accuracy: 65.435%\n"
     ]
    },
    {
     "name": "stdout",
     "output_type": "stream",
     "text": [
      "Epoch  10/150 - Train accuracy: 67.228% - Test accuracy: 70.453%\n"
     ]
    },
    {
     "name": "stdout",
     "output_type": "stream",
     "text": [
      "Epoch  11/150 - Train accuracy: 68.896% - Test accuracy: 71.875%\n"
     ]
    },
    {
     "name": "stdout",
     "output_type": "stream",
     "text": [
      "Epoch  12/150 - Train accuracy: 70.300% - Test accuracy: 72.145%\n"
     ]
    },
    {
     "name": "stdout",
     "output_type": "stream",
     "text": [
      "Epoch  13/150 - Train accuracy: 71.335% - Test accuracy: 73.878%\n"
     ]
    },
    {
     "name": "stdout",
     "output_type": "stream",
     "text": [
      "Epoch  14/150 - Train accuracy: 72.445% - Test accuracy: 74.659%\n"
     ]
    },
    {
     "name": "stdout",
     "output_type": "stream",
     "text": [
      "Epoch  15/150 - Train accuracy: 72.879% - Test accuracy: 72.446%\n"
     ]
    },
    {
     "name": "stdout",
     "output_type": "stream",
     "text": [
      "Epoch  16/150 - Train accuracy: 73.808% - Test accuracy: 74.409%\n"
     ]
    },
    {
     "name": "stdout",
     "output_type": "stream",
     "text": [
      "Epoch  17/150 - Train accuracy: 74.330% - Test accuracy: 76.502%\n"
     ]
    },
    {
     "name": "stdout",
     "output_type": "stream",
     "text": [
      "Epoch  18/150 - Train accuracy: 74.800% - Test accuracy: 74.289%\n"
     ]
    },
    {
     "name": "stdout",
     "output_type": "stream",
     "text": [
      "Epoch  19/150 - Train accuracy: 75.666% - Test accuracy: 74.740%\n"
     ]
    },
    {
     "name": "stdout",
     "output_type": "stream",
     "text": [
      "Epoch  20/150 - Train accuracy: 76.186% - Test accuracy: 77.123%\n"
     ]
    },
    {
     "name": "stdout",
     "output_type": "stream",
     "text": [
      "Epoch  21/150 - Train accuracy: 76.581% - Test accuracy: 78.385%\n"
     ]
    },
    {
     "name": "stdout",
     "output_type": "stream",
     "text": [
      "Epoch  22/150 - Train accuracy: 77.119% - Test accuracy: 78.175%\n"
     ]
    },
    {
     "name": "stdout",
     "output_type": "stream",
     "text": [
      "Epoch  23/150 - Train accuracy: 77.427% - Test accuracy: 79.137%\n"
     ]
    },
    {
     "name": "stdout",
     "output_type": "stream",
     "text": [
      "Epoch  24/150 - Train accuracy: 78.437% - Test accuracy: 78.115%\n"
     ]
    },
    {
     "name": "stdout",
     "output_type": "stream",
     "text": [
      "Epoch  25/150 - Train accuracy: 78.533% - Test accuracy: 80.238%\n"
     ]
    },
    {
     "name": "stdout",
     "output_type": "stream",
     "text": [
      "Epoch  26/150 - Train accuracy: 78.667% - Test accuracy: 72.696%\n"
     ]
    },
    {
     "name": "stdout",
     "output_type": "stream",
     "text": [
      "Epoch  27/150 - Train accuracy: 79.183% - Test accuracy: 78.886%\n"
     ]
    },
    {
     "name": "stdout",
     "output_type": "stream",
     "text": [
      "Epoch  28/150 - Train accuracy: 79.325% - Test accuracy: 78.576%\n"
     ]
    },
    {
     "name": "stdout",
     "output_type": "stream",
     "text": [
      "Epoch  29/150 - Train accuracy: 79.507% - Test accuracy: 78.816%\n"
     ]
    },
    {
     "name": "stdout",
     "output_type": "stream",
     "text": [
      "Epoch  30/150 - Train accuracy: 80.320% - Test accuracy: 77.694%\n"
     ]
    },
    {
     "name": "stdout",
     "output_type": "stream",
     "text": [
      "Epoch  31/150 - Train accuracy: 79.996% - Test accuracy: 78.876%\n"
     ]
    },
    {
     "name": "stdout",
     "output_type": "stream",
     "text": [
      "Epoch  32/150 - Train accuracy: 80.762% - Test accuracy: 78.355%\n"
     ]
    },
    {
     "name": "stdout",
     "output_type": "stream",
     "text": [
      "Epoch  33/150 - Train accuracy: 81.116% - Test accuracy: 80.228%\n"
     ]
    },
    {
     "name": "stdout",
     "output_type": "stream",
     "text": [
      "Epoch  34/150 - Train accuracy: 81.282% - Test accuracy: 78.165%\n"
     ]
    },
    {
     "name": "stdout",
     "output_type": "stream",
     "text": [
      "Epoch  35/150 - Train accuracy: 81.120% - Test accuracy: 79.557%\n"
     ]
    },
    {
     "name": "stdout",
     "output_type": "stream",
     "text": [
      "Epoch  36/150 - Train accuracy: 81.568% - Test accuracy: 81.480%\n"
     ]
    },
    {
     "name": "stdout",
     "output_type": "stream",
     "text": [
      "Epoch  37/150 - Train accuracy: 81.816% - Test accuracy: 77.554%\n"
     ]
    },
    {
     "name": "stdout",
     "output_type": "stream",
     "text": [
      "Epoch  38/150 - Train accuracy: 82.130% - Test accuracy: 81.260%\n"
     ]
    },
    {
     "name": "stdout",
     "output_type": "stream",
     "text": [
      "Epoch  39/150 - Train accuracy: 82.150% - Test accuracy: 81.190%\n"
     ]
    },
    {
     "name": "stdout",
     "output_type": "stream",
     "text": [
      "Epoch  40/150 - Train accuracy: 82.330% - Test accuracy: 81.380%\n"
     ]
    },
    {
     "name": "stdout",
     "output_type": "stream",
     "text": [
      "Epoch  41/150 - Train accuracy: 82.398% - Test accuracy: 82.562%\n"
     ]
    },
    {
     "name": "stdout",
     "output_type": "stream",
     "text": [
      "Epoch  42/150 - Train accuracy: 82.766% - Test accuracy: 80.038%\n"
     ]
    },
    {
     "name": "stdout",
     "output_type": "stream",
     "text": [
      "Epoch  43/150 - Train accuracy: 82.859% - Test accuracy: 82.111%\n"
     ]
    },
    {
     "name": "stdout",
     "output_type": "stream",
     "text": [
      "Epoch  44/150 - Train accuracy: 83.219% - Test accuracy: 79.928%\n"
     ]
    },
    {
     "name": "stdout",
     "output_type": "stream",
     "text": [
      "Epoch  45/150 - Train accuracy: 83.127% - Test accuracy: 81.030%\n"
     ]
    },
    {
     "name": "stdout",
     "output_type": "stream",
     "text": [
      "Epoch  46/150 - Train accuracy: 83.113% - Test accuracy: 78.656%\n"
     ]
    },
    {
     "name": "stdout",
     "output_type": "stream",
     "text": [
      "Epoch  47/150 - Train accuracy: 83.697% - Test accuracy: 80.449%\n"
     ]
    },
    {
     "name": "stdout",
     "output_type": "stream",
     "text": [
      "Epoch  48/150 - Train accuracy: 83.565% - Test accuracy: 81.480%\n"
     ]
    },
    {
     "name": "stdout",
     "output_type": "stream",
     "text": [
      "Epoch  49/150 - Train accuracy: 83.651% - Test accuracy: 82.011%\n"
     ]
    },
    {
     "name": "stdout",
     "output_type": "stream",
     "text": [
      "Epoch  50/150 - Train accuracy: 83.539% - Test accuracy: 80.899%\n"
     ]
    },
    {
     "name": "stdout",
     "output_type": "stream",
     "text": [
      "Epoch  51/150 - Train accuracy: 83.871% - Test accuracy: 81.230%\n"
     ]
    },
    {
     "name": "stdout",
     "output_type": "stream",
     "text": [
      "Epoch  52/150 - Train accuracy: 83.903% - Test accuracy: 79.277%\n"
     ]
    },
    {
     "name": "stdout",
     "output_type": "stream",
     "text": [
      "Epoch  53/150 - Train accuracy: 84.473% - Test accuracy: 81.581%\n"
     ]
    },
    {
     "name": "stdout",
     "output_type": "stream",
     "text": [
      "Epoch  54/150 - Train accuracy: 84.709% - Test accuracy: 81.450%\n"
     ]
    },
    {
     "name": "stdout",
     "output_type": "stream",
     "text": [
      "Epoch  55/150 - Train accuracy: 84.577% - Test accuracy: 82.021%\n"
     ]
    },
    {
     "name": "stdout",
     "output_type": "stream",
     "text": [
      "Epoch  56/150 - Train accuracy: 84.027% - Test accuracy: 82.652%\n",
      "----------------------------------------------------------------\n",
      "Reducing learning rate on plateau at epoch 56\n",
      "----------------------------------------------------------------\n"
     ]
    },
    {
     "name": "stdout",
     "output_type": "stream",
     "text": [
      "Epoch  57/150 - Train accuracy: 88.402% - Test accuracy: 85.497%\n"
     ]
    },
    {
     "name": "stdout",
     "output_type": "stream",
     "text": [
      "Epoch  58/150 - Train accuracy: 88.918% - Test accuracy: 85.236%\n"
     ]
    },
    {
     "name": "stdout",
     "output_type": "stream",
     "text": [
      "Epoch  59/150 - Train accuracy: 89.571% - Test accuracy: 85.887%\n"
     ]
    },
    {
     "name": "stdout",
     "output_type": "stream",
     "text": [
      "Epoch  60/150 - Train accuracy: 89.537% - Test accuracy: 85.737%\n"
     ]
    },
    {
     "name": "stdout",
     "output_type": "stream",
     "text": [
      "Epoch  61/150 - Train accuracy: 89.941% - Test accuracy: 85.467%\n"
     ]
    },
    {
     "name": "stdout",
     "output_type": "stream",
     "text": [
      "Epoch  62/150 - Train accuracy: 89.773% - Test accuracy: 85.657%\n"
     ]
    },
    {
     "name": "stdout",
     "output_type": "stream",
     "text": [
      "Epoch  63/150 - Train accuracy: 90.007% - Test accuracy: 85.387%\n"
     ]
    },
    {
     "name": "stdout",
     "output_type": "stream",
     "text": [
      "Epoch  64/150 - Train accuracy: 89.901% - Test accuracy: 86.188%\n"
     ]
    },
    {
     "name": "stdout",
     "output_type": "stream",
     "text": [
      "Epoch  65/150 - Train accuracy: 90.163% - Test accuracy: 86.428%\n"
     ]
    },
    {
     "name": "stdout",
     "output_type": "stream",
     "text": [
      "Epoch  66/150 - Train accuracy: 90.071% - Test accuracy: 86.128%\n"
     ]
    },
    {
     "name": "stdout",
     "output_type": "stream",
     "text": [
      "Epoch  67/150 - Train accuracy: 90.401% - Test accuracy: 86.078%\n"
     ]
    },
    {
     "name": "stdout",
     "output_type": "stream",
     "text": [
      "Epoch  68/150 - Train accuracy: 90.267% - Test accuracy: 86.108%\n"
     ]
    },
    {
     "name": "stdout",
     "output_type": "stream",
     "text": [
      "Epoch  69/150 - Train accuracy: 90.385% - Test accuracy: 86.338%\n"
     ]
    },
    {
     "name": "stdout",
     "output_type": "stream",
     "text": [
      "Epoch  70/150 - Train accuracy: 90.717% - Test accuracy: 86.158%\n"
     ]
    },
    {
     "name": "stdout",
     "output_type": "stream",
     "text": [
      "Epoch  71/150 - Train accuracy: 90.517% - Test accuracy: 86.318%\n"
     ]
    },
    {
     "name": "stdout",
     "output_type": "stream",
     "text": [
      "Epoch  72/150 - Train accuracy: 90.717% - Test accuracy: 85.286%\n",
      "----------------------------------------------------------------\n",
      "Reducing learning rate on plateau at epoch 72\n",
      "----------------------------------------------------------------\n"
     ]
    },
    {
     "name": "stdout",
     "output_type": "stream",
     "text": [
      "Epoch  73/150 - Train accuracy: 91.681% - Test accuracy: 87.049%\n"
     ]
    },
    {
     "name": "stdout",
     "output_type": "stream",
     "text": [
      "Epoch  74/150 - Train accuracy: 91.569% - Test accuracy: 87.270%\n"
     ]
    },
    {
     "name": "stdout",
     "output_type": "stream",
     "text": [
      "Epoch  75/150 - Train accuracy: 91.797% - Test accuracy: 86.649%\n"
     ]
    },
    {
     "name": "stdout",
     "output_type": "stream",
     "text": [
      "Epoch  76/150 - Train accuracy: 92.141% - Test accuracy: 87.280%\n"
     ]
    },
    {
     "name": "stdout",
     "output_type": "stream",
     "text": [
      "Epoch  77/150 - Train accuracy: 91.751% - Test accuracy: 86.709%\n"
     ]
    },
    {
     "name": "stdout",
     "output_type": "stream",
     "text": [
      "Epoch  78/150 - Train accuracy: 91.935% - Test accuracy: 87.200%\n"
     ]
    },
    {
     "name": "stdout",
     "output_type": "stream",
     "text": [
      "Epoch  79/150 - Train accuracy: 91.713% - Test accuracy: 87.310%\n"
     ]
    },
    {
     "name": "stdout",
     "output_type": "stream",
     "text": [
      "Epoch  80/150 - Train accuracy: 91.829% - Test accuracy: 87.400%\n"
     ]
    },
    {
     "name": "stdout",
     "output_type": "stream",
     "text": [
      "Epoch  81/150 - Train accuracy: 92.121% - Test accuracy: 87.089%\n"
     ]
    },
    {
     "name": "stdout",
     "output_type": "stream",
     "text": [
      "Epoch  82/150 - Train accuracy: 92.081% - Test accuracy: 87.270%\n"
     ]
    },
    {
     "name": "stdout",
     "output_type": "stream",
     "text": [
      "Epoch  83/150 - Train accuracy: 92.188% - Test accuracy: 87.390%\n"
     ]
    },
    {
     "name": "stdout",
     "output_type": "stream",
     "text": [
      "Epoch  84/150 - Train accuracy: 92.047% - Test accuracy: 87.500%\n"
     ]
    },
    {
     "name": "stdout",
     "output_type": "stream",
     "text": [
      "Epoch  85/150 - Train accuracy: 92.212% - Test accuracy: 87.330%\n"
     ]
    },
    {
     "name": "stdout",
     "output_type": "stream",
     "text": [
      "Epoch  86/150 - Train accuracy: 92.053% - Test accuracy: 87.330%\n"
     ]
    },
    {
     "name": "stdout",
     "output_type": "stream",
     "text": [
      "Epoch  87/150 - Train accuracy: 92.141% - Test accuracy: 87.330%\n"
     ]
    },
    {
     "name": "stdout",
     "output_type": "stream",
     "text": [
      "Epoch  88/150 - Train accuracy: 92.015% - Test accuracy: 87.410%\n",
      "----------------------------------------------------------------\n",
      "Reducing learning rate on plateau at epoch 88\n",
      "----------------------------------------------------------------\n"
     ]
    },
    {
     "name": "stdout",
     "output_type": "stream",
     "text": [
      "Epoch  89/150 - Train accuracy: 92.546% - Test accuracy: 87.670%\n"
     ]
    },
    {
     "name": "stdout",
     "output_type": "stream",
     "text": [
      "Epoch  90/150 - Train accuracy: 92.418% - Test accuracy: 87.620%\n"
     ]
    },
    {
     "name": "stdout",
     "output_type": "stream",
     "text": [
      "Epoch  91/150 - Train accuracy: 92.432% - Test accuracy: 87.590%\n"
     ]
    },
    {
     "name": "stdout",
     "output_type": "stream",
     "text": [
      "Epoch  92/150 - Train accuracy: 92.642% - Test accuracy: 87.390%\n"
     ]
    },
    {
     "name": "stdout",
     "output_type": "stream",
     "text": [
      "Epoch  93/150 - Train accuracy: 92.474% - Test accuracy: 87.500%\n"
     ]
    },
    {
     "name": "stdout",
     "output_type": "stream",
     "text": [
      "Epoch  94/150 - Train accuracy: 92.386% - Test accuracy: 87.660%\n"
     ]
    },
    {
     "name": "stdout",
     "output_type": "stream",
     "text": [
      "Epoch  95/150 - Train accuracy: 92.548% - Test accuracy: 87.520%\n"
     ]
    },
    {
     "name": "stdout",
     "output_type": "stream",
     "text": [
      "Epoch  96/150 - Train accuracy: 92.654% - Test accuracy: 87.410%\n"
     ]
    },
    {
     "name": "stdout",
     "output_type": "stream",
     "text": [
      "Epoch  97/150 - Train accuracy: 92.654% - Test accuracy: 87.520%\n"
     ]
    },
    {
     "name": "stdout",
     "output_type": "stream",
     "text": [
      "Epoch  98/150 - Train accuracy: 92.528% - Test accuracy: 87.580%\n"
     ]
    },
    {
     "name": "stdout",
     "output_type": "stream",
     "text": [
      "Epoch  99/150 - Train accuracy: 92.588% - Test accuracy: 87.740%\n"
     ]
    },
    {
     "name": "stdout",
     "output_type": "stream",
     "text": [
      "Epoch 100/150 - Train accuracy: 92.484% - Test accuracy: 87.660%\n"
     ]
    },
    {
     "name": "stdout",
     "output_type": "stream",
     "text": [
      "Epoch 101/150 - Train accuracy: 92.524% - Test accuracy: 87.520%\n"
     ]
    },
    {
     "name": "stdout",
     "output_type": "stream",
     "text": [
      "Epoch 102/150 - Train accuracy: 92.434% - Test accuracy: 87.550%\n"
     ]
    },
    {
     "name": "stdout",
     "output_type": "stream",
     "text": [
      "Epoch 103/150 - Train accuracy: 92.646% - Test accuracy: 87.730%\n",
      "----------------------------------------------------------------\n",
      "Reducing learning rate on plateau at epoch 103\n",
      "----------------------------------------------------------------\n"
     ]
    },
    {
     "name": "stdout",
     "output_type": "stream",
     "text": [
      "Epoch 104/150 - Train accuracy: 92.784% - Test accuracy: 87.660%\n"
     ]
    },
    {
     "name": "stdout",
     "output_type": "stream",
     "text": [
      "Epoch 105/150 - Train accuracy: 92.668% - Test accuracy: 87.620%\n"
     ]
    },
    {
     "name": "stdout",
     "output_type": "stream",
     "text": [
      "Epoch 106/150 - Train accuracy: 92.688% - Test accuracy: 87.821%\n"
     ]
    },
    {
     "name": "stdout",
     "output_type": "stream",
     "text": [
      "Epoch 107/150 - Train accuracy: 92.722% - Test accuracy: 87.680%\n"
     ]
    },
    {
     "name": "stdout",
     "output_type": "stream",
     "text": [
      "Epoch 108/150 - Train accuracy: 92.686% - Test accuracy: 87.590%\n",
      "----------------------------------------------------------------\n",
      "Early stopping at epoch 108\n",
      "----------------------------------------------------------------\n"
     ]
    },
    {
     "name": "stdout",
     "output_type": "stream",
     "text": [
      "----------------------------------------------------------------\n",
      "Running experiment with seed 48...\n"
     ]
    },
    {
     "name": "stdout",
     "output_type": "stream",
     "text": [
      "Files already downloaded and verified\n"
     ]
    },
    {
     "name": "stdout",
     "output_type": "stream",
     "text": [
      "Files already downloaded and verified\n"
     ]
    },
    {
     "name": "stdout",
     "output_type": "stream",
     "text": [
      "Epoch   1/150 - Train accuracy: 10.129% - Test accuracy: 09.986%\n"
     ]
    },
    {
     "name": "stdout",
     "output_type": "stream",
     "text": [
      "Epoch   2/150 - Train accuracy: 18.326% - Test accuracy: 28.676%\n"
     ]
    },
    {
     "name": "stdout",
     "output_type": "stream",
     "text": [
      "Epoch   3/150 - Train accuracy: 33.799% - Test accuracy: 45.523%\n"
     ]
    },
    {
     "name": "stdout",
     "output_type": "stream",
     "text": [
      "Epoch   4/150 - Train accuracy: 46.041% - Test accuracy: 53.075%\n"
     ]
    },
    {
     "name": "stdout",
     "output_type": "stream",
     "text": [
      "Epoch   5/150 - Train accuracy: 51.761% - Test accuracy: 55.589%\n"
     ]
    },
    {
     "name": "stdout",
     "output_type": "stream",
     "text": [
      "Epoch   6/150 - Train accuracy: 55.958% - Test accuracy: 62.290%\n"
     ]
    },
    {
     "name": "stdout",
     "output_type": "stream",
     "text": [
      "Epoch   7/150 - Train accuracy: 60.245% - Test accuracy: 65.655%\n"
     ]
    },
    {
     "name": "stdout",
     "output_type": "stream",
     "text": [
      "Epoch   8/150 - Train accuracy: 62.806% - Test accuracy: 67.298%\n"
     ]
    },
    {
     "name": "stdout",
     "output_type": "stream",
     "text": [
      "Epoch   9/150 - Train accuracy: 65.071% - Test accuracy: 67.538%\n"
     ]
    },
    {
     "name": "stdout",
     "output_type": "stream",
     "text": [
      "Epoch  10/150 - Train accuracy: 67.049% - Test accuracy: 70.964%\n"
     ]
    },
    {
     "name": "stdout",
     "output_type": "stream",
     "text": [
      "Epoch  11/150 - Train accuracy: 68.482% - Test accuracy: 71.765%\n"
     ]
    },
    {
     "name": "stdout",
     "output_type": "stream",
     "text": [
      "Epoch  12/150 - Train accuracy: 69.888% - Test accuracy: 72.536%\n"
     ]
    },
    {
     "name": "stdout",
     "output_type": "stream",
     "text": [
      "Epoch  13/150 - Train accuracy: 71.111% - Test accuracy: 72.957%\n"
     ]
    },
    {
     "name": "stdout",
     "output_type": "stream",
     "text": [
      "Epoch  14/150 - Train accuracy: 71.871% - Test accuracy: 73.217%\n"
     ]
    },
    {
     "name": "stdout",
     "output_type": "stream",
     "text": [
      "Epoch  15/150 - Train accuracy: 72.765% - Test accuracy: 72.386%\n"
     ]
    },
    {
     "name": "stdout",
     "output_type": "stream",
     "text": [
      "Epoch  16/150 - Train accuracy: 73.588% - Test accuracy: 75.711%\n"
     ]
    },
    {
     "name": "stdout",
     "output_type": "stream",
     "text": [
      "Epoch  17/150 - Train accuracy: 74.362% - Test accuracy: 74.169%\n"
     ]
    },
    {
     "name": "stdout",
     "output_type": "stream",
     "text": [
      "Epoch  18/150 - Train accuracy: 74.854% - Test accuracy: 73.858%\n"
     ]
    },
    {
     "name": "stdout",
     "output_type": "stream",
     "text": [
      "Epoch  19/150 - Train accuracy: 75.590% - Test accuracy: 74.900%\n"
     ]
    },
    {
     "name": "stdout",
     "output_type": "stream",
     "text": [
      "Epoch  20/150 - Train accuracy: 76.068% - Test accuracy: 74.309%\n"
     ]
    },
    {
     "name": "stdout",
     "output_type": "stream",
     "text": [
      "Epoch  21/150 - Train accuracy: 76.705% - Test accuracy: 78.606%\n"
     ]
    },
    {
     "name": "stdout",
     "output_type": "stream",
     "text": [
      "Epoch  22/150 - Train accuracy: 77.095% - Test accuracy: 76.352%\n"
     ]
    },
    {
     "name": "stdout",
     "output_type": "stream",
     "text": [
      "Epoch  23/150 - Train accuracy: 77.349% - Test accuracy: 77.153%\n"
     ]
    },
    {
     "name": "stdout",
     "output_type": "stream",
     "text": [
      "Epoch  24/150 - Train accuracy: 78.307% - Test accuracy: 78.726%\n"
     ]
    },
    {
     "name": "stdout",
     "output_type": "stream",
     "text": [
      "Epoch  25/150 - Train accuracy: 78.323% - Test accuracy: 76.212%\n"
     ]
    },
    {
     "name": "stdout",
     "output_type": "stream",
     "text": [
      "Epoch  26/150 - Train accuracy: 78.989% - Test accuracy: 76.753%\n"
     ]
    },
    {
     "name": "stdout",
     "output_type": "stream",
     "text": [
      "Epoch  27/150 - Train accuracy: 79.033% - Test accuracy: 77.103%\n"
     ]
    },
    {
     "name": "stdout",
     "output_type": "stream",
     "text": [
      "Epoch  28/150 - Train accuracy: 79.283% - Test accuracy: 79.848%\n"
     ]
    },
    {
     "name": "stdout",
     "output_type": "stream",
     "text": [
      "Epoch  29/150 - Train accuracy: 79.529% - Test accuracy: 78.305%\n"
     ]
    },
    {
     "name": "stdout",
     "output_type": "stream",
     "text": [
      "Epoch  30/150 - Train accuracy: 79.862% - Test accuracy: 77.484%\n"
     ]
    },
    {
     "name": "stdout",
     "output_type": "stream",
     "text": [
      "Epoch  31/150 - Train accuracy: 80.130% - Test accuracy: 79.958%\n"
     ]
    },
    {
     "name": "stdout",
     "output_type": "stream",
     "text": [
      "Epoch  32/150 - Train accuracy: 80.290% - Test accuracy: 79.677%\n"
     ]
    },
    {
     "name": "stdout",
     "output_type": "stream",
     "text": [
      "Epoch  33/150 - Train accuracy: 81.018% - Test accuracy: 80.058%\n"
     ]
    },
    {
     "name": "stdout",
     "output_type": "stream",
     "text": [
      "Epoch  34/150 - Train accuracy: 80.634% - Test accuracy: 78.696%\n"
     ]
    },
    {
     "name": "stdout",
     "output_type": "stream",
     "text": [
      "Epoch  35/150 - Train accuracy: 81.350% - Test accuracy: 81.380%\n"
     ]
    },
    {
     "name": "stdout",
     "output_type": "stream",
     "text": [
      "Epoch  36/150 - Train accuracy: 81.506% - Test accuracy: 80.379%\n"
     ]
    },
    {
     "name": "stdout",
     "output_type": "stream",
     "text": [
      "Epoch  37/150 - Train accuracy: 81.454% - Test accuracy: 80.940%\n"
     ]
    },
    {
     "name": "stdout",
     "output_type": "stream",
     "text": [
      "Epoch  38/150 - Train accuracy: 81.762% - Test accuracy: 80.899%\n"
     ]
    },
    {
     "name": "stdout",
     "output_type": "stream",
     "text": [
      "Epoch  39/150 - Train accuracy: 81.946% - Test accuracy: 80.479%\n"
     ]
    },
    {
     "name": "stdout",
     "output_type": "stream",
     "text": [
      "Epoch  40/150 - Train accuracy: 82.022% - Test accuracy: 77.764%\n"
     ]
    },
    {
     "name": "stdout",
     "output_type": "stream",
     "text": [
      "Epoch  41/150 - Train accuracy: 82.430% - Test accuracy: 81.230%\n"
     ]
    },
    {
     "name": "stdout",
     "output_type": "stream",
     "text": [
      "Epoch  42/150 - Train accuracy: 82.784% - Test accuracy: 79.537%\n"
     ]
    },
    {
     "name": "stdout",
     "output_type": "stream",
     "text": [
      "Epoch  43/150 - Train accuracy: 82.720% - Test accuracy: 81.811%\n"
     ]
    },
    {
     "name": "stdout",
     "output_type": "stream",
     "text": [
      "Epoch  44/150 - Train accuracy: 82.957% - Test accuracy: 81.801%\n"
     ]
    },
    {
     "name": "stdout",
     "output_type": "stream",
     "text": [
      "Epoch  45/150 - Train accuracy: 82.949% - Test accuracy: 79.347%\n"
     ]
    },
    {
     "name": "stdout",
     "output_type": "stream",
     "text": [
      "Epoch  46/150 - Train accuracy: 83.033% - Test accuracy: 81.260%\n"
     ]
    },
    {
     "name": "stdout",
     "output_type": "stream",
     "text": [
      "Epoch  47/150 - Train accuracy: 83.311% - Test accuracy: 82.442%\n"
     ]
    },
    {
     "name": "stdout",
     "output_type": "stream",
     "text": [
      "Epoch  48/150 - Train accuracy: 83.595% - Test accuracy: 79.537%\n"
     ]
    },
    {
     "name": "stdout",
     "output_type": "stream",
     "text": [
      "Epoch  49/150 - Train accuracy: 83.699% - Test accuracy: 82.031%\n"
     ]
    },
    {
     "name": "stdout",
     "output_type": "stream",
     "text": [
      "Epoch  50/150 - Train accuracy: 83.413% - Test accuracy: 82.141%\n"
     ]
    },
    {
     "name": "stdout",
     "output_type": "stream",
     "text": [
      "Epoch  51/150 - Train accuracy: 84.117% - Test accuracy: 82.362%\n"
     ]
    },
    {
     "name": "stdout",
     "output_type": "stream",
     "text": [
      "Epoch  52/150 - Train accuracy: 84.287% - Test accuracy: 81.901%\n"
     ]
    },
    {
     "name": "stdout",
     "output_type": "stream",
     "text": [
      "Epoch  53/150 - Train accuracy: 84.161% - Test accuracy: 79.537%\n"
     ]
    },
    {
     "name": "stdout",
     "output_type": "stream",
     "text": [
      "Epoch  54/150 - Train accuracy: 84.037% - Test accuracy: 81.510%\n"
     ]
    },
    {
     "name": "stdout",
     "output_type": "stream",
     "text": [
      "Epoch  55/150 - Train accuracy: 84.061% - Test accuracy: 82.312%\n"
     ]
    },
    {
     "name": "stdout",
     "output_type": "stream",
     "text": [
      "Epoch  56/150 - Train accuracy: 84.083% - Test accuracy: 81.010%\n"
     ]
    },
    {
     "name": "stdout",
     "output_type": "stream",
     "text": [
      "Epoch  57/150 - Train accuracy: 84.557% - Test accuracy: 81.831%\n"
     ]
    },
    {
     "name": "stdout",
     "output_type": "stream",
     "text": [
      "Epoch  58/150 - Train accuracy: 84.681% - Test accuracy: 82.051%\n"
     ]
    },
    {
     "name": "stdout",
     "output_type": "stream",
     "text": [
      "Epoch  59/150 - Train accuracy: 84.765% - Test accuracy: 81.320%\n"
     ]
    },
    {
     "name": "stdout",
     "output_type": "stream",
     "text": [
      "Epoch  60/150 - Train accuracy: 84.919% - Test accuracy: 83.013%\n"
     ]
    },
    {
     "name": "stdout",
     "output_type": "stream",
     "text": [
      "Epoch  61/150 - Train accuracy: 85.035% - Test accuracy: 81.691%\n"
     ]
    },
    {
     "name": "stdout",
     "output_type": "stream",
     "text": [
      "Epoch  62/150 - Train accuracy: 84.963% - Test accuracy: 81.050%\n",
      "----------------------------------------------------------------\n",
      "Reducing learning rate on plateau at epoch 62\n",
      "----------------------------------------------------------------\n"
     ]
    },
    {
     "name": "stdout",
     "output_type": "stream",
     "text": [
      "Epoch  63/150 - Train accuracy: 88.652% - Test accuracy: 85.547%\n"
     ]
    },
    {
     "name": "stdout",
     "output_type": "stream",
     "text": [
      "Epoch  64/150 - Train accuracy: 89.605% - Test accuracy: 85.447%\n"
     ]
    },
    {
     "name": "stdout",
     "output_type": "stream",
     "text": [
      "Epoch  65/150 - Train accuracy: 89.705% - Test accuracy: 85.767%\n"
     ]
    },
    {
     "name": "stdout",
     "output_type": "stream",
     "text": [
      "Epoch  66/150 - Train accuracy: 90.009% - Test accuracy: 85.226%\n"
     ]
    },
    {
     "name": "stdout",
     "output_type": "stream",
     "text": [
      "Epoch  67/150 - Train accuracy: 90.211% - Test accuracy: 85.437%\n"
     ]
    },
    {
     "name": "stdout",
     "output_type": "stream",
     "text": [
      "Epoch  68/150 - Train accuracy: 90.143% - Test accuracy: 85.357%\n"
     ]
    },
    {
     "name": "stdout",
     "output_type": "stream",
     "text": [
      "Epoch  69/150 - Train accuracy: 90.389% - Test accuracy: 86.518%\n"
     ]
    },
    {
     "name": "stdout",
     "output_type": "stream",
     "text": [
      "Epoch  70/150 - Train accuracy: 90.541% - Test accuracy: 86.278%\n"
     ]
    },
    {
     "name": "stdout",
     "output_type": "stream",
     "text": [
      "Epoch  71/150 - Train accuracy: 90.527% - Test accuracy: 86.188%\n"
     ]
    },
    {
     "name": "stdout",
     "output_type": "stream",
     "text": [
      "Epoch  72/150 - Train accuracy: 90.641% - Test accuracy: 86.428%\n"
     ]
    },
    {
     "name": "stdout",
     "output_type": "stream",
     "text": [
      "Epoch  73/150 - Train accuracy: 90.663% - Test accuracy: 86.538%\n"
     ]
    },
    {
     "name": "stdout",
     "output_type": "stream",
     "text": [
      "Epoch  74/150 - Train accuracy: 90.607% - Test accuracy: 86.548%\n"
     ]
    },
    {
     "name": "stdout",
     "output_type": "stream",
     "text": [
      "Epoch  75/150 - Train accuracy: 90.973% - Test accuracy: 86.148%\n"
     ]
    },
    {
     "name": "stdout",
     "output_type": "stream",
     "text": [
      "Epoch  76/150 - Train accuracy: 90.861% - Test accuracy: 86.558%\n"
     ]
    },
    {
     "name": "stdout",
     "output_type": "stream",
     "text": [
      "Epoch  77/150 - Train accuracy: 90.977% - Test accuracy: 86.629%\n"
     ]
    },
    {
     "name": "stdout",
     "output_type": "stream",
     "text": [
      "Epoch  78/150 - Train accuracy: 90.809% - Test accuracy: 86.599%\n"
     ]
    },
    {
     "name": "stdout",
     "output_type": "stream",
     "text": [
      "Epoch  79/150 - Train accuracy: 91.183% - Test accuracy: 86.248%\n"
     ]
    },
    {
     "name": "stdout",
     "output_type": "stream",
     "text": [
      "Epoch  80/150 - Train accuracy: 91.319% - Test accuracy: 86.579%\n"
     ]
    },
    {
     "name": "stdout",
     "output_type": "stream",
     "text": [
      "Epoch  81/150 - Train accuracy: 91.015% - Test accuracy: 86.599%\n"
     ]
    },
    {
     "name": "stdout",
     "output_type": "stream",
     "text": [
      "Epoch  82/150 - Train accuracy: 91.165% - Test accuracy: 85.457%\n"
     ]
    },
    {
     "name": "stdout",
     "output_type": "stream",
     "text": [
      "Epoch  83/150 - Train accuracy: 91.111% - Test accuracy: 86.188%\n"
     ]
    },
    {
     "name": "stdout",
     "output_type": "stream",
     "text": [
      "Epoch  84/150 - Train accuracy: 91.227% - Test accuracy: 86.258%\n"
     ]
    },
    {
     "name": "stdout",
     "output_type": "stream",
     "text": [
      "Epoch  85/150 - Train accuracy: 91.319% - Test accuracy: 86.849%\n"
     ]
    },
    {
     "name": "stdout",
     "output_type": "stream",
     "text": [
      "Epoch  86/150 - Train accuracy: 91.439% - Test accuracy: 85.216%\n"
     ]
    },
    {
     "name": "stdout",
     "output_type": "stream",
     "text": [
      "Epoch  87/150 - Train accuracy: 91.443% - Test accuracy: 86.398%\n"
     ]
    },
    {
     "name": "stdout",
     "output_type": "stream",
     "text": [
      "Epoch  88/150 - Train accuracy: 91.369% - Test accuracy: 86.769%\n"
     ]
    },
    {
     "name": "stdout",
     "output_type": "stream",
     "text": [
      "Epoch  89/150 - Train accuracy: 91.285% - Test accuracy: 86.478%\n",
      "----------------------------------------------------------------\n",
      "Reducing learning rate on plateau at epoch 89\n",
      "----------------------------------------------------------------\n"
     ]
    },
    {
     "name": "stdout",
     "output_type": "stream",
     "text": [
      "Epoch  90/150 - Train accuracy: 92.596% - Test accuracy: 87.760%\n"
     ]
    },
    {
     "name": "stdout",
     "output_type": "stream",
     "text": [
      "Epoch  91/150 - Train accuracy: 92.656% - Test accuracy: 87.740%\n"
     ]
    },
    {
     "name": "stdout",
     "output_type": "stream",
     "text": [
      "Epoch  92/150 - Train accuracy: 92.754% - Test accuracy: 87.750%\n"
     ]
    },
    {
     "name": "stdout",
     "output_type": "stream",
     "text": [
      "Epoch  93/150 - Train accuracy: 92.934% - Test accuracy: 87.971%\n"
     ]
    },
    {
     "name": "stdout",
     "output_type": "stream",
     "text": [
      "Epoch  94/150 - Train accuracy: 92.960% - Test accuracy: 87.360%\n"
     ]
    },
    {
     "name": "stdout",
     "output_type": "stream",
     "text": [
      "Epoch  95/150 - Train accuracy: 93.032% - Test accuracy: 87.790%\n"
     ]
    },
    {
     "name": "stdout",
     "output_type": "stream",
     "text": [
      "Epoch  96/150 - Train accuracy: 92.864% - Test accuracy: 87.720%\n"
     ]
    },
    {
     "name": "stdout",
     "output_type": "stream",
     "text": [
      "Epoch  97/150 - Train accuracy: 93.116% - Test accuracy: 87.841%\n"
     ]
    },
    {
     "name": "stdout",
     "output_type": "stream",
     "text": [
      "Epoch  98/150 - Train accuracy: 93.012% - Test accuracy: 87.640%\n"
     ]
    },
    {
     "name": "stdout",
     "output_type": "stream",
     "text": [
      "Epoch  99/150 - Train accuracy: 92.960% - Test accuracy: 87.460%\n"
     ]
    },
    {
     "name": "stdout",
     "output_type": "stream",
     "text": [
      "Epoch 100/150 - Train accuracy: 93.150% - Test accuracy: 87.871%\n"
     ]
    },
    {
     "name": "stdout",
     "output_type": "stream",
     "text": [
      "Epoch 101/150 - Train accuracy: 93.050% - Test accuracy: 87.831%\n"
     ]
    },
    {
     "name": "stdout",
     "output_type": "stream",
     "text": [
      "Epoch 102/150 - Train accuracy: 93.008% - Test accuracy: 87.710%\n"
     ]
    },
    {
     "name": "stdout",
     "output_type": "stream",
     "text": [
      "Epoch 103/150 - Train accuracy: 93.340% - Test accuracy: 87.570%\n"
     ]
    },
    {
     "name": "stdout",
     "output_type": "stream",
     "text": [
      "Epoch 104/150 - Train accuracy: 93.178% - Test accuracy: 87.680%\n"
     ]
    },
    {
     "name": "stdout",
     "output_type": "stream",
     "text": [
      "Epoch 105/150 - Train accuracy: 93.256% - Test accuracy: 87.590%\n",
      "----------------------------------------------------------------\n",
      "Reducing learning rate on plateau at epoch 105\n",
      "----------------------------------------------------------------\n"
     ]
    },
    {
     "name": "stdout",
     "output_type": "stream",
     "text": [
      "Epoch 106/150 - Train accuracy: 93.392% - Test accuracy: 88.041%\n"
     ]
    },
    {
     "name": "stdout",
     "output_type": "stream",
     "text": [
      "Epoch 107/150 - Train accuracy: 93.616% - Test accuracy: 87.730%\n"
     ]
    },
    {
     "name": "stdout",
     "output_type": "stream",
     "text": [
      "Epoch 108/150 - Train accuracy: 93.564% - Test accuracy: 88.081%\n"
     ]
    },
    {
     "name": "stdout",
     "output_type": "stream",
     "text": [
      "Epoch 109/150 - Train accuracy: 93.534% - Test accuracy: 87.881%\n"
     ]
    },
    {
     "name": "stdout",
     "output_type": "stream",
     "text": [
      "Epoch 110/150 - Train accuracy: 93.566% - Test accuracy: 87.821%\n"
     ]
    },
    {
     "name": "stdout",
     "output_type": "stream",
     "text": [
      "Epoch 111/150 - Train accuracy: 93.614% - Test accuracy: 88.001%\n"
     ]
    },
    {
     "name": "stdout",
     "output_type": "stream",
     "text": [
      "Epoch 112/150 - Train accuracy: 93.394% - Test accuracy: 87.881%\n"
     ]
    },
    {
     "name": "stdout",
     "output_type": "stream",
     "text": [
      "Epoch 113/150 - Train accuracy: 93.408% - Test accuracy: 87.670%\n"
     ]
    },
    {
     "name": "stdout",
     "output_type": "stream",
     "text": [
      "Epoch 114/150 - Train accuracy: 93.580% - Test accuracy: 88.011%\n"
     ]
    },
    {
     "name": "stdout",
     "output_type": "stream",
     "text": [
      "Epoch 115/150 - Train accuracy: 93.540% - Test accuracy: 87.961%\n"
     ]
    },
    {
     "name": "stdout",
     "output_type": "stream",
     "text": [
      "Epoch 116/150 - Train accuracy: 93.762% - Test accuracy: 87.901%\n"
     ]
    },
    {
     "name": "stdout",
     "output_type": "stream",
     "text": [
      "Epoch 117/150 - Train accuracy: 93.770% - Test accuracy: 87.871%\n"
     ]
    },
    {
     "name": "stdout",
     "output_type": "stream",
     "text": [
      "Epoch 118/150 - Train accuracy: 93.650% - Test accuracy: 87.891%\n"
     ]
    },
    {
     "name": "stdout",
     "output_type": "stream",
     "text": [
      "Epoch 119/150 - Train accuracy: 93.520% - Test accuracy: 87.981%\n"
     ]
    },
    {
     "name": "stdout",
     "output_type": "stream",
     "text": [
      "Epoch 120/150 - Train accuracy: 93.652% - Test accuracy: 88.051%\n",
      "----------------------------------------------------------------\n",
      "Reducing learning rate on plateau at epoch 120\n",
      "----------------------------------------------------------------\n"
     ]
    },
    {
     "name": "stdout",
     "output_type": "stream",
     "text": [
      "Epoch 121/150 - Train accuracy: 93.762% - Test accuracy: 88.131%\n"
     ]
    },
    {
     "name": "stdout",
     "output_type": "stream",
     "text": [
      "Epoch 122/150 - Train accuracy: 93.786% - Test accuracy: 88.091%\n"
     ]
    },
    {
     "name": "stdout",
     "output_type": "stream",
     "text": [
      "Epoch 123/150 - Train accuracy: 93.630% - Test accuracy: 88.181%\n"
     ]
    },
    {
     "name": "stdout",
     "output_type": "stream",
     "text": [
      "Epoch 124/150 - Train accuracy: 93.778% - Test accuracy: 88.151%\n"
     ]
    },
    {
     "name": "stdout",
     "output_type": "stream",
     "text": [
      "Epoch 125/150 - Train accuracy: 93.854% - Test accuracy: 88.011%\n",
      "----------------------------------------------------------------\n",
      "Early stopping at epoch 125\n",
      "----------------------------------------------------------------\n"
     ]
    },
    {
     "name": "stdout",
     "output_type": "stream",
     "text": [
      "----------------------------------------------------------------\n",
      "Running experiment with seed 49...\n"
     ]
    },
    {
     "name": "stdout",
     "output_type": "stream",
     "text": [
      "Files already downloaded and verified\n"
     ]
    },
    {
     "name": "stdout",
     "output_type": "stream",
     "text": [
      "Files already downloaded and verified\n"
     ]
    },
    {
     "name": "stdout",
     "output_type": "stream",
     "text": [
      "Epoch   1/150 - Train accuracy: 09.937% - Test accuracy: 10.006%\n"
     ]
    },
    {
     "name": "stdout",
     "output_type": "stream",
     "text": [
      "Epoch   2/150 - Train accuracy: 20.036% - Test accuracy: 28.886%\n"
     ]
    },
    {
     "name": "stdout",
     "output_type": "stream",
     "text": [
      "Epoch   3/150 - Train accuracy: 36.350% - Test accuracy: 46.024%\n"
     ]
    },
    {
     "name": "stdout",
     "output_type": "stream",
     "text": [
      "Epoch   4/150 - Train accuracy: 46.565% - Test accuracy: 54.347%\n"
     ]
    },
    {
     "name": "stdout",
     "output_type": "stream",
     "text": [
      "Epoch   5/150 - Train accuracy: 51.935% - Test accuracy: 55.869%\n"
     ]
    },
    {
     "name": "stdout",
     "output_type": "stream",
     "text": [
      "Epoch   6/150 - Train accuracy: 56.820% - Test accuracy: 58.584%\n"
     ]
    },
    {
     "name": "stdout",
     "output_type": "stream",
     "text": [
      "Epoch   7/150 - Train accuracy: 60.687% - Test accuracy: 63.431%\n"
     ]
    },
    {
     "name": "stdout",
     "output_type": "stream",
     "text": [
      "Epoch   8/150 - Train accuracy: 63.512% - Test accuracy: 63.452%\n"
     ]
    },
    {
     "name": "stdout",
     "output_type": "stream",
     "text": [
      "Epoch   9/150 - Train accuracy: 65.653% - Test accuracy: 62.149%\n"
     ]
    },
    {
     "name": "stdout",
     "output_type": "stream",
     "text": [
      "Epoch  10/150 - Train accuracy: 67.540% - Test accuracy: 68.059%\n"
     ]
    },
    {
     "name": "stdout",
     "output_type": "stream",
     "text": [
      "Epoch  11/150 - Train accuracy: 68.898% - Test accuracy: 70.062%\n"
     ]
    },
    {
     "name": "stdout",
     "output_type": "stream",
     "text": [
      "Epoch  12/150 - Train accuracy: 70.094% - Test accuracy: 72.436%\n"
     ]
    },
    {
     "name": "stdout",
     "output_type": "stream",
     "text": [
      "Epoch  13/150 - Train accuracy: 71.443% - Test accuracy: 73.858%\n"
     ]
    },
    {
     "name": "stdout",
     "output_type": "stream",
     "text": [
      "Epoch  14/150 - Train accuracy: 71.989% - Test accuracy: 70.813%\n"
     ]
    },
    {
     "name": "stdout",
     "output_type": "stream",
     "text": [
      "Epoch  15/150 - Train accuracy: 72.897% - Test accuracy: 74.950%\n"
     ]
    },
    {
     "name": "stdout",
     "output_type": "stream",
     "text": [
      "Epoch  16/150 - Train accuracy: 73.978% - Test accuracy: 75.240%\n"
     ]
    },
    {
     "name": "stdout",
     "output_type": "stream",
     "text": [
      "Epoch  17/150 - Train accuracy: 74.172% - Test accuracy: 73.978%\n"
     ]
    },
    {
     "name": "stdout",
     "output_type": "stream",
     "text": [
      "Epoch  18/150 - Train accuracy: 75.084% - Test accuracy: 75.000%\n"
     ]
    },
    {
     "name": "stdout",
     "output_type": "stream",
     "text": [
      "Epoch  19/150 - Train accuracy: 75.908% - Test accuracy: 75.020%\n"
     ]
    },
    {
     "name": "stdout",
     "output_type": "stream",
     "text": [
      "Epoch  20/150 - Train accuracy: 75.954% - Test accuracy: 76.312%\n"
     ]
    },
    {
     "name": "stdout",
     "output_type": "stream",
     "text": [
      "Epoch  21/150 - Train accuracy: 76.895% - Test accuracy: 77.905%\n"
     ]
    },
    {
     "name": "stdout",
     "output_type": "stream",
     "text": [
      "Epoch  22/150 - Train accuracy: 76.999% - Test accuracy: 78.305%\n"
     ]
    },
    {
     "name": "stdout",
     "output_type": "stream",
     "text": [
      "Epoch  23/150 - Train accuracy: 77.301% - Test accuracy: 77.794%\n"
     ]
    },
    {
     "name": "stdout",
     "output_type": "stream",
     "text": [
      "Epoch  24/150 - Train accuracy: 78.361% - Test accuracy: 76.863%\n"
     ]
    },
    {
     "name": "stdout",
     "output_type": "stream",
     "text": [
      "Epoch  25/150 - Train accuracy: 78.129% - Test accuracy: 79.798%\n"
     ]
    },
    {
     "name": "stdout",
     "output_type": "stream",
     "text": [
      "Epoch  26/150 - Train accuracy: 78.851% - Test accuracy: 78.115%\n"
     ]
    },
    {
     "name": "stdout",
     "output_type": "stream",
     "text": [
      "Epoch  27/150 - Train accuracy: 79.149% - Test accuracy: 76.783%\n"
     ]
    },
    {
     "name": "stdout",
     "output_type": "stream",
     "text": [
      "Epoch  28/150 - Train accuracy: 79.599% - Test accuracy: 80.158%\n"
     ]
    },
    {
     "name": "stdout",
     "output_type": "stream",
     "text": [
      "Epoch  29/150 - Train accuracy: 79.756% - Test accuracy: 77.324%\n"
     ]
    },
    {
     "name": "stdout",
     "output_type": "stream",
     "text": [
      "Epoch  30/150 - Train accuracy: 80.126% - Test accuracy: 78.285%\n"
     ]
    },
    {
     "name": "stdout",
     "output_type": "stream",
     "text": [
      "Epoch  31/150 - Train accuracy: 80.844% - Test accuracy: 80.369%\n"
     ]
    },
    {
     "name": "stdout",
     "output_type": "stream",
     "text": [
      "Epoch  32/150 - Train accuracy: 80.636% - Test accuracy: 79.928%\n"
     ]
    },
    {
     "name": "stdout",
     "output_type": "stream",
     "text": [
      "Epoch  33/150 - Train accuracy: 81.052% - Test accuracy: 80.108%\n"
     ]
    },
    {
     "name": "stdout",
     "output_type": "stream",
     "text": [
      "Epoch  34/150 - Train accuracy: 81.292% - Test accuracy: 79.127%\n"
     ]
    },
    {
     "name": "stdout",
     "output_type": "stream",
     "text": [
      "Epoch  35/150 - Train accuracy: 81.464% - Test accuracy: 77.664%\n"
     ]
    },
    {
     "name": "stdout",
     "output_type": "stream",
     "text": [
      "Epoch  36/150 - Train accuracy: 81.174% - Test accuracy: 79.497%\n"
     ]
    },
    {
     "name": "stdout",
     "output_type": "stream",
     "text": [
      "Epoch  37/150 - Train accuracy: 81.858% - Test accuracy: 80.399%\n"
     ]
    },
    {
     "name": "stdout",
     "output_type": "stream",
     "text": [
      "Epoch  38/150 - Train accuracy: 81.714% - Test accuracy: 80.729%\n"
     ]
    },
    {
     "name": "stdout",
     "output_type": "stream",
     "text": [
      "Epoch  39/150 - Train accuracy: 82.018% - Test accuracy: 80.509%\n"
     ]
    },
    {
     "name": "stdout",
     "output_type": "stream",
     "text": [
      "Epoch  40/150 - Train accuracy: 82.306% - Test accuracy: 81.000%\n"
     ]
    },
    {
     "name": "stdout",
     "output_type": "stream",
     "text": [
      "Epoch  41/150 - Train accuracy: 82.392% - Test accuracy: 81.601%\n"
     ]
    },
    {
     "name": "stdout",
     "output_type": "stream",
     "text": [
      "Epoch  42/150 - Train accuracy: 82.456% - Test accuracy: 77.153%\n"
     ]
    },
    {
     "name": "stdout",
     "output_type": "stream",
     "text": [
      "Epoch  43/150 - Train accuracy: 82.542% - Test accuracy: 79.557%\n"
     ]
    },
    {
     "name": "stdout",
     "output_type": "stream",
     "text": [
      "Epoch  44/150 - Train accuracy: 82.961% - Test accuracy: 80.529%\n"
     ]
    },
    {
     "name": "stdout",
     "output_type": "stream",
     "text": [
      "Epoch  45/150 - Train accuracy: 82.923% - Test accuracy: 78.936%\n"
     ]
    },
    {
     "name": "stdout",
     "output_type": "stream",
     "text": [
      "Epoch  46/150 - Train accuracy: 83.257% - Test accuracy: 80.258%\n"
     ]
    },
    {
     "name": "stdout",
     "output_type": "stream",
     "text": [
      "Epoch  47/150 - Train accuracy: 83.279% - Test accuracy: 81.951%\n"
     ]
    },
    {
     "name": "stdout",
     "output_type": "stream",
     "text": [
      "Epoch  48/150 - Train accuracy: 83.353% - Test accuracy: 81.571%\n"
     ]
    },
    {
     "name": "stdout",
     "output_type": "stream",
     "text": [
      "Epoch  49/150 - Train accuracy: 83.741% - Test accuracy: 80.559%\n"
     ]
    },
    {
     "name": "stdout",
     "output_type": "stream",
     "text": [
      "Epoch  50/150 - Train accuracy: 83.859% - Test accuracy: 82.372%\n"
     ]
    },
    {
     "name": "stdout",
     "output_type": "stream",
     "text": [
      "Epoch  51/150 - Train accuracy: 84.009% - Test accuracy: 80.148%\n"
     ]
    },
    {
     "name": "stdout",
     "output_type": "stream",
     "text": [
      "Epoch  52/150 - Train accuracy: 84.095% - Test accuracy: 82.362%\n"
     ]
    },
    {
     "name": "stdout",
     "output_type": "stream",
     "text": [
      "Epoch  53/150 - Train accuracy: 84.201% - Test accuracy: 80.549%\n"
     ]
    },
    {
     "name": "stdout",
     "output_type": "stream",
     "text": [
      "Epoch  54/150 - Train accuracy: 84.125% - Test accuracy: 81.500%\n"
     ]
    },
    {
     "name": "stdout",
     "output_type": "stream",
     "text": [
      "Epoch  55/150 - Train accuracy: 84.509% - Test accuracy: 80.749%\n"
     ]
    },
    {
     "name": "stdout",
     "output_type": "stream",
     "text": [
      "Epoch  56/150 - Train accuracy: 83.967% - Test accuracy: 81.220%\n"
     ]
    },
    {
     "name": "stdout",
     "output_type": "stream",
     "text": [
      "Epoch  57/150 - Train accuracy: 84.543% - Test accuracy: 82.552%\n"
     ]
    },
    {
     "name": "stdout",
     "output_type": "stream",
     "text": [
      "Epoch  58/150 - Train accuracy: 84.689% - Test accuracy: 81.020%\n"
     ]
    },
    {
     "name": "stdout",
     "output_type": "stream",
     "text": [
      "Epoch  59/150 - Train accuracy: 84.843% - Test accuracy: 82.943%\n"
     ]
    },
    {
     "name": "stdout",
     "output_type": "stream",
     "text": [
      "Epoch  60/150 - Train accuracy: 84.851% - Test accuracy: 82.232%\n"
     ]
    },
    {
     "name": "stdout",
     "output_type": "stream",
     "text": [
      "Epoch  61/150 - Train accuracy: 84.891% - Test accuracy: 82.452%\n"
     ]
    },
    {
     "name": "stdout",
     "output_type": "stream",
     "text": [
      "Epoch  62/150 - Train accuracy: 85.097% - Test accuracy: 83.514%\n"
     ]
    },
    {
     "name": "stdout",
     "output_type": "stream",
     "text": [
      "Epoch  63/150 - Train accuracy: 84.931% - Test accuracy: 82.462%\n"
     ]
    },
    {
     "name": "stdout",
     "output_type": "stream",
     "text": [
      "Epoch  64/150 - Train accuracy: 85.095% - Test accuracy: 82.542%\n"
     ]
    },
    {
     "name": "stdout",
     "output_type": "stream",
     "text": [
      "Epoch  65/150 - Train accuracy: 85.167% - Test accuracy: 80.419%\n"
     ]
    },
    {
     "name": "stdout",
     "output_type": "stream",
     "text": [
      "Epoch  66/150 - Train accuracy: 85.217% - Test accuracy: 83.373%\n"
     ]
    },
    {
     "name": "stdout",
     "output_type": "stream",
     "text": [
      "Epoch  67/150 - Train accuracy: 85.389% - Test accuracy: 80.819%\n"
     ]
    },
    {
     "name": "stdout",
     "output_type": "stream",
     "text": [
      "Epoch  68/150 - Train accuracy: 85.559% - Test accuracy: 82.352%\n"
     ]
    },
    {
     "name": "stdout",
     "output_type": "stream",
     "text": [
      "Epoch  69/150 - Train accuracy: 85.519% - Test accuracy: 81.120%\n"
     ]
    },
    {
     "name": "stdout",
     "output_type": "stream",
     "text": [
      "Epoch  70/150 - Train accuracy: 85.667% - Test accuracy: 82.141%\n"
     ]
    },
    {
     "name": "stdout",
     "output_type": "stream",
     "text": [
      "Epoch  71/150 - Train accuracy: 85.731% - Test accuracy: 81.931%\n"
     ]
    },
    {
     "name": "stdout",
     "output_type": "stream",
     "text": [
      "Epoch  72/150 - Train accuracy: 86.138% - Test accuracy: 82.051%\n"
     ]
    },
    {
     "name": "stdout",
     "output_type": "stream",
     "text": [
      "Epoch  73/150 - Train accuracy: 85.887% - Test accuracy: 82.041%\n"
     ]
    },
    {
     "name": "stdout",
     "output_type": "stream",
     "text": [
      "Epoch  74/150 - Train accuracy: 85.855% - Test accuracy: 82.262%\n"
     ]
    },
    {
     "name": "stdout",
     "output_type": "stream",
     "text": [
      "Epoch  75/150 - Train accuracy: 86.266% - Test accuracy: 82.602%\n"
     ]
    },
    {
     "name": "stdout",
     "output_type": "stream",
     "text": [
      "Epoch  76/150 - Train accuracy: 86.168% - Test accuracy: 82.903%\n"
     ]
    },
    {
     "name": "stdout",
     "output_type": "stream",
     "text": [
      "Epoch  77/150 - Train accuracy: 86.146% - Test accuracy: 84.235%\n",
      "----------------------------------------------------------------\n",
      "Reducing learning rate on plateau at epoch 77\n",
      "----------------------------------------------------------------\n"
     ]
    },
    {
     "name": "stdout",
     "output_type": "stream",
     "text": [
      "Epoch  78/150 - Train accuracy: 90.003% - Test accuracy: 85.146%\n"
     ]
    },
    {
     "name": "stdout",
     "output_type": "stream",
     "text": [
      "Epoch  79/150 - Train accuracy: 90.355% - Test accuracy: 86.468%\n"
     ]
    },
    {
     "name": "stdout",
     "output_type": "stream",
     "text": [
      "Epoch  80/150 - Train accuracy: 91.169% - Test accuracy: 86.438%\n"
     ]
    },
    {
     "name": "stdout",
     "output_type": "stream",
     "text": [
      "Epoch  81/150 - Train accuracy: 91.027% - Test accuracy: 86.128%\n"
     ]
    },
    {
     "name": "stdout",
     "output_type": "stream",
     "text": [
      "Epoch  82/150 - Train accuracy: 91.161% - Test accuracy: 86.408%\n"
     ]
    },
    {
     "name": "stdout",
     "output_type": "stream",
     "text": [
      "Epoch  83/150 - Train accuracy: 91.267% - Test accuracy: 86.839%\n"
     ]
    },
    {
     "name": "stdout",
     "output_type": "stream",
     "text": [
      "Epoch  84/150 - Train accuracy: 91.307% - Test accuracy: 86.158%\n"
     ]
    },
    {
     "name": "stdout",
     "output_type": "stream",
     "text": [
      "Epoch  85/150 - Train accuracy: 91.631% - Test accuracy: 86.508%\n"
     ]
    },
    {
     "name": "stdout",
     "output_type": "stream",
     "text": [
      "Epoch  86/150 - Train accuracy: 91.769% - Test accuracy: 86.879%\n"
     ]
    },
    {
     "name": "stdout",
     "output_type": "stream",
     "text": [
      "Epoch  87/150 - Train accuracy: 91.507% - Test accuracy: 87.029%\n"
     ]
    },
    {
     "name": "stdout",
     "output_type": "stream",
     "text": [
      "Epoch  88/150 - Train accuracy: 91.845% - Test accuracy: 86.569%\n"
     ]
    },
    {
     "name": "stdout",
     "output_type": "stream",
     "text": [
      "Epoch  89/150 - Train accuracy: 91.865% - Test accuracy: 86.739%\n"
     ]
    },
    {
     "name": "stdout",
     "output_type": "stream",
     "text": [
      "Epoch  90/150 - Train accuracy: 91.755% - Test accuracy: 86.819%\n"
     ]
    },
    {
     "name": "stdout",
     "output_type": "stream",
     "text": [
      "Epoch  91/150 - Train accuracy: 91.801% - Test accuracy: 86.528%\n"
     ]
    },
    {
     "name": "stdout",
     "output_type": "stream",
     "text": [
      "Epoch  92/150 - Train accuracy: 91.831% - Test accuracy: 86.508%\n"
     ]
    },
    {
     "name": "stdout",
     "output_type": "stream",
     "text": [
      "Epoch  93/150 - Train accuracy: 91.959% - Test accuracy: 87.270%\n"
     ]
    },
    {
     "name": "stdout",
     "output_type": "stream",
     "text": [
      "Epoch  94/150 - Train accuracy: 91.957% - Test accuracy: 86.969%\n",
      "----------------------------------------------------------------\n",
      "Reducing learning rate on plateau at epoch 94\n",
      "----------------------------------------------------------------\n"
     ]
    },
    {
     "name": "stdout",
     "output_type": "stream",
     "text": [
      "Epoch  95/150 - Train accuracy: 93.070% - Test accuracy: 87.530%\n"
     ]
    },
    {
     "name": "stdout",
     "output_type": "stream",
     "text": [
      "Epoch  96/150 - Train accuracy: 93.264% - Test accuracy: 87.570%\n"
     ]
    },
    {
     "name": "stdout",
     "output_type": "stream",
     "text": [
      "Epoch  97/150 - Train accuracy: 93.278% - Test accuracy: 87.520%\n"
     ]
    },
    {
     "name": "stdout",
     "output_type": "stream",
     "text": [
      "Epoch  98/150 - Train accuracy: 93.150% - Test accuracy: 87.570%\n"
     ]
    },
    {
     "name": "stdout",
     "output_type": "stream",
     "text": [
      "Epoch  99/150 - Train accuracy: 93.286% - Test accuracy: 87.831%\n"
     ]
    },
    {
     "name": "stdout",
     "output_type": "stream",
     "text": [
      "Epoch 100/150 - Train accuracy: 93.320% - Test accuracy: 87.610%\n"
     ]
    },
    {
     "name": "stdout",
     "output_type": "stream",
     "text": [
      "Epoch 101/150 - Train accuracy: 93.408% - Test accuracy: 87.380%\n"
     ]
    },
    {
     "name": "stdout",
     "output_type": "stream",
     "text": [
      "Epoch 102/150 - Train accuracy: 93.416% - Test accuracy: 87.720%\n"
     ]
    },
    {
     "name": "stdout",
     "output_type": "stream",
     "text": [
      "Epoch 103/150 - Train accuracy: 93.428% - Test accuracy: 87.740%\n"
     ]
    },
    {
     "name": "stdout",
     "output_type": "stream",
     "text": [
      "Epoch 104/150 - Train accuracy: 93.608% - Test accuracy: 87.871%\n"
     ]
    },
    {
     "name": "stdout",
     "output_type": "stream",
     "text": [
      "Epoch 105/150 - Train accuracy: 93.418% - Test accuracy: 88.001%\n"
     ]
    },
    {
     "name": "stdout",
     "output_type": "stream",
     "text": [
      "Epoch 106/150 - Train accuracy: 93.374% - Test accuracy: 87.851%\n"
     ]
    },
    {
     "name": "stdout",
     "output_type": "stream",
     "text": [
      "Epoch 107/150 - Train accuracy: 93.650% - Test accuracy: 87.470%\n"
     ]
    },
    {
     "name": "stdout",
     "output_type": "stream",
     "text": [
      "Epoch 108/150 - Train accuracy: 93.282% - Test accuracy: 87.730%\n"
     ]
    },
    {
     "name": "stdout",
     "output_type": "stream",
     "text": [
      "Epoch 109/150 - Train accuracy: 93.386% - Test accuracy: 87.670%\n"
     ]
    },
    {
     "name": "stdout",
     "output_type": "stream",
     "text": [
      "Epoch 110/150 - Train accuracy: 93.638% - Test accuracy: 87.700%\n",
      "----------------------------------------------------------------\n",
      "Reducing learning rate on plateau at epoch 110\n",
      "----------------------------------------------------------------\n"
     ]
    },
    {
     "name": "stdout",
     "output_type": "stream",
     "text": [
      "Epoch 111/150 - Train accuracy: 93.772% - Test accuracy: 88.091%\n"
     ]
    },
    {
     "name": "stdout",
     "output_type": "stream",
     "text": [
      "Epoch 112/150 - Train accuracy: 93.830% - Test accuracy: 88.131%\n"
     ]
    },
    {
     "name": "stdout",
     "output_type": "stream",
     "text": [
      "Epoch 113/150 - Train accuracy: 93.914% - Test accuracy: 87.881%\n"
     ]
    },
    {
     "name": "stdout",
     "output_type": "stream",
     "text": [
      "Epoch 114/150 - Train accuracy: 93.940% - Test accuracy: 88.131%\n"
     ]
    },
    {
     "name": "stdout",
     "output_type": "stream",
     "text": [
      "Epoch 115/150 - Train accuracy: 93.740% - Test accuracy: 87.961%\n"
     ]
    },
    {
     "name": "stdout",
     "output_type": "stream",
     "text": [
      "Epoch 116/150 - Train accuracy: 93.792% - Test accuracy: 87.951%\n"
     ]
    },
    {
     "name": "stdout",
     "output_type": "stream",
     "text": [
      "Epoch 117/150 - Train accuracy: 94.074% - Test accuracy: 87.931%\n"
     ]
    },
    {
     "name": "stdout",
     "output_type": "stream",
     "text": [
      "Epoch 118/150 - Train accuracy: 93.746% - Test accuracy: 87.951%\n"
     ]
    },
    {
     "name": "stdout",
     "output_type": "stream",
     "text": [
      "Epoch 119/150 - Train accuracy: 93.892% - Test accuracy: 88.001%\n"
     ]
    },
    {
     "name": "stdout",
     "output_type": "stream",
     "text": [
      "Epoch 120/150 - Train accuracy: 94.072% - Test accuracy: 88.131%\n"
     ]
    },
    {
     "name": "stdout",
     "output_type": "stream",
     "text": [
      "Epoch 121/150 - Train accuracy: 93.868% - Test accuracy: 88.091%\n"
     ]
    },
    {
     "name": "stdout",
     "output_type": "stream",
     "text": [
      "Epoch 122/150 - Train accuracy: 93.778% - Test accuracy: 88.111%\n"
     ]
    },
    {
     "name": "stdout",
     "output_type": "stream",
     "text": [
      "Epoch 123/150 - Train accuracy: 93.812% - Test accuracy: 88.011%\n"
     ]
    },
    {
     "name": "stdout",
     "output_type": "stream",
     "text": [
      "Epoch 124/150 - Train accuracy: 93.910% - Test accuracy: 87.891%\n"
     ]
    },
    {
     "name": "stdout",
     "output_type": "stream",
     "text": [
      "Epoch 125/150 - Train accuracy: 93.978% - Test accuracy: 87.831%\n",
      "----------------------------------------------------------------\n",
      "Reducing learning rate on plateau at epoch 125\n",
      "----------------------------------------------------------------\n"
     ]
    },
    {
     "name": "stdout",
     "output_type": "stream",
     "text": [
      "Epoch 126/150 - Train accuracy: 94.058% - Test accuracy: 88.061%\n"
     ]
    },
    {
     "name": "stdout",
     "output_type": "stream",
     "text": [
      "Epoch 127/150 - Train accuracy: 93.880% - Test accuracy: 88.041%\n"
     ]
    },
    {
     "name": "stdout",
     "output_type": "stream",
     "text": [
      "Epoch 128/150 - Train accuracy: 94.160% - Test accuracy: 88.031%\n"
     ]
    },
    {
     "name": "stdout",
     "output_type": "stream",
     "text": [
      "Epoch 129/150 - Train accuracy: 94.080% - Test accuracy: 88.091%\n"
     ]
    },
    {
     "name": "stdout",
     "output_type": "stream",
     "text": [
      "Epoch 130/150 - Train accuracy: 94.108% - Test accuracy: 88.141%\n",
      "----------------------------------------------------------------\n",
      "Early stopping at epoch 130\n",
      "----------------------------------------------------------------\n"
     ]
    },
    {
     "name": "stdout",
     "output_type": "stream",
     "text": [
      "----------------------------------------------------------------\n",
      "Running experiment with seed 50...\n"
     ]
    },
    {
     "name": "stdout",
     "output_type": "stream",
     "text": [
      "Files already downloaded and verified\n"
     ]
    },
    {
     "name": "stdout",
     "output_type": "stream",
     "text": [
      "Files already downloaded and verified\n"
     ]
    },
    {
     "name": "stdout",
     "output_type": "stream",
     "text": [
      "Epoch   1/150 - Train accuracy: 10.129% - Test accuracy: 10.006%\n"
     ]
    },
    {
     "name": "stdout",
     "output_type": "stream",
     "text": [
      "Epoch   2/150 - Train accuracy: 18.162% - Test accuracy: 25.310%\n"
     ]
    },
    {
     "name": "stdout",
     "output_type": "stream",
     "text": [
      "Epoch   3/150 - Train accuracy: 32.931% - Test accuracy: 47.246%\n"
     ]
    },
    {
     "name": "stdout",
     "output_type": "stream",
     "text": [
      "Epoch   4/150 - Train accuracy: 46.377% - Test accuracy: 51.562%\n"
     ]
    },
    {
     "name": "stdout",
     "output_type": "stream",
     "text": [
      "Epoch   5/150 - Train accuracy: 51.765% - Test accuracy: 56.110%\n"
     ]
    },
    {
     "name": "stdout",
     "output_type": "stream",
     "text": [
      "Epoch   6/150 - Train accuracy: 56.822% - Test accuracy: 60.988%\n"
     ]
    },
    {
     "name": "stdout",
     "output_type": "stream",
     "text": [
      "Epoch   7/150 - Train accuracy: 60.639% - Test accuracy: 63.792%\n"
     ]
    },
    {
     "name": "stdout",
     "output_type": "stream",
     "text": [
      "Epoch   8/150 - Train accuracy: 63.172% - Test accuracy: 64.423%\n"
     ]
    },
    {
     "name": "stdout",
     "output_type": "stream",
     "text": [
      "Epoch   9/150 - Train accuracy: 65.473% - Test accuracy: 64.964%\n"
     ]
    },
    {
     "name": "stdout",
     "output_type": "stream",
     "text": [
      "Epoch  10/150 - Train accuracy: 67.063% - Test accuracy: 69.171%\n"
     ]
    },
    {
     "name": "stdout",
     "output_type": "stream",
     "text": [
      "Epoch  11/150 - Train accuracy: 68.848% - Test accuracy: 70.703%\n"
     ]
    },
    {
     "name": "stdout",
     "output_type": "stream",
     "text": [
      "Epoch  12/150 - Train accuracy: 69.700% - Test accuracy: 71.104%\n"
     ]
    },
    {
     "name": "stdout",
     "output_type": "stream",
     "text": [
      "Epoch  13/150 - Train accuracy: 71.105% - Test accuracy: 72.246%\n"
     ]
    },
    {
     "name": "stdout",
     "output_type": "stream",
     "text": [
      "Epoch  14/150 - Train accuracy: 72.129% - Test accuracy: 75.671%\n"
     ]
    },
    {
     "name": "stdout",
     "output_type": "stream",
     "text": [
      "Epoch  15/150 - Train accuracy: 73.063% - Test accuracy: 73.938%\n"
     ]
    },
    {
     "name": "stdout",
     "output_type": "stream",
     "text": [
      "Epoch  16/150 - Train accuracy: 73.612% - Test accuracy: 74.710%\n"
     ]
    },
    {
     "name": "stdout",
     "output_type": "stream",
     "text": [
      "Epoch  17/150 - Train accuracy: 74.388% - Test accuracy: 75.491%\n"
     ]
    },
    {
     "name": "stdout",
     "output_type": "stream",
     "text": [
      "Epoch  18/150 - Train accuracy: 74.924% - Test accuracy: 73.788%\n"
     ]
    },
    {
     "name": "stdout",
     "output_type": "stream",
     "text": [
      "Epoch  19/150 - Train accuracy: 75.628% - Test accuracy: 76.102%\n"
     ]
    },
    {
     "name": "stdout",
     "output_type": "stream",
     "text": [
      "Epoch  20/150 - Train accuracy: 76.308% - Test accuracy: 76.512%\n"
     ]
    },
    {
     "name": "stdout",
     "output_type": "stream",
     "text": [
      "Epoch  21/150 - Train accuracy: 76.402% - Test accuracy: 76.793%\n"
     ]
    },
    {
     "name": "stdout",
     "output_type": "stream",
     "text": [
      "Epoch  22/150 - Train accuracy: 76.861% - Test accuracy: 76.993%\n"
     ]
    },
    {
     "name": "stdout",
     "output_type": "stream",
     "text": [
      "Epoch  23/150 - Train accuracy: 77.421% - Test accuracy: 78.476%\n"
     ]
    },
    {
     "name": "stdout",
     "output_type": "stream",
     "text": [
      "Epoch  24/150 - Train accuracy: 77.833% - Test accuracy: 77.584%\n"
     ]
    },
    {
     "name": "stdout",
     "output_type": "stream",
     "text": [
      "Epoch  25/150 - Train accuracy: 78.585% - Test accuracy: 79.647%\n"
     ]
    },
    {
     "name": "stdout",
     "output_type": "stream",
     "text": [
      "Epoch  26/150 - Train accuracy: 78.707% - Test accuracy: 79.357%\n"
     ]
    },
    {
     "name": "stdout",
     "output_type": "stream",
     "text": [
      "Epoch  27/150 - Train accuracy: 79.201% - Test accuracy: 77.604%\n"
     ]
    },
    {
     "name": "stdout",
     "output_type": "stream",
     "text": [
      "Epoch  28/150 - Train accuracy: 79.153% - Test accuracy: 77.905%\n"
     ]
    },
    {
     "name": "stdout",
     "output_type": "stream",
     "text": [
      "Epoch  29/150 - Train accuracy: 79.950% - Test accuracy: 79.367%\n"
     ]
    },
    {
     "name": "stdout",
     "output_type": "stream",
     "text": [
      "Epoch  30/150 - Train accuracy: 79.984% - Test accuracy: 74.890%\n"
     ]
    },
    {
     "name": "stdout",
     "output_type": "stream",
     "text": [
      "Epoch  31/150 - Train accuracy: 80.404% - Test accuracy: 81.490%\n"
     ]
    },
    {
     "name": "stdout",
     "output_type": "stream",
     "text": [
      "Epoch  32/150 - Train accuracy: 80.476% - Test accuracy: 79.938%\n"
     ]
    },
    {
     "name": "stdout",
     "output_type": "stream",
     "text": [
      "Epoch  33/150 - Train accuracy: 80.782% - Test accuracy: 78.115%\n"
     ]
    },
    {
     "name": "stdout",
     "output_type": "stream",
     "text": [
      "Epoch  34/150 - Train accuracy: 81.280% - Test accuracy: 80.819%\n"
     ]
    },
    {
     "name": "stdout",
     "output_type": "stream",
     "text": [
      "Epoch  35/150 - Train accuracy: 81.344% - Test accuracy: 79.988%\n"
     ]
    },
    {
     "name": "stdout",
     "output_type": "stream",
     "text": [
      "Epoch  36/150 - Train accuracy: 81.584% - Test accuracy: 79.257%\n"
     ]
    },
    {
     "name": "stdout",
     "output_type": "stream",
     "text": [
      "Epoch  37/150 - Train accuracy: 81.818% - Test accuracy: 81.721%\n"
     ]
    },
    {
     "name": "stdout",
     "output_type": "stream",
     "text": [
      "Epoch  38/150 - Train accuracy: 81.986% - Test accuracy: 80.278%\n"
     ]
    },
    {
     "name": "stdout",
     "output_type": "stream",
     "text": [
      "Epoch  39/150 - Train accuracy: 81.854% - Test accuracy: 80.419%\n"
     ]
    },
    {
     "name": "stdout",
     "output_type": "stream",
     "text": [
      "Epoch  40/150 - Train accuracy: 82.012% - Test accuracy: 79.637%\n"
     ]
    },
    {
     "name": "stdout",
     "output_type": "stream",
     "text": [
      "Epoch  41/150 - Train accuracy: 82.160% - Test accuracy: 81.460%\n"
     ]
    },
    {
     "name": "stdout",
     "output_type": "stream",
     "text": [
      "Epoch  42/150 - Train accuracy: 82.664% - Test accuracy: 81.000%\n"
     ]
    },
    {
     "name": "stdout",
     "output_type": "stream",
     "text": [
      "Epoch  43/150 - Train accuracy: 82.740% - Test accuracy: 81.591%\n"
     ]
    },
    {
     "name": "stdout",
     "output_type": "stream",
     "text": [
      "Epoch  44/150 - Train accuracy: 83.237% - Test accuracy: 82.101%\n"
     ]
    },
    {
     "name": "stdout",
     "output_type": "stream",
     "text": [
      "Epoch  45/150 - Train accuracy: 82.983% - Test accuracy: 79.297%\n"
     ]
    },
    {
     "name": "stdout",
     "output_type": "stream",
     "text": [
      "Epoch  46/150 - Train accuracy: 83.377% - Test accuracy: 81.470%\n",
      "----------------------------------------------------------------\n",
      "Reducing learning rate on plateau at epoch 46\n",
      "----------------------------------------------------------------\n"
     ]
    },
    {
     "name": "stdout",
     "output_type": "stream",
     "text": [
      "Epoch  47/150 - Train accuracy: 87.354% - Test accuracy: 84.866%\n"
     ]
    },
    {
     "name": "stdout",
     "output_type": "stream",
     "text": [
      "Epoch  48/150 - Train accuracy: 87.914% - Test accuracy: 85.176%\n"
     ]
    },
    {
     "name": "stdout",
     "output_type": "stream",
     "text": [
      "Epoch  49/150 - Train accuracy: 88.308% - Test accuracy: 85.076%\n"
     ]
    },
    {
     "name": "stdout",
     "output_type": "stream",
     "text": [
      "Epoch  50/150 - Train accuracy: 88.584% - Test accuracy: 85.276%\n"
     ]
    },
    {
     "name": "stdout",
     "output_type": "stream",
     "text": [
      "Epoch  51/150 - Train accuracy: 88.558% - Test accuracy: 85.246%\n"
     ]
    },
    {
     "name": "stdout",
     "output_type": "stream",
     "text": [
      "Epoch  52/150 - Train accuracy: 88.732% - Test accuracy: 85.196%\n"
     ]
    },
    {
     "name": "stdout",
     "output_type": "stream",
     "text": [
      "Epoch  53/150 - Train accuracy: 89.010% - Test accuracy: 85.877%\n"
     ]
    },
    {
     "name": "stdout",
     "output_type": "stream",
     "text": [
      "Epoch  54/150 - Train accuracy: 88.908% - Test accuracy: 85.737%\n"
     ]
    },
    {
     "name": "stdout",
     "output_type": "stream",
     "text": [
      "Epoch  55/150 - Train accuracy: 88.896% - Test accuracy: 85.697%\n"
     ]
    },
    {
     "name": "stdout",
     "output_type": "stream",
     "text": [
      "Epoch  56/150 - Train accuracy: 89.341% - Test accuracy: 85.777%\n"
     ]
    },
    {
     "name": "stdout",
     "output_type": "stream",
     "text": [
      "Epoch  57/150 - Train accuracy: 89.131% - Test accuracy: 85.847%\n"
     ]
    },
    {
     "name": "stdout",
     "output_type": "stream",
     "text": [
      "Epoch  58/150 - Train accuracy: 89.271% - Test accuracy: 85.787%\n"
     ]
    },
    {
     "name": "stdout",
     "output_type": "stream",
     "text": [
      "Epoch  59/150 - Train accuracy: 89.411% - Test accuracy: 86.258%\n"
     ]
    },
    {
     "name": "stdout",
     "output_type": "stream",
     "text": [
      "Epoch  60/150 - Train accuracy: 89.405% - Test accuracy: 86.579%\n"
     ]
    },
    {
     "name": "stdout",
     "output_type": "stream",
     "text": [
      "Epoch  61/150 - Train accuracy: 89.637% - Test accuracy: 85.938%\n"
     ]
    },
    {
     "name": "stdout",
     "output_type": "stream",
     "text": [
      "Epoch  62/150 - Train accuracy: 89.693% - Test accuracy: 86.579%\n"
     ]
    },
    {
     "name": "stdout",
     "output_type": "stream",
     "text": [
      "Epoch  63/150 - Train accuracy: 89.927% - Test accuracy: 86.118%\n"
     ]
    },
    {
     "name": "stdout",
     "output_type": "stream",
     "text": [
      "Epoch  64/150 - Train accuracy: 89.759% - Test accuracy: 86.028%\n"
     ]
    },
    {
     "name": "stdout",
     "output_type": "stream",
     "text": [
      "Epoch  65/150 - Train accuracy: 89.937% - Test accuracy: 86.078%\n"
     ]
    },
    {
     "name": "stdout",
     "output_type": "stream",
     "text": [
      "Epoch  66/150 - Train accuracy: 90.049% - Test accuracy: 86.318%\n"
     ]
    },
    {
     "name": "stdout",
     "output_type": "stream",
     "text": [
      "Epoch  67/150 - Train accuracy: 90.153% - Test accuracy: 86.328%\n"
     ]
    },
    {
     "name": "stdout",
     "output_type": "stream",
     "text": [
      "Epoch  68/150 - Train accuracy: 89.979% - Test accuracy: 85.457%\n",
      "----------------------------------------------------------------\n",
      "Reducing learning rate on plateau at epoch 68\n",
      "----------------------------------------------------------------\n"
     ]
    },
    {
     "name": "stdout",
     "output_type": "stream",
     "text": [
      "Epoch  69/150 - Train accuracy: 91.373% - Test accuracy: 87.069%\n"
     ]
    },
    {
     "name": "stdout",
     "output_type": "stream",
     "text": [
      "Epoch  70/150 - Train accuracy: 91.369% - Test accuracy: 87.200%\n"
     ]
    },
    {
     "name": "stdout",
     "output_type": "stream",
     "text": [
      "Epoch  71/150 - Train accuracy: 91.497% - Test accuracy: 87.290%\n"
     ]
    },
    {
     "name": "stdout",
     "output_type": "stream",
     "text": [
      "Epoch  72/150 - Train accuracy: 91.625% - Test accuracy: 86.859%\n"
     ]
    },
    {
     "name": "stdout",
     "output_type": "stream",
     "text": [
      "Epoch  73/150 - Train accuracy: 91.381% - Test accuracy: 87.069%\n"
     ]
    },
    {
     "name": "stdout",
     "output_type": "stream",
     "text": [
      "Epoch  74/150 - Train accuracy: 91.739% - Test accuracy: 87.410%\n"
     ]
    },
    {
     "name": "stdout",
     "output_type": "stream",
     "text": [
      "Epoch  75/150 - Train accuracy: 91.389% - Test accuracy: 87.310%\n"
     ]
    },
    {
     "name": "stdout",
     "output_type": "stream",
     "text": [
      "Epoch  76/150 - Train accuracy: 91.853% - Test accuracy: 87.360%\n"
     ]
    },
    {
     "name": "stdout",
     "output_type": "stream",
     "text": [
      "Epoch  77/150 - Train accuracy: 91.757% - Test accuracy: 87.440%\n"
     ]
    },
    {
     "name": "stdout",
     "output_type": "stream",
     "text": [
      "Epoch  78/150 - Train accuracy: 91.813% - Test accuracy: 87.290%\n"
     ]
    },
    {
     "name": "stdout",
     "output_type": "stream",
     "text": [
      "Epoch  79/150 - Train accuracy: 91.873% - Test accuracy: 87.250%\n"
     ]
    },
    {
     "name": "stdout",
     "output_type": "stream",
     "text": [
      "Epoch  80/150 - Train accuracy: 91.693% - Test accuracy: 87.169%\n"
     ]
    },
    {
     "name": "stdout",
     "output_type": "stream",
     "text": [
      "Epoch  81/150 - Train accuracy: 91.857% - Test accuracy: 87.179%\n"
     ]
    },
    {
     "name": "stdout",
     "output_type": "stream",
     "text": [
      "Epoch  82/150 - Train accuracy: 91.869% - Test accuracy: 87.430%\n"
     ]
    },
    {
     "name": "stdout",
     "output_type": "stream",
     "text": [
      "Epoch  83/150 - Train accuracy: 91.727% - Test accuracy: 87.600%\n"
     ]
    },
    {
     "name": "stdout",
     "output_type": "stream",
     "text": [
      "Epoch  84/150 - Train accuracy: 91.837% - Test accuracy: 87.560%\n",
      "----------------------------------------------------------------\n",
      "Reducing learning rate on plateau at epoch 84\n",
      "----------------------------------------------------------------\n"
     ]
    },
    {
     "name": "stdout",
     "output_type": "stream",
     "text": [
      "Epoch  85/150 - Train accuracy: 92.308% - Test accuracy: 87.841%\n"
     ]
    },
    {
     "name": "stdout",
     "output_type": "stream",
     "text": [
      "Epoch  86/150 - Train accuracy: 92.127% - Test accuracy: 87.750%\n"
     ]
    },
    {
     "name": "stdout",
     "output_type": "stream",
     "text": [
      "Epoch  87/150 - Train accuracy: 92.185% - Test accuracy: 87.590%\n"
     ]
    },
    {
     "name": "stdout",
     "output_type": "stream",
     "text": [
      "Epoch  88/150 - Train accuracy: 92.294% - Test accuracy: 87.871%\n"
     ]
    },
    {
     "name": "stdout",
     "output_type": "stream",
     "text": [
      "Epoch  89/150 - Train accuracy: 92.448% - Test accuracy: 87.790%\n"
     ]
    },
    {
     "name": "stdout",
     "output_type": "stream",
     "text": [
      "Epoch  90/150 - Train accuracy: 92.326% - Test accuracy: 87.670%\n"
     ]
    },
    {
     "name": "stdout",
     "output_type": "stream",
     "text": [
      "Epoch  91/150 - Train accuracy: 92.396% - Test accuracy: 87.740%\n"
     ]
    },
    {
     "name": "stdout",
     "output_type": "stream",
     "text": [
      "Epoch  92/150 - Train accuracy: 92.414% - Test accuracy: 87.720%\n"
     ]
    },
    {
     "name": "stdout",
     "output_type": "stream",
     "text": [
      "Epoch  93/150 - Train accuracy: 92.392% - Test accuracy: 87.720%\n"
     ]
    },
    {
     "name": "stdout",
     "output_type": "stream",
     "text": [
      "Epoch  94/150 - Train accuracy: 92.232% - Test accuracy: 87.580%\n"
     ]
    },
    {
     "name": "stdout",
     "output_type": "stream",
     "text": [
      "Epoch  95/150 - Train accuracy: 92.177% - Test accuracy: 87.520%\n"
     ]
    },
    {
     "name": "stdout",
     "output_type": "stream",
     "text": [
      "Epoch  96/150 - Train accuracy: 92.372% - Test accuracy: 87.690%\n"
     ]
    },
    {
     "name": "stdout",
     "output_type": "stream",
     "text": [
      "Epoch  97/150 - Train accuracy: 92.268% - Test accuracy: 87.700%\n"
     ]
    },
    {
     "name": "stdout",
     "output_type": "stream",
     "text": [
      "Epoch  98/150 - Train accuracy: 92.322% - Test accuracy: 87.480%\n"
     ]
    },
    {
     "name": "stdout",
     "output_type": "stream",
     "text": [
      "Epoch  99/150 - Train accuracy: 92.300% - Test accuracy: 87.790%\n",
      "----------------------------------------------------------------\n",
      "Reducing learning rate on plateau at epoch 99\n",
      "----------------------------------------------------------------\n"
     ]
    },
    {
     "name": "stdout",
     "output_type": "stream",
     "text": [
      "Epoch 100/150 - Train accuracy: 92.466% - Test accuracy: 87.670%\n"
     ]
    },
    {
     "name": "stdout",
     "output_type": "stream",
     "text": [
      "Epoch 101/150 - Train accuracy: 92.466% - Test accuracy: 87.831%\n"
     ]
    },
    {
     "name": "stdout",
     "output_type": "stream",
     "text": [
      "Epoch 102/150 - Train accuracy: 92.394% - Test accuracy: 87.871%\n"
     ]
    },
    {
     "name": "stdout",
     "output_type": "stream",
     "text": [
      "Epoch 103/150 - Train accuracy: 92.462% - Test accuracy: 87.921%\n"
     ]
    },
    {
     "name": "stdout",
     "output_type": "stream",
     "text": [
      "Epoch 104/150 - Train accuracy: 92.614% - Test accuracy: 87.881%\n",
      "----------------------------------------------------------------\n",
      "Early stopping at epoch 104\n",
      "----------------------------------------------------------------\n"
     ]
    },
    {
     "name": "stdout",
     "output_type": "stream",
     "text": [
      "----------------------------------------------------------------\n",
      "Running experiment with seed 51...\n"
     ]
    },
    {
     "name": "stdout",
     "output_type": "stream",
     "text": [
      "Files already downloaded and verified\n"
     ]
    },
    {
     "name": "stdout",
     "output_type": "stream",
     "text": [
      "Files already downloaded and verified\n"
     ]
    },
    {
     "name": "stdout",
     "output_type": "stream",
     "text": [
      "Epoch   1/150 - Train accuracy: 09.957% - Test accuracy: 09.986%\n"
     ]
    },
    {
     "name": "stdout",
     "output_type": "stream",
     "text": [
      "Epoch   2/150 - Train accuracy: 19.650% - Test accuracy: 30.339%\n"
     ]
    },
    {
     "name": "stdout",
     "output_type": "stream",
     "text": [
      "Epoch   3/150 - Train accuracy: 36.632% - Test accuracy: 46.074%\n"
     ]
    },
    {
     "name": "stdout",
     "output_type": "stream",
     "text": [
      "Epoch   4/150 - Train accuracy: 46.225% - Test accuracy: 54.497%\n"
     ]
    },
    {
     "name": "stdout",
     "output_type": "stream",
     "text": [
      "Epoch   5/150 - Train accuracy: 52.053% - Test accuracy: 54.437%\n"
     ]
    },
    {
     "name": "stdout",
     "output_type": "stream",
     "text": [
      "Epoch   6/150 - Train accuracy: 56.522% - Test accuracy: 62.009%\n"
     ]
    },
    {
     "name": "stdout",
     "output_type": "stream",
     "text": [
      "Epoch   7/150 - Train accuracy: 60.803% - Test accuracy: 65.525%\n"
     ]
    },
    {
     "name": "stdout",
     "output_type": "stream",
     "text": [
      "Epoch   8/150 - Train accuracy: 63.090% - Test accuracy: 63.602%\n"
     ]
    },
    {
     "name": "stdout",
     "output_type": "stream",
     "text": [
      "Epoch   9/150 - Train accuracy: 65.421% - Test accuracy: 64.103%\n"
     ]
    },
    {
     "name": "stdout",
     "output_type": "stream",
     "text": [
      "Epoch  10/150 - Train accuracy: 66.999% - Test accuracy: 69.391%\n"
     ]
    },
    {
     "name": "stdout",
     "output_type": "stream",
     "text": [
      "Epoch  11/150 - Train accuracy: 68.494% - Test accuracy: 69.371%\n"
     ]
    },
    {
     "name": "stdout",
     "output_type": "stream",
     "text": [
      "Epoch  12/150 - Train accuracy: 69.838% - Test accuracy: 72.175%\n"
     ]
    },
    {
     "name": "stdout",
     "output_type": "stream",
     "text": [
      "Epoch  13/150 - Train accuracy: 70.705% - Test accuracy: 72.626%\n"
     ]
    },
    {
     "name": "stdout",
     "output_type": "stream",
     "text": [
      "Epoch  14/150 - Train accuracy: 72.197% - Test accuracy: 73.197%\n"
     ]
    },
    {
     "name": "stdout",
     "output_type": "stream",
     "text": [
      "Epoch  15/150 - Train accuracy: 72.873% - Test accuracy: 75.110%\n"
     ]
    },
    {
     "name": "stdout",
     "output_type": "stream",
     "text": [
      "Epoch  16/150 - Train accuracy: 73.524% - Test accuracy: 73.317%\n"
     ]
    },
    {
     "name": "stdout",
     "output_type": "stream",
     "text": [
      "Epoch  17/150 - Train accuracy: 74.380% - Test accuracy: 75.180%\n"
     ]
    },
    {
     "name": "stdout",
     "output_type": "stream",
     "text": [
      "Epoch  18/150 - Train accuracy: 74.914% - Test accuracy: 73.918%\n"
     ]
    },
    {
     "name": "stdout",
     "output_type": "stream",
     "text": [
      "Epoch  19/150 - Train accuracy: 75.282% - Test accuracy: 73.878%\n"
     ]
    },
    {
     "name": "stdout",
     "output_type": "stream",
     "text": [
      "Epoch  20/150 - Train accuracy: 75.740% - Test accuracy: 77.734%\n"
     ]
    },
    {
     "name": "stdout",
     "output_type": "stream",
     "text": [
      "Epoch  21/150 - Train accuracy: 76.196% - Test accuracy: 74.900%\n"
     ]
    },
    {
     "name": "stdout",
     "output_type": "stream",
     "text": [
      "Epoch  22/150 - Train accuracy: 77.041% - Test accuracy: 76.883%\n"
     ]
    },
    {
     "name": "stdout",
     "output_type": "stream",
     "text": [
      "Epoch  23/150 - Train accuracy: 77.553% - Test accuracy: 77.965%\n"
     ]
    },
    {
     "name": "stdout",
     "output_type": "stream",
     "text": [
      "Epoch  24/150 - Train accuracy: 77.433% - Test accuracy: 77.784%\n"
     ]
    },
    {
     "name": "stdout",
     "output_type": "stream",
     "text": [
      "Epoch  25/150 - Train accuracy: 78.411% - Test accuracy: 77.905%\n"
     ]
    },
    {
     "name": "stdout",
     "output_type": "stream",
     "text": [
      "Epoch  26/150 - Train accuracy: 78.319% - Test accuracy: 77.284%\n"
     ]
    },
    {
     "name": "stdout",
     "output_type": "stream",
     "text": [
      "Epoch  27/150 - Train accuracy: 79.101% - Test accuracy: 79.698%\n"
     ]
    },
    {
     "name": "stdout",
     "output_type": "stream",
     "text": [
      "Epoch  28/150 - Train accuracy: 79.131% - Test accuracy: 77.123%\n"
     ]
    },
    {
     "name": "stdout",
     "output_type": "stream",
     "text": [
      "Epoch  29/150 - Train accuracy: 79.257% - Test accuracy: 77.394%\n"
     ]
    },
    {
     "name": "stdout",
     "output_type": "stream",
     "text": [
      "Epoch  30/150 - Train accuracy: 79.647% - Test accuracy: 78.936%\n"
     ]
    },
    {
     "name": "stdout",
     "output_type": "stream",
     "text": [
      "Epoch  31/150 - Train accuracy: 80.114% - Test accuracy: 80.208%\n"
     ]
    },
    {
     "name": "stdout",
     "output_type": "stream",
     "text": [
      "Epoch  32/150 - Train accuracy: 80.588% - Test accuracy: 80.459%\n"
     ]
    },
    {
     "name": "stdout",
     "output_type": "stream",
     "text": [
      "Epoch  33/150 - Train accuracy: 81.172% - Test accuracy: 80.278%\n"
     ]
    },
    {
     "name": "stdout",
     "output_type": "stream",
     "text": [
      "Epoch  34/150 - Train accuracy: 80.852% - Test accuracy: 80.449%\n"
     ]
    },
    {
     "name": "stdout",
     "output_type": "stream",
     "text": [
      "Epoch  35/150 - Train accuracy: 80.952% - Test accuracy: 80.058%\n"
     ]
    },
    {
     "name": "stdout",
     "output_type": "stream",
     "text": [
      "Epoch  36/150 - Train accuracy: 81.402% - Test accuracy: 81.310%\n"
     ]
    },
    {
     "name": "stdout",
     "output_type": "stream",
     "text": [
      "Epoch  37/150 - Train accuracy: 81.490% - Test accuracy: 80.849%\n"
     ]
    },
    {
     "name": "stdout",
     "output_type": "stream",
     "text": [
      "Epoch  38/150 - Train accuracy: 81.648% - Test accuracy: 79.808%\n"
     ]
    },
    {
     "name": "stdout",
     "output_type": "stream",
     "text": [
      "Epoch  39/150 - Train accuracy: 81.934% - Test accuracy: 79.217%\n"
     ]
    },
    {
     "name": "stdout",
     "output_type": "stream",
     "text": [
      "Epoch  40/150 - Train accuracy: 81.992% - Test accuracy: 78.155%\n"
     ]
    },
    {
     "name": "stdout",
     "output_type": "stream",
     "text": [
      "Epoch  41/150 - Train accuracy: 82.592% - Test accuracy: 81.400%\n"
     ]
    },
    {
     "name": "stdout",
     "output_type": "stream",
     "text": [
      "Epoch  42/150 - Train accuracy: 82.580% - Test accuracy: 79.928%\n"
     ]
    },
    {
     "name": "stdout",
     "output_type": "stream",
     "text": [
      "Epoch  43/150 - Train accuracy: 82.718% - Test accuracy: 82.342%\n"
     ]
    },
    {
     "name": "stdout",
     "output_type": "stream",
     "text": [
      "Epoch  44/150 - Train accuracy: 82.817% - Test accuracy: 77.204%\n"
     ]
    },
    {
     "name": "stdout",
     "output_type": "stream",
     "text": [
      "Epoch  45/150 - Train accuracy: 83.157% - Test accuracy: 80.739%\n"
     ]
    },
    {
     "name": "stdout",
     "output_type": "stream",
     "text": [
      "Epoch  46/150 - Train accuracy: 83.293% - Test accuracy: 81.260%\n"
     ]
    },
    {
     "name": "stdout",
     "output_type": "stream",
     "text": [
      "Epoch  47/150 - Train accuracy: 83.213% - Test accuracy: 80.539%\n"
     ]
    },
    {
     "name": "stdout",
     "output_type": "stream",
     "text": [
      "Epoch  48/150 - Train accuracy: 83.293% - Test accuracy: 81.771%\n"
     ]
    },
    {
     "name": "stdout",
     "output_type": "stream",
     "text": [
      "Epoch  49/150 - Train accuracy: 83.389% - Test accuracy: 80.709%\n"
     ]
    },
    {
     "name": "stdout",
     "output_type": "stream",
     "text": [
      "Epoch  50/150 - Train accuracy: 83.873% - Test accuracy: 81.160%\n"
     ]
    },
    {
     "name": "stdout",
     "output_type": "stream",
     "text": [
      "Epoch  51/150 - Train accuracy: 83.893% - Test accuracy: 79.397%\n"
     ]
    },
    {
     "name": "stdout",
     "output_type": "stream",
     "text": [
      "Epoch  52/150 - Train accuracy: 83.947% - Test accuracy: 82.632%\n"
     ]
    },
    {
     "name": "stdout",
     "output_type": "stream",
     "text": [
      "Epoch  53/150 - Train accuracy: 84.187% - Test accuracy: 82.292%\n"
     ]
    },
    {
     "name": "stdout",
     "output_type": "stream",
     "text": [
      "Epoch  54/150 - Train accuracy: 84.049% - Test accuracy: 81.841%\n"
     ]
    },
    {
     "name": "stdout",
     "output_type": "stream",
     "text": [
      "Epoch  55/150 - Train accuracy: 84.527% - Test accuracy: 82.372%\n"
     ]
    },
    {
     "name": "stdout",
     "output_type": "stream",
     "text": [
      "Epoch  56/150 - Train accuracy: 84.075% - Test accuracy: 83.524%\n"
     ]
    },
    {
     "name": "stdout",
     "output_type": "stream",
     "text": [
      "Epoch  57/150 - Train accuracy: 84.331% - Test accuracy: 82.352%\n"
     ]
    },
    {
     "name": "stdout",
     "output_type": "stream",
     "text": [
      "Epoch  58/150 - Train accuracy: 84.283% - Test accuracy: 83.053%\n"
     ]
    },
    {
     "name": "stdout",
     "output_type": "stream",
     "text": [
      "Epoch  59/150 - Train accuracy: 84.739% - Test accuracy: 82.692%\n"
     ]
    },
    {
     "name": "stdout",
     "output_type": "stream",
     "text": [
      "Epoch  60/150 - Train accuracy: 84.701% - Test accuracy: 81.821%\n"
     ]
    },
    {
     "name": "stdout",
     "output_type": "stream",
     "text": [
      "Epoch  61/150 - Train accuracy: 85.011% - Test accuracy: 81.050%\n"
     ]
    },
    {
     "name": "stdout",
     "output_type": "stream",
     "text": [
      "Epoch  62/150 - Train accuracy: 85.109% - Test accuracy: 81.711%\n"
     ]
    },
    {
     "name": "stdout",
     "output_type": "stream",
     "text": [
      "Epoch  63/150 - Train accuracy: 85.019% - Test accuracy: 81.160%\n"
     ]
    },
    {
     "name": "stdout",
     "output_type": "stream",
     "text": [
      "Epoch  64/150 - Train accuracy: 84.927% - Test accuracy: 81.460%\n"
     ]
    },
    {
     "name": "stdout",
     "output_type": "stream",
     "text": [
      "Epoch  65/150 - Train accuracy: 85.101% - Test accuracy: 80.339%\n"
     ]
    },
    {
     "name": "stdout",
     "output_type": "stream",
     "text": [
      "Epoch  66/150 - Train accuracy: 85.365% - Test accuracy: 83.233%\n"
     ]
    },
    {
     "name": "stdout",
     "output_type": "stream",
     "text": [
      "Epoch  67/150 - Train accuracy: 85.229% - Test accuracy: 82.272%\n"
     ]
    },
    {
     "name": "stdout",
     "output_type": "stream",
     "text": [
      "Epoch  68/150 - Train accuracy: 85.657% - Test accuracy: 83.093%\n"
     ]
    },
    {
     "name": "stdout",
     "output_type": "stream",
     "text": [
      "Epoch  69/150 - Train accuracy: 85.589% - Test accuracy: 82.702%\n"
     ]
    },
    {
     "name": "stdout",
     "output_type": "stream",
     "text": [
      "Epoch  70/150 - Train accuracy: 84.943% - Test accuracy: 83.874%\n"
     ]
    },
    {
     "name": "stdout",
     "output_type": "stream",
     "text": [
      "Epoch  71/150 - Train accuracy: 85.551% - Test accuracy: 81.641%\n",
      "----------------------------------------------------------------\n",
      "Reducing learning rate on plateau at epoch 71\n",
      "----------------------------------------------------------------\n"
     ]
    },
    {
     "name": "stdout",
     "output_type": "stream",
     "text": [
      "Epoch  72/150 - Train accuracy: 89.393% - Test accuracy: 85.597%\n"
     ]
    },
    {
     "name": "stdout",
     "output_type": "stream",
     "text": [
      "Epoch  73/150 - Train accuracy: 89.895% - Test accuracy: 85.827%\n"
     ]
    },
    {
     "name": "stdout",
     "output_type": "stream",
     "text": [
      "Epoch  74/150 - Train accuracy: 90.187% - Test accuracy: 86.268%\n"
     ]
    },
    {
     "name": "stdout",
     "output_type": "stream",
     "text": [
      "Epoch  75/150 - Train accuracy: 90.649% - Test accuracy: 86.719%\n"
     ]
    },
    {
     "name": "stdout",
     "output_type": "stream",
     "text": [
      "Epoch  76/150 - Train accuracy: 90.689% - Test accuracy: 86.739%\n"
     ]
    },
    {
     "name": "stdout",
     "output_type": "stream",
     "text": [
      "Epoch  77/150 - Train accuracy: 90.813% - Test accuracy: 86.398%\n"
     ]
    },
    {
     "name": "stdout",
     "output_type": "stream",
     "text": [
      "Epoch  78/150 - Train accuracy: 90.861% - Test accuracy: 86.599%\n"
     ]
    },
    {
     "name": "stdout",
     "output_type": "stream",
     "text": [
      "Epoch  79/150 - Train accuracy: 91.213% - Test accuracy: 85.907%\n"
     ]
    },
    {
     "name": "stdout",
     "output_type": "stream",
     "text": [
      "Epoch  80/150 - Train accuracy: 91.263% - Test accuracy: 86.849%\n"
     ]
    },
    {
     "name": "stdout",
     "output_type": "stream",
     "text": [
      "Epoch  81/150 - Train accuracy: 91.233% - Test accuracy: 86.468%\n"
     ]
    },
    {
     "name": "stdout",
     "output_type": "stream",
     "text": [
      "Epoch  82/150 - Train accuracy: 91.123% - Test accuracy: 87.099%\n"
     ]
    },
    {
     "name": "stdout",
     "output_type": "stream",
     "text": [
      "Epoch  83/150 - Train accuracy: 91.333% - Test accuracy: 86.268%\n"
     ]
    },
    {
     "name": "stdout",
     "output_type": "stream",
     "text": [
      "Epoch  84/150 - Train accuracy: 91.277% - Test accuracy: 86.909%\n"
     ]
    },
    {
     "name": "stdout",
     "output_type": "stream",
     "text": [
      "Epoch  85/150 - Train accuracy: 91.485% - Test accuracy: 86.579%\n"
     ]
    },
    {
     "name": "stdout",
     "output_type": "stream",
     "text": [
      "Epoch  86/150 - Train accuracy: 91.619% - Test accuracy: 86.759%\n"
     ]
    },
    {
     "name": "stdout",
     "output_type": "stream",
     "text": [
      "Epoch  87/150 - Train accuracy: 91.695% - Test accuracy: 86.929%\n"
     ]
    },
    {
     "name": "stdout",
     "output_type": "stream",
     "text": [
      "Epoch  88/150 - Train accuracy: 91.495% - Test accuracy: 86.879%\n"
     ]
    },
    {
     "name": "stdout",
     "output_type": "stream",
     "text": [
      "Epoch  89/150 - Train accuracy: 91.939% - Test accuracy: 87.099%\n"
     ]
    },
    {
     "name": "stdout",
     "output_type": "stream",
     "text": [
      "Epoch  90/150 - Train accuracy: 91.791% - Test accuracy: 86.518%\n",
      "----------------------------------------------------------------\n",
      "Reducing learning rate on plateau at epoch 90\n",
      "----------------------------------------------------------------\n"
     ]
    },
    {
     "name": "stdout",
     "output_type": "stream",
     "text": [
      "Epoch  91/150 - Train accuracy: 92.882% - Test accuracy: 87.390%\n"
     ]
    },
    {
     "name": "stdout",
     "output_type": "stream",
     "text": [
      "Epoch  92/150 - Train accuracy: 92.728% - Test accuracy: 87.630%\n"
     ]
    },
    {
     "name": "stdout",
     "output_type": "stream",
     "text": [
      "Epoch  93/150 - Train accuracy: 92.968% - Test accuracy: 87.861%\n"
     ]
    },
    {
     "name": "stdout",
     "output_type": "stream",
     "text": [
      "Epoch  94/150 - Train accuracy: 93.142% - Test accuracy: 87.510%\n"
     ]
    },
    {
     "name": "stdout",
     "output_type": "stream",
     "text": [
      "Epoch  95/150 - Train accuracy: 92.896% - Test accuracy: 87.320%\n"
     ]
    },
    {
     "name": "stdout",
     "output_type": "stream",
     "text": [
      "Epoch  96/150 - Train accuracy: 93.142% - Test accuracy: 87.690%\n"
     ]
    },
    {
     "name": "stdout",
     "output_type": "stream",
     "text": [
      "Epoch  97/150 - Train accuracy: 93.050% - Test accuracy: 87.770%\n"
     ]
    },
    {
     "name": "stdout",
     "output_type": "stream",
     "text": [
      "Epoch  98/150 - Train accuracy: 92.944% - Test accuracy: 87.740%\n"
     ]
    },
    {
     "name": "stdout",
     "output_type": "stream",
     "text": [
      "Epoch  99/150 - Train accuracy: 93.052% - Test accuracy: 87.620%\n"
     ]
    },
    {
     "name": "stdout",
     "output_type": "stream",
     "text": [
      "Epoch 100/150 - Train accuracy: 93.012% - Test accuracy: 87.720%\n"
     ]
    },
    {
     "name": "stdout",
     "output_type": "stream",
     "text": [
      "Epoch 101/150 - Train accuracy: 92.958% - Test accuracy: 87.881%\n"
     ]
    },
    {
     "name": "stdout",
     "output_type": "stream",
     "text": [
      "Epoch 102/150 - Train accuracy: 93.232% - Test accuracy: 87.851%\n"
     ]
    },
    {
     "name": "stdout",
     "output_type": "stream",
     "text": [
      "Epoch 103/150 - Train accuracy: 93.050% - Test accuracy: 87.800%\n"
     ]
    },
    {
     "name": "stdout",
     "output_type": "stream",
     "text": [
      "Epoch 104/150 - Train accuracy: 93.084% - Test accuracy: 87.921%\n"
     ]
    },
    {
     "name": "stdout",
     "output_type": "stream",
     "text": [
      "Epoch 105/150 - Train accuracy: 92.994% - Test accuracy: 87.760%\n"
     ]
    },
    {
     "name": "stdout",
     "output_type": "stream",
     "text": [
      "Epoch 106/150 - Train accuracy: 93.228% - Test accuracy: 87.831%\n"
     ]
    },
    {
     "name": "stdout",
     "output_type": "stream",
     "text": [
      "Epoch 107/150 - Train accuracy: 93.272% - Test accuracy: 87.670%\n"
     ]
    },
    {
     "name": "stdout",
     "output_type": "stream",
     "text": [
      "Epoch 108/150 - Train accuracy: 93.398% - Test accuracy: 87.881%\n",
      "----------------------------------------------------------------\n",
      "Reducing learning rate on plateau at epoch 108\n",
      "----------------------------------------------------------------\n"
     ]
    },
    {
     "name": "stdout",
     "output_type": "stream",
     "text": [
      "Epoch 109/150 - Train accuracy: 93.464% - Test accuracy: 87.961%\n"
     ]
    },
    {
     "name": "stdout",
     "output_type": "stream",
     "text": [
      "Epoch 110/150 - Train accuracy: 93.474% - Test accuracy: 87.710%\n"
     ]
    },
    {
     "name": "stdout",
     "output_type": "stream",
     "text": [
      "Epoch 111/150 - Train accuracy: 93.598% - Test accuracy: 87.831%\n"
     ]
    },
    {
     "name": "stdout",
     "output_type": "stream",
     "text": [
      "Epoch 112/150 - Train accuracy: 93.614% - Test accuracy: 88.011%\n"
     ]
    },
    {
     "name": "stdout",
     "output_type": "stream",
     "text": [
      "Epoch 113/150 - Train accuracy: 93.434% - Test accuracy: 87.861%\n"
     ]
    },
    {
     "name": "stdout",
     "output_type": "stream",
     "text": [
      "Epoch 114/150 - Train accuracy: 93.764% - Test accuracy: 87.871%\n"
     ]
    },
    {
     "name": "stdout",
     "output_type": "stream",
     "text": [
      "Epoch 115/150 - Train accuracy: 93.608% - Test accuracy: 88.001%\n"
     ]
    },
    {
     "name": "stdout",
     "output_type": "stream",
     "text": [
      "Epoch 116/150 - Train accuracy: 93.458% - Test accuracy: 87.851%\n"
     ]
    },
    {
     "name": "stdout",
     "output_type": "stream",
     "text": [
      "Epoch 117/150 - Train accuracy: 93.618% - Test accuracy: 88.091%\n"
     ]
    },
    {
     "name": "stdout",
     "output_type": "stream",
     "text": [
      "Epoch 118/150 - Train accuracy: 93.578% - Test accuracy: 87.921%\n"
     ]
    },
    {
     "name": "stdout",
     "output_type": "stream",
     "text": [
      "Epoch 119/150 - Train accuracy: 93.812% - Test accuracy: 87.931%\n"
     ]
    },
    {
     "name": "stdout",
     "output_type": "stream",
     "text": [
      "Epoch 120/150 - Train accuracy: 93.826% - Test accuracy: 88.001%\n"
     ]
    },
    {
     "name": "stdout",
     "output_type": "stream",
     "text": [
      "Epoch 121/150 - Train accuracy: 93.720% - Test accuracy: 87.951%\n"
     ]
    },
    {
     "name": "stdout",
     "output_type": "stream",
     "text": [
      "Epoch 122/150 - Train accuracy: 93.586% - Test accuracy: 88.061%\n"
     ]
    },
    {
     "name": "stdout",
     "output_type": "stream",
     "text": [
      "Epoch 123/150 - Train accuracy: 93.492% - Test accuracy: 88.161%\n",
      "----------------------------------------------------------------\n",
      "Reducing learning rate on plateau at epoch 123\n",
      "----------------------------------------------------------------\n"
     ]
    },
    {
     "name": "stdout",
     "output_type": "stream",
     "text": [
      "Epoch 124/150 - Train accuracy: 93.652% - Test accuracy: 88.161%\n"
     ]
    },
    {
     "name": "stdout",
     "output_type": "stream",
     "text": [
      "Epoch 125/150 - Train accuracy: 93.520% - Test accuracy: 88.151%\n"
     ]
    },
    {
     "name": "stdout",
     "output_type": "stream",
     "text": [
      "Epoch 126/150 - Train accuracy: 93.934% - Test accuracy: 88.121%\n"
     ]
    },
    {
     "name": "stdout",
     "output_type": "stream",
     "text": [
      "Epoch 127/150 - Train accuracy: 93.706% - Test accuracy: 88.011%\n"
     ]
    },
    {
     "name": "stdout",
     "output_type": "stream",
     "text": [
      "Epoch 128/150 - Train accuracy: 93.698% - Test accuracy: 88.221%\n",
      "----------------------------------------------------------------\n",
      "Early stopping at epoch 128\n",
      "----------------------------------------------------------------\n"
     ]
    }
   ],
   "source": [
    "N_EXPERIMENTS = 5\n",
    "for i in range(N_EXPERIMENTS):\n",
    "    run_experiment(config)\n",
    "    config[\"seed\"] += 1"
   ]
  },
  {
   "cell_type": "markdown",
   "id": "a2c2e9a81e8f2a4f",
   "metadata": {},
   "source": [
    "## Aggregated results"
   ]
  },
  {
   "cell_type": "code",
   "execution_count": 13,
   "id": "b3c9022e5a0a5b7a",
   "metadata": {
    "ExecuteTime": {
     "end_time": "2024-05-15T12:31:50.017488Z",
     "start_time": "2024-05-15T12:31:49.999311Z"
    },
    "execution": {
     "iopub.execute_input": "2024-05-21T13:25:22.358743Z",
     "iopub.status.busy": "2024-05-21T13:25:22.358201Z",
     "iopub.status.idle": "2024-05-21T13:25:22.366884Z",
     "shell.execute_reply": "2024-05-21T13:25:22.365117Z"
    }
   },
   "outputs": [],
   "source": [
    "with open('results.csv', mode='r') as file:\n",
    "    results = np.array(list(csv.reader(file)), dtype=np.float32)"
   ]
  },
  {
   "cell_type": "code",
   "execution_count": 14,
   "id": "b87694d71ae859d1",
   "metadata": {
    "ExecuteTime": {
     "end_time": "2024-05-15T12:31:50.023015Z",
     "start_time": "2024-05-15T12:31:50.018601Z"
    },
    "execution": {
     "iopub.execute_input": "2024-05-21T13:25:22.373180Z",
     "iopub.status.busy": "2024-05-21T13:25:22.372643Z",
     "iopub.status.idle": "2024-05-21T13:25:22.382143Z",
     "shell.execute_reply": "2024-05-21T13:25:22.380319Z"
    }
   },
   "outputs": [],
   "source": [
    "# Compute mean and standard deviation\n",
    "mean_train_acc = np.mean(results[:,1])\n",
    "std_train_acc = np.std(results[:,1])\n",
    "mean_test_acc = np.mean(results[:,2])\n",
    "std_test_acc = np.std(results[:,2])"
   ]
  },
  {
   "cell_type": "code",
   "execution_count": 15,
   "id": "5f60c5c5cbdedb8e",
   "metadata": {
    "ExecuteTime": {
     "end_time": "2024-05-15T12:31:50.029034Z",
     "start_time": "2024-05-15T12:31:50.024135Z"
    },
    "execution": {
     "iopub.execute_input": "2024-05-21T13:25:22.388543Z",
     "iopub.status.busy": "2024-05-21T13:25:22.387941Z",
     "iopub.status.idle": "2024-05-21T13:25:22.397036Z",
     "shell.execute_reply": "2024-05-21T13:25:22.395184Z"
    }
   },
   "outputs": [
    {
     "name": "stdout",
     "output_type": "stream",
     "text": [
      "Mean results with 95% confidence interval:\n",
      "- Train accuracy: 93.32% ± 1.26%\n",
      "-  Test accuracy: 88.06% ± 0.31%\n"
     ]
    }
   ],
   "source": [
    "print(\"Mean results with 95% confidence interval:\")\n",
    "print(f\"- Train accuracy: {mean_train_acc:.2%} ± {std_train_acc * 2:.2%}\")\n",
    "print(f\"-  Test accuracy: {mean_test_acc:.2%} ± {std_test_acc * 2:.2%}\")"
   ]
  }
 ],
 "metadata": {
  "kernelspec": {
   "display_name": "Python 3",
   "language": "python",
   "name": "python3"
  },
  "language_info": {
   "codemirror_mode": {
    "name": "ipython",
    "version": 3
   },
   "file_extension": ".py",
   "mimetype": "text/x-python",
   "name": "python",
   "nbconvert_exporter": "python",
   "pygments_lexer": "ipython3",
   "version": "3.11.9"
  }
 },
 "nbformat": 4,
 "nbformat_minor": 5
}
