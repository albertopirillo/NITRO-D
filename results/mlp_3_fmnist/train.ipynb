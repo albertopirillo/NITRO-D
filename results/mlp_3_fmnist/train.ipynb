{
 "cells": [
  {
   "cell_type": "markdown",
   "id": "3081df066748711b",
   "metadata": {},
   "source": [
    "# MLP 3 - FashionMNIST"
   ]
  },
  {
   "cell_type": "code",
   "execution_count": null,
   "id": "e582a1f102c5c554",
   "metadata": {
    "ExecuteTime": {
     "end_time": "2024-05-16T21:40:03.026752Z",
     "start_time": "2024-05-16T21:40:02.599556Z"
    }
   },
   "outputs": [],
   "source": [
    "import numpy as np\n",
    "import cupy as cp\n",
    "import pathlib\n",
    "import pickle\n",
    "import csv\n",
    "import sys"
   ]
  },
  {
   "cell_type": "code",
   "execution_count": null,
   "id": "a36c83d0",
   "metadata": {
    "ExecuteTime": {
     "end_time": "2024-05-16T21:40:03.031441Z",
     "start_time": "2024-05-16T21:40:03.027756Z"
    }
   },
   "outputs": [],
   "source": [
    "sys.path.append(str(pathlib.Path('../../').resolve()))"
   ]
  },
  {
   "cell_type": "code",
   "execution_count": null,
   "id": "4a5ce8e9a8902dff",
   "metadata": {
    "ExecuteTime": {
     "end_time": "2024-05-16T21:40:06.366038Z",
     "start_time": "2024-05-16T21:40:03.032460Z"
    }
   },
   "outputs": [],
   "source": [
    "from lib.experiments import train_test_experiment, build_MLP, build_augmentation_pipeline\n",
    "from lib.utils.enums import NonLinearity, Initialization, Dataset, OptimizerName\n",
    "from lib.utils.data import load_integer_dataset"
   ]
  },
  {
   "cell_type": "markdown",
   "id": "d1649196b987bc01",
   "metadata": {},
   "source": [
    "## Experiments config"
   ]
  },
  {
   "cell_type": "code",
   "execution_count": null,
   "id": "5859029d6a812144",
   "metadata": {
    "ExecuteTime": {
     "end_time": "2024-05-16T21:40:06.370394Z",
     "start_time": "2024-05-16T21:40:06.367058Z"
    }
   },
   "outputs": [],
   "source": [
    "num_fc_layers = 4\n",
    "num_fc_hidden = [1024, 1024, 1024]"
   ]
  },
  {
   "cell_type": "code",
   "execution_count": null,
   "id": "2d636533a1995025",
   "metadata": {
    "ExecuteTime": {
     "end_time": "2024-05-16T21:40:06.376370Z",
     "start_time": "2024-05-16T21:40:06.372401Z"
    }
   },
   "outputs": [],
   "source": [
    "dataset_config = dict(\n",
    "    dataset=Dataset.FASHION_MNIST.name,\n",
    "    subsample_ratio=1.0,\n",
    "    ohe_values=(0, 32),\n",
    "    data_augmentation=True,\n",
    "    normalize=True,\n",
    ")"
   ]
  },
  {
   "cell_type": "code",
   "execution_count": null,
   "id": "7d1cd09ad113de03",
   "metadata": {
    "ExecuteTime": {
     "end_time": "2024-05-16T21:40:06.381236Z",
     "start_time": "2024-05-16T21:40:06.377376Z"
    }
   },
   "outputs": [],
   "source": [
    "network_config = dict(\n",
    "    num_fc_layers=num_fc_layers,\n",
    "    num_fc_hidden=num_fc_hidden,\n",
    "    non_linearity=NonLinearity.NITRO_LEAKY_RELU.name,\n",
    "    init=Initialization.UNIFORM_KAIMING_LEAKY_RELU.name,\n",
    "    dropout_rate=0.0,\n",
    "    seed=42,\n",
    "    dtype='int32',\n",
    "    device='cuda',\n",
    "    local_loss='pred',\n",
    "    bias=False,\n",
    "    debug=False,\n",
    ")"
   ]
  },
  {
   "cell_type": "code",
   "execution_count": null,
   "id": "9e1722b88a039cfa",
   "metadata": {
    "ExecuteTime": {
     "end_time": "2024-05-16T21:40:06.386552Z",
     "start_time": "2024-05-16T21:40:06.382241Z"
    }
   },
   "outputs": [],
   "source": [
    "training_config = dict(\n",
    "    batch_size=64,\n",
    "    num_epochs=150,\n",
    "    lr_inv=512,\n",
    "    lr_amp_factor=640,\n",
    "    fwd_decay_inv=29_000,\n",
    "    subnet_decay_inv=6000,\n",
    "    optimizer=OptimizerName.INTEGER_SGD.name,\n",
    ")"
   ]
  },
  {
   "cell_type": "code",
   "execution_count": null,
   "id": "358a533d2ff9b822",
   "metadata": {
    "ExecuteTime": {
     "end_time": "2024-05-16T21:40:06.390517Z",
     "start_time": "2024-05-16T21:40:06.387559Z"
    }
   },
   "outputs": [],
   "source": [
    "config = dataset_config | network_config | training_config"
   ]
  },
  {
   "cell_type": "markdown",
   "id": "7d4ddf255216adb",
   "metadata": {},
   "source": [
    "## Run the configuration"
   ]
  },
  {
   "cell_type": "code",
   "execution_count": null,
   "id": "15b3c7d6b72d6db",
   "metadata": {
    "ExecuteTime": {
     "end_time": "2024-05-16T21:40:08.797944Z",
     "start_time": "2024-05-16T21:40:06.391524Z"
    }
   },
   "outputs": [],
   "source": [
    "# Show the data and the model\n",
    "dataset = load_integer_dataset(config, ohe_values=config[\"ohe_values\"], val_dim=0, show_images=True, data_path='../.data')\n",
    "X_train, _, _, y_train, _, _ = dataset"
   ]
  },
  {
   "cell_type": "code",
   "execution_count": null,
   "id": "9d424675633d629a",
   "metadata": {
    "ExecuteTime": {
     "end_time": "2024-05-16T21:40:08.929075Z",
     "start_time": "2024-05-16T21:40:08.799962Z"
    }
   },
   "outputs": [],
   "source": [
    "model = build_MLP(config, X_tr=X_train, y_tr=y_train)\n",
    "print(model.extra_repr(1))"
   ]
  },
  {
   "cell_type": "code",
   "execution_count": null,
   "id": "e4c1bb797582873b",
   "metadata": {
    "ExecuteTime": {
     "end_time": "2024-05-15T12:27:52.470933Z",
     "start_time": "2024-05-15T12:27:52.465522Z"
    }
   },
   "outputs": [],
   "source": [
    "def run_experiment(exp_config):\n",
    "    # Setup reproducibility\n",
    "    print(f\"{'-' * 64}\")\n",
    "    print(f\"Running experiment with seed {exp_config['seed']}...\")\n",
    "    np.random.seed(exp_config[\"seed\"])\n",
    "    cp.random.seed(exp_config[\"seed\"])\n",
    "    \n",
    "    # Load the dataset\n",
    "    data = load_integer_dataset(exp_config, ohe_values=exp_config[\"ohe_values\"], val_dim=0, show_images=False, show_log=False, data_path='../.data')\n",
    "    X_tr, _, X_test, y_tr, _, y_test = data\n",
    "\n",
    "    # Setup data augmentation\n",
    "    augmentation_pipeline = build_augmentation_pipeline(exp_config)\n",
    "    \n",
    "    # Build and train the model\n",
    "    m = build_MLP(exp_config, X_tr=X_tr, y_tr=y_tr)    \n",
    "    best_train_acc, best_test_acc = train_test_experiment(\n",
    "        m, exp_config, X_tr=X_tr, X_te=X_test, y_tr=y_tr, y_te=y_test,\n",
    "        augmentation_pipeline=augmentation_pipeline,\n",
    "        show_local_accuracies=False, show_progress_bar=False\n",
    "    )\n",
    "\n",
    "    # Append the results to a CSV file\n",
    "    with open('./results.csv', mode='a', newline='') as f:\n",
    "        writer = csv.writer(f)\n",
    "        writer.writerow([exp_config[\"seed\"], best_train_acc, best_test_acc])\n",
    "        \n",
    "    # Save the first model\n",
    "    if not pathlib.Path('model.pkl').exists():\n",
    "        with open('model.pkl', 'wb') as f:\n",
    "            pickle.dump(model, f)"
   ]
  },
  {
   "cell_type": "code",
   "execution_count": null,
   "id": "1977595faf571666",
   "metadata": {
    "ExecuteTime": {
     "end_time": "2024-05-15T12:31:49.998199Z",
     "start_time": "2024-05-15T12:27:52.471939Z"
    }
   },
   "outputs": [],
   "source": [
    "N_EXPERIMENTS = 10\n",
    "for i in range(N_EXPERIMENTS):\n",
    "    run_experiment(config)\n",
    "    config[\"seed\"] += 1"
   ]
  },
  {
   "cell_type": "markdown",
   "id": "a2c2e9a81e8f2a4f",
   "metadata": {},
   "source": [
    "## Aggregated results"
   ]
  },
  {
   "cell_type": "code",
   "execution_count": null,
   "id": "b3c9022e5a0a5b7a",
   "metadata": {
    "ExecuteTime": {
     "end_time": "2024-05-15T12:31:50.017488Z",
     "start_time": "2024-05-15T12:31:49.999311Z"
    }
   },
   "outputs": [],
   "source": [
    "with open('results.csv', mode='r') as file:\n",
    "    results = np.array(list(csv.reader(file)), dtype=np.float32)"
   ]
  },
  {
   "cell_type": "code",
   "execution_count": null,
   "id": "b87694d71ae859d1",
   "metadata": {
    "ExecuteTime": {
     "end_time": "2024-05-15T12:31:50.023015Z",
     "start_time": "2024-05-15T12:31:50.018601Z"
    }
   },
   "outputs": [],
   "source": [
    "# Compute mean and standard deviation\n",
    "mean_train_acc = np.mean(results[:,1])\n",
    "std_train_acc = np.std(results[:,1])\n",
    "mean_test_acc = np.mean(results[:,2])\n",
    "std_test_acc = np.std(results[:,2])"
   ]
  },
  {
   "cell_type": "code",
   "execution_count": null,
   "id": "5f60c5c5cbdedb8e",
   "metadata": {
    "ExecuteTime": {
     "end_time": "2024-05-15T12:31:50.029034Z",
     "start_time": "2024-05-15T12:31:50.024135Z"
    }
   },
   "outputs": [],
   "source": [
    "print(\"Mean results with 95% confidence interval:\")\n",
    "print(f\"- Train accuracy: {mean_train_acc:.2%} ± {std_train_acc * 2:.2%}\")\n",
    "print(f\"-  Test accuracy: {mean_test_acc:.2%} ± {std_test_acc * 2:.2%}\")"
   ]
  }
 ],
 "metadata": {
  "kernelspec": {
   "display_name": "Python 3",
   "language": "python",
   "name": "python3"
  },
  "language_info": {
   "codemirror_mode": {
    "name": "ipython",
    "version": 3
   },
   "file_extension": ".py",
   "mimetype": "text/x-python",
   "name": "python",
   "nbconvert_exporter": "python",
   "pygments_lexer": "ipython3",
   "version": "3.11.0rc1"
  }
 },
 "nbformat": 4,
 "nbformat_minor": 5
}
