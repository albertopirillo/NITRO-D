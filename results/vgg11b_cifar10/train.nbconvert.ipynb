{
 "cells": [
  {
   "cell_type": "markdown",
   "id": "3081df066748711b",
   "metadata": {},
   "source": [
    "# VGG11B - CIFAR-10"
   ]
  },
  {
   "cell_type": "code",
   "execution_count": 1,
   "id": "e582a1f102c5c554",
   "metadata": {
    "ExecuteTime": {
     "end_time": "2024-05-16T21:40:03.026752Z",
     "start_time": "2024-05-16T21:40:02.599556Z"
    },
    "execution": {
     "iopub.execute_input": "2024-05-17T13:12:10.524263Z",
     "iopub.status.busy": "2024-05-17T13:12:10.523694Z",
     "iopub.status.idle": "2024-05-17T13:12:10.946391Z",
     "shell.execute_reply": "2024-05-17T13:12:10.944412Z"
    }
   },
   "outputs": [],
   "source": [
    "import numpy as np\n",
    "import cupy as cp\n",
    "import pathlib\n",
    "import pickle\n",
    "import csv\n",
    "import sys"
   ]
  },
  {
   "cell_type": "code",
   "execution_count": 2,
   "id": "a36c83d0",
   "metadata": {
    "ExecuteTime": {
     "end_time": "2024-05-16T21:40:03.031441Z",
     "start_time": "2024-05-16T21:40:03.027756Z"
    },
    "execution": {
     "iopub.execute_input": "2024-05-17T13:12:10.952737Z",
     "iopub.status.busy": "2024-05-17T13:12:10.952412Z",
     "iopub.status.idle": "2024-05-17T13:12:10.958733Z",
     "shell.execute_reply": "2024-05-17T13:12:10.957114Z"
    }
   },
   "outputs": [],
   "source": [
    "sys.path.append(str(pathlib.Path('../../').resolve()))"
   ]
  },
  {
   "cell_type": "code",
   "execution_count": 3,
   "id": "4a5ce8e9a8902dff",
   "metadata": {
    "ExecuteTime": {
     "end_time": "2024-05-16T21:40:06.366038Z",
     "start_time": "2024-05-16T21:40:03.032460Z"
    },
    "execution": {
     "iopub.execute_input": "2024-05-17T13:12:10.964157Z",
     "iopub.status.busy": "2024-05-17T13:12:10.963896Z",
     "iopub.status.idle": "2024-05-17T13:12:13.992707Z",
     "shell.execute_reply": "2024-05-17T13:12:13.990729Z"
    }
   },
   "outputs": [],
   "source": [
    "from lib.experiments import train_test_experiment, build_CNN, build_augmentation_pipeline\n",
    "from lib.utils.enums import NonLinearity, Initialization, Dataset, OptimizerName\n",
    "from lib.utils.data import load_integer_dataset"
   ]
  },
  {
   "cell_type": "markdown",
   "id": "d1649196b987bc01",
   "metadata": {},
   "source": [
    "## Experiments config"
   ]
  },
  {
   "cell_type": "code",
   "execution_count": 4,
   "id": "5859029d6a812144",
   "metadata": {
    "ExecuteTime": {
     "end_time": "2024-05-16T21:40:06.370394Z",
     "start_time": "2024-05-16T21:40:06.367058Z"
    },
    "execution": {
     "iopub.execute_input": "2024-05-17T13:12:13.998738Z",
     "iopub.status.busy": "2024-05-17T13:12:13.998392Z",
     "iopub.status.idle": "2024-05-17T13:12:14.005654Z",
     "shell.execute_reply": "2024-05-17T13:12:14.004122Z"
    }
   },
   "outputs": [],
   "source": [
    "architecture = [\n",
    "    ('Conv2d', 128, 3, 1, 1),\n",
    "    ('Conv2d', 128, 3, 1, 1),\n",
    "    ('Conv2d', 128, 3, 1, 1),\n",
    "    ('Conv2d', 256, 3, 1, 1),\n",
    "    ('MaxPool2d', 2, 2),\n",
    "    ('Conv2d', 256, 3, 1, 1),\n",
    "    ('Conv2d', 512, 3, 1, 1),\n",
    "    ('MaxPool2d', 2, 2),\n",
    "    ('Conv2d', 512, 3, 1, 1),\n",
    "    ('Conv2d', 512, 3, 1, 1),\n",
    "    ('MaxPool2d', 2, 2),\n",
    "    ('Conv2d', 512, 3, 1, 1),\n",
    "    ('MaxPool2d', 2, 2),\n",
    "]\n",
    "num_fc_layers = 2\n",
    "num_fc_hidden = [1024]"
   ]
  },
  {
   "cell_type": "code",
   "execution_count": 5,
   "id": "2d636533a1995025",
   "metadata": {
    "ExecuteTime": {
     "end_time": "2024-05-16T21:40:06.376370Z",
     "start_time": "2024-05-16T21:40:06.372401Z"
    },
    "execution": {
     "iopub.execute_input": "2024-05-17T13:12:14.011272Z",
     "iopub.status.busy": "2024-05-17T13:12:14.011010Z",
     "iopub.status.idle": "2024-05-17T13:12:14.017160Z",
     "shell.execute_reply": "2024-05-17T13:12:14.015552Z"
    }
   },
   "outputs": [],
   "source": [
    "dataset_config = dict(\n",
    "    dataset=Dataset.CIFAR10.name,\n",
    "    subsample_ratio=1.0,\n",
    "    ohe_values=(0, 32),\n",
    "    data_augmentation=True,\n",
    "    normalize=True,\n",
    ")"
   ]
  },
  {
   "cell_type": "code",
   "execution_count": 6,
   "id": "7d1cd09ad113de03",
   "metadata": {
    "ExecuteTime": {
     "end_time": "2024-05-16T21:40:06.381236Z",
     "start_time": "2024-05-16T21:40:06.377376Z"
    },
    "execution": {
     "iopub.execute_input": "2024-05-17T13:12:14.023151Z",
     "iopub.status.busy": "2024-05-17T13:12:14.022828Z",
     "iopub.status.idle": "2024-05-17T13:12:14.030174Z",
     "shell.execute_reply": "2024-05-17T13:12:14.028359Z"
    }
   },
   "outputs": [],
   "source": [
    "network_config = dict(\n",
    "    architecture=architecture,\n",
    "    num_fc_layers=num_fc_layers,\n",
    "    num_fc_hidden=num_fc_hidden,\n",
    "    non_linearity=NonLinearity.NITRO_LEAKY_RELU.name,\n",
    "    init=Initialization.UNIFORM_KAIMING_LEAKY_RELU.name,\n",
    "    pred_decoder_dim=4096,\n",
    "    dropout_rate=0.0,\n",
    "    seed=42,\n",
    "    dtype='int32',\n",
    "    device='cuda',\n",
    "    local_loss='pred',\n",
    "    pooling_type='max',\n",
    "    bias=False,\n",
    "    debug=False,\n",
    ")"
   ]
  },
  {
   "cell_type": "code",
   "execution_count": 7,
   "id": "9e1722b88a039cfa",
   "metadata": {
    "ExecuteTime": {
     "end_time": "2024-05-16T21:40:06.386552Z",
     "start_time": "2024-05-16T21:40:06.382241Z"
    },
    "execution": {
     "iopub.execute_input": "2024-05-17T13:12:14.036077Z",
     "iopub.status.busy": "2024-05-17T13:12:14.035644Z",
     "iopub.status.idle": "2024-05-17T13:12:14.043495Z",
     "shell.execute_reply": "2024-05-17T13:12:14.041724Z"
    }
   },
   "outputs": [],
   "source": [
    "training_config = dict(\n",
    "    batch_size=64,\n",
    "    num_epochs=150,\n",
    "    lr_inv=512,\n",
    "    lr_amp_factor=640,\n",
    "    fwd_decay_inv=28_000,\n",
    "    subnet_decay_inv=4500,\n",
    "    optimizer=OptimizerName.INTEGER_SGD.name,\n",
    ")"
   ]
  },
  {
   "cell_type": "code",
   "execution_count": 8,
   "id": "358a533d2ff9b822",
   "metadata": {
    "ExecuteTime": {
     "end_time": "2024-05-16T21:40:06.390517Z",
     "start_time": "2024-05-16T21:40:06.387559Z"
    },
    "execution": {
     "iopub.execute_input": "2024-05-17T13:12:14.050162Z",
     "iopub.status.busy": "2024-05-17T13:12:14.049555Z",
     "iopub.status.idle": "2024-05-17T13:12:14.057142Z",
     "shell.execute_reply": "2024-05-17T13:12:14.055388Z"
    }
   },
   "outputs": [],
   "source": [
    "config = dataset_config | network_config | training_config"
   ]
  },
  {
   "cell_type": "markdown",
   "id": "7d4ddf255216adb",
   "metadata": {},
   "source": [
    "## Run the configuration"
   ]
  },
  {
   "cell_type": "code",
   "execution_count": 9,
   "id": "15b3c7d6b72d6db",
   "metadata": {
    "ExecuteTime": {
     "end_time": "2024-05-16T21:40:08.797944Z",
     "start_time": "2024-05-16T21:40:06.391524Z"
    },
    "execution": {
     "iopub.execute_input": "2024-05-17T13:12:14.063337Z",
     "iopub.status.busy": "2024-05-17T13:12:14.062845Z",
     "iopub.status.idle": "2024-05-17T13:13:28.055049Z",
     "shell.execute_reply": "2024-05-17T13:13:28.053291Z"
    }
   },
   "outputs": [
    {
     "name": "stdout",
     "output_type": "stream",
     "text": [
      "Downloading https://www.cs.toronto.edu/~kriz/cifar-10-python.tar.gz to ../.data/cifar-10-python.tar.gz\n"
     ]
    },
    {
     "name": "stderr",
     "output_type": "stream",
     "text": [
      "\r",
      "  0%|                                                               | 0/170498071 [00:00<?, ?it/s]"
     ]
    },
    {
     "name": "stderr",
     "output_type": "stream",
     "text": [
      "\r",
      "  0%|                                               | 32768/170498071 [00:00<08:47, 323331.76it/s]"
     ]
    },
    {
     "name": "stderr",
     "output_type": "stream",
     "text": [
      "\r",
      "  0%|                                               | 65536/170498071 [00:00<09:00, 315365.79it/s]"
     ]
    },
    {
     "name": "stderr",
     "output_type": "stream",
     "text": [
      "\r",
      "  0%|                                               | 98304/170498071 [00:00<09:02, 314201.41it/s]"
     ]
    },
    {
     "name": "stderr",
     "output_type": "stream",
     "text": [
      "\r",
      "  0%|                                              | 229376/170498071 [00:00<04:10, 680161.06it/s]"
     ]
    },
    {
     "name": "stderr",
     "output_type": "stream",
     "text": [
      "\r",
      "  0%|                                             | 425984/170498071 [00:00<02:33, 1108912.04it/s]"
     ]
    },
    {
     "name": "stderr",
     "output_type": "stream",
     "text": [
      "\r",
      "  1%|▏                                            | 884736/170498071 [00:00<01:16, 2207102.64it/s]"
     ]
    },
    {
     "name": "stderr",
     "output_type": "stream",
     "text": [
      "\r",
      "  1%|▍                                           | 1769472/170498071 [00:00<00:40, 4212635.93it/s]"
     ]
    },
    {
     "name": "stderr",
     "output_type": "stream",
     "text": [
      "\r",
      "  1%|▋                                           | 2457600/170498071 [00:00<00:42, 3955730.32it/s]"
     ]
    },
    {
     "name": "stderr",
     "output_type": "stream",
     "text": [
      "\r",
      "  3%|█                                           | 4292608/170498071 [00:01<00:22, 7523794.41it/s]"
     ]
    },
    {
     "name": "stderr",
     "output_type": "stream",
     "text": [
      "\r",
      "  3%|█▌                                          | 5963776/170498071 [00:01<00:16, 9801760.27it/s]"
     ]
    },
    {
     "name": "stderr",
     "output_type": "stream",
     "text": [
      "\r",
      "  4%|█▉                                          | 7503872/170498071 [00:01<00:19, 8544219.72it/s]"
     ]
    },
    {
     "name": "stderr",
     "output_type": "stream",
     "text": [
      "\r",
      "  5%|██▏                                         | 8617984/170498071 [00:01<00:17, 9120295.86it/s]"
     ]
    },
    {
     "name": "stderr",
     "output_type": "stream",
     "text": [
      "\r",
      "  6%|██▌                                       | 10649600/170498071 [00:01<00:13, 11606428.95it/s]"
     ]
    },
    {
     "name": "stderr",
     "output_type": "stream",
     "text": [
      "\r",
      "  7%|███                                        | 12124160/170498071 [00:01<00:16, 9516247.98it/s]"
     ]
    },
    {
     "name": "stderr",
     "output_type": "stream",
     "text": [
      "\r",
      "  8%|███▎                                       | 13271040/170498071 [00:01<00:16, 9811116.67it/s]"
     ]
    },
    {
     "name": "stderr",
     "output_type": "stream",
     "text": [
      "\r",
      "  9%|███▊                                      | 15630336/170498071 [00:01<00:11, 13006121.13it/s]"
     ]
    },
    {
     "name": "stderr",
     "output_type": "stream",
     "text": [
      "\r",
      " 10%|████▏                                     | 17104896/170498071 [00:02<00:14, 10251739.19it/s]"
     ]
    },
    {
     "name": "stderr",
     "output_type": "stream",
     "text": [
      "\r",
      " 11%|████▌                                     | 18546688/170498071 [00:02<00:13, 11100153.50it/s]"
     ]
    },
    {
     "name": "stderr",
     "output_type": "stream",
     "text": [
      "\r",
      " 12%|████▉                                     | 19824640/170498071 [00:02<00:13, 10996426.35it/s]"
     ]
    },
    {
     "name": "stderr",
     "output_type": "stream",
     "text": [
      "\r",
      " 12%|█████▎                                     | 21069824/170498071 [00:02<00:16, 8891263.43it/s]"
     ]
    },
    {
     "name": "stderr",
     "output_type": "stream",
     "text": [
      "\r",
      " 13%|█████▌                                     | 22118400/170498071 [00:02<00:16, 9017911.99it/s]"
     ]
    },
    {
     "name": "stderr",
     "output_type": "stream",
     "text": [
      "\r",
      " 14%|█████▊                                     | 23134208/170498071 [00:02<00:16, 9067311.53it/s]"
     ]
    },
    {
     "name": "stderr",
     "output_type": "stream",
     "text": [
      "\r",
      " 14%|██████                                     | 24117248/170498071 [00:02<00:16, 9044098.52it/s]"
     ]
    },
    {
     "name": "stderr",
     "output_type": "stream",
     "text": [
      "\r",
      " 15%|██████▎                                    | 25100288/170498071 [00:03<00:16, 9023110.43it/s]"
     ]
    },
    {
     "name": "stderr",
     "output_type": "stream",
     "text": [
      "\r",
      " 15%|██████▌                                    | 26050560/170498071 [00:03<00:16, 8932120.59it/s]"
     ]
    },
    {
     "name": "stderr",
     "output_type": "stream",
     "text": [
      "\r",
      " 16%|██████▊                                    | 26968064/170498071 [00:03<00:19, 7383588.72it/s]"
     ]
    },
    {
     "name": "stderr",
     "output_type": "stream",
     "text": [
      "\r",
      " 16%|███████                                    | 27885568/170498071 [00:03<00:18, 7636956.98it/s]"
     ]
    },
    {
     "name": "stderr",
     "output_type": "stream",
     "text": [
      "\r",
      " 17%|███████▎                                   | 28770304/170498071 [00:03<00:18, 7738025.45it/s]"
     ]
    },
    {
     "name": "stderr",
     "output_type": "stream",
     "text": [
      "\r",
      " 17%|███████▍                                   | 29655040/170498071 [00:03<00:17, 7905610.42it/s]"
     ]
    },
    {
     "name": "stderr",
     "output_type": "stream",
     "text": [
      "\r",
      " 18%|███████▋                                   | 30539776/170498071 [00:03<00:17, 8052150.77it/s]"
     ]
    },
    {
     "name": "stderr",
     "output_type": "stream",
     "text": [
      "\r",
      " 18%|███████▉                                   | 31457280/170498071 [00:03<00:16, 8184367.86it/s]"
     ]
    },
    {
     "name": "stderr",
     "output_type": "stream",
     "text": [
      "\r",
      " 19%|████████▏                                  | 32374784/170498071 [00:04<00:16, 8279732.37it/s]"
     ]
    },
    {
     "name": "stderr",
     "output_type": "stream",
     "text": [
      "\r",
      " 19%|████████▍                                  | 33226752/170498071 [00:04<00:22, 6001160.34it/s]"
     ]
    },
    {
     "name": "stderr",
     "output_type": "stream",
     "text": [
      "\r",
      " 21%|████████▉                                  | 35323904/170498071 [00:04<00:14, 9315144.07it/s]"
     ]
    },
    {
     "name": "stderr",
     "output_type": "stream",
     "text": [
      "\r",
      " 21%|█████████▏                                 | 36438016/170498071 [00:04<00:17, 7677266.52it/s]"
     ]
    },
    {
     "name": "stderr",
     "output_type": "stream",
     "text": [
      "\r",
      " 22%|█████████▍                                 | 37388288/170498071 [00:04<00:17, 7784934.66it/s]"
     ]
    },
    {
     "name": "stderr",
     "output_type": "stream",
     "text": [
      "\r",
      " 22%|█████████▋                                 | 38305792/170498071 [00:04<00:19, 6756387.62it/s]"
     ]
    },
    {
     "name": "stderr",
     "output_type": "stream",
     "text": [
      "\r",
      " 23%|█████████▊                                 | 39092224/170498071 [00:05<00:19, 6734661.64it/s]"
     ]
    },
    {
     "name": "stderr",
     "output_type": "stream",
     "text": [
      "\r",
      " 23%|██████████                                 | 39845888/170498071 [00:05<00:19, 6751025.35it/s]"
     ]
    },
    {
     "name": "stderr",
     "output_type": "stream",
     "text": [
      "\r",
      " 24%|██████████▏                                | 40599552/170498071 [00:05<00:19, 6797093.85it/s]"
     ]
    },
    {
     "name": "stderr",
     "output_type": "stream",
     "text": [
      "\r",
      " 24%|██████████▍                                | 41320448/170498071 [00:05<00:19, 6670001.57it/s]"
     ]
    },
    {
     "name": "stderr",
     "output_type": "stream",
     "text": [
      "\r",
      " 25%|██████████▌                                | 42041344/170498071 [00:05<00:19, 6678648.85it/s]"
     ]
    },
    {
     "name": "stderr",
     "output_type": "stream",
     "text": [
      "\r",
      " 25%|██████████▊                                | 42729472/170498071 [00:05<00:19, 6653902.97it/s]"
     ]
    },
    {
     "name": "stderr",
     "output_type": "stream",
     "text": [
      "\r",
      " 25%|██████████▉                                | 43417600/170498071 [00:05<00:19, 6619699.76it/s]"
     ]
    },
    {
     "name": "stderr",
     "output_type": "stream",
     "text": [
      "\r",
      " 26%|███████████                                | 44105728/170498071 [00:05<00:19, 6595982.63it/s]"
     ]
    },
    {
     "name": "stderr",
     "output_type": "stream",
     "text": [
      "\r",
      " 26%|███████████▎                               | 44793856/170498071 [00:05<00:19, 6583353.66it/s]"
     ]
    },
    {
     "name": "stderr",
     "output_type": "stream",
     "text": [
      "\r",
      " 27%|███████████▍                               | 45481984/170498071 [00:05<00:19, 6532888.63it/s]"
     ]
    },
    {
     "name": "stderr",
     "output_type": "stream",
     "text": [
      "\r",
      " 27%|███████████▋                               | 46170112/170498071 [00:06<00:18, 6603722.58it/s]"
     ]
    },
    {
     "name": "stderr",
     "output_type": "stream",
     "text": [
      "\r",
      " 27%|███████████▊                               | 46858240/170498071 [00:06<00:18, 6562610.04it/s]"
     ]
    },
    {
     "name": "stderr",
     "output_type": "stream",
     "text": [
      "\r",
      " 28%|███████████▉                               | 47579136/170498071 [00:06<00:18, 6657040.36it/s]"
     ]
    },
    {
     "name": "stderr",
     "output_type": "stream",
     "text": [
      "\r",
      " 28%|████████████▏                              | 48300032/170498071 [00:06<00:18, 6782128.74it/s]"
     ]
    },
    {
     "name": "stderr",
     "output_type": "stream",
     "text": [
      "\r",
      " 29%|████████████▎                              | 49020928/170498071 [00:06<00:17, 6854189.42it/s]"
     ]
    },
    {
     "name": "stderr",
     "output_type": "stream",
     "text": [
      "\r",
      " 29%|████████████▌                              | 49774592/170498071 [00:06<00:17, 6898433.86it/s]"
     ]
    },
    {
     "name": "stderr",
     "output_type": "stream",
     "text": [
      "\r",
      " 30%|████████████▋                              | 50528256/170498071 [00:06<00:17, 6908880.12it/s]"
     ]
    },
    {
     "name": "stderr",
     "output_type": "stream",
     "text": [
      "\r",
      " 30%|████████████▉                              | 51281920/170498071 [00:06<00:17, 6971019.69it/s]"
     ]
    },
    {
     "name": "stderr",
     "output_type": "stream",
     "text": [
      "\r",
      " 31%|█████████████                              | 52035584/170498071 [00:06<00:16, 6971344.42it/s]"
     ]
    },
    {
     "name": "stderr",
     "output_type": "stream",
     "text": [
      "\r",
      " 31%|█████████████▎                             | 52789248/170498071 [00:07<00:16, 6997244.17it/s]"
     ]
    },
    {
     "name": "stderr",
     "output_type": "stream",
     "text": [
      "\r",
      " 31%|█████████████▌                             | 53542912/170498071 [00:07<00:16, 7077693.48it/s]"
     ]
    },
    {
     "name": "stderr",
     "output_type": "stream",
     "text": [
      "\r",
      " 32%|█████████████▋                             | 54296576/170498071 [00:07<00:16, 7092590.84it/s]"
     ]
    },
    {
     "name": "stderr",
     "output_type": "stream",
     "text": [
      "\r",
      " 32%|█████████████▉                             | 55083008/170498071 [00:07<00:16, 7056426.48it/s]"
     ]
    },
    {
     "name": "stderr",
     "output_type": "stream",
     "text": [
      "\r",
      " 33%|██████████████                             | 55836672/170498071 [00:07<00:16, 7109168.71it/s]"
     ]
    },
    {
     "name": "stderr",
     "output_type": "stream",
     "text": [
      "\r",
      " 33%|██████████████▎                            | 56623104/170498071 [00:07<00:15, 7118965.56it/s]"
     ]
    },
    {
     "name": "stderr",
     "output_type": "stream",
     "text": [
      "\r",
      " 34%|██████████████▍                            | 57376768/170498071 [00:07<00:15, 7168489.52it/s]"
     ]
    },
    {
     "name": "stderr",
     "output_type": "stream",
     "text": [
      "\r",
      " 34%|██████████████▋                            | 58163200/170498071 [00:07<00:15, 7186008.30it/s]"
     ]
    },
    {
     "name": "stderr",
     "output_type": "stream",
     "text": [
      "\r",
      " 35%|██████████████▊                            | 58916864/170498071 [00:07<00:15, 7246228.24it/s]"
     ]
    },
    {
     "name": "stderr",
     "output_type": "stream",
     "text": [
      "\r",
      " 35%|███████████████                            | 59703296/170498071 [00:07<00:15, 7212869.30it/s]"
     ]
    },
    {
     "name": "stderr",
     "output_type": "stream",
     "text": [
      "\r",
      " 35%|███████████████▎                           | 60489728/170498071 [00:08<00:15, 7226270.12it/s]"
     ]
    },
    {
     "name": "stderr",
     "output_type": "stream",
     "text": [
      "\r",
      " 36%|███████████████▍                           | 61243392/170498071 [00:08<00:23, 4642140.86it/s]"
     ]
    },
    {
     "name": "stderr",
     "output_type": "stream",
     "text": [
      "\r",
      " 37%|███████████████▉                           | 63307776/170498071 [00:08<00:13, 7834798.76it/s]"
     ]
    },
    {
     "name": "stderr",
     "output_type": "stream",
     "text": [
      "\r",
      " 38%|████████████████▏                          | 64323584/170498071 [00:08<00:14, 7486484.93it/s]"
     ]
    },
    {
     "name": "stderr",
     "output_type": "stream",
     "text": [
      "\r",
      " 38%|████████████████▍                          | 65241088/170498071 [00:08<00:16, 6421202.47it/s]"
     ]
    },
    {
     "name": "stderr",
     "output_type": "stream",
     "text": [
      "\r",
      " 39%|████████████████▋                          | 66027520/170498071 [00:08<00:16, 6482799.70it/s]"
     ]
    },
    {
     "name": "stderr",
     "output_type": "stream",
     "text": [
      "\r",
      " 39%|████████████████▊                          | 66781184/170498071 [00:09<00:18, 5600887.97it/s]"
     ]
    },
    {
     "name": "stderr",
     "output_type": "stream",
     "text": [
      "\r",
      " 40%|█████████████████                          | 67436544/170498071 [00:09<00:18, 5666516.04it/s]"
     ]
    },
    {
     "name": "stderr",
     "output_type": "stream",
     "text": [
      "\r",
      " 40%|█████████████████▏                         | 68059136/170498071 [00:09<00:17, 5692084.78it/s]"
     ]
    },
    {
     "name": "stderr",
     "output_type": "stream",
     "text": [
      "\r",
      " 40%|█████████████████▎                         | 68681728/170498071 [00:09<00:17, 5709314.47it/s]"
     ]
    },
    {
     "name": "stderr",
     "output_type": "stream",
     "text": [
      "\r",
      " 41%|█████████████████▍                         | 69304320/170498071 [00:09<00:17, 5724921.81it/s]"
     ]
    },
    {
     "name": "stderr",
     "output_type": "stream",
     "text": [
      "\r",
      " 41%|█████████████████▋                         | 69926912/170498071 [00:09<00:17, 5736612.32it/s]"
     ]
    },
    {
     "name": "stderr",
     "output_type": "stream",
     "text": [
      "\r",
      " 41%|█████████████████▊                         | 70516736/170498071 [00:09<00:17, 5714793.45it/s]"
     ]
    },
    {
     "name": "stderr",
     "output_type": "stream",
     "text": [
      "\r",
      " 42%|█████████████████▉                         | 71106560/170498071 [00:09<00:17, 5684311.69it/s]"
     ]
    },
    {
     "name": "stderr",
     "output_type": "stream",
     "text": [
      "\r",
      " 42%|██████████████████                         | 71696384/170498071 [00:10<00:17, 5661799.48it/s]"
     ]
    },
    {
     "name": "stderr",
     "output_type": "stream",
     "text": [
      "\r",
      " 42%|██████████████████▏                        | 72286208/170498071 [00:10<00:17, 5671577.51it/s]"
     ]
    },
    {
     "name": "stderr",
     "output_type": "stream",
     "text": [
      "\r",
      " 43%|██████████████████▍                        | 72876032/170498071 [00:10<00:17, 5676713.92it/s]"
     ]
    },
    {
     "name": "stderr",
     "output_type": "stream",
     "text": [
      "\r",
      " 43%|██████████████████▌                        | 73465856/170498071 [00:10<00:17, 5685704.30it/s]"
     ]
    },
    {
     "name": "stderr",
     "output_type": "stream",
     "text": [
      "\r",
      " 43%|██████████████████▋                        | 74055680/170498071 [00:10<00:16, 5674862.93it/s]"
     ]
    },
    {
     "name": "stderr",
     "output_type": "stream",
     "text": [
      "\r",
      " 44%|██████████████████▊                        | 74645504/170498071 [00:10<00:16, 5678181.77it/s]"
     ]
    },
    {
     "name": "stderr",
     "output_type": "stream",
     "text": [
      "\r",
      " 44%|██████████████████▉                        | 75268096/170498071 [00:10<00:16, 5766074.22it/s]"
     ]
    },
    {
     "name": "stderr",
     "output_type": "stream",
     "text": [
      "\r",
      " 45%|███████████████████▏                       | 75890688/170498071 [00:10<00:16, 5856671.66it/s]"
     ]
    },
    {
     "name": "stderr",
     "output_type": "stream",
     "text": [
      "\r",
      " 45%|███████████████████▎                       | 76513280/170498071 [00:10<00:15, 5933137.27it/s]"
     ]
    },
    {
     "name": "stderr",
     "output_type": "stream",
     "text": [
      "\r",
      " 45%|███████████████████▍                       | 77168640/170498071 [00:10<00:15, 5904750.24it/s]"
     ]
    },
    {
     "name": "stderr",
     "output_type": "stream",
     "text": [
      "\r",
      " 46%|███████████████████▋                       | 77824000/170498071 [00:11<00:15, 5928569.54it/s]"
     ]
    },
    {
     "name": "stderr",
     "output_type": "stream",
     "text": [
      "\r",
      " 46%|███████████████████▊                       | 78479360/170498071 [00:11<00:15, 5968846.64it/s]"
     ]
    },
    {
     "name": "stderr",
     "output_type": "stream",
     "text": [
      "\r",
      " 46%|███████████████████▉                       | 79101952/170498071 [00:11<00:15, 5997139.15it/s]"
     ]
    },
    {
     "name": "stderr",
     "output_type": "stream",
     "text": [
      "\r",
      " 47%|████████████████████                       | 79757312/170498071 [00:11<00:15, 6024677.50it/s]"
     ]
    },
    {
     "name": "stderr",
     "output_type": "stream",
     "text": [
      "\r",
      " 47%|████████████████████▎                      | 80412672/170498071 [00:11<00:14, 6035645.33it/s]"
     ]
    },
    {
     "name": "stderr",
     "output_type": "stream",
     "text": [
      "\r",
      " 48%|████████████████████▍                      | 81068032/170498071 [00:11<00:14, 6045691.59it/s]"
     ]
    },
    {
     "name": "stderr",
     "output_type": "stream",
     "text": [
      "\r",
      " 48%|████████████████████▌                      | 81723392/170498071 [00:11<00:14, 6087125.13it/s]"
     ]
    },
    {
     "name": "stderr",
     "output_type": "stream",
     "text": [
      "\r",
      " 48%|████████████████████▊                      | 82378752/170498071 [00:11<00:14, 6084340.49it/s]"
     ]
    },
    {
     "name": "stderr",
     "output_type": "stream",
     "text": [
      "\r",
      " 49%|████████████████████▉                      | 83034112/170498071 [00:11<00:14, 6109630.81it/s]"
     ]
    },
    {
     "name": "stderr",
     "output_type": "stream",
     "text": [
      "\r",
      " 49%|█████████████████████                      | 83689472/170498071 [00:12<00:14, 6131761.94it/s]"
     ]
    },
    {
     "name": "stderr",
     "output_type": "stream",
     "text": [
      "\r",
      " 49%|█████████████████████▎                     | 84344832/170498071 [00:12<00:14, 6064839.57it/s]"
     ]
    },
    {
     "name": "stderr",
     "output_type": "stream",
     "text": [
      "\r",
      " 50%|█████████████████████▍                     | 85000192/170498071 [00:12<00:13, 6154250.44it/s]"
     ]
    },
    {
     "name": "stderr",
     "output_type": "stream",
     "text": [
      "\r",
      " 50%|█████████████████████▌                     | 85655552/170498071 [00:12<00:13, 6192219.70it/s]"
     ]
    },
    {
     "name": "stderr",
     "output_type": "stream",
     "text": [
      "\r",
      " 51%|█████████████████████▊                     | 86310912/170498071 [00:12<00:13, 6161937.24it/s]"
     ]
    },
    {
     "name": "stderr",
     "output_type": "stream",
     "text": [
      "\r",
      " 51%|█████████████████████▉                     | 86966272/170498071 [00:12<00:13, 6200282.12it/s]"
     ]
    },
    {
     "name": "stderr",
     "output_type": "stream",
     "text": [
      "\r",
      " 51%|██████████████████████                     | 87621632/170498071 [00:12<00:13, 6196898.25it/s]"
     ]
    },
    {
     "name": "stderr",
     "output_type": "stream",
     "text": [
      "\r",
      " 52%|██████████████████████▎                    | 88276992/170498071 [00:12<00:13, 6178668.16it/s]"
     ]
    },
    {
     "name": "stderr",
     "output_type": "stream",
     "text": [
      "\r",
      " 52%|██████████████████████▍                    | 88932352/170498071 [00:12<00:13, 6190279.20it/s]"
     ]
    },
    {
     "name": "stderr",
     "output_type": "stream",
     "text": [
      "\r",
      " 53%|██████████████████████▌                    | 89587712/170498071 [00:12<00:13, 6169879.83it/s]"
     ]
    },
    {
     "name": "stderr",
     "output_type": "stream",
     "text": [
      "\r",
      " 53%|██████████████████████▊                    | 90243072/170498071 [00:13<00:13, 6148171.34it/s]"
     ]
    },
    {
     "name": "stderr",
     "output_type": "stream",
     "text": [
      "\r",
      " 53%|██████████████████████▉                    | 90898432/170498071 [00:13<00:12, 6155560.56it/s]"
     ]
    },
    {
     "name": "stderr",
     "output_type": "stream",
     "text": [
      "\r",
      " 54%|███████████████████████                    | 91553792/170498071 [00:13<00:12, 6166291.07it/s]"
     ]
    },
    {
     "name": "stderr",
     "output_type": "stream",
     "text": [
      "\r",
      " 54%|███████████████████████▎                   | 92209152/170498071 [00:13<00:12, 6141640.32it/s]"
     ]
    },
    {
     "name": "stderr",
     "output_type": "stream",
     "text": [
      "\r",
      " 54%|███████████████████████▍                   | 92864512/170498071 [00:13<00:12, 6189670.17it/s]"
     ]
    },
    {
     "name": "stderr",
     "output_type": "stream",
     "text": [
      "\r",
      " 55%|███████████████████████▌                   | 93552640/170498071 [00:13<00:12, 6138680.76it/s]"
     ]
    },
    {
     "name": "stderr",
     "output_type": "stream",
     "text": [
      "\r",
      " 55%|███████████████████████▊                   | 94208000/170498071 [00:13<00:12, 6124959.23it/s]"
     ]
    },
    {
     "name": "stderr",
     "output_type": "stream",
     "text": [
      "\r",
      " 56%|███████████████████████▉                   | 94863360/170498071 [00:13<00:12, 6186906.04it/s]"
     ]
    },
    {
     "name": "stderr",
     "output_type": "stream",
     "text": [
      "\r",
      " 56%|████████████████████████                   | 95518720/170498071 [00:13<00:12, 6204080.53it/s]"
     ]
    },
    {
     "name": "stderr",
     "output_type": "stream",
     "text": [
      "\r",
      " 56%|████████████████████████▎                  | 96174080/170498071 [00:14<00:11, 6246048.11it/s]"
     ]
    },
    {
     "name": "stderr",
     "output_type": "stream",
     "text": [
      "\r",
      " 57%|████████████████████████▍                  | 96829440/170498071 [00:14<00:11, 6224778.41it/s]"
     ]
    },
    {
     "name": "stderr",
     "output_type": "stream",
     "text": [
      "\r",
      " 57%|████████████████████████▌                  | 97484800/170498071 [00:14<00:19, 3830695.32it/s]"
     ]
    },
    {
     "name": "stderr",
     "output_type": "stream",
     "text": [
      "\r",
      " 58%|█████████████████████████                  | 99254272/170498071 [00:14<00:10, 6501920.44it/s]"
     ]
    },
    {
     "name": "stderr",
     "output_type": "stream",
     "text": [
      "\r",
      " 59%|████████████████████████▋                 | 100106240/170498071 [00:14<00:12, 5754103.96it/s]"
     ]
    },
    {
     "name": "stderr",
     "output_type": "stream",
     "text": [
      "\r",
      " 59%|████████████████████████▊                 | 100827136/170498071 [00:14<00:13, 5305605.89it/s]"
     ]
    },
    {
     "name": "stderr",
     "output_type": "stream",
     "text": [
      "\r",
      " 60%|████████████████████████▉                 | 101482496/170498071 [00:15<00:18, 3671197.20it/s]"
     ]
    },
    {
     "name": "stderr",
     "output_type": "stream",
     "text": [
      "\r",
      " 60%|█████████████████████████▎                | 102793216/170498071 [00:15<00:13, 5130878.92it/s]"
     ]
    },
    {
     "name": "stderr",
     "output_type": "stream",
     "text": [
      "\r",
      " 61%|█████████████████████████▍                | 103514112/170498071 [00:15<00:14, 4528142.30it/s]"
     ]
    },
    {
     "name": "stderr",
     "output_type": "stream",
     "text": [
      "\r",
      " 61%|█████████████████████████▋                | 104136704/170498071 [00:15<00:18, 3593059.09it/s]"
     ]
    },
    {
     "name": "stderr",
     "output_type": "stream",
     "text": [
      "\r",
      " 61%|█████████████████████████▊                | 104693760/170498071 [00:16<00:21, 3061177.38it/s]"
     ]
    },
    {
     "name": "stderr",
     "output_type": "stream",
     "text": [
      "\r",
      " 62%|█████████████████████████▉                | 105414656/170498071 [00:16<00:18, 3571187.38it/s]"
     ]
    },
    {
     "name": "stderr",
     "output_type": "stream",
     "text": [
      "\r",
      " 62%|██████████████████████████                | 105873408/170498071 [00:16<00:21, 2980247.95it/s]"
     ]
    },
    {
     "name": "stderr",
     "output_type": "stream",
     "text": [
      "\r",
      " 62%|██████████████████████████▏               | 106266624/170498071 [00:16<00:26, 2383214.67it/s]"
     ]
    },
    {
     "name": "stderr",
     "output_type": "stream",
     "text": [
      "\r",
      " 63%|██████████████████████████▎               | 106594304/170498071 [00:16<00:26, 2390065.26it/s]"
     ]
    },
    {
     "name": "stderr",
     "output_type": "stream",
     "text": [
      "\r",
      " 63%|██████████████████████████▎               | 106889216/170498071 [00:17<00:30, 2081915.60it/s]"
     ]
    },
    {
     "name": "stderr",
     "output_type": "stream",
     "text": [
      "\r",
      " 63%|██████████████████████████▍               | 107151360/170498071 [00:17<00:33, 1911688.80it/s]"
     ]
    },
    {
     "name": "stderr",
     "output_type": "stream",
     "text": [
      "\r",
      " 63%|██████████████████████████▍               | 107380736/170498071 [00:17<00:35, 1794339.96it/s]"
     ]
    },
    {
     "name": "stderr",
     "output_type": "stream",
     "text": [
      "\r",
      " 63%|██████████████████████████▌               | 107577344/170498071 [00:17<00:50, 1257753.15it/s]"
     ]
    },
    {
     "name": "stderr",
     "output_type": "stream",
     "text": [
      "\r",
      " 63%|██████████████████████████▌               | 108003328/170498071 [00:18<00:37, 1656686.33it/s]"
     ]
    },
    {
     "name": "stderr",
     "output_type": "stream",
     "text": [
      "\r",
      " 63%|██████████████████████████▋               | 108232704/170498071 [00:18<00:42, 1476666.82it/s]"
     ]
    },
    {
     "name": "stderr",
     "output_type": "stream",
     "text": [
      "\r",
      " 64%|██████████████████████████▋               | 108429312/170498071 [00:18<00:45, 1375801.35it/s]"
     ]
    },
    {
     "name": "stderr",
     "output_type": "stream",
     "text": [
      "\r",
      " 64%|██████████████████████████▊               | 108593152/170498071 [00:18<00:46, 1345101.29it/s]"
     ]
    },
    {
     "name": "stderr",
     "output_type": "stream",
     "text": [
      "\r",
      " 64%|██████████████████████████▊               | 108756992/170498071 [00:18<00:47, 1303763.52it/s]"
     ]
    },
    {
     "name": "stderr",
     "output_type": "stream",
     "text": [
      "\r",
      " 64%|██████████████████████████▊               | 108920832/170498071 [00:18<00:49, 1243407.12it/s]"
     ]
    },
    {
     "name": "stderr",
     "output_type": "stream",
     "text": [
      "\r",
      " 64%|██████████████████████████▊               | 109051904/170498071 [00:18<00:50, 1221475.18it/s]"
     ]
    },
    {
     "name": "stderr",
     "output_type": "stream",
     "text": [
      "\r",
      " 64%|██████████████████████████▉               | 109182976/170498071 [00:19<00:49, 1241216.90it/s]"
     ]
    },
    {
     "name": "stderr",
     "output_type": "stream",
     "text": [
      "\r",
      " 64%|██████████████████████████▉               | 109314048/170498071 [00:19<00:50, 1213878.09it/s]"
     ]
    },
    {
     "name": "stderr",
     "output_type": "stream",
     "text": [
      "\r",
      " 64%|██████████████████████████▉               | 109477888/170498071 [00:19<00:48, 1260990.28it/s]"
     ]
    },
    {
     "name": "stderr",
     "output_type": "stream",
     "text": [
      "\r",
      " 64%|███████████████████████████               | 109608960/170498071 [00:19<00:48, 1247948.79it/s]"
     ]
    },
    {
     "name": "stderr",
     "output_type": "stream",
     "text": [
      "\r",
      " 64%|███████████████████████████               | 109740032/170498071 [00:19<00:48, 1251869.72it/s]"
     ]
    },
    {
     "name": "stderr",
     "output_type": "stream",
     "text": [
      "\r",
      " 64%|███████████████████████████               | 109871104/170498071 [00:19<00:48, 1246674.99it/s]"
     ]
    },
    {
     "name": "stderr",
     "output_type": "stream",
     "text": [
      "\r",
      " 65%|███████████████████████████               | 110002176/170498071 [00:19<00:48, 1236627.76it/s]"
     ]
    },
    {
     "name": "stderr",
     "output_type": "stream",
     "text": [
      "\r",
      " 65%|███████████████████████████▏              | 110166016/170498071 [00:19<00:48, 1250439.46it/s]"
     ]
    },
    {
     "name": "stderr",
     "output_type": "stream",
     "text": [
      "\r",
      " 65%|███████████████████████████▏              | 110297088/170498071 [00:19<00:48, 1241103.82it/s]"
     ]
    },
    {
     "name": "stderr",
     "output_type": "stream",
     "text": [
      "\r",
      " 65%|███████████████████████████▏              | 110428160/170498071 [00:20<00:48, 1242478.69it/s]"
     ]
    },
    {
     "name": "stderr",
     "output_type": "stream",
     "text": [
      "\r",
      " 65%|███████████████████████████▏              | 110592000/170498071 [00:20<00:45, 1314822.08it/s]"
     ]
    },
    {
     "name": "stderr",
     "output_type": "stream",
     "text": [
      "\r",
      " 65%|███████████████████████████▎              | 110755840/170498071 [00:20<00:47, 1251603.37it/s]"
     ]
    },
    {
     "name": "stderr",
     "output_type": "stream",
     "text": [
      "\r",
      " 65%|███████████████████████████▎              | 110919680/170498071 [00:20<00:46, 1282898.77it/s]"
     ]
    },
    {
     "name": "stderr",
     "output_type": "stream",
     "text": [
      "\r",
      " 65%|███████████████████████████▎              | 111050752/170498071 [00:20<00:46, 1268105.77it/s]"
     ]
    },
    {
     "name": "stderr",
     "output_type": "stream",
     "text": [
      "\r",
      " 65%|███████████████████████████▍              | 111181824/170498071 [00:20<00:46, 1262685.82it/s]"
     ]
    },
    {
     "name": "stderr",
     "output_type": "stream",
     "text": [
      "\r",
      " 65%|███████████████████████████▍              | 111312896/170498071 [00:20<00:47, 1243874.96it/s]"
     ]
    },
    {
     "name": "stderr",
     "output_type": "stream",
     "text": [
      "\r",
      " 65%|███████████████████████████▍              | 111443968/170498071 [00:20<00:47, 1236864.94it/s]"
     ]
    },
    {
     "name": "stderr",
     "output_type": "stream",
     "text": [
      "\r",
      " 65%|███████████████████████████▍              | 111607808/170498071 [00:20<00:47, 1242105.08it/s]"
     ]
    },
    {
     "name": "stderr",
     "output_type": "stream",
     "text": [
      "\r",
      " 66%|███████████████████████████▌              | 111738880/170498071 [00:21<00:47, 1240608.88it/s]"
     ]
    },
    {
     "name": "stderr",
     "output_type": "stream",
     "text": [
      "\r",
      " 66%|███████████████████████████▌              | 111902720/170498071 [00:21<00:44, 1302156.85it/s]"
     ]
    },
    {
     "name": "stderr",
     "output_type": "stream",
     "text": [
      "\r",
      " 66%|███████████████████████████▌              | 112033792/170498071 [00:21<00:45, 1278542.36it/s]"
     ]
    },
    {
     "name": "stderr",
     "output_type": "stream",
     "text": [
      "\r",
      " 66%|███████████████████████████▋              | 112164864/170498071 [00:21<00:45, 1272035.16it/s]"
     ]
    },
    {
     "name": "stderr",
     "output_type": "stream",
     "text": [
      "\r",
      " 66%|███████████████████████████▋              | 112295936/170498071 [00:21<00:46, 1262138.03it/s]"
     ]
    },
    {
     "name": "stderr",
     "output_type": "stream",
     "text": [
      "\r",
      " 66%|███████████████████████████▋              | 112427008/170498071 [00:21<00:46, 1246674.97it/s]"
     ]
    },
    {
     "name": "stderr",
     "output_type": "stream",
     "text": [
      "\r",
      " 66%|███████████████████████████▋              | 112558080/170498071 [00:21<00:47, 1222147.06it/s]"
     ]
    },
    {
     "name": "stderr",
     "output_type": "stream",
     "text": [
      "\r",
      " 66%|███████████████████████████▊              | 112689152/170498071 [00:21<00:47, 1222894.30it/s]"
     ]
    },
    {
     "name": "stderr",
     "output_type": "stream",
     "text": [
      "\r",
      " 66%|████████████████████████████▍              | 112820224/170498071 [00:22<01:11, 807002.96it/s]"
     ]
    },
    {
     "name": "stderr",
     "output_type": "stream",
     "text": [
      "\r",
      " 66%|███████████████████████████▉              | 113180672/170498071 [00:22<00:42, 1350423.61it/s]"
     ]
    },
    {
     "name": "stderr",
     "output_type": "stream",
     "text": [
      "\r",
      " 66%|███████████████████████████▉              | 113377280/170498071 [00:22<00:47, 1202246.38it/s]"
     ]
    },
    {
     "name": "stderr",
     "output_type": "stream",
     "text": [
      "\r",
      " 67%|███████████████████████████▉              | 113541120/170498071 [00:22<00:49, 1147102.92it/s]"
     ]
    },
    {
     "name": "stderr",
     "output_type": "stream",
     "text": [
      "\r",
      " 67%|████████████████████████████              | 113704960/170498071 [00:22<00:49, 1137084.99it/s]"
     ]
    },
    {
     "name": "stderr",
     "output_type": "stream",
     "text": [
      "\r",
      " 67%|████████████████████████████              | 113836032/170498071 [00:22<00:53, 1064676.03it/s]"
     ]
    },
    {
     "name": "stderr",
     "output_type": "stream",
     "text": [
      "\r",
      " 67%|████████████████████████████              | 113967104/170498071 [00:23<00:51, 1098188.03it/s]"
     ]
    },
    {
     "name": "stderr",
     "output_type": "stream",
     "text": [
      "\r",
      " 67%|████████████████████████████              | 114098176/170498071 [00:23<00:50, 1126012.20it/s]"
     ]
    },
    {
     "name": "stderr",
     "output_type": "stream",
     "text": [
      "\r",
      " 67%|████████████████████████████▏             | 114229248/170498071 [00:23<00:49, 1147728.22it/s]"
     ]
    },
    {
     "name": "stderr",
     "output_type": "stream",
     "text": [
      "\r",
      " 67%|████████████████████████████▏             | 114360320/170498071 [00:23<00:49, 1126490.50it/s]"
     ]
    },
    {
     "name": "stderr",
     "output_type": "stream",
     "text": [
      "\r",
      " 67%|████████████████████████████▏             | 114491392/170498071 [00:23<00:48, 1151490.52it/s]"
     ]
    },
    {
     "name": "stderr",
     "output_type": "stream",
     "text": [
      "\r",
      " 67%|████████████████████████████▏             | 114622464/170498071 [00:23<00:47, 1173805.22it/s]"
     ]
    },
    {
     "name": "stderr",
     "output_type": "stream",
     "text": [
      "\r",
      " 67%|████████████████████████████▎             | 114753536/170498071 [00:23<00:47, 1184910.66it/s]"
     ]
    },
    {
     "name": "stderr",
     "output_type": "stream",
     "text": [
      "\r",
      " 67%|████████████████████████████▎             | 114884608/170498071 [00:23<00:46, 1199086.00it/s]"
     ]
    },
    {
     "name": "stderr",
     "output_type": "stream",
     "text": [
      "\r",
      " 67%|████████████████████████████▎             | 115015680/170498071 [00:23<00:45, 1218095.24it/s]"
     ]
    },
    {
     "name": "stderr",
     "output_type": "stream",
     "text": [
      "\r",
      " 68%|████████████████████████████▎             | 115146752/170498071 [00:24<00:45, 1213052.93it/s]"
     ]
    },
    {
     "name": "stderr",
     "output_type": "stream",
     "text": [
      "\r",
      " 68%|████████████████████████████▍             | 115310592/170498071 [00:24<00:44, 1237650.07it/s]"
     ]
    },
    {
     "name": "stderr",
     "output_type": "stream",
     "text": [
      "\r",
      " 68%|████████████████████████████▍             | 115441664/170498071 [00:24<00:44, 1237530.78it/s]"
     ]
    },
    {
     "name": "stderr",
     "output_type": "stream",
     "text": [
      "\r",
      " 68%|████████████████████████████▍             | 115572736/170498071 [00:24<00:44, 1243785.09it/s]"
     ]
    },
    {
     "name": "stderr",
     "output_type": "stream",
     "text": [
      "\r",
      " 68%|████████████████████████████▌             | 115736576/170498071 [00:24<00:43, 1270666.10it/s]"
     ]
    },
    {
     "name": "stderr",
     "output_type": "stream",
     "text": [
      "\r",
      " 68%|████████████████████████████▌             | 115867648/170498071 [00:24<00:42, 1277654.64it/s]"
     ]
    },
    {
     "name": "stderr",
     "output_type": "stream",
     "text": [
      "\r",
      " 68%|████████████████████████████▌             | 116031488/170498071 [00:24<00:41, 1318541.50it/s]"
     ]
    },
    {
     "name": "stderr",
     "output_type": "stream",
     "text": [
      "\r",
      " 68%|████████████████████████████▌             | 116195328/170498071 [00:24<00:43, 1244682.81it/s]"
     ]
    },
    {
     "name": "stderr",
     "output_type": "stream",
     "text": [
      "\r",
      " 68%|████████████████████████████▋             | 116359168/170498071 [00:24<00:41, 1315162.45it/s]"
     ]
    },
    {
     "name": "stderr",
     "output_type": "stream",
     "text": [
      "\r",
      " 68%|████████████████████████████▋             | 116523008/170498071 [00:25<00:40, 1317902.31it/s]"
     ]
    },
    {
     "name": "stderr",
     "output_type": "stream",
     "text": [
      "\r",
      " 68%|████████████████████████████▋             | 116686848/170498071 [00:25<00:41, 1312138.28it/s]"
     ]
    },
    {
     "name": "stderr",
     "output_type": "stream",
     "text": [
      "\r",
      " 69%|████████████████████████████▊             | 116850688/170498071 [00:25<00:40, 1318112.99it/s]"
     ]
    },
    {
     "name": "stderr",
     "output_type": "stream",
     "text": [
      "\r",
      " 69%|████████████████████████████▊             | 117014528/170498071 [00:25<00:39, 1355489.46it/s]"
     ]
    },
    {
     "name": "stderr",
     "output_type": "stream",
     "text": [
      "\r",
      " 69%|████████████████████████████▊             | 117178368/170498071 [00:25<00:41, 1275327.72it/s]"
     ]
    },
    {
     "name": "stderr",
     "output_type": "stream",
     "text": [
      "\r",
      " 69%|████████████████████████████▉             | 117342208/170498071 [00:25<00:40, 1321611.55it/s]"
     ]
    },
    {
     "name": "stderr",
     "output_type": "stream",
     "text": [
      "\r",
      " 69%|████████████████████████████▉             | 117506048/170498071 [00:25<00:40, 1312942.70it/s]"
     ]
    },
    {
     "name": "stderr",
     "output_type": "stream",
     "text": [
      "\r",
      " 69%|████████████████████████████▉             | 117669888/170498071 [00:25<00:40, 1300199.97it/s]"
     ]
    },
    {
     "name": "stderr",
     "output_type": "stream",
     "text": [
      "\r",
      " 69%|█████████████████████████████             | 117833728/170498071 [00:26<00:39, 1324918.71it/s]"
     ]
    },
    {
     "name": "stderr",
     "output_type": "stream",
     "text": [
      "\r",
      " 69%|█████████████████████████████             | 117997568/170498071 [00:26<00:38, 1353400.22it/s]"
     ]
    },
    {
     "name": "stderr",
     "output_type": "stream",
     "text": [
      "\r",
      " 69%|█████████████████████████████             | 118161408/170498071 [00:26<00:41, 1272445.67it/s]"
     ]
    },
    {
     "name": "stderr",
     "output_type": "stream",
     "text": [
      "\r",
      " 69%|█████████████████████████████▏            | 118325248/170498071 [00:26<00:39, 1336580.28it/s]"
     ]
    },
    {
     "name": "stderr",
     "output_type": "stream",
     "text": [
      "\r",
      " 69%|█████████████████████████████▏            | 118489088/170498071 [00:26<00:37, 1382166.75it/s]"
     ]
    },
    {
     "name": "stderr",
     "output_type": "stream",
     "text": [
      "\r",
      " 70%|█████████████████████████████▏            | 118652928/170498071 [00:26<00:38, 1350702.40it/s]"
     ]
    },
    {
     "name": "stderr",
     "output_type": "stream",
     "text": [
      "\r",
      " 70%|█████████████████████████████▎            | 118816768/170498071 [00:26<00:39, 1310928.04it/s]"
     ]
    },
    {
     "name": "stderr",
     "output_type": "stream",
     "text": [
      "\r",
      " 70%|█████████████████████████████▎            | 118980608/170498071 [00:26<00:38, 1339342.81it/s]"
     ]
    },
    {
     "name": "stderr",
     "output_type": "stream",
     "text": [
      "\r",
      " 70%|█████████████████████████████▎            | 119144448/170498071 [00:27<00:40, 1257479.44it/s]"
     ]
    },
    {
     "name": "stderr",
     "output_type": "stream",
     "text": [
      "\r",
      " 70%|█████████████████████████████▍            | 119308288/170498071 [00:27<00:38, 1325398.33it/s]"
     ]
    },
    {
     "name": "stderr",
     "output_type": "stream",
     "text": [
      "\r",
      " 70%|█████████████████████████████▍            | 119472128/170498071 [00:27<00:37, 1374919.59it/s]"
     ]
    },
    {
     "name": "stderr",
     "output_type": "stream",
     "text": [
      "\r",
      " 70%|█████████████████████████████▍            | 119635968/170498071 [00:27<00:37, 1353769.26it/s]"
     ]
    },
    {
     "name": "stderr",
     "output_type": "stream",
     "text": [
      "\r",
      " 70%|█████████████████████████████▌            | 119799808/170498071 [00:27<00:38, 1323830.53it/s]"
     ]
    },
    {
     "name": "stderr",
     "output_type": "stream",
     "text": [
      "\r",
      " 70%|█████████████████████████████▌            | 119963648/170498071 [00:27<00:37, 1348342.72it/s]"
     ]
    },
    {
     "name": "stderr",
     "output_type": "stream",
     "text": [
      "\r",
      " 70%|█████████████████████████████▌            | 120127488/170498071 [00:27<00:37, 1349261.50it/s]"
     ]
    },
    {
     "name": "stderr",
     "output_type": "stream",
     "text": [
      "\r",
      " 71%|█████████████████████████████▋            | 120291328/170498071 [00:27<00:38, 1288997.65it/s]"
     ]
    },
    {
     "name": "stderr",
     "output_type": "stream",
     "text": [
      "\r",
      " 71%|█████████████████████████████▋            | 120422400/170498071 [00:28<00:39, 1282127.19it/s]"
     ]
    },
    {
     "name": "stderr",
     "output_type": "stream",
     "text": [
      "\r",
      " 71%|█████████████████████████████▋            | 120586240/170498071 [00:28<00:37, 1318133.59it/s]"
     ]
    },
    {
     "name": "stderr",
     "output_type": "stream",
     "text": [
      "\r",
      " 71%|█████████████████████████████▋            | 120750080/170498071 [00:28<00:36, 1357331.16it/s]"
     ]
    },
    {
     "name": "stderr",
     "output_type": "stream",
     "text": [
      "\r",
      " 71%|█████████████████████████████▊            | 120913920/170498071 [00:28<00:36, 1350063.96it/s]"
     ]
    },
    {
     "name": "stderr",
     "output_type": "stream",
     "text": [
      "\r",
      " 71%|█████████████████████████████▊            | 121077760/170498071 [00:28<00:37, 1331348.31it/s]"
     ]
    },
    {
     "name": "stderr",
     "output_type": "stream",
     "text": [
      "\r",
      " 71%|█████████████████████████████▊            | 121241600/170498071 [00:28<00:36, 1359333.57it/s]"
     ]
    },
    {
     "name": "stderr",
     "output_type": "stream",
     "text": [
      "\r",
      " 71%|█████████████████████████████▉            | 121405440/170498071 [00:28<00:35, 1381889.20it/s]"
     ]
    },
    {
     "name": "stderr",
     "output_type": "stream",
     "text": [
      "\r",
      " 71%|█████████████████████████████▉            | 121569280/170498071 [00:28<00:35, 1360656.81it/s]"
     ]
    },
    {
     "name": "stderr",
     "output_type": "stream",
     "text": [
      "\r",
      " 71%|█████████████████████████████▉            | 121733120/170498071 [00:28<00:35, 1371083.67it/s]"
     ]
    },
    {
     "name": "stderr",
     "output_type": "stream",
     "text": [
      "\r",
      " 71%|██████████████████████████████            | 121896960/170498071 [00:29<00:36, 1322709.47it/s]"
     ]
    },
    {
     "name": "stderr",
     "output_type": "stream",
     "text": [
      "\r",
      " 72%|██████████████████████████████            | 122060800/170498071 [00:29<00:35, 1368660.29it/s]"
     ]
    },
    {
     "name": "stderr",
     "output_type": "stream",
     "text": [
      "\r",
      " 72%|██████████████████████████████            | 122224640/170498071 [00:29<00:34, 1393659.61it/s]"
     ]
    },
    {
     "name": "stderr",
     "output_type": "stream",
     "text": [
      "\r",
      " 72%|██████████████████████████████▏           | 122388480/170498071 [00:29<00:33, 1421017.73it/s]"
     ]
    },
    {
     "name": "stderr",
     "output_type": "stream",
     "text": [
      "\r",
      " 72%|██████████████████████████████▏           | 122552320/170498071 [00:29<00:33, 1436893.96it/s]"
     ]
    },
    {
     "name": "stderr",
     "output_type": "stream",
     "text": [
      "\r",
      " 72%|██████████████████████████████▏           | 122716160/170498071 [00:29<00:32, 1461049.98it/s]"
     ]
    },
    {
     "name": "stderr",
     "output_type": "stream",
     "text": [
      "\r",
      " 72%|██████████████████████████████▎           | 122880000/170498071 [00:29<00:32, 1478616.71it/s]"
     ]
    },
    {
     "name": "stderr",
     "output_type": "stream",
     "text": [
      "\r",
      " 72%|██████████████████████████████▎           | 123043840/170498071 [00:29<00:31, 1498879.03it/s]"
     ]
    },
    {
     "name": "stderr",
     "output_type": "stream",
     "text": [
      "\r",
      " 72%|██████████████████████████████▎           | 123207680/170498071 [00:29<00:31, 1524682.88it/s]"
     ]
    },
    {
     "name": "stderr",
     "output_type": "stream",
     "text": [
      "\r",
      " 72%|██████████████████████████████▍           | 123371520/170498071 [00:30<00:30, 1531969.57it/s]"
     ]
    },
    {
     "name": "stderr",
     "output_type": "stream",
     "text": [
      "\r",
      " 72%|██████████████████████████████▍           | 123535360/170498071 [00:30<00:30, 1555583.75it/s]"
     ]
    },
    {
     "name": "stderr",
     "output_type": "stream",
     "text": [
      "\r",
      " 73%|██████████████████████████████▍           | 123699200/170498071 [00:30<00:30, 1553196.73it/s]"
     ]
    },
    {
     "name": "stderr",
     "output_type": "stream",
     "text": [
      "\r",
      " 73%|██████████████████████████████▌           | 123863040/170498071 [00:30<00:29, 1572414.37it/s]"
     ]
    },
    {
     "name": "stderr",
     "output_type": "stream",
     "text": [
      "\r",
      " 73%|██████████████████████████████▌           | 124026880/170498071 [00:30<00:42, 1085410.12it/s]"
     ]
    },
    {
     "name": "stderr",
     "output_type": "stream",
     "text": [
      "\r",
      " 73%|██████████████████████████████▋           | 124420096/170498071 [00:30<00:27, 1694137.14it/s]"
     ]
    },
    {
     "name": "stderr",
     "output_type": "stream",
     "text": [
      "\r",
      " 73%|██████████████████████████████▋           | 124649472/170498071 [00:30<00:29, 1539388.67it/s]"
     ]
    },
    {
     "name": "stderr",
     "output_type": "stream",
     "text": [
      "\r",
      " 73%|██████████████████████████████▊           | 124846080/170498071 [00:31<00:30, 1500546.10it/s]"
     ]
    },
    {
     "name": "stderr",
     "output_type": "stream",
     "text": [
      "\r",
      " 73%|██████████████████████████████▊           | 125042688/170498071 [00:31<00:32, 1396460.43it/s]"
     ]
    },
    {
     "name": "stderr",
     "output_type": "stream",
     "text": [
      "\r",
      " 73%|██████████████████████████████▊           | 125206528/170498071 [00:31<00:32, 1414790.71it/s]"
     ]
    },
    {
     "name": "stderr",
     "output_type": "stream",
     "text": [
      "\r",
      " 74%|██████████████████████████████▉           | 125370368/170498071 [00:31<00:31, 1419124.40it/s]"
     ]
    },
    {
     "name": "stderr",
     "output_type": "stream",
     "text": [
      "\r",
      " 74%|██████████████████████████████▉           | 125534208/170498071 [00:31<00:31, 1445115.56it/s]"
     ]
    },
    {
     "name": "stderr",
     "output_type": "stream",
     "text": [
      "\r",
      " 74%|██████████████████████████████▉           | 125698048/170498071 [00:31<00:30, 1458264.11it/s]"
     ]
    },
    {
     "name": "stderr",
     "output_type": "stream",
     "text": [
      "\r",
      " 74%|███████████████████████████████           | 125861888/170498071 [00:31<00:30, 1482862.79it/s]"
     ]
    },
    {
     "name": "stderr",
     "output_type": "stream",
     "text": [
      "\r",
      " 74%|███████████████████████████████           | 126025728/170498071 [00:31<00:31, 1409195.60it/s]"
     ]
    },
    {
     "name": "stderr",
     "output_type": "stream",
     "text": [
      "\r",
      " 74%|███████████████████████████████           | 126222336/170498071 [00:32<00:29, 1489669.89it/s]"
     ]
    },
    {
     "name": "stderr",
     "output_type": "stream",
     "text": [
      "\r",
      " 74%|███████████████████████████████▏          | 126386176/170498071 [00:32<00:29, 1496166.56it/s]"
     ]
    },
    {
     "name": "stderr",
     "output_type": "stream",
     "text": [
      "\r",
      " 74%|███████████████████████████████▏          | 126550016/170498071 [00:32<00:28, 1519296.84it/s]"
     ]
    },
    {
     "name": "stderr",
     "output_type": "stream",
     "text": [
      "\r",
      " 74%|███████████████████████████████▏          | 126713856/170498071 [00:32<00:28, 1527333.60it/s]"
     ]
    },
    {
     "name": "stderr",
     "output_type": "stream",
     "text": [
      "\r",
      " 74%|███████████████████████████████▎          | 126910464/170498071 [00:32<00:27, 1572981.67it/s]"
     ]
    },
    {
     "name": "stderr",
     "output_type": "stream",
     "text": [
      "\r",
      " 75%|███████████████████████████████▎          | 127107072/170498071 [00:32<00:28, 1515094.99it/s]"
     ]
    },
    {
     "name": "stderr",
     "output_type": "stream",
     "text": [
      "\r",
      " 75%|███████████████████████████████▎          | 127303680/170498071 [00:32<00:27, 1572626.24it/s]"
     ]
    },
    {
     "name": "stderr",
     "output_type": "stream",
     "text": [
      "\r",
      " 75%|███████████████████████████████▍          | 127467520/170498071 [00:32<00:27, 1572726.18it/s]"
     ]
    },
    {
     "name": "stderr",
     "output_type": "stream",
     "text": [
      "\r",
      " 75%|███████████████████████████████▍          | 127664128/170498071 [00:32<00:26, 1617725.14it/s]"
     ]
    },
    {
     "name": "stderr",
     "output_type": "stream",
     "text": [
      "\r",
      " 75%|███████████████████████████████▍          | 127827968/170498071 [00:33<00:26, 1623125.82it/s]"
     ]
    },
    {
     "name": "stderr",
     "output_type": "stream",
     "text": [
      "\r",
      " 75%|███████████████████████████████▌          | 128024576/170498071 [00:33<00:25, 1656145.35it/s]"
     ]
    },
    {
     "name": "stderr",
     "output_type": "stream",
     "text": [
      "\r",
      " 75%|███████████████████████████████▌          | 128221184/170498071 [00:33<00:24, 1696458.74it/s]"
     ]
    },
    {
     "name": "stderr",
     "output_type": "stream",
     "text": [
      "\r",
      " 75%|███████████████████████████████▋          | 128417792/170498071 [00:33<00:25, 1658320.40it/s]"
     ]
    },
    {
     "name": "stderr",
     "output_type": "stream",
     "text": [
      "\r",
      " 75%|███████████████████████████████▋          | 128614400/170498071 [00:33<00:24, 1703895.29it/s]"
     ]
    },
    {
     "name": "stderr",
     "output_type": "stream",
     "text": [
      "\r",
      " 76%|███████████████████████████████▋          | 128811008/170498071 [00:33<00:24, 1693295.98it/s]"
     ]
    },
    {
     "name": "stderr",
     "output_type": "stream",
     "text": [
      "\r",
      " 76%|███████████████████████████████▊          | 129007616/170498071 [00:33<00:24, 1703592.58it/s]"
     ]
    },
    {
     "name": "stderr",
     "output_type": "stream",
     "text": [
      "\r",
      " 76%|███████████████████████████████▊          | 129204224/170498071 [00:33<00:23, 1735232.69it/s]"
     ]
    },
    {
     "name": "stderr",
     "output_type": "stream",
     "text": [
      "\r",
      " 76%|███████████████████████████████▉          | 129400832/170498071 [00:33<00:23, 1729194.40it/s]"
     ]
    },
    {
     "name": "stderr",
     "output_type": "stream",
     "text": [
      "\r",
      " 76%|███████████████████████████████▉          | 129597440/170498071 [00:34<00:23, 1739133.19it/s]"
     ]
    },
    {
     "name": "stderr",
     "output_type": "stream",
     "text": [
      "\r",
      " 76%|███████████████████████████████▉          | 129794048/170498071 [00:34<00:24, 1636984.79it/s]"
     ]
    },
    {
     "name": "stderr",
     "output_type": "stream",
     "text": [
      "\r",
      " 76%|████████████████████████████████          | 129990656/170498071 [00:34<00:24, 1678933.12it/s]"
     ]
    },
    {
     "name": "stderr",
     "output_type": "stream",
     "text": [
      "\r",
      " 76%|████████████████████████████████          | 130187264/170498071 [00:34<00:23, 1695449.87it/s]"
     ]
    },
    {
     "name": "stderr",
     "output_type": "stream",
     "text": [
      "\r",
      " 76%|████████████████████████████████          | 130383872/170498071 [00:34<00:23, 1731665.11it/s]"
     ]
    },
    {
     "name": "stderr",
     "output_type": "stream",
     "text": [
      "\r",
      " 77%|████████████████████████████████▏         | 130580480/170498071 [00:34<00:22, 1751334.26it/s]"
     ]
    },
    {
     "name": "stderr",
     "output_type": "stream",
     "text": [
      "\r",
      " 77%|████████████████████████████████▏         | 130777088/170498071 [00:34<00:22, 1739293.62it/s]"
     ]
    },
    {
     "name": "stderr",
     "output_type": "stream",
     "text": [
      "\r",
      " 77%|████████████████████████████████▎         | 130973696/170498071 [00:34<00:22, 1721573.49it/s]"
     ]
    },
    {
     "name": "stderr",
     "output_type": "stream",
     "text": [
      "\r",
      " 77%|████████████████████████████████▎         | 131170304/170498071 [00:34<00:23, 1704443.94it/s]"
     ]
    },
    {
     "name": "stderr",
     "output_type": "stream",
     "text": [
      "\r",
      " 77%|████████████████████████████████▎         | 131366912/170498071 [00:35<00:22, 1736381.97it/s]"
     ]
    },
    {
     "name": "stderr",
     "output_type": "stream",
     "text": [
      "\r",
      " 77%|████████████████████████████████▍         | 131563520/170498071 [00:35<00:22, 1740263.97it/s]"
     ]
    },
    {
     "name": "stderr",
     "output_type": "stream",
     "text": [
      "\r",
      " 77%|████████████████████████████████▍         | 131760128/170498071 [00:35<00:22, 1751352.15it/s]"
     ]
    },
    {
     "name": "stderr",
     "output_type": "stream",
     "text": [
      "\r",
      " 77%|████████████████████████████████▌         | 131956736/170498071 [00:35<00:21, 1772184.99it/s]"
     ]
    },
    {
     "name": "stderr",
     "output_type": "stream",
     "text": [
      "\r",
      " 78%|████████████████████████████████▌         | 132153344/170498071 [00:35<00:22, 1726536.60it/s]"
     ]
    },
    {
     "name": "stderr",
     "output_type": "stream",
     "text": [
      "\r",
      " 78%|████████████████████████████████▌         | 132349952/170498071 [00:35<00:21, 1740338.82it/s]"
     ]
    },
    {
     "name": "stderr",
     "output_type": "stream",
     "text": [
      "\r",
      " 78%|████████████████████████████████▋         | 132546560/170498071 [00:35<00:23, 1625025.00it/s]"
     ]
    },
    {
     "name": "stderr",
     "output_type": "stream",
     "text": [
      "\r",
      " 78%|████████████████████████████████▋         | 132743168/170498071 [00:35<00:22, 1669631.59it/s]"
     ]
    },
    {
     "name": "stderr",
     "output_type": "stream",
     "text": [
      "\r",
      " 78%|████████████████████████████████▋         | 132939776/170498071 [00:36<00:22, 1689660.91it/s]"
     ]
    },
    {
     "name": "stderr",
     "output_type": "stream",
     "text": [
      "\r",
      " 78%|████████████████████████████████▊         | 133136384/170498071 [00:36<00:21, 1710018.32it/s]"
     ]
    },
    {
     "name": "stderr",
     "output_type": "stream",
     "text": [
      "\r",
      " 78%|████████████████████████████████▊         | 133332992/170498071 [00:36<00:21, 1743122.73it/s]"
     ]
    },
    {
     "name": "stderr",
     "output_type": "stream",
     "text": [
      "\r",
      " 78%|████████████████████████████████▉         | 133529600/170498071 [00:36<00:21, 1684797.70it/s]"
     ]
    },
    {
     "name": "stderr",
     "output_type": "stream",
     "text": [
      "\r",
      " 78%|████████████████████████████████▉         | 133726208/170498071 [00:36<00:21, 1706116.51it/s]"
     ]
    },
    {
     "name": "stderr",
     "output_type": "stream",
     "text": [
      "\r",
      " 79%|████████████████████████████████▉         | 133922816/170498071 [00:36<00:21, 1701615.81it/s]"
     ]
    },
    {
     "name": "stderr",
     "output_type": "stream",
     "text": [
      "\r",
      " 79%|█████████████████████████████████         | 134119424/170498071 [00:36<00:21, 1719707.25it/s]"
     ]
    },
    {
     "name": "stderr",
     "output_type": "stream",
     "text": [
      "\r",
      " 79%|█████████████████████████████████         | 134316032/170498071 [00:36<00:20, 1735191.80it/s]"
     ]
    },
    {
     "name": "stderr",
     "output_type": "stream",
     "text": [
      "\r",
      " 79%|█████████████████████████████████▏        | 134512640/170498071 [00:36<00:20, 1730930.05it/s]"
     ]
    },
    {
     "name": "stderr",
     "output_type": "stream",
     "text": [
      "\r",
      " 79%|█████████████████████████████████▏        | 134709248/170498071 [00:37<00:20, 1728886.32it/s]"
     ]
    },
    {
     "name": "stderr",
     "output_type": "stream",
     "text": [
      "\r",
      " 79%|█████████████████████████████████▏        | 134905856/170498071 [00:37<00:20, 1729977.61it/s]"
     ]
    },
    {
     "name": "stderr",
     "output_type": "stream",
     "text": [
      "\r",
      " 79%|█████████████████████████████████▎        | 135102464/170498071 [00:37<00:20, 1749423.92it/s]"
     ]
    },
    {
     "name": "stderr",
     "output_type": "stream",
     "text": [
      "\r",
      " 79%|█████████████████████████████████▎        | 135299072/170498071 [00:37<00:20, 1691595.18it/s]"
     ]
    },
    {
     "name": "stderr",
     "output_type": "stream",
     "text": [
      "\r",
      " 79%|█████████████████████████████████▍        | 135495680/170498071 [00:37<00:20, 1686997.94it/s]"
     ]
    },
    {
     "name": "stderr",
     "output_type": "stream",
     "text": [
      "\r",
      " 80%|█████████████████████████████████▍        | 135692288/170498071 [00:37<00:20, 1702994.58it/s]"
     ]
    },
    {
     "name": "stderr",
     "output_type": "stream",
     "text": [
      "\r",
      " 80%|█████████████████████████████████▍        | 135888896/170498071 [00:37<00:20, 1723569.20it/s]"
     ]
    },
    {
     "name": "stderr",
     "output_type": "stream",
     "text": [
      "\r",
      " 80%|█████████████████████████████████▌        | 136085504/170498071 [00:37<00:19, 1752860.57it/s]"
     ]
    },
    {
     "name": "stderr",
     "output_type": "stream",
     "text": [
      "\r",
      " 80%|█████████████████████████████████▌        | 136282112/170498071 [00:37<00:19, 1760040.57it/s]"
     ]
    },
    {
     "name": "stderr",
     "output_type": "stream",
     "text": [
      "\r",
      " 80%|█████████████████████████████████▌        | 136478720/170498071 [00:38<00:19, 1783789.58it/s]"
     ]
    },
    {
     "name": "stderr",
     "output_type": "stream",
     "text": [
      "\r",
      " 80%|█████████████████████████████████▋        | 136675328/170498071 [00:38<00:18, 1784521.65it/s]"
     ]
    },
    {
     "name": "stderr",
     "output_type": "stream",
     "text": [
      "\r",
      " 80%|█████████████████████████████████▋        | 136871936/170498071 [00:38<00:18, 1784597.55it/s]"
     ]
    },
    {
     "name": "stderr",
     "output_type": "stream",
     "text": [
      "\r",
      " 80%|█████████████████████████████████▊        | 137068544/170498071 [00:38<00:18, 1810357.38it/s]"
     ]
    },
    {
     "name": "stderr",
     "output_type": "stream",
     "text": [
      "\r",
      " 81%|█████████████████████████████████▊        | 137265152/170498071 [00:38<00:18, 1821498.26it/s]"
     ]
    },
    {
     "name": "stderr",
     "output_type": "stream",
     "text": [
      "\r",
      " 81%|█████████████████████████████████▊        | 137461760/170498071 [00:38<00:28, 1147527.81it/s]"
     ]
    },
    {
     "name": "stderr",
     "output_type": "stream",
     "text": [
      "\r",
      " 81%|█████████████████████████████████▉        | 137953280/170498071 [00:38<00:17, 1860277.74it/s]"
     ]
    },
    {
     "name": "stderr",
     "output_type": "stream",
     "text": [
      "\r",
      " 81%|██████████████████████████████████        | 138215424/170498071 [00:39<00:18, 1751872.31it/s]"
     ]
    },
    {
     "name": "stderr",
     "output_type": "stream",
     "text": [
      "\r",
      " 81%|██████████████████████████████████        | 138444800/170498071 [00:39<00:19, 1638036.28it/s]"
     ]
    },
    {
     "name": "stderr",
     "output_type": "stream",
     "text": [
      "\r",
      " 81%|██████████████████████████████████▏       | 138641408/170498071 [00:39<00:19, 1613968.31it/s]"
     ]
    },
    {
     "name": "stderr",
     "output_type": "stream",
     "text": [
      "\r",
      " 81%|██████████████████████████████████▏       | 138838016/170498071 [00:39<00:19, 1628681.38it/s]"
     ]
    },
    {
     "name": "stderr",
     "output_type": "stream",
     "text": [
      "\r",
      " 82%|██████████████████████████████████▏       | 139034624/170498071 [00:39<00:19, 1588305.50it/s]"
     ]
    },
    {
     "name": "stderr",
     "output_type": "stream",
     "text": [
      "\r",
      " 82%|██████████████████████████████████▎       | 139231232/170498071 [00:39<00:20, 1545785.86it/s]"
     ]
    },
    {
     "name": "stderr",
     "output_type": "stream",
     "text": [
      "\r",
      " 82%|██████████████████████████████████▎       | 139427840/170498071 [00:39<00:19, 1588267.81it/s]"
     ]
    },
    {
     "name": "stderr",
     "output_type": "stream",
     "text": [
      "\r",
      " 82%|██████████████████████████████████▍       | 139624448/170498071 [00:40<00:19, 1611407.71it/s]"
     ]
    },
    {
     "name": "stderr",
     "output_type": "stream",
     "text": [
      "\r",
      " 82%|██████████████████████████████████▍       | 139821056/170498071 [00:40<00:18, 1636327.28it/s]"
     ]
    },
    {
     "name": "stderr",
     "output_type": "stream",
     "text": [
      "\r",
      " 82%|██████████████████████████████████▍       | 140017664/170498071 [00:40<00:18, 1676615.31it/s]"
     ]
    },
    {
     "name": "stderr",
     "output_type": "stream",
     "text": [
      "\r",
      " 82%|██████████████████████████████████▌       | 140214272/170498071 [00:40<00:17, 1699618.67it/s]"
     ]
    },
    {
     "name": "stderr",
     "output_type": "stream",
     "text": [
      "\r",
      " 82%|██████████████████████████████████▌       | 140410880/170498071 [00:40<00:17, 1724366.64it/s]"
     ]
    },
    {
     "name": "stderr",
     "output_type": "stream",
     "text": [
      "\r",
      " 82%|██████████████████████████████████▋       | 140607488/170498071 [00:40<00:17, 1751664.27it/s]"
     ]
    },
    {
     "name": "stderr",
     "output_type": "stream",
     "text": [
      "\r",
      " 83%|██████████████████████████████████▋       | 140804096/170498071 [00:40<00:16, 1767912.83it/s]"
     ]
    },
    {
     "name": "stderr",
     "output_type": "stream",
     "text": [
      "\r",
      " 83%|██████████████████████████████████▋       | 141000704/170498071 [00:40<00:17, 1712714.06it/s]"
     ]
    },
    {
     "name": "stderr",
     "output_type": "stream",
     "text": [
      "\r",
      " 83%|██████████████████████████████████▊       | 141197312/170498071 [00:40<00:16, 1753286.20it/s]"
     ]
    },
    {
     "name": "stderr",
     "output_type": "stream",
     "text": [
      "\r",
      " 83%|██████████████████████████████████▊       | 141393920/170498071 [00:41<00:16, 1771952.28it/s]"
     ]
    },
    {
     "name": "stderr",
     "output_type": "stream",
     "text": [
      "\r",
      " 83%|██████████████████████████████████▉       | 141590528/170498071 [00:41<00:16, 1804911.33it/s]"
     ]
    },
    {
     "name": "stderr",
     "output_type": "stream",
     "text": [
      "\r",
      " 83%|██████████████████████████████████▉       | 141787136/170498071 [00:41<00:15, 1801154.84it/s]"
     ]
    },
    {
     "name": "stderr",
     "output_type": "stream",
     "text": [
      "\r",
      " 83%|██████████████████████████████████▉       | 142016512/170498071 [00:41<00:15, 1783104.53it/s]"
     ]
    },
    {
     "name": "stderr",
     "output_type": "stream",
     "text": [
      "\r",
      " 83%|███████████████████████████████████       | 142245888/170498071 [00:41<00:15, 1799006.82it/s]"
     ]
    },
    {
     "name": "stderr",
     "output_type": "stream",
     "text": [
      "\r",
      " 84%|███████████████████████████████████       | 142442496/170498071 [00:41<00:15, 1808548.16it/s]"
     ]
    },
    {
     "name": "stderr",
     "output_type": "stream",
     "text": [
      "\r",
      " 84%|███████████████████████████████████▏      | 142671872/170498071 [00:41<00:15, 1852432.01it/s]"
     ]
    },
    {
     "name": "stderr",
     "output_type": "stream",
     "text": [
      "\r",
      " 84%|███████████████████████████████████▏      | 142868480/170498071 [00:41<00:14, 1851008.83it/s]"
     ]
    },
    {
     "name": "stderr",
     "output_type": "stream",
     "text": [
      "\r",
      " 84%|███████████████████████████████████▏      | 143065088/170498071 [00:41<00:14, 1877164.77it/s]"
     ]
    },
    {
     "name": "stderr",
     "output_type": "stream",
     "text": [
      "\r",
      " 84%|███████████████████████████████████▎      | 143261696/170498071 [00:42<00:14, 1864945.58it/s]"
     ]
    },
    {
     "name": "stderr",
     "output_type": "stream",
     "text": [
      "\r",
      " 84%|███████████████████████████████████▎      | 143458304/170498071 [00:42<00:14, 1805739.32it/s]"
     ]
    },
    {
     "name": "stderr",
     "output_type": "stream",
     "text": [
      "\r",
      " 84%|███████████████████████████████████▍      | 143654912/170498071 [00:42<00:21, 1256356.52it/s]"
     ]
    },
    {
     "name": "stderr",
     "output_type": "stream",
     "text": [
      "\r",
      " 85%|███████████████████████████████████▍      | 144080896/170498071 [00:42<00:14, 1847933.44it/s]"
     ]
    },
    {
     "name": "stderr",
     "output_type": "stream",
     "text": [
      "\r",
      " 85%|███████████████████████████████████▌      | 144310272/170498071 [00:42<00:15, 1703417.59it/s]"
     ]
    },
    {
     "name": "stderr",
     "output_type": "stream",
     "text": [
      "\r",
      " 85%|███████████████████████████████████▌      | 144506880/170498071 [00:42<00:16, 1620441.61it/s]"
     ]
    },
    {
     "name": "stderr",
     "output_type": "stream",
     "text": [
      "\r",
      " 85%|███████████████████████████████████▋      | 144703488/170498071 [00:42<00:16, 1592600.54it/s]"
     ]
    },
    {
     "name": "stderr",
     "output_type": "stream",
     "text": [
      "\r",
      " 85%|███████████████████████████████████▋      | 144900096/170498071 [00:43<00:16, 1578582.62it/s]"
     ]
    },
    {
     "name": "stderr",
     "output_type": "stream",
     "text": [
      "\r",
      " 85%|███████████████████████████████████▋      | 145096704/170498071 [00:43<00:16, 1583506.36it/s]"
     ]
    },
    {
     "name": "stderr",
     "output_type": "stream",
     "text": [
      "\r",
      " 85%|███████████████████████████████████▊      | 145293312/170498071 [00:43<00:15, 1583790.61it/s]"
     ]
    },
    {
     "name": "stderr",
     "output_type": "stream",
     "text": [
      "\r",
      " 85%|███████████████████████████████████▊      | 145457152/170498071 [00:43<00:15, 1575728.92it/s]"
     ]
    },
    {
     "name": "stderr",
     "output_type": "stream",
     "text": [
      "\r",
      " 85%|███████████████████████████████████▉      | 145653760/170498071 [00:43<00:15, 1615436.85it/s]"
     ]
    },
    {
     "name": "stderr",
     "output_type": "stream",
     "text": [
      "\r",
      " 86%|███████████████████████████████████▉      | 145817600/170498071 [00:43<00:15, 1609655.80it/s]"
     ]
    },
    {
     "name": "stderr",
     "output_type": "stream",
     "text": [
      "\r",
      " 86%|███████████████████████████████████▉      | 146014208/170498071 [00:43<00:14, 1665457.72it/s]"
     ]
    },
    {
     "name": "stderr",
     "output_type": "stream",
     "text": [
      "\r",
      " 86%|████████████████████████████████████      | 146210816/170498071 [00:43<00:14, 1643494.60it/s]"
     ]
    },
    {
     "name": "stderr",
     "output_type": "stream",
     "text": [
      "\r",
      " 86%|████████████████████████████████████      | 146407424/170498071 [00:43<00:14, 1669653.79it/s]"
     ]
    },
    {
     "name": "stderr",
     "output_type": "stream",
     "text": [
      "\r",
      " 86%|████████████████████████████████████      | 146604032/170498071 [00:44<00:13, 1709850.66it/s]"
     ]
    },
    {
     "name": "stderr",
     "output_type": "stream",
     "text": [
      "\r",
      " 86%|████████████████████████████████████▏     | 146800640/170498071 [00:44<00:13, 1740228.83it/s]"
     ]
    },
    {
     "name": "stderr",
     "output_type": "stream",
     "text": [
      "\r",
      " 86%|████████████████████████████████████▏     | 146997248/170498071 [00:44<00:13, 1772619.61it/s]"
     ]
    },
    {
     "name": "stderr",
     "output_type": "stream",
     "text": [
      "\r",
      " 86%|████████████████████████████████████▎     | 147193856/170498071 [00:44<00:13, 1785136.90it/s]"
     ]
    },
    {
     "name": "stderr",
     "output_type": "stream",
     "text": [
      "\r",
      " 86%|████████████████████████████████████▎     | 147390464/170498071 [00:44<00:12, 1805449.76it/s]"
     ]
    },
    {
     "name": "stderr",
     "output_type": "stream",
     "text": [
      "\r",
      " 87%|████████████████████████████████████▎     | 147587072/170498071 [00:44<00:12, 1807805.02it/s]"
     ]
    },
    {
     "name": "stderr",
     "output_type": "stream",
     "text": [
      "\r",
      " 87%|████████████████████████████████████▍     | 147783680/170498071 [00:44<00:12, 1834713.05it/s]"
     ]
    },
    {
     "name": "stderr",
     "output_type": "stream",
     "text": [
      "\r",
      " 87%|████████████████████████████████████▍     | 147980288/170498071 [00:44<00:12, 1827201.59it/s]"
     ]
    },
    {
     "name": "stderr",
     "output_type": "stream",
     "text": [
      "\r",
      " 87%|████████████████████████████████████▌     | 148176896/170498071 [00:44<00:12, 1826873.03it/s]"
     ]
    },
    {
     "name": "stderr",
     "output_type": "stream",
     "text": [
      "\r",
      " 87%|████████████████████████████████████▌     | 148373504/170498071 [00:45<00:11, 1857041.31it/s]"
     ]
    },
    {
     "name": "stderr",
     "output_type": "stream",
     "text": [
      "\r",
      " 87%|████████████████████████████████████▌     | 148570112/170498071 [00:45<00:11, 1857673.87it/s]"
     ]
    },
    {
     "name": "stderr",
     "output_type": "stream",
     "text": [
      "\r",
      " 87%|████████████████████████████████████▋     | 148766720/170498071 [00:45<00:11, 1866844.25it/s]"
     ]
    },
    {
     "name": "stderr",
     "output_type": "stream",
     "text": [
      "\r",
      " 87%|████████████████████████████████████▋     | 148963328/170498071 [00:45<00:11, 1862557.79it/s]"
     ]
    },
    {
     "name": "stderr",
     "output_type": "stream",
     "text": [
      "\r",
      " 87%|████████████████████████████████████▋     | 149159936/170498071 [00:45<00:11, 1861574.56it/s]"
     ]
    },
    {
     "name": "stderr",
     "output_type": "stream",
     "text": [
      "\r",
      " 88%|████████████████████████████████████▊     | 149356544/170498071 [00:45<00:11, 1869241.00it/s]"
     ]
    },
    {
     "name": "stderr",
     "output_type": "stream",
     "text": [
      "\r",
      " 88%|████████████████████████████████████▊     | 149553152/170498071 [00:45<00:11, 1867588.18it/s]"
     ]
    },
    {
     "name": "stderr",
     "output_type": "stream",
     "text": [
      "\r",
      " 88%|████████████████████████████████████▉     | 149782528/170498071 [00:45<00:10, 1919515.83it/s]"
     ]
    },
    {
     "name": "stderr",
     "output_type": "stream",
     "text": [
      "\r",
      " 88%|████████████████████████████████████▉     | 149979136/170498071 [00:45<00:10, 1901973.16it/s]"
     ]
    },
    {
     "name": "stderr",
     "output_type": "stream",
     "text": [
      "\r",
      " 88%|████████████████████████████████████▉     | 150175744/170498071 [00:46<00:10, 1897374.52it/s]"
     ]
    },
    {
     "name": "stderr",
     "output_type": "stream",
     "text": [
      "\r",
      " 88%|█████████████████████████████████████     | 150372352/170498071 [00:46<00:10, 1885318.77it/s]"
     ]
    },
    {
     "name": "stderr",
     "output_type": "stream",
     "text": [
      "\r",
      " 88%|█████████████████████████████████████     | 150568960/170498071 [00:46<00:10, 1884727.99it/s]"
     ]
    },
    {
     "name": "stderr",
     "output_type": "stream",
     "text": [
      "\r",
      " 88%|█████████████████████████████████████▏    | 150798336/170498071 [00:46<00:10, 1947549.62it/s]"
     ]
    },
    {
     "name": "stderr",
     "output_type": "stream",
     "text": [
      "\r",
      " 89%|█████████████████████████████████████▏    | 150994944/170498071 [00:46<00:10, 1920497.33it/s]"
     ]
    },
    {
     "name": "stderr",
     "output_type": "stream",
     "text": [
      "\r",
      " 89%|█████████████████████████████████████▏    | 151191552/170498071 [00:46<00:10, 1908838.08it/s]"
     ]
    },
    {
     "name": "stderr",
     "output_type": "stream",
     "text": [
      "\r",
      " 89%|█████████████████████████████████████▎    | 151388160/170498071 [00:46<00:10, 1904958.07it/s]"
     ]
    },
    {
     "name": "stderr",
     "output_type": "stream",
     "text": [
      "\r",
      " 89%|█████████████████████████████████████▎    | 151584768/170498071 [00:46<00:14, 1266210.60it/s]"
     ]
    },
    {
     "name": "stderr",
     "output_type": "stream",
     "text": [
      "\r",
      " 89%|█████████████████████████████████████▍    | 152076288/170498071 [00:47<00:09, 2044166.41it/s]"
     ]
    },
    {
     "name": "stderr",
     "output_type": "stream",
     "text": [
      "\r",
      " 89%|█████████████████████████████████████▌    | 152338432/170498071 [00:47<00:10, 1761092.58it/s]"
     ]
    },
    {
     "name": "stderr",
     "output_type": "stream",
     "text": [
      "\r",
      " 89%|█████████████████████████████████████▌    | 152567808/170498071 [00:47<00:10, 1676310.69it/s]"
     ]
    },
    {
     "name": "stderr",
     "output_type": "stream",
     "text": [
      "\r",
      " 90%|█████████████████████████████████████▋    | 152764416/170498071 [00:47<00:10, 1640701.78it/s]"
     ]
    },
    {
     "name": "stderr",
     "output_type": "stream",
     "text": [
      "\r",
      " 90%|█████████████████████████████████████▋    | 152961024/170498071 [00:47<00:11, 1573434.94it/s]"
     ]
    },
    {
     "name": "stderr",
     "output_type": "stream",
     "text": [
      "\r",
      " 90%|█████████████████████████████████████▋    | 153157632/170498071 [00:47<00:10, 1625458.51it/s]"
     ]
    },
    {
     "name": "stderr",
     "output_type": "stream",
     "text": [
      "\r",
      " 90%|█████████████████████████████████████▊    | 153354240/170498071 [00:47<00:10, 1628181.59it/s]"
     ]
    },
    {
     "name": "stderr",
     "output_type": "stream",
     "text": [
      "\r",
      " 90%|█████████████████████████████████████▊    | 153550848/170498071 [00:48<00:10, 1634291.80it/s]"
     ]
    },
    {
     "name": "stderr",
     "output_type": "stream",
     "text": [
      "\r",
      " 90%|█████████████████████████████████████▊    | 153747456/170498071 [00:48<00:10, 1582570.20it/s]"
     ]
    },
    {
     "name": "stderr",
     "output_type": "stream",
     "text": [
      "\r",
      " 90%|█████████████████████████████████████▉    | 153944064/170498071 [00:48<00:10, 1643318.98it/s]"
     ]
    },
    {
     "name": "stderr",
     "output_type": "stream",
     "text": [
      "\r",
      " 90%|█████████████████████████████████████▉    | 154140672/170498071 [00:48<00:09, 1687508.73it/s]"
     ]
    },
    {
     "name": "stderr",
     "output_type": "stream",
     "text": [
      "\r",
      " 91%|██████████████████████████████████████    | 154337280/170498071 [00:48<00:09, 1694049.97it/s]"
     ]
    },
    {
     "name": "stderr",
     "output_type": "stream",
     "text": [
      "\r",
      " 91%|██████████████████████████████████████    | 154533888/170498071 [00:48<00:09, 1676764.24it/s]"
     ]
    },
    {
     "name": "stderr",
     "output_type": "stream",
     "text": [
      "\r",
      " 91%|██████████████████████████████████████    | 154730496/170498071 [00:48<00:09, 1716410.65it/s]"
     ]
    },
    {
     "name": "stderr",
     "output_type": "stream",
     "text": [
      "\r",
      " 91%|██████████████████████████████████████▏   | 154927104/170498071 [00:48<00:08, 1754377.98it/s]"
     ]
    },
    {
     "name": "stderr",
     "output_type": "stream",
     "text": [
      "\r",
      " 91%|██████████████████████████████████████▏   | 155123712/170498071 [00:48<00:08, 1710360.91it/s]"
     ]
    },
    {
     "name": "stderr",
     "output_type": "stream",
     "text": [
      "\r",
      " 91%|██████████████████████████████████████▎   | 155320320/170498071 [00:49<00:08, 1736045.65it/s]"
     ]
    },
    {
     "name": "stderr",
     "output_type": "stream",
     "text": [
      "\r",
      " 91%|██████████████████████████████████████▎   | 155516928/170498071 [00:49<00:08, 1784794.68it/s]"
     ]
    },
    {
     "name": "stderr",
     "output_type": "stream",
     "text": [
      "\r",
      " 91%|██████████████████████████████████████▎   | 155713536/170498071 [00:49<00:08, 1779536.22it/s]"
     ]
    },
    {
     "name": "stderr",
     "output_type": "stream",
     "text": [
      "\r",
      " 91%|██████████████████████████████████████▍   | 155910144/170498071 [00:49<00:07, 1828239.70it/s]"
     ]
    },
    {
     "name": "stderr",
     "output_type": "stream",
     "text": [
      "\r",
      " 92%|██████████████████████████████████████▍   | 156106752/170498071 [00:49<00:07, 1813164.59it/s]"
     ]
    },
    {
     "name": "stderr",
     "output_type": "stream",
     "text": [
      "\r",
      " 92%|██████████████████████████████████████▌   | 156303360/170498071 [00:49<00:07, 1841663.17it/s]"
     ]
    },
    {
     "name": "stderr",
     "output_type": "stream",
     "text": [
      "\r",
      " 92%|██████████████████████████████████████▌   | 156499968/170498071 [00:49<00:07, 1836986.02it/s]"
     ]
    },
    {
     "name": "stderr",
     "output_type": "stream",
     "text": [
      "\r",
      " 92%|██████████████████████████████████████▌   | 156729344/170498071 [00:49<00:07, 1875658.49it/s]"
     ]
    },
    {
     "name": "stderr",
     "output_type": "stream",
     "text": [
      "\r",
      " 92%|██████████████████████████████████████▋   | 156925952/170498071 [00:49<00:07, 1872443.41it/s]"
     ]
    },
    {
     "name": "stderr",
     "output_type": "stream",
     "text": [
      "\r",
      " 92%|██████████████████████████████████████▋   | 157122560/170498071 [00:49<00:07, 1860099.18it/s]"
     ]
    },
    {
     "name": "stderr",
     "output_type": "stream",
     "text": [
      "\r",
      " 92%|██████████████████████████████████████▊   | 157319168/170498071 [00:50<00:07, 1879159.32it/s]"
     ]
    },
    {
     "name": "stderr",
     "output_type": "stream",
     "text": [
      "\r",
      " 92%|██████████████████████████████████████▊   | 157515776/170498071 [00:50<00:06, 1873632.57it/s]"
     ]
    },
    {
     "name": "stderr",
     "output_type": "stream",
     "text": [
      "\r",
      " 93%|██████████████████████████████████████▊   | 157712384/170498071 [00:50<00:06, 1864845.23it/s]"
     ]
    },
    {
     "name": "stderr",
     "output_type": "stream",
     "text": [
      "\r",
      " 93%|██████████████████████████████████████▉   | 157941760/170498071 [00:50<00:06, 1896385.16it/s]"
     ]
    },
    {
     "name": "stderr",
     "output_type": "stream",
     "text": [
      "\r",
      " 93%|██████████████████████████████████████▉   | 158138368/170498071 [00:50<00:06, 1882316.05it/s]"
     ]
    },
    {
     "name": "stderr",
     "output_type": "stream",
     "text": [
      "\r",
      " 93%|███████████████████████████████████████   | 158334976/170498071 [00:50<00:06, 1896241.92it/s]"
     ]
    },
    {
     "name": "stderr",
     "output_type": "stream",
     "text": [
      "\r",
      " 93%|███████████████████████████████████████   | 158531584/170498071 [00:50<00:06, 1886178.88it/s]"
     ]
    },
    {
     "name": "stderr",
     "output_type": "stream",
     "text": [
      "\r",
      " 93%|███████████████████████████████████████   | 158760960/170498071 [00:50<00:06, 1911174.07it/s]"
     ]
    },
    {
     "name": "stderr",
     "output_type": "stream",
     "text": [
      "\r",
      " 93%|███████████████████████████████████████▏  | 158957568/170498071 [00:50<00:06, 1909540.76it/s]"
     ]
    },
    {
     "name": "stderr",
     "output_type": "stream",
     "text": [
      "\r",
      " 93%|███████████████████████████████████████▏  | 159154176/170498071 [00:51<00:05, 1899825.83it/s]"
     ]
    },
    {
     "name": "stderr",
     "output_type": "stream",
     "text": [
      "\r",
      " 93%|███████████████████████████████████████▎  | 159383552/170498071 [00:51<00:05, 1944520.84it/s]"
     ]
    },
    {
     "name": "stderr",
     "output_type": "stream",
     "text": [
      "\r",
      " 94%|███████████████████████████████████████▎  | 159580160/170498071 [00:51<00:05, 1916049.51it/s]"
     ]
    },
    {
     "name": "stderr",
     "output_type": "stream",
     "text": [
      "\r",
      " 94%|███████████████████████████████████████▎  | 159776768/170498071 [00:51<00:05, 1911375.17it/s]"
     ]
    },
    {
     "name": "stderr",
     "output_type": "stream",
     "text": [
      "\r",
      " 94%|███████████████████████████████████████▍  | 159973376/170498071 [00:51<00:08, 1309552.80it/s]"
     ]
    },
    {
     "name": "stderr",
     "output_type": "stream",
     "text": [
      "\r",
      " 94%|███████████████████████████████████████▌  | 160399360/170498071 [00:51<00:05, 1915369.59it/s]"
     ]
    },
    {
     "name": "stderr",
     "output_type": "stream",
     "text": [
      "\r",
      " 94%|███████████████████████████████████████▌  | 160628736/170498071 [00:51<00:05, 1734334.36it/s]"
     ]
    },
    {
     "name": "stderr",
     "output_type": "stream",
     "text": [
      "\r",
      " 94%|███████████████████████████████████████▋  | 160858112/170498071 [00:52<00:05, 1638808.31it/s]"
     ]
    },
    {
     "name": "stderr",
     "output_type": "stream",
     "text": [
      "\r",
      " 94%|███████████████████████████████████████▋  | 161054720/170498071 [00:52<00:05, 1625759.78it/s]"
     ]
    },
    {
     "name": "stderr",
     "output_type": "stream",
     "text": [
      "\r",
      " 95%|███████████████████████████████████████▋  | 161251328/170498071 [00:52<00:05, 1559752.76it/s]"
     ]
    },
    {
     "name": "stderr",
     "output_type": "stream",
     "text": [
      "\r",
      " 95%|███████████████████████████████████████▊  | 161447936/170498071 [00:52<00:05, 1619988.83it/s]"
     ]
    },
    {
     "name": "stderr",
     "output_type": "stream",
     "text": [
      "\r",
      " 95%|███████████████████████████████████████▊  | 161644544/170498071 [00:52<00:05, 1557183.53it/s]"
     ]
    },
    {
     "name": "stderr",
     "output_type": "stream",
     "text": [
      "\r",
      " 95%|███████████████████████████████████████▊  | 161841152/170498071 [00:52<00:05, 1602181.26it/s]"
     ]
    },
    {
     "name": "stderr",
     "output_type": "stream",
     "text": [
      "\r",
      " 95%|███████████████████████████████████████▉  | 162037760/170498071 [00:52<00:05, 1627428.45it/s]"
     ]
    },
    {
     "name": "stderr",
     "output_type": "stream",
     "text": [
      "\r",
      " 95%|███████████████████████████████████████▉  | 162234368/170498071 [00:52<00:04, 1676991.06it/s]"
     ]
    },
    {
     "name": "stderr",
     "output_type": "stream",
     "text": [
      "\r",
      " 95%|████████████████████████████████████████  | 162430976/170498071 [00:53<00:04, 1662336.16it/s]"
     ]
    },
    {
     "name": "stderr",
     "output_type": "stream",
     "text": [
      "\r",
      " 95%|████████████████████████████████████████  | 162627584/170498071 [00:53<00:04, 1647198.30it/s]"
     ]
    },
    {
     "name": "stderr",
     "output_type": "stream",
     "text": [
      "\r",
      " 95%|████████████████████████████████████████  | 162824192/170498071 [00:53<00:04, 1658508.30it/s]"
     ]
    },
    {
     "name": "stderr",
     "output_type": "stream",
     "text": [
      "\r",
      " 96%|████████████████████████████████████████▏ | 163020800/170498071 [00:53<00:04, 1703883.59it/s]"
     ]
    },
    {
     "name": "stderr",
     "output_type": "stream",
     "text": [
      "\r",
      " 96%|████████████████████████████████████████▏ | 163217408/170498071 [00:53<00:04, 1720490.74it/s]"
     ]
    },
    {
     "name": "stderr",
     "output_type": "stream",
     "text": [
      "\r",
      " 96%|████████████████████████████████████████▎ | 163414016/170498071 [00:53<00:05, 1260510.32it/s]"
     ]
    },
    {
     "name": "stderr",
     "output_type": "stream",
     "text": [
      "\r",
      " 96%|████████████████████████████████████████▎ | 163807232/170498071 [00:53<00:03, 1802681.99it/s]"
     ]
    },
    {
     "name": "stderr",
     "output_type": "stream",
     "text": [
      "\r",
      " 96%|████████████████████████████████████████▍ | 164036608/170498071 [00:54<00:04, 1519909.27it/s]"
     ]
    },
    {
     "name": "stderr",
     "output_type": "stream",
     "text": [
      "\r",
      " 96%|████████████████████████████████████████▍ | 164233216/170498071 [00:54<00:04, 1351555.97it/s]"
     ]
    },
    {
     "name": "stderr",
     "output_type": "stream",
     "text": [
      "\r",
      " 96%|████████████████████████████████████████▍ | 164397056/170498071 [00:54<00:04, 1231270.51it/s]"
     ]
    },
    {
     "name": "stderr",
     "output_type": "stream",
     "text": [
      "\r",
      " 97%|████████████████████████████████████████▌ | 164560896/170498071 [00:54<00:05, 1152761.29it/s]"
     ]
    },
    {
     "name": "stderr",
     "output_type": "stream",
     "text": [
      "\r",
      " 97%|████████████████████████████████████████▌ | 164691968/170498071 [00:54<00:05, 1114876.38it/s]"
     ]
    },
    {
     "name": "stderr",
     "output_type": "stream",
     "text": [
      "\r",
      " 97%|█████████████████████████████████████████▌ | 164823040/170498071 [00:55<00:06, 882192.33it/s]"
     ]
    },
    {
     "name": "stderr",
     "output_type": "stream",
     "text": [
      "\r",
      " 97%|████████████████████████████████████████▋ | 165019648/170498071 [00:55<00:05, 1047336.43it/s]"
     ]
    },
    {
     "name": "stderr",
     "output_type": "stream",
     "text": [
      "\r",
      " 97%|█████████████████████████████████████████▋ | 165150720/170498071 [00:55<00:05, 961700.89it/s]"
     ]
    },
    {
     "name": "stderr",
     "output_type": "stream",
     "text": [
      "\r",
      " 97%|█████████████████████████████████████████▋ | 165281792/170498071 [00:55<00:05, 891902.40it/s]"
     ]
    },
    {
     "name": "stderr",
     "output_type": "stream",
     "text": [
      "\r",
      " 97%|█████████████████████████████████████████▋ | 165380096/170498071 [00:55<00:05, 875983.27it/s]"
     ]
    },
    {
     "name": "stderr",
     "output_type": "stream",
     "text": [
      "\r",
      " 97%|█████████████████████████████████████████▋ | 165478400/170498071 [00:55<00:05, 854357.87it/s]"
     ]
    },
    {
     "name": "stderr",
     "output_type": "stream",
     "text": [
      "\r",
      " 97%|█████████████████████████████████████████▊ | 165576704/170498071 [00:55<00:06, 805637.78it/s]"
     ]
    },
    {
     "name": "stderr",
     "output_type": "stream",
     "text": [
      "\r",
      " 97%|█████████████████████████████████████████▊ | 165675008/170498071 [00:55<00:05, 829284.45it/s]"
     ]
    },
    {
     "name": "stderr",
     "output_type": "stream",
     "text": [
      "\r",
      " 97%|█████████████████████████████████████████▊ | 165773312/170498071 [00:56<00:05, 850768.21it/s]"
     ]
    },
    {
     "name": "stderr",
     "output_type": "stream",
     "text": [
      "\r",
      " 97%|█████████████████████████████████████████▊ | 165871616/170498071 [00:56<00:05, 863559.90it/s]"
     ]
    },
    {
     "name": "stderr",
     "output_type": "stream",
     "text": [
      "\r",
      " 97%|█████████████████████████████████████████▊ | 165969920/170498071 [00:56<00:05, 849418.18it/s]"
     ]
    },
    {
     "name": "stderr",
     "output_type": "stream",
     "text": [
      "\r",
      " 97%|█████████████████████████████████████████▉ | 166068224/170498071 [00:56<00:06, 712969.06it/s]"
     ]
    },
    {
     "name": "stderr",
     "output_type": "stream",
     "text": [
      "\r",
      " 97%|█████████████████████████████████████████▉ | 166199296/170498071 [00:56<00:05, 797945.48it/s]"
     ]
    },
    {
     "name": "stderr",
     "output_type": "stream",
     "text": [
      "\r",
      " 98%|█████████████████████████████████████████▉ | 166297600/170498071 [00:56<00:05, 719503.00it/s]"
     ]
    },
    {
     "name": "stderr",
     "output_type": "stream",
     "text": [
      "\r",
      " 98%|█████████████████████████████████████████▉ | 166395904/170498071 [00:56<00:05, 696366.47it/s]"
     ]
    },
    {
     "name": "stderr",
     "output_type": "stream",
     "text": [
      "\r",
      " 98%|█████████████████████████████████████████▉ | 166494208/170498071 [00:57<00:05, 684361.11it/s]"
     ]
    },
    {
     "name": "stderr",
     "output_type": "stream",
     "text": [
      "\r",
      " 98%|██████████████████████████████████████████ | 166592512/170498071 [00:57<00:05, 653482.78it/s]"
     ]
    },
    {
     "name": "stderr",
     "output_type": "stream",
     "text": [
      "\r",
      " 98%|██████████████████████████████████████████ | 166690816/170498071 [00:57<00:05, 693710.78it/s]"
     ]
    },
    {
     "name": "stderr",
     "output_type": "stream",
     "text": [
      "\r",
      " 98%|██████████████████████████████████████████ | 166789120/170498071 [00:57<00:05, 695860.78it/s]"
     ]
    },
    {
     "name": "stderr",
     "output_type": "stream",
     "text": [
      "\r",
      " 98%|██████████████████████████████████████████ | 166887424/170498071 [00:57<00:05, 685045.91it/s]"
     ]
    },
    {
     "name": "stderr",
     "output_type": "stream",
     "text": [
      "\r",
      " 98%|██████████████████████████████████████████ | 166985728/170498071 [00:57<00:05, 691088.74it/s]"
     ]
    },
    {
     "name": "stderr",
     "output_type": "stream",
     "text": [
      "\r",
      " 98%|██████████████████████████████████████████▏| 167084032/170498071 [00:57<00:04, 698454.60it/s]"
     ]
    },
    {
     "name": "stderr",
     "output_type": "stream",
     "text": [
      "\r",
      " 98%|██████████████████████████████████████████▏| 167182336/170498071 [00:58<00:04, 691074.08it/s]"
     ]
    },
    {
     "name": "stderr",
     "output_type": "stream",
     "text": [
      "\r",
      " 98%|██████████████████████████████████████████▏| 167280640/170498071 [00:58<00:04, 692049.17it/s]"
     ]
    },
    {
     "name": "stderr",
     "output_type": "stream",
     "text": [
      "\r",
      " 98%|██████████████████████████████████████████▏| 167378944/170498071 [00:58<00:04, 722787.25it/s]"
     ]
    },
    {
     "name": "stderr",
     "output_type": "stream",
     "text": [
      "\r",
      " 98%|██████████████████████████████████████████▏| 167477248/170498071 [00:58<00:04, 685331.20it/s]"
     ]
    },
    {
     "name": "stderr",
     "output_type": "stream",
     "text": [
      "\r",
      " 98%|██████████████████████████████████████████▎| 167575552/170498071 [00:58<00:04, 714863.39it/s]"
     ]
    },
    {
     "name": "stderr",
     "output_type": "stream",
     "text": [
      "\r",
      " 98%|██████████████████████████████████████████▎| 167673856/170498071 [00:58<00:03, 731957.12it/s]"
     ]
    },
    {
     "name": "stderr",
     "output_type": "stream",
     "text": [
      "\r",
      " 98%|██████████████████████████████████████████▎| 167772160/170498071 [00:58<00:03, 721643.48it/s]"
     ]
    },
    {
     "name": "stderr",
     "output_type": "stream",
     "text": [
      "\r",
      " 98%|██████████████████████████████████████████▎| 167870464/170498071 [00:59<00:03, 712450.07it/s]"
     ]
    },
    {
     "name": "stderr",
     "output_type": "stream",
     "text": [
      "\r",
      " 99%|██████████████████████████████████████████▎| 167968768/170498071 [00:59<00:03, 712145.16it/s]"
     ]
    },
    {
     "name": "stderr",
     "output_type": "stream",
     "text": [
      "\r",
      " 99%|██████████████████████████████████████████▍| 168067072/170498071 [00:59<00:03, 761401.07it/s]"
     ]
    },
    {
     "name": "stderr",
     "output_type": "stream",
     "text": [
      "\r",
      " 99%|██████████████████████████████████████████▍| 168165376/170498071 [00:59<00:02, 792489.43it/s]"
     ]
    },
    {
     "name": "stderr",
     "output_type": "stream",
     "text": [
      "\r",
      " 99%|██████████████████████████████████████████▍| 168263680/170498071 [00:59<00:02, 769048.69it/s]"
     ]
    },
    {
     "name": "stderr",
     "output_type": "stream",
     "text": [
      "\r",
      " 99%|██████████████████████████████████████████▍| 168361984/170498071 [00:59<00:02, 735332.70it/s]"
     ]
    },
    {
     "name": "stderr",
     "output_type": "stream",
     "text": [
      "\r",
      " 99%|██████████████████████████████████████████▍| 168460288/170498071 [00:59<00:02, 744467.81it/s]"
     ]
    },
    {
     "name": "stderr",
     "output_type": "stream",
     "text": [
      "\r",
      " 99%|██████████████████████████████████████████▌| 168558592/170498071 [00:59<00:02, 780602.05it/s]"
     ]
    },
    {
     "name": "stderr",
     "output_type": "stream",
     "text": [
      "\r",
      " 99%|██████████████████████████████████████████▌| 168656896/170498071 [01:00<00:02, 807615.41it/s]"
     ]
    },
    {
     "name": "stderr",
     "output_type": "stream",
     "text": [
      "\r",
      " 99%|██████████████████████████████████████████▌| 168755200/170498071 [01:00<00:02, 836752.22it/s]"
     ]
    },
    {
     "name": "stderr",
     "output_type": "stream",
     "text": [
      "\r",
      " 99%|██████████████████████████████████████████▌| 168853504/170498071 [01:00<00:01, 853877.48it/s]"
     ]
    },
    {
     "name": "stderr",
     "output_type": "stream",
     "text": [
      "\r",
      " 99%|██████████████████████████████████████████▌| 168951808/170498071 [01:00<00:01, 817160.93it/s]"
     ]
    },
    {
     "name": "stderr",
     "output_type": "stream",
     "text": [
      "\r",
      " 99%|██████████████████████████████████████████▋| 169050112/170498071 [01:00<00:01, 809295.83it/s]"
     ]
    },
    {
     "name": "stderr",
     "output_type": "stream",
     "text": [
      "\r",
      " 99%|██████████████████████████████████████████▋| 169148416/170498071 [01:00<00:01, 793470.00it/s]"
     ]
    },
    {
     "name": "stderr",
     "output_type": "stream",
     "text": [
      "\r",
      " 99%|██████████████████████████████████████████▋| 169246720/170498071 [01:00<00:01, 829126.80it/s]"
     ]
    },
    {
     "name": "stderr",
     "output_type": "stream",
     "text": [
      "\r",
      " 99%|██████████████████████████████████████████▋| 169345024/170498071 [01:00<00:01, 810065.79it/s]"
     ]
    },
    {
     "name": "stderr",
     "output_type": "stream",
     "text": [
      "\r",
      " 99%|██████████████████████████████████████████▋| 169443328/170498071 [01:00<00:01, 837986.89it/s]"
     ]
    },
    {
     "name": "stderr",
     "output_type": "stream",
     "text": [
      "\r",
      " 99%|██████████████████████████████████████████▊| 169541632/170498071 [01:01<00:01, 862714.96it/s]"
     ]
    },
    {
     "name": "stderr",
     "output_type": "stream",
     "text": [
      "\r",
      " 99%|██████████████████████████████████████████▊| 169639936/170498071 [01:01<00:00, 867550.40it/s]"
     ]
    },
    {
     "name": "stderr",
     "output_type": "stream",
     "text": [
      "\r",
      "100%|██████████████████████████████████████████▊| 169738240/170498071 [01:01<00:00, 884132.06it/s]"
     ]
    },
    {
     "name": "stderr",
     "output_type": "stream",
     "text": [
      "\r",
      "100%|██████████████████████████████████████████▊| 169836544/170498071 [01:01<00:00, 892426.00it/s]"
     ]
    },
    {
     "name": "stderr",
     "output_type": "stream",
     "text": [
      "\r",
      "100%|██████████████████████████████████████████▊| 169934848/170498071 [01:01<00:00, 913677.05it/s]"
     ]
    },
    {
     "name": "stderr",
     "output_type": "stream",
     "text": [
      "\r",
      "100%|██████████████████████████████████████████▉| 170033152/170498071 [01:01<00:00, 900848.00it/s]"
     ]
    },
    {
     "name": "stderr",
     "output_type": "stream",
     "text": [
      "\r",
      "100%|██████████████████████████████████████████▉| 170131456/170498071 [01:01<00:00, 914821.36it/s]"
     ]
    },
    {
     "name": "stderr",
     "output_type": "stream",
     "text": [
      "\r",
      "100%|██████████████████████████████████████████▉| 170229760/170498071 [01:01<00:00, 930116.02it/s]"
     ]
    },
    {
     "name": "stderr",
     "output_type": "stream",
     "text": [
      "\r",
      "100%|██████████████████████████████████████████▉| 170328064/170498071 [01:01<00:00, 918175.18it/s]"
     ]
    },
    {
     "name": "stderr",
     "output_type": "stream",
     "text": [
      "\r",
      "100%|██████████████████████████████████████████▉| 170426368/170498071 [01:02<00:00, 930582.28it/s]"
     ]
    },
    {
     "name": "stderr",
     "output_type": "stream",
     "text": [
      "\r",
      "100%|██████████████████████████████████████████| 170498071/170498071 [01:02<00:00, 2744698.19it/s]"
     ]
    },
    {
     "name": "stderr",
     "output_type": "stream",
     "text": [
      "\n"
     ]
    },
    {
     "name": "stdout",
     "output_type": "stream",
     "text": [
      "Extracting ../.data/cifar-10-python.tar.gz to ../.data\n"
     ]
    },
    {
     "name": "stdout",
     "output_type": "stream",
     "text": [
      "Files already downloaded and verified\n"
     ]
    },
    {
     "name": "stdout",
     "output_type": "stream",
     "text": [
      "Training on 50000 samples\n"
     ]
    },
    {
     "name": "stdout",
     "output_type": "stream",
     "text": [
      "Data normalized. New statistics:\n",
      "-  Min: [-123 -123 -105]\n",
      "-  Max: [126 127 127]\n",
      "- Mean: [0 0 0]\n",
      "-  Std: [61 61 61]\n",
      "\n"
     ]
    },
    {
     "name": "stdout",
     "output_type": "stream",
     "text": [
      "Moved data to device: <CUDA Device 0>\n",
      "Train set:  (50000, 3, 32, 32), (50000, 10)\n",
      "Test set:   (10000, 3, 32, 32), (10000, 10)\n",
      "Data types: (int8, int8)\n"
     ]
    },
    {
     "data": {
      "image/png": "[encoded data removed]",
      "text/plain": [
       "<Figure size 2000x2000 with 6 Axes>"
      ]
     },
     "metadata": {},
     "output_type": "display_data"
    }
   ],
   "source": [
    "# Show the data and the model\n",
    "dataset = load_integer_dataset(config, ohe_values=config[\"ohe_values\"], val_dim=0, show_images=True, data_path='../.data')\n",
    "X_train, _, _, y_train, _, _ = dataset"
   ]
  },
  {
   "cell_type": "code",
   "execution_count": 10,
   "id": "9d424675633d629a",
   "metadata": {
    "ExecuteTime": {
     "end_time": "2024-05-16T21:40:08.929075Z",
     "start_time": "2024-05-16T21:40:08.799962Z"
    },
    "execution": {
     "iopub.execute_input": "2024-05-17T13:13:28.060644Z",
     "iopub.status.busy": "2024-05-17T13:13:28.060380Z",
     "iopub.status.idle": "2024-05-17T13:13:28.126203Z",
     "shell.execute_reply": "2024-05-17T13:13:28.124541Z"
    }
   },
   "outputs": [
    {
     "name": "stdout",
     "output_type": "stream",
     "text": [
      "IntegerLocalLossCNN(\n",
      "\t(0): Sequential(\n",
      "\t\t\t(0): LocalConv2dBlock(\n",
      "\t\t\t(0): IntegerConv2d(in_channels=3, out_channels=128, bias=False, decay_rate_inv=28000)\n",
      "\t\t\t(1): ConstantScaling(fwd_factor=6912, bwd_factor=1)\n",
      "\t\t\t(2): NitroLeakyReLU(negative_slope_inv=4)\n",
      "\t\t\t(learning_layers): Sequential(\n",
      "\t\t\t(0): MaxPool2d(kernel_size=(8, 4), stride=(8, 4), padding=(0, 0))\n",
      "\t\t\t(1): Flatten()\n",
      "\t\t\t(2): IntegerLinear(in_features=4096, out_features=10, bias=False, decay_rate_inv=4500)\n",
      "\t\t\t(3): ConstantScaling(fwd_factor=1048576, bwd_factor=1)\n",
      "\t\t)\n",
      "\t)\n",
      "\t\t\t(1): LocalConv2dBlock(\n",
      "\t\t\t(0): IntegerConv2d(in_channels=128, out_channels=128, bias=False, decay_rate_inv=28000)\n",
      "\t\t\t(1): ConstantScaling(fwd_factor=294912, bwd_factor=1)\n",
      "\t\t\t(2): NitroLeakyReLU(negative_slope_inv=4)\n",
      "\t\t\t(learning_layers): Sequential(\n",
      "\t\t\t(0): MaxPool2d(kernel_size=(8, 4), stride=(8, 4), padding=(0, 0))\n",
      "\t\t\t(1): Flatten()\n",
      "\t\t\t(2): IntegerLinear(in_features=4096, out_features=10, bias=False, decay_rate_inv=4500)\n",
      "\t\t\t(3): ConstantScaling(fwd_factor=1048576, bwd_factor=1)\n",
      "\t\t)\n",
      "\t)\n",
      "\t\t\t(2): LocalConv2dBlock(\n",
      "\t\t\t(0): IntegerConv2d(in_channels=128, out_channels=128, bias=False, decay_rate_inv=28000)\n",
      "\t\t\t(1): ConstantScaling(fwd_factor=294912, bwd_factor=1)\n",
      "\t\t\t(2): NitroLeakyReLU(negative_slope_inv=4)\n",
      "\t\t\t(learning_layers): Sequential(\n",
      "\t\t\t(0): MaxPool2d(kernel_size=(8, 4), stride=(8, 4), padding=(0, 0))\n",
      "\t\t\t(1): Flatten()\n",
      "\t\t\t(2): IntegerLinear(in_features=4096, out_features=10, bias=False, decay_rate_inv=4500)\n",
      "\t\t\t(3): ConstantScaling(fwd_factor=1048576, bwd_factor=1)\n",
      "\t\t)\n",
      "\t)\n",
      "\t\t\t(3): LocalConv2dBlock(\n",
      "\t\t\t(0): IntegerConv2d(in_channels=128, out_channels=256, bias=False, decay_rate_inv=28000)\n",
      "\t\t\t(1): ConstantScaling(fwd_factor=294912, bwd_factor=1)\n",
      "\t\t\t(2): NitroLeakyReLU(negative_slope_inv=4)\n",
      "\t\t\t(learning_layers): Sequential(\n",
      "\t\t\t(0): MaxPool2d(kernel_size=(8, 8), stride=(8, 8), padding=(0, 0))\n",
      "\t\t\t(1): Flatten()\n",
      "\t\t\t(2): IntegerLinear(in_features=4096, out_features=10, bias=False, decay_rate_inv=4500)\n",
      "\t\t\t(3): ConstantScaling(fwd_factor=1048576, bwd_factor=1)\n",
      "\t\t)\n",
      "\t)\n",
      "\t\t\t(4): MaxPool2d(kernel_size=(2, 2), stride=(2, 2), padding=(0, 0))\n",
      "\t\t\t(5): LocalConv2dBlock(\n",
      "\t\t\t(0): IntegerConv2d(in_channels=256, out_channels=256, bias=False, decay_rate_inv=28000)\n",
      "\t\t\t(1): ConstantScaling(fwd_factor=589824, bwd_factor=1)\n",
      "\t\t\t(2): NitroLeakyReLU(negative_slope_inv=4)\n",
      "\t\t\t(learning_layers): Sequential(\n",
      "\t\t\t(0): MaxPool2d(kernel_size=(4, 4), stride=(4, 4), padding=(0, 0))\n",
      "\t\t\t(1): Flatten()\n",
      "\t\t\t(2): IntegerLinear(in_features=4096, out_features=10, bias=False, decay_rate_inv=4500)\n",
      "\t\t\t(3): ConstantScaling(fwd_factor=1048576, bwd_factor=1)\n",
      "\t\t)\n",
      "\t)\n",
      "\t\t\t(6): LocalConv2dBlock(\n",
      "\t\t\t(0): IntegerConv2d(in_channels=256, out_channels=512, bias=False, decay_rate_inv=28000)\n",
      "\t\t\t(1): ConstantScaling(fwd_factor=589824, bwd_factor=1)\n",
      "\t\t\t(2): NitroLeakyReLU(negative_slope_inv=4)\n",
      "\t\t\t(learning_layers): Sequential(\n",
      "\t\t\t(0): MaxPool2d(kernel_size=(8, 4), stride=(8, 4), padding=(0, 0))\n",
      "\t\t\t(1): Flatten()\n",
      "\t\t\t(2): IntegerLinear(in_features=4096, out_features=10, bias=False, decay_rate_inv=4500)\n",
      "\t\t\t(3): ConstantScaling(fwd_factor=1048576, bwd_factor=1)\n",
      "\t\t)\n",
      "\t)\n",
      "\t\t\t(7): MaxPool2d(kernel_size=(2, 2), stride=(2, 2), padding=(0, 0))\n",
      "\t\t\t(8): LocalConv2dBlock(\n",
      "\t\t\t(0): IntegerConv2d(in_channels=512, out_channels=512, bias=False, decay_rate_inv=28000)\n",
      "\t\t\t(1): ConstantScaling(fwd_factor=1179648, bwd_factor=1)\n",
      "\t\t\t(2): NitroLeakyReLU(negative_slope_inv=4)\n",
      "\t\t\t(learning_layers): Sequential(\n",
      "\t\t\t(0): MaxPool2d(kernel_size=(4, 2), stride=(4, 2), padding=(0, 0))\n",
      "\t\t\t(1): Flatten()\n",
      "\t\t\t(2): IntegerLinear(in_features=4096, out_features=10, bias=False, decay_rate_inv=4500)\n",
      "\t\t\t(3): ConstantScaling(fwd_factor=1048576, bwd_factor=1)\n",
      "\t\t)\n",
      "\t)\n",
      "\t\t\t(9): LocalConv2dBlock(\n",
      "\t\t\t(0): IntegerConv2d(in_channels=512, out_channels=512, bias=False, decay_rate_inv=28000)\n",
      "\t\t\t(1): ConstantScaling(fwd_factor=1179648, bwd_factor=1)\n",
      "\t\t\t(2): NitroLeakyReLU(negative_slope_inv=4)\n",
      "\t\t\t(learning_layers): Sequential(\n",
      "\t\t\t(0): MaxPool2d(kernel_size=(4, 2), stride=(4, 2), padding=(0, 0))\n",
      "\t\t\t(1): Flatten()\n",
      "\t\t\t(2): IntegerLinear(in_features=4096, out_features=10, bias=False, decay_rate_inv=4500)\n",
      "\t\t\t(3): ConstantScaling(fwd_factor=1048576, bwd_factor=1)\n",
      "\t\t)\n",
      "\t)\n",
      "\t\t\t(10): MaxPool2d(kernel_size=(2, 2), stride=(2, 2), padding=(0, 0))\n",
      "\t\t\t(11): LocalConv2dBlock(\n",
      "\t\t\t(0): IntegerConv2d(in_channels=512, out_channels=512, bias=False, decay_rate_inv=28000)\n",
      "\t\t\t(1): ConstantScaling(fwd_factor=1179648, bwd_factor=1)\n",
      "\t\t\t(2): NitroLeakyReLU(negative_slope_inv=4)\n",
      "\t\t\t(learning_layers): Sequential(\n",
      "\t\t\t(0): MaxPool2d(kernel_size=(2, 1), stride=(2, 1), padding=(0, 0))\n",
      "\t\t\t(1): Flatten()\n",
      "\t\t\t(2): IntegerLinear(in_features=4096, out_features=10, bias=False, decay_rate_inv=4500)\n",
      "\t\t\t(3): ConstantScaling(fwd_factor=1048576, bwd_factor=1)\n",
      "\t\t)\n",
      "\t)\n",
      "\t\t\t(12): MaxPool2d(kernel_size=(2, 2), stride=(2, 2), padding=(0, 0))\n",
      "\t\t)\n",
      "\t(1): IntegerLocalLossMLP(\n",
      "\t(0): Sequential(\n",
      "\t\t\t(0): Flatten()\n",
      "\t\t\t(1): LocalLinearBlock(\n",
      "\t\t\t(0): IntegerLinear(in_features=2048, out_features=1024, bias=False, decay_rate_inv=28000)\n",
      "\t\t\t(1): ConstantScaling(fwd_factor=524288, bwd_factor=1)\n",
      "\t\t\t(2): NitroLeakyReLU(negative_slope_inv=4)\n",
      "\t\t\t(learning_layers): Sequential(\n",
      "\t\t\t(0): IntegerLinear(in_features=1024, out_features=10, bias=False, decay_rate_inv=4500)\n",
      "\t\t\t(1): ConstantScaling(fwd_factor=262144, bwd_factor=1)\n",
      "\t\t)\n",
      "\t)\n",
      "\t\t\t(2): Sequential(\n",
      "\t\t\t(0): IntegerLinear(in_features=1024, out_features=10, bias=False, decay_rate_inv=4500)\n",
      "\t\t\t(1): ConstantScaling(fwd_factor=262144, bwd_factor=1)\n",
      "\t\t)\n",
      "\t\t)\n",
      "\t)\n",
      ")\n"
     ]
    }
   ],
   "source": [
    "model = build_CNN(config, X_tr=X_train, y_tr=y_train)\n",
    "print(model.extra_repr(1))"
   ]
  },
  {
   "cell_type": "code",
   "execution_count": 11,
   "id": "e4c1bb797582873b",
   "metadata": {
    "ExecuteTime": {
     "end_time": "2024-05-15T12:27:52.470933Z",
     "start_time": "2024-05-15T12:27:52.465522Z"
    },
    "execution": {
     "iopub.execute_input": "2024-05-17T13:13:28.131991Z",
     "iopub.status.busy": "2024-05-17T13:13:28.131746Z",
     "iopub.status.idle": "2024-05-17T13:13:28.141642Z",
     "shell.execute_reply": "2024-05-17T13:13:28.140020Z"
    }
   },
   "outputs": [],
   "source": [
    "def run_experiment(exp_config):\n",
    "    # Setup reproducibility\n",
    "    print(f\"{'-' * 64}\")\n",
    "    print(f\"Running experiment with seed {exp_config['seed']}...\")\n",
    "    np.random.seed(exp_config[\"seed\"])\n",
    "    cp.random.seed(exp_config[\"seed\"])\n",
    "    \n",
    "    # Load the dataset\n",
    "    data = load_integer_dataset(exp_config, ohe_values=exp_config[\"ohe_values\"], val_dim=0, show_images=False, show_log=False, data_path='../.data')\n",
    "    X_tr, _, X_test, y_tr, _, y_test = data\n",
    "\n",
    "    # Setup data augmentation\n",
    "    augmentation_pipeline = build_augmentation_pipeline(exp_config)\n",
    "\n",
    "    # Build and train the model\n",
    "    m = build_CNN(exp_config, X_tr=X_tr, y_tr=y_tr)    \n",
    "    best_train_acc, best_test_acc = train_test_experiment(\n",
    "        m, exp_config, X_tr=X_tr, X_te=X_test, y_tr=y_tr, y_te=y_test,\n",
    "        augmentation_pipeline=augmentation_pipeline,\n",
    "        show_local_accuracies=False, show_progress_bar=False\n",
    "    )\n",
    "\n",
    "    # Append the results to a CSV file\n",
    "    with open('./results.csv', mode='a', newline='') as f:\n",
    "        writer = csv.writer(f)\n",
    "        writer.writerow([exp_config[\"seed\"], best_train_acc, best_test_acc])\n",
    "        \n",
    "    # Save the first model\n",
    "    if not pathlib.Path('model.pkl').exists():\n",
    "        with open('model.pkl', 'wb') as f:\n",
    "            pickle.dump(model, f)\n",
    "    \n",
    "    import requests  \n",
    "    tg_chat_id = '827408693'  \n",
    "    tg_api_token = '6331557290:AAGQaWZP0oANCgL1_0hMiL0XQk_mT7n-tFk'  \n",
    "    text = \"Run complete!\"  \n",
    "    requests.post(f'https://api.telegram.org/bot{tg_api_token}/sendMessage', params={\"chat_id\":tg_chat_id, \"text\":text})"
   ]
  },
  {
   "cell_type": "code",
   "execution_count": 12,
   "id": "1977595faf571666",
   "metadata": {
    "ExecuteTime": {
     "end_time": "2024-05-15T12:31:49.998199Z",
     "start_time": "2024-05-15T12:27:52.471939Z"
    },
    "execution": {
     "iopub.execute_input": "2024-05-17T13:13:28.146637Z",
     "iopub.status.busy": "2024-05-17T13:13:28.146393Z",
     "iopub.status.idle": "2024-05-20T15:12:52.690296Z",
     "shell.execute_reply": "2024-05-20T15:12:52.688454Z"
    }
   },
   "outputs": [
    {
     "name": "stdout",
     "output_type": "stream",
     "text": [
      "----------------------------------------------------------------\n",
      "Running experiment with seed 42...\n"
     ]
    },
    {
     "name": "stdout",
     "output_type": "stream",
     "text": [
      "Files already downloaded and verified\n"
     ]
    },
    {
     "name": "stdout",
     "output_type": "stream",
     "text": [
      "Files already downloaded and verified\n"
     ]
    },
    {
     "name": "stdout",
     "output_type": "stream",
     "text": [
      "Epoch   1/150 - Train accuracy: 10.055% - Test accuracy: 09.986%\n"
     ]
    },
    {
     "name": "stdout",
     "output_type": "stream",
     "text": [
      "Epoch   2/150 - Train accuracy: 22.217% - Test accuracy: 32.021%\n"
     ]
    },
    {
     "name": "stdout",
     "output_type": "stream",
     "text": [
      "Epoch   3/150 - Train accuracy: 35.389% - Test accuracy: 42.037%\n"
     ]
    },
    {
     "name": "stdout",
     "output_type": "stream",
     "text": [
      "Epoch   4/150 - Train accuracy: 43.514% - Test accuracy: 47.997%\n"
     ]
    },
    {
     "name": "stdout",
     "output_type": "stream",
     "text": [
      "Epoch   5/150 - Train accuracy: 48.409% - Test accuracy: 52.434%\n"
     ]
    },
    {
     "name": "stdout",
     "output_type": "stream",
     "text": [
      "Epoch   6/150 - Train accuracy: 53.319% - Test accuracy: 58.644%\n"
     ]
    },
    {
     "name": "stdout",
     "output_type": "stream",
     "text": [
      "Epoch   7/150 - Train accuracy: 57.404% - Test accuracy: 58.934%\n"
     ]
    },
    {
     "name": "stdout",
     "output_type": "stream",
     "text": [
      "Epoch   8/150 - Train accuracy: 60.175% - Test accuracy: 62.941%\n"
     ]
    },
    {
     "name": "stdout",
     "output_type": "stream",
     "text": [
      "Epoch   9/150 - Train accuracy: 62.024% - Test accuracy: 64.313%\n"
     ]
    },
    {
     "name": "stdout",
     "output_type": "stream",
     "text": [
      "Epoch  10/150 - Train accuracy: 64.317% - Test accuracy: 69.151%\n"
     ]
    },
    {
     "name": "stdout",
     "output_type": "stream",
     "text": [
      "Epoch  11/150 - Train accuracy: 65.325% - Test accuracy: 66.306%\n"
     ]
    },
    {
     "name": "stdout",
     "output_type": "stream",
     "text": [
      "Epoch  12/150 - Train accuracy: 67.131% - Test accuracy: 69.101%\n"
     ]
    },
    {
     "name": "stdout",
     "output_type": "stream",
     "text": [
      "Epoch  13/150 - Train accuracy: 68.086% - Test accuracy: 72.185%\n"
     ]
    },
    {
     "name": "stdout",
     "output_type": "stream",
     "text": [
      "Epoch  14/150 - Train accuracy: 69.298% - Test accuracy: 72.586%\n"
     ]
    },
    {
     "name": "stdout",
     "output_type": "stream",
     "text": [
      "Epoch  15/150 - Train accuracy: 69.872% - Test accuracy: 70.733%\n"
     ]
    },
    {
     "name": "stdout",
     "output_type": "stream",
     "text": [
      "Epoch  16/150 - Train accuracy: 71.001% - Test accuracy: 71.995%\n"
     ]
    },
    {
     "name": "stdout",
     "output_type": "stream",
     "text": [
      "Epoch  17/150 - Train accuracy: 71.711% - Test accuracy: 71.364%\n"
     ]
    },
    {
     "name": "stdout",
     "output_type": "stream",
     "text": [
      "Epoch  18/150 - Train accuracy: 72.351% - Test accuracy: 72.776%\n"
     ]
    },
    {
     "name": "stdout",
     "output_type": "stream",
     "text": [
      "Epoch  19/150 - Train accuracy: 73.035% - Test accuracy: 70.913%\n"
     ]
    },
    {
     "name": "stdout",
     "output_type": "stream",
     "text": [
      "Epoch  20/150 - Train accuracy: 73.886% - Test accuracy: 73.898%\n"
     ]
    },
    {
     "name": "stdout",
     "output_type": "stream",
     "text": [
      "Epoch  21/150 - Train accuracy: 74.252% - Test accuracy: 73.848%\n"
     ]
    },
    {
     "name": "stdout",
     "output_type": "stream",
     "text": [
      "Epoch  22/150 - Train accuracy: 74.676% - Test accuracy: 74.820%\n"
     ]
    },
    {
     "name": "stdout",
     "output_type": "stream",
     "text": [
      "Epoch  23/150 - Train accuracy: 75.386% - Test accuracy: 77.294%\n"
     ]
    },
    {
     "name": "stdout",
     "output_type": "stream",
     "text": [
      "Epoch  24/150 - Train accuracy: 75.554% - Test accuracy: 75.190%\n"
     ]
    },
    {
     "name": "stdout",
     "output_type": "stream",
     "text": [
      "Epoch  25/150 - Train accuracy: 76.168% - Test accuracy: 74.950%\n"
     ]
    },
    {
     "name": "stdout",
     "output_type": "stream",
     "text": [
      "Epoch  26/150 - Train accuracy: 76.502% - Test accuracy: 76.943%\n"
     ]
    },
    {
     "name": "stdout",
     "output_type": "stream",
     "text": [
      "Epoch  27/150 - Train accuracy: 76.699% - Test accuracy: 75.962%\n"
     ]
    },
    {
     "name": "stdout",
     "output_type": "stream",
     "text": [
      "Epoch  28/150 - Train accuracy: 77.487% - Test accuracy: 73.968%\n"
     ]
    },
    {
     "name": "stdout",
     "output_type": "stream",
     "text": [
      "Epoch  29/150 - Train accuracy: 77.677% - Test accuracy: 76.803%\n"
     ]
    },
    {
     "name": "stdout",
     "output_type": "stream",
     "text": [
      "Epoch  30/150 - Train accuracy: 77.865% - Test accuracy: 77.835%\n"
     ]
    },
    {
     "name": "stdout",
     "output_type": "stream",
     "text": [
      "Epoch  31/150 - Train accuracy: 78.739% - Test accuracy: 77.664%\n"
     ]
    },
    {
     "name": "stdout",
     "output_type": "stream",
     "text": [
      "Epoch  32/150 - Train accuracy: 78.659% - Test accuracy: 77.484%\n"
     ]
    },
    {
     "name": "stdout",
     "output_type": "stream",
     "text": [
      "Epoch  33/150 - Train accuracy: 78.909% - Test accuracy: 77.774%\n"
     ]
    },
    {
     "name": "stdout",
     "output_type": "stream",
     "text": [
      "Epoch  34/150 - Train accuracy: 79.255% - Test accuracy: 78.486%\n"
     ]
    },
    {
     "name": "stdout",
     "output_type": "stream",
     "text": [
      "Epoch  35/150 - Train accuracy: 79.541% - Test accuracy: 78.986%\n"
     ]
    },
    {
     "name": "stdout",
     "output_type": "stream",
     "text": [
      "Epoch  36/150 - Train accuracy: 79.507% - Test accuracy: 77.424%\n"
     ]
    },
    {
     "name": "stdout",
     "output_type": "stream",
     "text": [
      "Epoch  37/150 - Train accuracy: 79.671% - Test accuracy: 78.145%\n"
     ]
    },
    {
     "name": "stdout",
     "output_type": "stream",
     "text": [
      "Epoch  38/150 - Train accuracy: 80.192% - Test accuracy: 79.157%\n"
     ]
    },
    {
     "name": "stdout",
     "output_type": "stream",
     "text": [
      "Epoch  39/150 - Train accuracy: 80.688% - Test accuracy: 79.407%\n"
     ]
    },
    {
     "name": "stdout",
     "output_type": "stream",
     "text": [
      "Epoch  40/150 - Train accuracy: 80.528% - Test accuracy: 80.008%\n"
     ]
    },
    {
     "name": "stdout",
     "output_type": "stream",
     "text": [
      "Epoch  41/150 - Train accuracy: 80.770% - Test accuracy: 78.085%\n"
     ]
    },
    {
     "name": "stdout",
     "output_type": "stream",
     "text": [
      "Epoch  42/150 - Train accuracy: 80.880% - Test accuracy: 80.078%\n"
     ]
    },
    {
     "name": "stdout",
     "output_type": "stream",
     "text": [
      "Epoch  43/150 - Train accuracy: 81.128% - Test accuracy: 79.367%\n"
     ]
    },
    {
     "name": "stdout",
     "output_type": "stream",
     "text": [
      "Epoch  44/150 - Train accuracy: 81.288% - Test accuracy: 79.627%\n"
     ]
    },
    {
     "name": "stdout",
     "output_type": "stream",
     "text": [
      "Epoch  45/150 - Train accuracy: 81.464% - Test accuracy: 78.946%\n"
     ]
    },
    {
     "name": "stdout",
     "output_type": "stream",
     "text": [
      "Epoch  46/150 - Train accuracy: 81.336% - Test accuracy: 78.866%\n"
     ]
    },
    {
     "name": "stdout",
     "output_type": "stream",
     "text": [
      "Epoch  47/150 - Train accuracy: 81.656% - Test accuracy: 79.567%\n"
     ]
    },
    {
     "name": "stdout",
     "output_type": "stream",
     "text": [
      "Epoch  48/150 - Train accuracy: 81.624% - Test accuracy: 80.319%\n"
     ]
    },
    {
     "name": "stdout",
     "output_type": "stream",
     "text": [
      "Epoch  49/150 - Train accuracy: 82.068% - Test accuracy: 77.053%\n"
     ]
    },
    {
     "name": "stdout",
     "output_type": "stream",
     "text": [
      "Epoch  50/150 - Train accuracy: 82.140% - Test accuracy: 79.067%\n"
     ]
    },
    {
     "name": "stdout",
     "output_type": "stream",
     "text": [
      "Epoch  51/150 - Train accuracy: 82.162% - Test accuracy: 78.826%\n"
     ]
    },
    {
     "name": "stdout",
     "output_type": "stream",
     "text": [
      "Epoch  52/150 - Train accuracy: 82.288% - Test accuracy: 81.030%\n"
     ]
    },
    {
     "name": "stdout",
     "output_type": "stream",
     "text": [
      "Epoch  53/150 - Train accuracy: 82.292% - Test accuracy: 81.781%\n"
     ]
    },
    {
     "name": "stdout",
     "output_type": "stream",
     "text": [
      "Epoch  54/150 - Train accuracy: 82.778% - Test accuracy: 80.799%\n"
     ]
    },
    {
     "name": "stdout",
     "output_type": "stream",
     "text": [
      "Epoch  55/150 - Train accuracy: 82.604% - Test accuracy: 79.507%\n"
     ]
    },
    {
     "name": "stdout",
     "output_type": "stream",
     "text": [
      "Epoch  56/150 - Train accuracy: 83.341% - Test accuracy: 80.419%\n"
     ]
    },
    {
     "name": "stdout",
     "output_type": "stream",
     "text": [
      "Epoch  57/150 - Train accuracy: 82.949% - Test accuracy: 79.307%\n"
     ]
    },
    {
     "name": "stdout",
     "output_type": "stream",
     "text": [
      "Epoch  58/150 - Train accuracy: 82.889% - Test accuracy: 79.227%\n"
     ]
    },
    {
     "name": "stdout",
     "output_type": "stream",
     "text": [
      "Epoch  59/150 - Train accuracy: 83.505% - Test accuracy: 81.611%\n"
     ]
    },
    {
     "name": "stdout",
     "output_type": "stream",
     "text": [
      "Epoch  60/150 - Train accuracy: 83.201% - Test accuracy: 80.479%\n"
     ]
    },
    {
     "name": "stdout",
     "output_type": "stream",
     "text": [
      "Epoch  61/150 - Train accuracy: 83.125% - Test accuracy: 80.739%\n"
     ]
    },
    {
     "name": "stdout",
     "output_type": "stream",
     "text": [
      "Epoch  62/150 - Train accuracy: 83.511% - Test accuracy: 80.419%\n"
     ]
    },
    {
     "name": "stdout",
     "output_type": "stream",
     "text": [
      "Epoch  63/150 - Train accuracy: 83.229% - Test accuracy: 78.476%\n"
     ]
    },
    {
     "name": "stdout",
     "output_type": "stream",
     "text": [
      "Epoch  64/150 - Train accuracy: 83.321% - Test accuracy: 81.150%\n"
     ]
    },
    {
     "name": "stdout",
     "output_type": "stream",
     "text": [
      "Epoch  65/150 - Train accuracy: 83.551% - Test accuracy: 80.258%\n"
     ]
    },
    {
     "name": "stdout",
     "output_type": "stream",
     "text": [
      "Epoch  66/150 - Train accuracy: 83.405% - Test accuracy: 78.215%\n"
     ]
    },
    {
     "name": "stdout",
     "output_type": "stream",
     "text": [
      "Epoch  67/150 - Train accuracy: 83.575% - Test accuracy: 79.688%\n",
      "----------------------------------------------------------------\n",
      "Reducing learning rate on plateau at epoch 67\n",
      "----------------------------------------------------------------\n"
     ]
    },
    {
     "name": "stdout",
     "output_type": "stream",
     "text": [
      "Epoch  68/150 - Train accuracy: 88.430% - Test accuracy: 84.545%\n"
     ]
    },
    {
     "name": "stdout",
     "output_type": "stream",
     "text": [
      "Epoch  69/150 - Train accuracy: 89.083% - Test accuracy: 84.555%\n"
     ]
    },
    {
     "name": "stdout",
     "output_type": "stream",
     "text": [
      "Epoch  70/150 - Train accuracy: 89.375% - Test accuracy: 84.515%\n"
     ]
    },
    {
     "name": "stdout",
     "output_type": "stream",
     "text": [
      "Epoch  71/150 - Train accuracy: 89.739% - Test accuracy: 84.906%\n"
     ]
    },
    {
     "name": "stdout",
     "output_type": "stream",
     "text": [
      "Epoch  72/150 - Train accuracy: 89.621% - Test accuracy: 85.427%\n"
     ]
    },
    {
     "name": "stdout",
     "output_type": "stream",
     "text": [
      "Epoch  73/150 - Train accuracy: 89.873% - Test accuracy: 85.006%\n"
     ]
    },
    {
     "name": "stdout",
     "output_type": "stream",
     "text": [
      "Epoch  74/150 - Train accuracy: 89.913% - Test accuracy: 84.936%\n"
     ]
    },
    {
     "name": "stdout",
     "output_type": "stream",
     "text": [
      "Epoch  75/150 - Train accuracy: 90.309% - Test accuracy: 85.597%\n"
     ]
    },
    {
     "name": "stdout",
     "output_type": "stream",
     "text": [
      "Epoch  76/150 - Train accuracy: 90.113% - Test accuracy: 84.876%\n"
     ]
    },
    {
     "name": "stdout",
     "output_type": "stream",
     "text": [
      "Epoch  77/150 - Train accuracy: 90.365% - Test accuracy: 84.856%\n"
     ]
    },
    {
     "name": "stdout",
     "output_type": "stream",
     "text": [
      "Epoch  78/150 - Train accuracy: 90.161% - Test accuracy: 85.306%\n"
     ]
    },
    {
     "name": "stdout",
     "output_type": "stream",
     "text": [
      "Epoch  79/150 - Train accuracy: 90.787% - Test accuracy: 85.347%\n"
     ]
    },
    {
     "name": "stdout",
     "output_type": "stream",
     "text": [
      "Epoch  80/150 - Train accuracy: 90.531% - Test accuracy: 84.856%\n"
     ]
    },
    {
     "name": "stdout",
     "output_type": "stream",
     "text": [
      "Epoch  81/150 - Train accuracy: 90.577% - Test accuracy: 85.507%\n"
     ]
    },
    {
     "name": "stdout",
     "output_type": "stream",
     "text": [
      "Epoch  82/150 - Train accuracy: 90.771% - Test accuracy: 85.567%\n"
     ]
    },
    {
     "name": "stdout",
     "output_type": "stream",
     "text": [
      "Epoch  83/150 - Train accuracy: 90.729% - Test accuracy: 85.306%\n"
     ]
    },
    {
     "name": "stdout",
     "output_type": "stream",
     "text": [
      "Epoch  84/150 - Train accuracy: 90.789% - Test accuracy: 85.306%\n"
     ]
    },
    {
     "name": "stdout",
     "output_type": "stream",
     "text": [
      "Epoch  85/150 - Train accuracy: 90.875% - Test accuracy: 85.517%\n"
     ]
    },
    {
     "name": "stdout",
     "output_type": "stream",
     "text": [
      "Epoch  86/150 - Train accuracy: 90.995% - Test accuracy: 85.507%\n"
     ]
    },
    {
     "name": "stdout",
     "output_type": "stream",
     "text": [
      "Epoch  87/150 - Train accuracy: 90.917% - Test accuracy: 85.417%\n"
     ]
    },
    {
     "name": "stdout",
     "output_type": "stream",
     "text": [
      "Epoch  88/150 - Train accuracy: 91.013% - Test accuracy: 85.667%\n"
     ]
    },
    {
     "name": "stdout",
     "output_type": "stream",
     "text": [
      "Epoch  89/150 - Train accuracy: 91.195% - Test accuracy: 85.477%\n"
     ]
    },
    {
     "name": "stdout",
     "output_type": "stream",
     "text": [
      "Epoch  90/150 - Train accuracy: 90.803% - Test accuracy: 85.477%\n",
      "----------------------------------------------------------------\n",
      "Reducing learning rate on plateau at epoch 90\n",
      "----------------------------------------------------------------\n"
     ]
    },
    {
     "name": "stdout",
     "output_type": "stream",
     "text": [
      "Epoch  91/150 - Train accuracy: 92.466% - Test accuracy: 86.418%\n"
     ]
    },
    {
     "name": "stdout",
     "output_type": "stream",
     "text": [
      "Epoch  92/150 - Train accuracy: 92.702% - Test accuracy: 86.629%\n"
     ]
    },
    {
     "name": "stdout",
     "output_type": "stream",
     "text": [
      "Epoch  93/150 - Train accuracy: 92.790% - Test accuracy: 86.248%\n"
     ]
    },
    {
     "name": "stdout",
     "output_type": "stream",
     "text": [
      "Epoch  94/150 - Train accuracy: 92.764% - Test accuracy: 86.919%\n"
     ]
    },
    {
     "name": "stdout",
     "output_type": "stream",
     "text": [
      "Epoch  95/150 - Train accuracy: 92.874% - Test accuracy: 86.478%\n"
     ]
    },
    {
     "name": "stdout",
     "output_type": "stream",
     "text": [
      "Epoch  96/150 - Train accuracy: 92.826% - Test accuracy: 86.789%\n"
     ]
    },
    {
     "name": "stdout",
     "output_type": "stream",
     "text": [
      "Epoch  97/150 - Train accuracy: 92.932% - Test accuracy: 86.979%\n"
     ]
    },
    {
     "name": "stdout",
     "output_type": "stream",
     "text": [
      "Epoch  98/150 - Train accuracy: 92.816% - Test accuracy: 86.749%\n"
     ]
    },
    {
     "name": "stdout",
     "output_type": "stream",
     "text": [
      "Epoch  99/150 - Train accuracy: 92.946% - Test accuracy: 86.558%\n"
     ]
    },
    {
     "name": "stdout",
     "output_type": "stream",
     "text": [
      "Epoch 100/150 - Train accuracy: 92.922% - Test accuracy: 86.679%\n"
     ]
    },
    {
     "name": "stdout",
     "output_type": "stream",
     "text": [
      "Epoch 101/150 - Train accuracy: 92.928% - Test accuracy: 86.649%\n"
     ]
    },
    {
     "name": "stdout",
     "output_type": "stream",
     "text": [
      "Epoch 102/150 - Train accuracy: 93.288% - Test accuracy: 86.809%\n"
     ]
    },
    {
     "name": "stdout",
     "output_type": "stream",
     "text": [
      "Epoch 103/150 - Train accuracy: 93.276% - Test accuracy: 86.989%\n"
     ]
    },
    {
     "name": "stdout",
     "output_type": "stream",
     "text": [
      "Epoch 104/150 - Train accuracy: 93.096% - Test accuracy: 86.909%\n"
     ]
    },
    {
     "name": "stdout",
     "output_type": "stream",
     "text": [
      "Epoch 105/150 - Train accuracy: 93.030% - Test accuracy: 86.869%\n"
     ]
    },
    {
     "name": "stdout",
     "output_type": "stream",
     "text": [
      "Epoch 106/150 - Train accuracy: 93.196% - Test accuracy: 86.759%\n"
     ]
    },
    {
     "name": "stdout",
     "output_type": "stream",
     "text": [
      "Epoch 107/150 - Train accuracy: 92.926% - Test accuracy: 86.579%\n",
      "----------------------------------------------------------------\n",
      "Reducing learning rate on plateau at epoch 107\n",
      "----------------------------------------------------------------\n"
     ]
    },
    {
     "name": "stdout",
     "output_type": "stream",
     "text": [
      "Epoch 108/150 - Train accuracy: 93.634% - Test accuracy: 87.079%\n"
     ]
    },
    {
     "name": "stdout",
     "output_type": "stream",
     "text": [
      "Epoch 109/150 - Train accuracy: 93.618% - Test accuracy: 87.139%\n"
     ]
    },
    {
     "name": "stdout",
     "output_type": "stream",
     "text": [
      "Epoch 110/150 - Train accuracy: 93.536% - Test accuracy: 87.210%\n"
     ]
    },
    {
     "name": "stdout",
     "output_type": "stream",
     "text": [
      "Epoch 111/150 - Train accuracy: 93.510% - Test accuracy: 87.129%\n"
     ]
    },
    {
     "name": "stdout",
     "output_type": "stream",
     "text": [
      "Epoch 112/150 - Train accuracy: 93.628% - Test accuracy: 87.260%\n"
     ]
    },
    {
     "name": "stdout",
     "output_type": "stream",
     "text": [
      "Epoch 113/150 - Train accuracy: 93.552% - Test accuracy: 87.139%\n"
     ]
    },
    {
     "name": "stdout",
     "output_type": "stream",
     "text": [
      "Epoch 114/150 - Train accuracy: 93.542% - Test accuracy: 87.169%\n"
     ]
    },
    {
     "name": "stdout",
     "output_type": "stream",
     "text": [
      "Epoch 115/150 - Train accuracy: 93.556% - Test accuracy: 87.169%\n"
     ]
    },
    {
     "name": "stdout",
     "output_type": "stream",
     "text": [
      "Epoch 116/150 - Train accuracy: 93.506% - Test accuracy: 87.270%\n"
     ]
    },
    {
     "name": "stdout",
     "output_type": "stream",
     "text": [
      "Epoch 117/150 - Train accuracy: 93.756% - Test accuracy: 87.059%\n"
     ]
    },
    {
     "name": "stdout",
     "output_type": "stream",
     "text": [
      "Epoch 118/150 - Train accuracy: 93.658% - Test accuracy: 87.079%\n"
     ]
    },
    {
     "name": "stdout",
     "output_type": "stream",
     "text": [
      "Epoch 119/150 - Train accuracy: 93.828% - Test accuracy: 87.149%\n"
     ]
    },
    {
     "name": "stdout",
     "output_type": "stream",
     "text": [
      "Epoch 120/150 - Train accuracy: 93.618% - Test accuracy: 87.230%\n"
     ]
    },
    {
     "name": "stdout",
     "output_type": "stream",
     "text": [
      "Epoch 121/150 - Train accuracy: 93.796% - Test accuracy: 87.109%\n"
     ]
    },
    {
     "name": "stdout",
     "output_type": "stream",
     "text": [
      "Epoch 122/150 - Train accuracy: 93.678% - Test accuracy: 86.969%\n",
      "----------------------------------------------------------------\n",
      "Reducing learning rate on plateau at epoch 122\n",
      "----------------------------------------------------------------\n"
     ]
    },
    {
     "name": "stdout",
     "output_type": "stream",
     "text": [
      "Epoch 123/150 - Train accuracy: 93.626% - Test accuracy: 87.320%\n"
     ]
    },
    {
     "name": "stdout",
     "output_type": "stream",
     "text": [
      "Epoch 124/150 - Train accuracy: 93.736% - Test accuracy: 87.340%\n"
     ]
    },
    {
     "name": "stdout",
     "output_type": "stream",
     "text": [
      "Epoch 125/150 - Train accuracy: 93.724% - Test accuracy: 87.270%\n"
     ]
    },
    {
     "name": "stdout",
     "output_type": "stream",
     "text": [
      "Epoch 126/150 - Train accuracy: 93.766% - Test accuracy: 87.250%\n"
     ]
    },
    {
     "name": "stdout",
     "output_type": "stream",
     "text": [
      "Epoch 127/150 - Train accuracy: 93.682% - Test accuracy: 87.230%\n",
      "----------------------------------------------------------------\n",
      "Early stopping at epoch 127\n",
      "----------------------------------------------------------------\n"
     ]
    },
    {
     "name": "stdout",
     "output_type": "stream",
     "text": [
      "----------------------------------------------------------------\n",
      "Running experiment with seed 43...\n"
     ]
    },
    {
     "name": "stdout",
     "output_type": "stream",
     "text": [
      "Files already downloaded and verified\n"
     ]
    },
    {
     "name": "stdout",
     "output_type": "stream",
     "text": [
      "Files already downloaded and verified\n"
     ]
    },
    {
     "name": "stdout",
     "output_type": "stream",
     "text": [
      "Epoch   1/150 - Train accuracy: 10.193% - Test accuracy: 10.016%\n"
     ]
    },
    {
     "name": "stdout",
     "output_type": "stream",
     "text": [
      "Epoch   2/150 - Train accuracy: 21.021% - Test accuracy: 28.736%\n"
     ]
    },
    {
     "name": "stdout",
     "output_type": "stream",
     "text": [
      "Epoch   3/150 - Train accuracy: 34.177% - Test accuracy: 43.249%\n"
     ]
    },
    {
     "name": "stdout",
     "output_type": "stream",
     "text": [
      "Epoch   4/150 - Train accuracy: 42.720% - Test accuracy: 47.286%\n"
     ]
    },
    {
     "name": "stdout",
     "output_type": "stream",
     "text": [
      "Epoch   5/150 - Train accuracy: 47.887% - Test accuracy: 52.324%\n"
     ]
    },
    {
     "name": "stdout",
     "output_type": "stream",
     "text": [
      "Epoch   6/150 - Train accuracy: 53.009% - Test accuracy: 56.200%\n"
     ]
    },
    {
     "name": "stdout",
     "output_type": "stream",
     "text": [
      "Epoch   7/150 - Train accuracy: 56.472% - Test accuracy: 60.557%\n"
     ]
    },
    {
     "name": "stdout",
     "output_type": "stream",
     "text": [
      "Epoch   8/150 - Train accuracy: 59.805% - Test accuracy: 57.392%\n"
     ]
    },
    {
     "name": "stdout",
     "output_type": "stream",
     "text": [
      "Epoch   9/150 - Train accuracy: 61.690% - Test accuracy: 65.004%\n"
     ]
    },
    {
     "name": "stdout",
     "output_type": "stream",
     "text": [
      "Epoch  10/150 - Train accuracy: 63.448% - Test accuracy: 67.478%\n"
     ]
    },
    {
     "name": "stdout",
     "output_type": "stream",
     "text": [
      "Epoch  11/150 - Train accuracy: 64.981% - Test accuracy: 66.687%\n"
     ]
    },
    {
     "name": "stdout",
     "output_type": "stream",
     "text": [
      "Epoch  12/150 - Train accuracy: 66.579% - Test accuracy: 67.768%\n"
     ]
    },
    {
     "name": "stdout",
     "output_type": "stream",
     "text": [
      "Epoch  13/150 - Train accuracy: 67.954% - Test accuracy: 71.765%\n"
     ]
    },
    {
     "name": "stdout",
     "output_type": "stream",
     "text": [
      "Epoch  14/150 - Train accuracy: 69.394% - Test accuracy: 68.550%\n"
     ]
    },
    {
     "name": "stdout",
     "output_type": "stream",
     "text": [
      "Epoch  15/150 - Train accuracy: 70.216% - Test accuracy: 72.746%\n"
     ]
    },
    {
     "name": "stdout",
     "output_type": "stream",
     "text": [
      "Epoch  16/150 - Train accuracy: 70.631% - Test accuracy: 72.366%\n"
     ]
    },
    {
     "name": "stdout",
     "output_type": "stream",
     "text": [
      "Epoch  17/150 - Train accuracy: 71.437% - Test accuracy: 72.546%\n"
     ]
    },
    {
     "name": "stdout",
     "output_type": "stream",
     "text": [
      "Epoch  18/150 - Train accuracy: 72.441% - Test accuracy: 73.948%\n"
     ]
    },
    {
     "name": "stdout",
     "output_type": "stream",
     "text": [
      "Epoch  19/150 - Train accuracy: 72.845% - Test accuracy: 72.456%\n"
     ]
    },
    {
     "name": "stdout",
     "output_type": "stream",
     "text": [
      "Epoch  20/150 - Train accuracy: 73.862% - Test accuracy: 72.927%\n"
     ]
    },
    {
     "name": "stdout",
     "output_type": "stream",
     "text": [
      "Epoch  21/150 - Train accuracy: 74.158% - Test accuracy: 74.309%\n"
     ]
    },
    {
     "name": "stdout",
     "output_type": "stream",
     "text": [
      "Epoch  22/150 - Train accuracy: 74.760% - Test accuracy: 75.751%\n"
     ]
    },
    {
     "name": "stdout",
     "output_type": "stream",
     "text": [
      "Epoch  23/150 - Train accuracy: 75.266% - Test accuracy: 73.067%\n"
     ]
    },
    {
     "name": "stdout",
     "output_type": "stream",
     "text": [
      "Epoch  24/150 - Train accuracy: 75.692% - Test accuracy: 73.798%\n"
     ]
    },
    {
     "name": "stdout",
     "output_type": "stream",
     "text": [
      "Epoch  25/150 - Train accuracy: 75.794% - Test accuracy: 77.364%\n"
     ]
    },
    {
     "name": "stdout",
     "output_type": "stream",
     "text": [
      "Epoch  26/150 - Train accuracy: 76.456% - Test accuracy: 76.472%\n"
     ]
    },
    {
     "name": "stdout",
     "output_type": "stream",
     "text": [
      "Epoch  27/150 - Train accuracy: 76.925% - Test accuracy: 76.032%\n"
     ]
    },
    {
     "name": "stdout",
     "output_type": "stream",
     "text": [
      "Epoch  28/150 - Train accuracy: 77.413% - Test accuracy: 75.891%\n"
     ]
    },
    {
     "name": "stdout",
     "output_type": "stream",
     "text": [
      "Epoch  29/150 - Train accuracy: 77.505% - Test accuracy: 76.022%\n"
     ]
    },
    {
     "name": "stdout",
     "output_type": "stream",
     "text": [
      "Epoch  30/150 - Train accuracy: 78.063% - Test accuracy: 77.314%\n"
     ]
    },
    {
     "name": "stdout",
     "output_type": "stream",
     "text": [
      "Epoch  31/150 - Train accuracy: 78.335% - Test accuracy: 77.955%\n"
     ]
    },
    {
     "name": "stdout",
     "output_type": "stream",
     "text": [
      "Epoch  32/150 - Train accuracy: 78.687% - Test accuracy: 76.382%\n"
     ]
    },
    {
     "name": "stdout",
     "output_type": "stream",
     "text": [
      "Epoch  33/150 - Train accuracy: 78.725% - Test accuracy: 78.606%\n"
     ]
    },
    {
     "name": "stdout",
     "output_type": "stream",
     "text": [
      "Epoch  34/150 - Train accuracy: 78.899% - Test accuracy: 78.345%\n"
     ]
    },
    {
     "name": "stdout",
     "output_type": "stream",
     "text": [
      "Epoch  35/150 - Train accuracy: 79.231% - Test accuracy: 77.825%\n"
     ]
    },
    {
     "name": "stdout",
     "output_type": "stream",
     "text": [
      "Epoch  36/150 - Train accuracy: 79.431% - Test accuracy: 79.357%\n"
     ]
    },
    {
     "name": "stdout",
     "output_type": "stream",
     "text": [
      "Epoch  37/150 - Train accuracy: 79.958% - Test accuracy: 79.197%\n"
     ]
    },
    {
     "name": "stdout",
     "output_type": "stream",
     "text": [
      "Epoch  38/150 - Train accuracy: 79.822% - Test accuracy: 78.866%\n"
     ]
    },
    {
     "name": "stdout",
     "output_type": "stream",
     "text": [
      "Epoch  39/150 - Train accuracy: 80.570% - Test accuracy: 79.247%\n"
     ]
    },
    {
     "name": "stdout",
     "output_type": "stream",
     "text": [
      "Epoch  40/150 - Train accuracy: 80.430% - Test accuracy: 79.708%\n"
     ]
    },
    {
     "name": "stdout",
     "output_type": "stream",
     "text": [
      "Epoch  41/150 - Train accuracy: 80.638% - Test accuracy: 76.833%\n"
     ]
    },
    {
     "name": "stdout",
     "output_type": "stream",
     "text": [
      "Epoch  42/150 - Train accuracy: 80.852% - Test accuracy: 78.796%\n"
     ]
    },
    {
     "name": "stdout",
     "output_type": "stream",
     "text": [
      "Epoch  43/150 - Train accuracy: 81.142% - Test accuracy: 79.477%\n"
     ]
    },
    {
     "name": "stdout",
     "output_type": "stream",
     "text": [
      "Epoch  44/150 - Train accuracy: 81.344% - Test accuracy: 79.287%\n"
     ]
    },
    {
     "name": "stdout",
     "output_type": "stream",
     "text": [
      "Epoch  45/150 - Train accuracy: 81.050% - Test accuracy: 79.758%\n"
     ]
    },
    {
     "name": "stdout",
     "output_type": "stream",
     "text": [
      "Epoch  46/150 - Train accuracy: 81.808% - Test accuracy: 79.367%\n"
     ]
    },
    {
     "name": "stdout",
     "output_type": "stream",
     "text": [
      "Epoch  47/150 - Train accuracy: 81.536% - Test accuracy: 79.778%\n"
     ]
    },
    {
     "name": "stdout",
     "output_type": "stream",
     "text": [
      "Epoch  48/150 - Train accuracy: 81.906% - Test accuracy: 78.846%\n"
     ]
    },
    {
     "name": "stdout",
     "output_type": "stream",
     "text": [
      "Epoch  49/150 - Train accuracy: 81.500% - Test accuracy: 79.958%\n"
     ]
    },
    {
     "name": "stdout",
     "output_type": "stream",
     "text": [
      "Epoch  50/150 - Train accuracy: 81.668% - Test accuracy: 79.738%\n"
     ]
    },
    {
     "name": "stdout",
     "output_type": "stream",
     "text": [
      "Epoch  51/150 - Train accuracy: 82.206% - Test accuracy: 77.274%\n"
     ]
    },
    {
     "name": "stdout",
     "output_type": "stream",
     "text": [
      "Epoch  52/150 - Train accuracy: 82.304% - Test accuracy: 79.277%\n"
     ]
    },
    {
     "name": "stdout",
     "output_type": "stream",
     "text": [
      "Epoch  53/150 - Train accuracy: 82.152% - Test accuracy: 79.988%\n"
     ]
    },
    {
     "name": "stdout",
     "output_type": "stream",
     "text": [
      "Epoch  54/150 - Train accuracy: 82.412% - Test accuracy: 80.258%\n"
     ]
    },
    {
     "name": "stdout",
     "output_type": "stream",
     "text": [
      "Epoch  55/150 - Train accuracy: 82.536% - Test accuracy: 77.244%\n",
      "----------------------------------------------------------------\n",
      "Reducing learning rate on plateau at epoch 55\n",
      "----------------------------------------------------------------\n"
     ]
    },
    {
     "name": "stdout",
     "output_type": "stream",
     "text": [
      "Epoch  56/150 - Train accuracy: 87.276% - Test accuracy: 84.125%\n"
     ]
    },
    {
     "name": "stdout",
     "output_type": "stream",
     "text": [
      "Epoch  57/150 - Train accuracy: 87.728% - Test accuracy: 83.924%\n"
     ]
    },
    {
     "name": "stdout",
     "output_type": "stream",
     "text": [
      "Epoch  58/150 - Train accuracy: 88.102% - Test accuracy: 84.595%\n"
     ]
    },
    {
     "name": "stdout",
     "output_type": "stream",
     "text": [
      "Epoch  59/150 - Train accuracy: 87.918% - Test accuracy: 84.205%\n"
     ]
    },
    {
     "name": "stdout",
     "output_type": "stream",
     "text": [
      "Epoch  60/150 - Train accuracy: 88.562% - Test accuracy: 84.545%\n"
     ]
    },
    {
     "name": "stdout",
     "output_type": "stream",
     "text": [
      "Epoch  61/150 - Train accuracy: 88.594% - Test accuracy: 84.685%\n"
     ]
    },
    {
     "name": "stdout",
     "output_type": "stream",
     "text": [
      "Epoch  62/150 - Train accuracy: 88.896% - Test accuracy: 84.675%\n"
     ]
    },
    {
     "name": "stdout",
     "output_type": "stream",
     "text": [
      "Epoch  63/150 - Train accuracy: 88.858% - Test accuracy: 84.435%\n"
     ]
    },
    {
     "name": "stdout",
     "output_type": "stream",
     "text": [
      "Epoch  64/150 - Train accuracy: 89.145% - Test accuracy: 84.565%\n"
     ]
    },
    {
     "name": "stdout",
     "output_type": "stream",
     "text": [
      "Epoch  65/150 - Train accuracy: 89.103% - Test accuracy: 84.575%\n"
     ]
    },
    {
     "name": "stdout",
     "output_type": "stream",
     "text": [
      "Epoch  66/150 - Train accuracy: 89.345% - Test accuracy: 84.655%\n"
     ]
    },
    {
     "name": "stdout",
     "output_type": "stream",
     "text": [
      "Epoch  67/150 - Train accuracy: 89.419% - Test accuracy: 85.387%\n"
     ]
    },
    {
     "name": "stdout",
     "output_type": "stream",
     "text": [
      "Epoch  68/150 - Train accuracy: 89.311% - Test accuracy: 84.826%\n"
     ]
    },
    {
     "name": "stdout",
     "output_type": "stream",
     "text": [
      "Epoch  69/150 - Train accuracy: 89.583% - Test accuracy: 84.826%\n"
     ]
    },
    {
     "name": "stdout",
     "output_type": "stream",
     "text": [
      "Epoch  70/150 - Train accuracy: 89.491% - Test accuracy: 85.086%\n"
     ]
    },
    {
     "name": "stdout",
     "output_type": "stream",
     "text": [
      "Epoch  71/150 - Train accuracy: 89.641% - Test accuracy: 85.196%\n"
     ]
    },
    {
     "name": "stdout",
     "output_type": "stream",
     "text": [
      "Epoch  72/150 - Train accuracy: 89.639% - Test accuracy: 85.106%\n"
     ]
    },
    {
     "name": "stdout",
     "output_type": "stream",
     "text": [
      "Epoch  73/150 - Train accuracy: 89.789% - Test accuracy: 85.216%\n"
     ]
    },
    {
     "name": "stdout",
     "output_type": "stream",
     "text": [
      "Epoch  74/150 - Train accuracy: 89.859% - Test accuracy: 85.036%\n"
     ]
    },
    {
     "name": "stdout",
     "output_type": "stream",
     "text": [
      "Epoch  75/150 - Train accuracy: 90.009% - Test accuracy: 84.265%\n"
     ]
    },
    {
     "name": "stdout",
     "output_type": "stream",
     "text": [
      "Epoch  76/150 - Train accuracy: 89.731% - Test accuracy: 85.477%\n"
     ]
    },
    {
     "name": "stdout",
     "output_type": "stream",
     "text": [
      "Epoch  77/150 - Train accuracy: 90.259% - Test accuracy: 85.337%\n"
     ]
    },
    {
     "name": "stdout",
     "output_type": "stream",
     "text": [
      "Epoch  78/150 - Train accuracy: 90.063% - Test accuracy: 84.395%\n"
     ]
    },
    {
     "name": "stdout",
     "output_type": "stream",
     "text": [
      "Epoch  79/150 - Train accuracy: 90.165% - Test accuracy: 85.417%\n"
     ]
    },
    {
     "name": "stdout",
     "output_type": "stream",
     "text": [
      "Epoch  80/150 - Train accuracy: 90.227% - Test accuracy: 84.736%\n"
     ]
    },
    {
     "name": "stdout",
     "output_type": "stream",
     "text": [
      "Epoch  81/150 - Train accuracy: 90.329% - Test accuracy: 85.727%\n"
     ]
    },
    {
     "name": "stdout",
     "output_type": "stream",
     "text": [
      "Epoch  82/150 - Train accuracy: 90.485% - Test accuracy: 84.696%\n",
      "----------------------------------------------------------------\n",
      "Reducing learning rate on plateau at epoch 82\n",
      "----------------------------------------------------------------\n"
     ]
    },
    {
     "name": "stdout",
     "output_type": "stream",
     "text": [
      "Epoch  83/150 - Train accuracy: 91.953% - Test accuracy: 86.689%\n"
     ]
    },
    {
     "name": "stdout",
     "output_type": "stream",
     "text": [
      "Epoch  84/150 - Train accuracy: 92.200% - Test accuracy: 86.699%\n"
     ]
    },
    {
     "name": "stdout",
     "output_type": "stream",
     "text": [
      "Epoch  85/150 - Train accuracy: 92.314% - Test accuracy: 86.669%\n"
     ]
    },
    {
     "name": "stdout",
     "output_type": "stream",
     "text": [
      "Epoch  86/150 - Train accuracy: 92.250% - Test accuracy: 86.398%\n"
     ]
    },
    {
     "name": "stdout",
     "output_type": "stream",
     "text": [
      "Epoch  87/150 - Train accuracy: 92.123% - Test accuracy: 86.719%\n"
     ]
    },
    {
     "name": "stdout",
     "output_type": "stream",
     "text": [
      "Epoch  88/150 - Train accuracy: 92.330% - Test accuracy: 86.438%\n"
     ]
    },
    {
     "name": "stdout",
     "output_type": "stream",
     "text": [
      "Epoch  89/150 - Train accuracy: 92.398% - Test accuracy: 86.428%\n"
     ]
    },
    {
     "name": "stdout",
     "output_type": "stream",
     "text": [
      "Epoch  90/150 - Train accuracy: 92.308% - Test accuracy: 86.839%\n"
     ]
    },
    {
     "name": "stdout",
     "output_type": "stream",
     "text": [
      "Epoch  91/150 - Train accuracy: 91.991% - Test accuracy: 86.458%\n"
     ]
    },
    {
     "name": "stdout",
     "output_type": "stream",
     "text": [
      "Epoch  92/150 - Train accuracy: 92.238% - Test accuracy: 86.899%\n"
     ]
    },
    {
     "name": "stdout",
     "output_type": "stream",
     "text": [
      "Epoch  93/150 - Train accuracy: 92.584% - Test accuracy: 86.348%\n"
     ]
    },
    {
     "name": "stdout",
     "output_type": "stream",
     "text": [
      "Epoch  94/150 - Train accuracy: 92.576% - Test accuracy: 86.849%\n"
     ]
    },
    {
     "name": "stdout",
     "output_type": "stream",
     "text": [
      "Epoch  95/150 - Train accuracy: 92.356% - Test accuracy: 86.639%\n"
     ]
    },
    {
     "name": "stdout",
     "output_type": "stream",
     "text": [
      "Epoch  96/150 - Train accuracy: 92.500% - Test accuracy: 86.639%\n"
     ]
    },
    {
     "name": "stdout",
     "output_type": "stream",
     "text": [
      "Epoch  97/150 - Train accuracy: 92.482% - Test accuracy: 86.799%\n"
     ]
    },
    {
     "name": "stdout",
     "output_type": "stream",
     "text": [
      "Epoch  98/150 - Train accuracy: 92.402% - Test accuracy: 86.749%\n",
      "----------------------------------------------------------------\n",
      "Reducing learning rate on plateau at epoch 98\n",
      "----------------------------------------------------------------\n"
     ]
    },
    {
     "name": "stdout",
     "output_type": "stream",
     "text": [
      "Epoch  99/150 - Train accuracy: 92.886% - Test accuracy: 87.029%\n"
     ]
    },
    {
     "name": "stdout",
     "output_type": "stream",
     "text": [
      "Epoch 100/150 - Train accuracy: 93.092% - Test accuracy: 87.079%\n"
     ]
    },
    {
     "name": "stdout",
     "output_type": "stream",
     "text": [
      "Epoch 101/150 - Train accuracy: 92.934% - Test accuracy: 87.139%\n"
     ]
    },
    {
     "name": "stdout",
     "output_type": "stream",
     "text": [
      "Epoch 102/150 - Train accuracy: 93.156% - Test accuracy: 87.159%\n"
     ]
    },
    {
     "name": "stdout",
     "output_type": "stream",
     "text": [
      "Epoch 103/150 - Train accuracy: 93.066% - Test accuracy: 87.019%\n"
     ]
    },
    {
     "name": "stdout",
     "output_type": "stream",
     "text": [
      "Epoch 104/150 - Train accuracy: 93.040% - Test accuracy: 87.079%\n"
     ]
    },
    {
     "name": "stdout",
     "output_type": "stream",
     "text": [
      "Epoch 105/150 - Train accuracy: 93.028% - Test accuracy: 86.899%\n"
     ]
    },
    {
     "name": "stdout",
     "output_type": "stream",
     "text": [
      "Epoch 106/150 - Train accuracy: 92.920% - Test accuracy: 86.899%\n"
     ]
    },
    {
     "name": "stdout",
     "output_type": "stream",
     "text": [
      "Epoch 107/150 - Train accuracy: 93.020% - Test accuracy: 87.079%\n"
     ]
    },
    {
     "name": "stdout",
     "output_type": "stream",
     "text": [
      "Epoch 108/150 - Train accuracy: 93.126% - Test accuracy: 86.949%\n"
     ]
    },
    {
     "name": "stdout",
     "output_type": "stream",
     "text": [
      "Epoch 109/150 - Train accuracy: 92.958% - Test accuracy: 87.019%\n"
     ]
    },
    {
     "name": "stdout",
     "output_type": "stream",
     "text": [
      "Epoch 110/150 - Train accuracy: 93.044% - Test accuracy: 86.799%\n"
     ]
    },
    {
     "name": "stdout",
     "output_type": "stream",
     "text": [
      "Epoch 111/150 - Train accuracy: 93.056% - Test accuracy: 87.019%\n"
     ]
    },
    {
     "name": "stdout",
     "output_type": "stream",
     "text": [
      "Epoch 112/150 - Train accuracy: 93.126% - Test accuracy: 86.949%\n"
     ]
    },
    {
     "name": "stdout",
     "output_type": "stream",
     "text": [
      "Epoch 113/150 - Train accuracy: 93.158% - Test accuracy: 86.899%\n",
      "----------------------------------------------------------------\n",
      "Reducing learning rate on plateau at epoch 113\n",
      "----------------------------------------------------------------\n"
     ]
    },
    {
     "name": "stdout",
     "output_type": "stream",
     "text": [
      "Epoch 114/150 - Train accuracy: 93.110% - Test accuracy: 87.069%\n"
     ]
    },
    {
     "name": "stdout",
     "output_type": "stream",
     "text": [
      "Epoch 115/150 - Train accuracy: 93.362% - Test accuracy: 87.019%\n"
     ]
    },
    {
     "name": "stdout",
     "output_type": "stream",
     "text": [
      "Epoch 116/150 - Train accuracy: 93.194% - Test accuracy: 86.959%\n"
     ]
    },
    {
     "name": "stdout",
     "output_type": "stream",
     "text": [
      "Epoch 117/150 - Train accuracy: 93.142% - Test accuracy: 86.959%\n"
     ]
    },
    {
     "name": "stdout",
     "output_type": "stream",
     "text": [
      "Epoch 118/150 - Train accuracy: 93.058% - Test accuracy: 87.059%\n",
      "----------------------------------------------------------------\n",
      "Early stopping at epoch 118\n",
      "----------------------------------------------------------------\n"
     ]
    },
    {
     "name": "stdout",
     "output_type": "stream",
     "text": [
      "----------------------------------------------------------------\n",
      "Running experiment with seed 44...\n"
     ]
    },
    {
     "name": "stdout",
     "output_type": "stream",
     "text": [
      "Files already downloaded and verified\n"
     ]
    },
    {
     "name": "stdout",
     "output_type": "stream",
     "text": [
      "Files already downloaded and verified\n"
     ]
    },
    {
     "name": "stdout",
     "output_type": "stream",
     "text": [
      "Epoch   1/150 - Train accuracy: 10.155% - Test accuracy: 09.996%\n"
     ]
    },
    {
     "name": "stdout",
     "output_type": "stream",
     "text": [
      "Epoch   2/150 - Train accuracy: 21.599% - Test accuracy: 31.931%\n"
     ]
    },
    {
     "name": "stdout",
     "output_type": "stream",
     "text": [
      "Epoch   3/150 - Train accuracy: 34.763% - Test accuracy: 37.750%\n"
     ]
    },
    {
     "name": "stdout",
     "output_type": "stream",
     "text": [
      "Epoch   4/150 - Train accuracy: 42.214% - Test accuracy: 45.813%\n"
     ]
    },
    {
     "name": "stdout",
     "output_type": "stream",
     "text": [
      "Epoch   5/150 - Train accuracy: 48.165% - Test accuracy: 51.072%\n"
     ]
    },
    {
     "name": "stdout",
     "output_type": "stream",
     "text": [
      "Epoch   6/150 - Train accuracy: 53.035% - Test accuracy: 54.237%\n"
     ]
    },
    {
     "name": "stdout",
     "output_type": "stream",
     "text": [
      "Epoch   7/150 - Train accuracy: 57.258% - Test accuracy: 56.951%\n"
     ]
    },
    {
     "name": "stdout",
     "output_type": "stream",
     "text": [
      "Epoch   8/150 - Train accuracy: 59.967% - Test accuracy: 64.403%\n"
     ]
    },
    {
     "name": "stdout",
     "output_type": "stream",
     "text": [
      "Epoch   9/150 - Train accuracy: 62.360% - Test accuracy: 65.635%\n"
     ]
    },
    {
     "name": "stdout",
     "output_type": "stream",
     "text": [
      "Epoch  10/150 - Train accuracy: 64.257% - Test accuracy: 68.860%\n"
     ]
    },
    {
     "name": "stdout",
     "output_type": "stream",
     "text": [
      "Epoch  11/150 - Train accuracy: 65.791% - Test accuracy: 69.802%\n"
     ]
    },
    {
     "name": "stdout",
     "output_type": "stream",
     "text": [
      "Epoch  12/150 - Train accuracy: 66.781% - Test accuracy: 68.319%\n"
     ]
    },
    {
     "name": "stdout",
     "output_type": "stream",
     "text": [
      "Epoch  13/150 - Train accuracy: 68.178% - Test accuracy: 71.865%\n"
     ]
    },
    {
     "name": "stdout",
     "output_type": "stream",
     "text": [
      "Epoch  14/150 - Train accuracy: 69.872% - Test accuracy: 71.274%\n"
     ]
    },
    {
     "name": "stdout",
     "output_type": "stream",
     "text": [
      "Epoch  15/150 - Train accuracy: 70.222% - Test accuracy: 68.620%\n"
     ]
    },
    {
     "name": "stdout",
     "output_type": "stream",
     "text": [
      "Epoch  16/150 - Train accuracy: 70.987% - Test accuracy: 73.057%\n"
     ]
    },
    {
     "name": "stdout",
     "output_type": "stream",
     "text": [
      "Epoch  17/150 - Train accuracy: 71.973% - Test accuracy: 73.227%\n"
     ]
    },
    {
     "name": "stdout",
     "output_type": "stream",
     "text": [
      "Epoch  18/150 - Train accuracy: 72.891% - Test accuracy: 71.514%\n"
     ]
    },
    {
     "name": "stdout",
     "output_type": "stream",
     "text": [
      "Epoch  19/150 - Train accuracy: 73.349% - Test accuracy: 73.297%\n"
     ]
    },
    {
     "name": "stdout",
     "output_type": "stream",
     "text": [
      "Epoch  20/150 - Train accuracy: 73.866% - Test accuracy: 73.027%\n"
     ]
    },
    {
     "name": "stdout",
     "output_type": "stream",
     "text": [
      "Epoch  21/150 - Train accuracy: 74.262% - Test accuracy: 72.776%\n"
     ]
    },
    {
     "name": "stdout",
     "output_type": "stream",
     "text": [
      "Epoch  22/150 - Train accuracy: 74.658% - Test accuracy: 73.798%\n"
     ]
    },
    {
     "name": "stdout",
     "output_type": "stream",
     "text": [
      "Epoch  23/150 - Train accuracy: 75.618% - Test accuracy: 75.020%\n"
     ]
    },
    {
     "name": "stdout",
     "output_type": "stream",
     "text": [
      "Epoch  24/150 - Train accuracy: 76.008% - Test accuracy: 74.690%\n"
     ]
    },
    {
     "name": "stdout",
     "output_type": "stream",
     "text": [
      "Epoch  25/150 - Train accuracy: 76.486% - Test accuracy: 74.289%\n"
     ]
    },
    {
     "name": "stdout",
     "output_type": "stream",
     "text": [
      "Epoch  26/150 - Train accuracy: 76.482% - Test accuracy: 76.963%\n"
     ]
    },
    {
     "name": "stdout",
     "output_type": "stream",
     "text": [
      "Epoch  27/150 - Train accuracy: 77.153% - Test accuracy: 77.284%\n"
     ]
    },
    {
     "name": "stdout",
     "output_type": "stream",
     "text": [
      "Epoch  28/150 - Train accuracy: 77.283% - Test accuracy: 77.624%\n"
     ]
    },
    {
     "name": "stdout",
     "output_type": "stream",
     "text": [
      "Epoch  29/150 - Train accuracy: 77.889% - Test accuracy: 74.589%\n"
     ]
    },
    {
     "name": "stdout",
     "output_type": "stream",
     "text": [
      "Epoch  30/150 - Train accuracy: 78.029% - Test accuracy: 76.753%\n"
     ]
    },
    {
     "name": "stdout",
     "output_type": "stream",
     "text": [
      "Epoch  31/150 - Train accuracy: 78.463% - Test accuracy: 76.883%\n"
     ]
    },
    {
     "name": "stdout",
     "output_type": "stream",
     "text": [
      "Epoch  32/150 - Train accuracy: 78.689% - Test accuracy: 77.654%\n"
     ]
    },
    {
     "name": "stdout",
     "output_type": "stream",
     "text": [
      "Epoch  33/150 - Train accuracy: 78.759% - Test accuracy: 76.993%\n"
     ]
    },
    {
     "name": "stdout",
     "output_type": "stream",
     "text": [
      "Epoch  34/150 - Train accuracy: 79.155% - Test accuracy: 77.965%\n"
     ]
    },
    {
     "name": "stdout",
     "output_type": "stream",
     "text": [
      "Epoch  35/150 - Train accuracy: 79.746% - Test accuracy: 77.804%\n"
     ]
    },
    {
     "name": "stdout",
     "output_type": "stream",
     "text": [
      "Epoch  36/150 - Train accuracy: 79.553% - Test accuracy: 79.337%\n"
     ]
    },
    {
     "name": "stdout",
     "output_type": "stream",
     "text": [
      "Epoch  37/150 - Train accuracy: 79.876% - Test accuracy: 78.736%\n"
     ]
    },
    {
     "name": "stdout",
     "output_type": "stream",
     "text": [
      "Epoch  38/150 - Train accuracy: 80.264% - Test accuracy: 78.716%\n"
     ]
    },
    {
     "name": "stdout",
     "output_type": "stream",
     "text": [
      "Epoch  39/150 - Train accuracy: 80.306% - Test accuracy: 80.078%\n"
     ]
    },
    {
     "name": "stdout",
     "output_type": "stream",
     "text": [
      "Epoch  40/150 - Train accuracy: 80.452% - Test accuracy: 79.117%\n"
     ]
    },
    {
     "name": "stdout",
     "output_type": "stream",
     "text": [
      "Epoch  41/150 - Train accuracy: 80.550% - Test accuracy: 78.536%\n"
     ]
    },
    {
     "name": "stdout",
     "output_type": "stream",
     "text": [
      "Epoch  42/150 - Train accuracy: 81.114% - Test accuracy: 79.587%\n"
     ]
    },
    {
     "name": "stdout",
     "output_type": "stream",
     "text": [
      "Epoch  43/150 - Train accuracy: 81.040% - Test accuracy: 78.496%\n"
     ]
    },
    {
     "name": "stdout",
     "output_type": "stream",
     "text": [
      "Epoch  44/150 - Train accuracy: 81.502% - Test accuracy: 80.178%\n"
     ]
    },
    {
     "name": "stdout",
     "output_type": "stream",
     "text": [
      "Epoch  45/150 - Train accuracy: 81.472% - Test accuracy: 79.317%\n"
     ]
    },
    {
     "name": "stdout",
     "output_type": "stream",
     "text": [
      "Epoch  46/150 - Train accuracy: 81.708% - Test accuracy: 80.549%\n"
     ]
    },
    {
     "name": "stdout",
     "output_type": "stream",
     "text": [
      "Epoch  47/150 - Train accuracy: 81.920% - Test accuracy: 80.058%\n"
     ]
    },
    {
     "name": "stdout",
     "output_type": "stream",
     "text": [
      "Epoch  48/150 - Train accuracy: 82.004% - Test accuracy: 78.506%\n"
     ]
    },
    {
     "name": "stdout",
     "output_type": "stream",
     "text": [
      "Epoch  49/150 - Train accuracy: 82.144% - Test accuracy: 78.786%\n"
     ]
    },
    {
     "name": "stdout",
     "output_type": "stream",
     "text": [
      "Epoch  50/150 - Train accuracy: 81.830% - Test accuracy: 77.404%\n"
     ]
    },
    {
     "name": "stdout",
     "output_type": "stream",
     "text": [
      "Epoch  51/150 - Train accuracy: 82.272% - Test accuracy: 80.439%\n"
     ]
    },
    {
     "name": "stdout",
     "output_type": "stream",
     "text": [
      "Epoch  52/150 - Train accuracy: 82.280% - Test accuracy: 77.494%\n"
     ]
    },
    {
     "name": "stdout",
     "output_type": "stream",
     "text": [
      "Epoch  53/150 - Train accuracy: 82.526% - Test accuracy: 78.856%\n"
     ]
    },
    {
     "name": "stdout",
     "output_type": "stream",
     "text": [
      "Epoch  54/150 - Train accuracy: 82.498% - Test accuracy: 80.909%\n"
     ]
    },
    {
     "name": "stdout",
     "output_type": "stream",
     "text": [
      "Epoch  55/150 - Train accuracy: 82.837% - Test accuracy: 81.010%\n"
     ]
    },
    {
     "name": "stdout",
     "output_type": "stream",
     "text": [
      "Epoch  56/150 - Train accuracy: 83.047% - Test accuracy: 80.859%\n"
     ]
    },
    {
     "name": "stdout",
     "output_type": "stream",
     "text": [
      "Epoch  57/150 - Train accuracy: 82.837% - Test accuracy: 80.950%\n"
     ]
    },
    {
     "name": "stdout",
     "output_type": "stream",
     "text": [
      "Epoch  58/150 - Train accuracy: 83.295% - Test accuracy: 80.419%\n"
     ]
    },
    {
     "name": "stdout",
     "output_type": "stream",
     "text": [
      "Epoch  59/150 - Train accuracy: 82.688% - Test accuracy: 81.150%\n"
     ]
    },
    {
     "name": "stdout",
     "output_type": "stream",
     "text": [
      "Epoch  60/150 - Train accuracy: 83.205% - Test accuracy: 79.768%\n"
     ]
    },
    {
     "name": "stdout",
     "output_type": "stream",
     "text": [
      "Epoch  61/150 - Train accuracy: 83.349% - Test accuracy: 79.427%\n",
      "----------------------------------------------------------------\n",
      "Reducing learning rate on plateau at epoch 61\n",
      "----------------------------------------------------------------\n"
     ]
    },
    {
     "name": "stdout",
     "output_type": "stream",
     "text": [
      "Epoch  62/150 - Train accuracy: 87.706% - Test accuracy: 84.355%\n"
     ]
    },
    {
     "name": "stdout",
     "output_type": "stream",
     "text": [
      "Epoch  63/150 - Train accuracy: 88.730% - Test accuracy: 84.455%\n"
     ]
    },
    {
     "name": "stdout",
     "output_type": "stream",
     "text": [
      "Epoch  64/150 - Train accuracy: 88.788% - Test accuracy: 84.806%\n"
     ]
    },
    {
     "name": "stdout",
     "output_type": "stream",
     "text": [
      "Epoch  65/150 - Train accuracy: 89.159% - Test accuracy: 84.936%\n"
     ]
    },
    {
     "name": "stdout",
     "output_type": "stream",
     "text": [
      "Epoch  66/150 - Train accuracy: 89.253% - Test accuracy: 84.355%\n"
     ]
    },
    {
     "name": "stdout",
     "output_type": "stream",
     "text": [
      "Epoch  67/150 - Train accuracy: 89.369% - Test accuracy: 85.046%\n"
     ]
    },
    {
     "name": "stdout",
     "output_type": "stream",
     "text": [
      "Epoch  68/150 - Train accuracy: 89.605% - Test accuracy: 84.996%\n"
     ]
    },
    {
     "name": "stdout",
     "output_type": "stream",
     "text": [
      "Epoch  69/150 - Train accuracy: 89.677% - Test accuracy: 85.226%\n"
     ]
    },
    {
     "name": "stdout",
     "output_type": "stream",
     "text": [
      "Epoch  70/150 - Train accuracy: 89.789% - Test accuracy: 85.106%\n"
     ]
    },
    {
     "name": "stdout",
     "output_type": "stream",
     "text": [
      "Epoch  71/150 - Train accuracy: 89.739% - Test accuracy: 84.685%\n"
     ]
    },
    {
     "name": "stdout",
     "output_type": "stream",
     "text": [
      "Epoch  72/150 - Train accuracy: 89.855% - Test accuracy: 84.846%\n"
     ]
    },
    {
     "name": "stdout",
     "output_type": "stream",
     "text": [
      "Epoch  73/150 - Train accuracy: 90.103% - Test accuracy: 85.667%\n"
     ]
    },
    {
     "name": "stdout",
     "output_type": "stream",
     "text": [
      "Epoch  74/150 - Train accuracy: 90.077% - Test accuracy: 84.916%\n"
     ]
    },
    {
     "name": "stdout",
     "output_type": "stream",
     "text": [
      "Epoch  75/150 - Train accuracy: 89.927% - Test accuracy: 85.767%\n"
     ]
    },
    {
     "name": "stdout",
     "output_type": "stream",
     "text": [
      "Epoch  76/150 - Train accuracy: 90.109% - Test accuracy: 84.896%\n"
     ]
    },
    {
     "name": "stdout",
     "output_type": "stream",
     "text": [
      "Epoch  77/150 - Train accuracy: 90.247% - Test accuracy: 85.767%\n"
     ]
    },
    {
     "name": "stdout",
     "output_type": "stream",
     "text": [
      "Epoch  78/150 - Train accuracy: 90.209% - Test accuracy: 84.245%\n"
     ]
    },
    {
     "name": "stdout",
     "output_type": "stream",
     "text": [
      "Epoch  79/150 - Train accuracy: 90.533% - Test accuracy: 85.306%\n"
     ]
    },
    {
     "name": "stdout",
     "output_type": "stream",
     "text": [
      "Epoch  80/150 - Train accuracy: 90.321% - Test accuracy: 85.146%\n"
     ]
    },
    {
     "name": "stdout",
     "output_type": "stream",
     "text": [
      "Epoch  81/150 - Train accuracy: 90.329% - Test accuracy: 85.266%\n"
     ]
    },
    {
     "name": "stdout",
     "output_type": "stream",
     "text": [
      "Epoch  82/150 - Train accuracy: 90.597% - Test accuracy: 85.587%\n"
     ]
    },
    {
     "name": "stdout",
     "output_type": "stream",
     "text": [
      "Epoch  83/150 - Train accuracy: 90.527% - Test accuracy: 85.006%\n"
     ]
    },
    {
     "name": "stdout",
     "output_type": "stream",
     "text": [
      "Epoch  84/150 - Train accuracy: 90.765% - Test accuracy: 84.746%\n"
     ]
    },
    {
     "name": "stdout",
     "output_type": "stream",
     "text": [
      "Epoch  85/150 - Train accuracy: 90.681% - Test accuracy: 84.926%\n"
     ]
    },
    {
     "name": "stdout",
     "output_type": "stream",
     "text": [
      "Epoch  86/150 - Train accuracy: 90.713% - Test accuracy: 85.427%\n"
     ]
    },
    {
     "name": "stdout",
     "output_type": "stream",
     "text": [
      "Epoch  87/150 - Train accuracy: 91.025% - Test accuracy: 84.886%\n"
     ]
    },
    {
     "name": "stdout",
     "output_type": "stream",
     "text": [
      "Epoch  88/150 - Train accuracy: 90.929% - Test accuracy: 84.555%\n",
      "----------------------------------------------------------------\n",
      "Reducing learning rate on plateau at epoch 88\n",
      "----------------------------------------------------------------\n"
     ]
    },
    {
     "name": "stdout",
     "output_type": "stream",
     "text": [
      "Epoch  89/150 - Train accuracy: 92.392% - Test accuracy: 86.328%\n"
     ]
    },
    {
     "name": "stdout",
     "output_type": "stream",
     "text": [
      "Epoch  90/150 - Train accuracy: 92.386% - Test accuracy: 86.619%\n"
     ]
    },
    {
     "name": "stdout",
     "output_type": "stream",
     "text": [
      "Epoch  91/150 - Train accuracy: 92.654% - Test accuracy: 86.428%\n"
     ]
    },
    {
     "name": "stdout",
     "output_type": "stream",
     "text": [
      "Epoch  92/150 - Train accuracy: 92.486% - Test accuracy: 86.368%\n"
     ]
    },
    {
     "name": "stdout",
     "output_type": "stream",
     "text": [
      "Epoch  93/150 - Train accuracy: 92.550% - Test accuracy: 86.769%\n"
     ]
    },
    {
     "name": "stdout",
     "output_type": "stream",
     "text": [
      "Epoch  94/150 - Train accuracy: 92.670% - Test accuracy: 86.689%\n"
     ]
    },
    {
     "name": "stdout",
     "output_type": "stream",
     "text": [
      "Epoch  95/150 - Train accuracy: 92.638% - Test accuracy: 86.699%\n"
     ]
    },
    {
     "name": "stdout",
     "output_type": "stream",
     "text": [
      "Epoch  96/150 - Train accuracy: 92.730% - Test accuracy: 86.589%\n"
     ]
    },
    {
     "name": "stdout",
     "output_type": "stream",
     "text": [
      "Epoch  97/150 - Train accuracy: 92.822% - Test accuracy: 86.999%\n"
     ]
    },
    {
     "name": "stdout",
     "output_type": "stream",
     "text": [
      "Epoch  98/150 - Train accuracy: 92.786% - Test accuracy: 86.929%\n"
     ]
    },
    {
     "name": "stdout",
     "output_type": "stream",
     "text": [
      "Epoch  99/150 - Train accuracy: 92.936% - Test accuracy: 86.408%\n"
     ]
    },
    {
     "name": "stdout",
     "output_type": "stream",
     "text": [
      "Epoch 100/150 - Train accuracy: 92.838% - Test accuracy: 86.999%\n"
     ]
    },
    {
     "name": "stdout",
     "output_type": "stream",
     "text": [
      "Epoch 101/150 - Train accuracy: 92.838% - Test accuracy: 87.059%\n"
     ]
    },
    {
     "name": "stdout",
     "output_type": "stream",
     "text": [
      "Epoch 102/150 - Train accuracy: 92.818% - Test accuracy: 86.779%\n"
     ]
    },
    {
     "name": "stdout",
     "output_type": "stream",
     "text": [
      "Epoch 103/150 - Train accuracy: 92.728% - Test accuracy: 87.029%\n"
     ]
    },
    {
     "name": "stdout",
     "output_type": "stream",
     "text": [
      "Epoch 104/150 - Train accuracy: 92.864% - Test accuracy: 86.719%\n"
     ]
    },
    {
     "name": "stdout",
     "output_type": "stream",
     "text": [
      "Epoch 105/150 - Train accuracy: 92.836% - Test accuracy: 87.069%\n"
     ]
    },
    {
     "name": "stdout",
     "output_type": "stream",
     "text": [
      "Epoch 106/150 - Train accuracy: 92.954% - Test accuracy: 86.759%\n"
     ]
    },
    {
     "name": "stdout",
     "output_type": "stream",
     "text": [
      "Epoch 107/150 - Train accuracy: 92.948% - Test accuracy: 87.210%\n"
     ]
    },
    {
     "name": "stdout",
     "output_type": "stream",
     "text": [
      "Epoch 108/150 - Train accuracy: 92.758% - Test accuracy: 86.969%\n",
      "----------------------------------------------------------------\n",
      "Reducing learning rate on plateau at epoch 108\n",
      "----------------------------------------------------------------\n"
     ]
    },
    {
     "name": "stdout",
     "output_type": "stream",
     "text": [
      "Epoch 109/150 - Train accuracy: 93.200% - Test accuracy: 87.460%\n"
     ]
    },
    {
     "name": "stdout",
     "output_type": "stream",
     "text": [
      "Epoch 110/150 - Train accuracy: 93.406% - Test accuracy: 87.290%\n"
     ]
    },
    {
     "name": "stdout",
     "output_type": "stream",
     "text": [
      "Epoch 111/150 - Train accuracy: 93.306% - Test accuracy: 87.630%\n"
     ]
    },
    {
     "name": "stdout",
     "output_type": "stream",
     "text": [
      "Epoch 112/150 - Train accuracy: 93.620% - Test accuracy: 87.370%\n"
     ]
    },
    {
     "name": "stdout",
     "output_type": "stream",
     "text": [
      "Epoch 113/150 - Train accuracy: 93.520% - Test accuracy: 87.290%\n"
     ]
    },
    {
     "name": "stdout",
     "output_type": "stream",
     "text": [
      "Epoch 114/150 - Train accuracy: 93.650% - Test accuracy: 87.270%\n"
     ]
    },
    {
     "name": "stdout",
     "output_type": "stream",
     "text": [
      "Epoch 115/150 - Train accuracy: 93.522% - Test accuracy: 87.470%\n"
     ]
    },
    {
     "name": "stdout",
     "output_type": "stream",
     "text": [
      "Epoch 116/150 - Train accuracy: 93.470% - Test accuracy: 87.400%\n"
     ]
    },
    {
     "name": "stdout",
     "output_type": "stream",
     "text": [
      "Epoch 117/150 - Train accuracy: 93.494% - Test accuracy: 87.310%\n"
     ]
    },
    {
     "name": "stdout",
     "output_type": "stream",
     "text": [
      "Epoch 118/150 - Train accuracy: 93.482% - Test accuracy: 87.360%\n"
     ]
    },
    {
     "name": "stdout",
     "output_type": "stream",
     "text": [
      "Epoch 119/150 - Train accuracy: 93.414% - Test accuracy: 87.450%\n"
     ]
    },
    {
     "name": "stdout",
     "output_type": "stream",
     "text": [
      "Epoch 120/150 - Train accuracy: 93.624% - Test accuracy: 87.390%\n"
     ]
    },
    {
     "name": "stdout",
     "output_type": "stream",
     "text": [
      "Epoch 121/150 - Train accuracy: 93.520% - Test accuracy: 87.430%\n"
     ]
    },
    {
     "name": "stdout",
     "output_type": "stream",
     "text": [
      "Epoch 122/150 - Train accuracy: 93.562% - Test accuracy: 87.550%\n"
     ]
    },
    {
     "name": "stdout",
     "output_type": "stream",
     "text": [
      "Epoch 123/150 - Train accuracy: 93.454% - Test accuracy: 87.330%\n",
      "----------------------------------------------------------------\n",
      "Reducing learning rate on plateau at epoch 123\n",
      "----------------------------------------------------------------\n"
     ]
    },
    {
     "name": "stdout",
     "output_type": "stream",
     "text": [
      "Epoch 124/150 - Train accuracy: 93.816% - Test accuracy: 87.500%\n"
     ]
    },
    {
     "name": "stdout",
     "output_type": "stream",
     "text": [
      "Epoch 125/150 - Train accuracy: 93.480% - Test accuracy: 87.580%\n"
     ]
    },
    {
     "name": "stdout",
     "output_type": "stream",
     "text": [
      "Epoch 126/150 - Train accuracy: 93.682% - Test accuracy: 87.610%\n"
     ]
    },
    {
     "name": "stdout",
     "output_type": "stream",
     "text": [
      "Epoch 127/150 - Train accuracy: 93.626% - Test accuracy: 87.490%\n"
     ]
    },
    {
     "name": "stdout",
     "output_type": "stream",
     "text": [
      "Epoch 128/150 - Train accuracy: 93.834% - Test accuracy: 87.510%\n",
      "----------------------------------------------------------------\n",
      "Early stopping at epoch 128\n",
      "----------------------------------------------------------------\n"
     ]
    },
    {
     "name": "stdout",
     "output_type": "stream",
     "text": [
      "----------------------------------------------------------------\n",
      "Running experiment with seed 45...\n"
     ]
    },
    {
     "name": "stdout",
     "output_type": "stream",
     "text": [
      "Files already downloaded and verified\n"
     ]
    },
    {
     "name": "stdout",
     "output_type": "stream",
     "text": [
      "Files already downloaded and verified\n"
     ]
    },
    {
     "name": "stdout",
     "output_type": "stream",
     "text": [
      "Epoch   1/150 - Train accuracy: 09.925% - Test accuracy: 09.986%\n"
     ]
    },
    {
     "name": "stdout",
     "output_type": "stream",
     "text": [
      "Epoch   2/150 - Train accuracy: 22.113% - Test accuracy: 28.876%\n"
     ]
    },
    {
     "name": "stdout",
     "output_type": "stream",
     "text": [
      "Epoch   3/150 - Train accuracy: 34.505% - Test accuracy: 39.613%\n"
     ]
    },
    {
     "name": "stdout",
     "output_type": "stream",
     "text": [
      "Epoch   4/150 - Train accuracy: 43.022% - Test accuracy: 46.054%\n"
     ]
    },
    {
     "name": "stdout",
     "output_type": "stream",
     "text": [
      "Epoch   5/150 - Train accuracy: 48.207% - Test accuracy: 49.860%\n"
     ]
    },
    {
     "name": "stdout",
     "output_type": "stream",
     "text": [
      "Epoch   6/150 - Train accuracy: 52.619% - Test accuracy: 54.878%\n"
     ]
    },
    {
     "name": "stdout",
     "output_type": "stream",
     "text": [
      "Epoch   7/150 - Train accuracy: 56.740% - Test accuracy: 60.036%\n"
     ]
    },
    {
     "name": "stdout",
     "output_type": "stream",
     "text": [
      "Epoch   8/150 - Train accuracy: 59.643% - Test accuracy: 62.099%\n"
     ]
    },
    {
     "name": "stdout",
     "output_type": "stream",
     "text": [
      "Epoch   9/150 - Train accuracy: 61.686% - Test accuracy: 62.570%\n"
     ]
    },
    {
     "name": "stdout",
     "output_type": "stream",
     "text": [
      "Epoch  10/150 - Train accuracy: 63.748% - Test accuracy: 69.651%\n"
     ]
    },
    {
     "name": "stdout",
     "output_type": "stream",
     "text": [
      "Epoch  11/150 - Train accuracy: 65.483% - Test accuracy: 67.588%\n"
     ]
    },
    {
     "name": "stdout",
     "output_type": "stream",
     "text": [
      "Epoch  12/150 - Train accuracy: 66.677% - Test accuracy: 67.258%\n"
     ]
    },
    {
     "name": "stdout",
     "output_type": "stream",
     "text": [
      "Epoch  13/150 - Train accuracy: 68.072% - Test accuracy: 67.869%\n"
     ]
    },
    {
     "name": "stdout",
     "output_type": "stream",
     "text": [
      "Epoch  14/150 - Train accuracy: 68.856% - Test accuracy: 68.700%\n"
     ]
    },
    {
     "name": "stdout",
     "output_type": "stream",
     "text": [
      "Epoch  15/150 - Train accuracy: 69.934% - Test accuracy: 68.850%\n"
     ]
    },
    {
     "name": "stdout",
     "output_type": "stream",
     "text": [
      "Epoch  16/150 - Train accuracy: 71.231% - Test accuracy: 69.251%\n"
     ]
    },
    {
     "name": "stdout",
     "output_type": "stream",
     "text": [
      "Epoch  17/150 - Train accuracy: 72.065% - Test accuracy: 73.628%\n"
     ]
    },
    {
     "name": "stdout",
     "output_type": "stream",
     "text": [
      "Epoch  18/150 - Train accuracy: 72.457% - Test accuracy: 72.817%\n"
     ]
    },
    {
     "name": "stdout",
     "output_type": "stream",
     "text": [
      "Epoch  19/150 - Train accuracy: 72.903% - Test accuracy: 73.438%\n"
     ]
    },
    {
     "name": "stdout",
     "output_type": "stream",
     "text": [
      "Epoch  20/150 - Train accuracy: 73.982% - Test accuracy: 74.529%\n"
     ]
    },
    {
     "name": "stdout",
     "output_type": "stream",
     "text": [
      "Epoch  21/150 - Train accuracy: 74.038% - Test accuracy: 76.843%\n"
     ]
    },
    {
     "name": "stdout",
     "output_type": "stream",
     "text": [
      "Epoch  22/150 - Train accuracy: 74.936% - Test accuracy: 75.230%\n"
     ]
    },
    {
     "name": "stdout",
     "output_type": "stream",
     "text": [
      "Epoch  23/150 - Train accuracy: 75.600% - Test accuracy: 73.217%\n"
     ]
    },
    {
     "name": "stdout",
     "output_type": "stream",
     "text": [
      "Epoch  24/150 - Train accuracy: 75.994% - Test accuracy: 77.214%\n"
     ]
    },
    {
     "name": "stdout",
     "output_type": "stream",
     "text": [
      "Epoch  25/150 - Train accuracy: 76.414% - Test accuracy: 76.763%\n"
     ]
    },
    {
     "name": "stdout",
     "output_type": "stream",
     "text": [
      "Epoch  26/150 - Train accuracy: 77.065% - Test accuracy: 77.163%\n"
     ]
    },
    {
     "name": "stdout",
     "output_type": "stream",
     "text": [
      "Epoch  27/150 - Train accuracy: 76.975% - Test accuracy: 74.139%\n"
     ]
    },
    {
     "name": "stdout",
     "output_type": "stream",
     "text": [
      "Epoch  28/150 - Train accuracy: 77.447% - Test accuracy: 76.663%\n"
     ]
    },
    {
     "name": "stdout",
     "output_type": "stream",
     "text": [
      "Epoch  29/150 - Train accuracy: 78.041% - Test accuracy: 77.965%\n"
     ]
    },
    {
     "name": "stdout",
     "output_type": "stream",
     "text": [
      "Epoch  30/150 - Train accuracy: 78.311% - Test accuracy: 76.713%\n"
     ]
    },
    {
     "name": "stdout",
     "output_type": "stream",
     "text": [
      "Epoch  31/150 - Train accuracy: 78.517% - Test accuracy: 77.614%\n"
     ]
    },
    {
     "name": "stdout",
     "output_type": "stream",
     "text": [
      "Epoch  32/150 - Train accuracy: 78.759% - Test accuracy: 78.686%\n"
     ]
    },
    {
     "name": "stdout",
     "output_type": "stream",
     "text": [
      "Epoch  33/150 - Train accuracy: 79.069% - Test accuracy: 77.454%\n"
     ]
    },
    {
     "name": "stdout",
     "output_type": "stream",
     "text": [
      "Epoch  34/150 - Train accuracy: 79.243% - Test accuracy: 77.905%\n"
     ]
    },
    {
     "name": "stdout",
     "output_type": "stream",
     "text": [
      "Epoch  35/150 - Train accuracy: 79.551% - Test accuracy: 79.257%\n"
     ]
    },
    {
     "name": "stdout",
     "output_type": "stream",
     "text": [
      "Epoch  36/150 - Train accuracy: 79.605% - Test accuracy: 78.175%\n"
     ]
    },
    {
     "name": "stdout",
     "output_type": "stream",
     "text": [
      "Epoch  37/150 - Train accuracy: 79.782% - Test accuracy: 78.435%\n"
     ]
    },
    {
     "name": "stdout",
     "output_type": "stream",
     "text": [
      "Epoch  38/150 - Train accuracy: 80.134% - Test accuracy: 79.968%\n"
     ]
    },
    {
     "name": "stdout",
     "output_type": "stream",
     "text": [
      "Epoch  39/150 - Train accuracy: 80.692% - Test accuracy: 79.137%\n"
     ]
    },
    {
     "name": "stdout",
     "output_type": "stream",
     "text": [
      "Epoch  40/150 - Train accuracy: 80.508% - Test accuracy: 77.794%\n"
     ]
    },
    {
     "name": "stdout",
     "output_type": "stream",
     "text": [
      "Epoch  41/150 - Train accuracy: 80.738% - Test accuracy: 79.267%\n"
     ]
    },
    {
     "name": "stdout",
     "output_type": "stream",
     "text": [
      "Epoch  42/150 - Train accuracy: 80.802% - Test accuracy: 79.307%\n"
     ]
    },
    {
     "name": "stdout",
     "output_type": "stream",
     "text": [
      "Epoch  43/150 - Train accuracy: 80.718% - Test accuracy: 78.275%\n"
     ]
    },
    {
     "name": "stdout",
     "output_type": "stream",
     "text": [
      "Epoch  44/150 - Train accuracy: 81.144% - Test accuracy: 79.788%\n"
     ]
    },
    {
     "name": "stdout",
     "output_type": "stream",
     "text": [
      "Epoch  45/150 - Train accuracy: 81.578% - Test accuracy: 79.367%\n"
     ]
    },
    {
     "name": "stdout",
     "output_type": "stream",
     "text": [
      "Epoch  46/150 - Train accuracy: 81.440% - Test accuracy: 78.405%\n"
     ]
    },
    {
     "name": "stdout",
     "output_type": "stream",
     "text": [
      "Epoch  47/150 - Train accuracy: 81.604% - Test accuracy: 77.264%\n"
     ]
    },
    {
     "name": "stdout",
     "output_type": "stream",
     "text": [
      "Epoch  48/150 - Train accuracy: 81.802% - Test accuracy: 79.778%\n"
     ]
    },
    {
     "name": "stdout",
     "output_type": "stream",
     "text": [
      "Epoch  49/150 - Train accuracy: 81.780% - Test accuracy: 78.486%\n"
     ]
    },
    {
     "name": "stdout",
     "output_type": "stream",
     "text": [
      "Epoch  50/150 - Train accuracy: 82.024% - Test accuracy: 80.399%\n"
     ]
    },
    {
     "name": "stdout",
     "output_type": "stream",
     "text": [
      "Epoch  51/150 - Train accuracy: 81.994% - Test accuracy: 79.968%\n"
     ]
    },
    {
     "name": "stdout",
     "output_type": "stream",
     "text": [
      "Epoch  52/150 - Train accuracy: 82.092% - Test accuracy: 80.208%\n"
     ]
    },
    {
     "name": "stdout",
     "output_type": "stream",
     "text": [
      "Epoch  53/150 - Train accuracy: 82.058% - Test accuracy: 79.557%\n"
     ]
    },
    {
     "name": "stdout",
     "output_type": "stream",
     "text": [
      "Epoch  54/150 - Train accuracy: 82.624% - Test accuracy: 80.729%\n"
     ]
    },
    {
     "name": "stdout",
     "output_type": "stream",
     "text": [
      "Epoch  55/150 - Train accuracy: 82.736% - Test accuracy: 80.829%\n"
     ]
    },
    {
     "name": "stdout",
     "output_type": "stream",
     "text": [
      "Epoch  56/150 - Train accuracy: 82.877% - Test accuracy: 79.708%\n"
     ]
    },
    {
     "name": "stdout",
     "output_type": "stream",
     "text": [
      "Epoch  57/150 - Train accuracy: 82.590% - Test accuracy: 79.828%\n"
     ]
    },
    {
     "name": "stdout",
     "output_type": "stream",
     "text": [
      "Epoch  58/150 - Train accuracy: 83.059% - Test accuracy: 77.865%\n"
     ]
    },
    {
     "name": "stdout",
     "output_type": "stream",
     "text": [
      "Epoch  59/150 - Train accuracy: 83.329% - Test accuracy: 78.846%\n"
     ]
    },
    {
     "name": "stdout",
     "output_type": "stream",
     "text": [
      "Epoch  60/150 - Train accuracy: 82.476% - Test accuracy: 80.749%\n"
     ]
    },
    {
     "name": "stdout",
     "output_type": "stream",
     "text": [
      "Epoch  61/150 - Train accuracy: 83.453% - Test accuracy: 80.739%\n"
     ]
    },
    {
     "name": "stdout",
     "output_type": "stream",
     "text": [
      "Epoch  62/150 - Train accuracy: 83.269% - Test accuracy: 81.280%\n"
     ]
    },
    {
     "name": "stdout",
     "output_type": "stream",
     "text": [
      "Epoch  63/150 - Train accuracy: 83.633% - Test accuracy: 81.010%\n"
     ]
    },
    {
     "name": "stdout",
     "output_type": "stream",
     "text": [
      "Epoch  64/150 - Train accuracy: 83.787% - Test accuracy: 80.238%\n"
     ]
    },
    {
     "name": "stdout",
     "output_type": "stream",
     "text": [
      "Epoch  65/150 - Train accuracy: 83.379% - Test accuracy: 79.257%\n",
      "----------------------------------------------------------------\n",
      "Reducing learning rate on plateau at epoch 65\n",
      "----------------------------------------------------------------\n"
     ]
    },
    {
     "name": "stdout",
     "output_type": "stream",
     "text": [
      "Epoch  66/150 - Train accuracy: 87.886% - Test accuracy: 83.684%\n"
     ]
    },
    {
     "name": "stdout",
     "output_type": "stream",
     "text": [
      "Epoch  67/150 - Train accuracy: 88.814% - Test accuracy: 84.185%\n"
     ]
    },
    {
     "name": "stdout",
     "output_type": "stream",
     "text": [
      "Epoch  68/150 - Train accuracy: 89.030% - Test accuracy: 84.685%\n"
     ]
    },
    {
     "name": "stdout",
     "output_type": "stream",
     "text": [
      "Epoch  69/150 - Train accuracy: 89.215% - Test accuracy: 84.766%\n"
     ]
    },
    {
     "name": "stdout",
     "output_type": "stream",
     "text": [
      "Epoch  70/150 - Train accuracy: 89.537% - Test accuracy: 84.796%\n"
     ]
    },
    {
     "name": "stdout",
     "output_type": "stream",
     "text": [
      "Epoch  71/150 - Train accuracy: 89.555% - Test accuracy: 85.026%\n"
     ]
    },
    {
     "name": "stdout",
     "output_type": "stream",
     "text": [
      "Epoch  72/150 - Train accuracy: 89.649% - Test accuracy: 84.665%\n"
     ]
    },
    {
     "name": "stdout",
     "output_type": "stream",
     "text": [
      "Epoch  73/150 - Train accuracy: 89.675% - Test accuracy: 84.726%\n"
     ]
    },
    {
     "name": "stdout",
     "output_type": "stream",
     "text": [
      "Epoch  74/150 - Train accuracy: 89.895% - Test accuracy: 84.956%\n"
     ]
    },
    {
     "name": "stdout",
     "output_type": "stream",
     "text": [
      "Epoch  75/150 - Train accuracy: 89.907% - Test accuracy: 84.395%\n"
     ]
    },
    {
     "name": "stdout",
     "output_type": "stream",
     "text": [
      "Epoch  76/150 - Train accuracy: 90.045% - Test accuracy: 85.206%\n"
     ]
    },
    {
     "name": "stdout",
     "output_type": "stream",
     "text": [
      "Epoch  77/150 - Train accuracy: 90.265% - Test accuracy: 84.836%\n"
     ]
    },
    {
     "name": "stdout",
     "output_type": "stream",
     "text": [
      "Epoch  78/150 - Train accuracy: 90.387% - Test accuracy: 83.664%\n"
     ]
    },
    {
     "name": "stdout",
     "output_type": "stream",
     "text": [
      "Epoch  79/150 - Train accuracy: 90.247% - Test accuracy: 84.786%\n"
     ]
    },
    {
     "name": "stdout",
     "output_type": "stream",
     "text": [
      "Epoch  80/150 - Train accuracy: 90.535% - Test accuracy: 85.076%\n"
     ]
    },
    {
     "name": "stdout",
     "output_type": "stream",
     "text": [
      "Epoch  81/150 - Train accuracy: 90.435% - Test accuracy: 85.086%\n"
     ]
    },
    {
     "name": "stdout",
     "output_type": "stream",
     "text": [
      "Epoch  82/150 - Train accuracy: 90.595% - Test accuracy: 85.086%\n"
     ]
    },
    {
     "name": "stdout",
     "output_type": "stream",
     "text": [
      "Epoch  83/150 - Train accuracy: 90.637% - Test accuracy: 85.216%\n",
      "----------------------------------------------------------------\n",
      "Reducing learning rate on plateau at epoch 83\n",
      "----------------------------------------------------------------\n"
     ]
    },
    {
     "name": "stdout",
     "output_type": "stream",
     "text": [
      "Epoch  84/150 - Train accuracy: 91.915% - Test accuracy: 86.308%\n"
     ]
    },
    {
     "name": "stdout",
     "output_type": "stream",
     "text": [
      "Epoch  85/150 - Train accuracy: 91.955% - Test accuracy: 86.468%\n"
     ]
    },
    {
     "name": "stdout",
     "output_type": "stream",
     "text": [
      "Epoch  86/150 - Train accuracy: 92.139% - Test accuracy: 86.378%\n"
     ]
    },
    {
     "name": "stdout",
     "output_type": "stream",
     "text": [
      "Epoch  87/150 - Train accuracy: 92.208% - Test accuracy: 86.228%\n"
     ]
    },
    {
     "name": "stdout",
     "output_type": "stream",
     "text": [
      "Epoch  88/150 - Train accuracy: 92.302% - Test accuracy: 86.428%\n"
     ]
    },
    {
     "name": "stdout",
     "output_type": "stream",
     "text": [
      "Epoch  89/150 - Train accuracy: 92.059% - Test accuracy: 86.278%\n"
     ]
    },
    {
     "name": "stdout",
     "output_type": "stream",
     "text": [
      "Epoch  90/150 - Train accuracy: 92.224% - Test accuracy: 86.268%\n"
     ]
    },
    {
     "name": "stdout",
     "output_type": "stream",
     "text": [
      "Epoch  91/150 - Train accuracy: 92.254% - Test accuracy: 86.178%\n"
     ]
    },
    {
     "name": "stdout",
     "output_type": "stream",
     "text": [
      "Epoch  92/150 - Train accuracy: 92.442% - Test accuracy: 86.308%\n"
     ]
    },
    {
     "name": "stdout",
     "output_type": "stream",
     "text": [
      "Epoch  93/150 - Train accuracy: 92.286% - Test accuracy: 86.278%\n"
     ]
    },
    {
     "name": "stdout",
     "output_type": "stream",
     "text": [
      "Epoch  94/150 - Train accuracy: 92.234% - Test accuracy: 85.948%\n"
     ]
    },
    {
     "name": "stdout",
     "output_type": "stream",
     "text": [
      "Epoch  95/150 - Train accuracy: 92.430% - Test accuracy: 86.048%\n"
     ]
    },
    {
     "name": "stdout",
     "output_type": "stream",
     "text": [
      "Epoch  96/150 - Train accuracy: 92.262% - Test accuracy: 86.268%\n"
     ]
    },
    {
     "name": "stdout",
     "output_type": "stream",
     "text": [
      "Epoch  97/150 - Train accuracy: 92.628% - Test accuracy: 86.589%\n"
     ]
    },
    {
     "name": "stdout",
     "output_type": "stream",
     "text": [
      "Epoch  98/150 - Train accuracy: 92.652% - Test accuracy: 86.278%\n"
     ]
    },
    {
     "name": "stdout",
     "output_type": "stream",
     "text": [
      "Epoch  99/150 - Train accuracy: 92.572% - Test accuracy: 86.418%\n",
      "----------------------------------------------------------------\n",
      "Reducing learning rate on plateau at epoch 99\n",
      "----------------------------------------------------------------\n"
     ]
    },
    {
     "name": "stdout",
     "output_type": "stream",
     "text": [
      "Epoch 100/150 - Train accuracy: 93.114% - Test accuracy: 86.659%\n"
     ]
    },
    {
     "name": "stdout",
     "output_type": "stream",
     "text": [
      "Epoch 101/150 - Train accuracy: 92.944% - Test accuracy: 86.989%\n"
     ]
    },
    {
     "name": "stdout",
     "output_type": "stream",
     "text": [
      "Epoch 102/150 - Train accuracy: 93.048% - Test accuracy: 86.789%\n"
     ]
    },
    {
     "name": "stdout",
     "output_type": "stream",
     "text": [
      "Epoch 103/150 - Train accuracy: 92.936% - Test accuracy: 86.889%\n"
     ]
    },
    {
     "name": "stdout",
     "output_type": "stream",
     "text": [
      "Epoch 104/150 - Train accuracy: 92.796% - Test accuracy: 86.899%\n"
     ]
    },
    {
     "name": "stdout",
     "output_type": "stream",
     "text": [
      "Epoch 105/150 - Train accuracy: 92.910% - Test accuracy: 86.659%\n"
     ]
    },
    {
     "name": "stdout",
     "output_type": "stream",
     "text": [
      "Epoch 106/150 - Train accuracy: 93.010% - Test accuracy: 86.799%\n"
     ]
    },
    {
     "name": "stdout",
     "output_type": "stream",
     "text": [
      "Epoch 107/150 - Train accuracy: 92.886% - Test accuracy: 86.859%\n"
     ]
    },
    {
     "name": "stdout",
     "output_type": "stream",
     "text": [
      "Epoch 108/150 - Train accuracy: 93.020% - Test accuracy: 86.969%\n"
     ]
    },
    {
     "name": "stdout",
     "output_type": "stream",
     "text": [
      "Epoch 109/150 - Train accuracy: 93.274% - Test accuracy: 86.909%\n"
     ]
    },
    {
     "name": "stdout",
     "output_type": "stream",
     "text": [
      "Epoch 110/150 - Train accuracy: 92.982% - Test accuracy: 86.769%\n"
     ]
    },
    {
     "name": "stdout",
     "output_type": "stream",
     "text": [
      "Epoch 111/150 - Train accuracy: 93.178% - Test accuracy: 86.839%\n"
     ]
    },
    {
     "name": "stdout",
     "output_type": "stream",
     "text": [
      "Epoch 112/150 - Train accuracy: 92.856% - Test accuracy: 86.739%\n"
     ]
    },
    {
     "name": "stdout",
     "output_type": "stream",
     "text": [
      "Epoch 113/150 - Train accuracy: 93.066% - Test accuracy: 86.879%\n"
     ]
    },
    {
     "name": "stdout",
     "output_type": "stream",
     "text": [
      "Epoch 114/150 - Train accuracy: 93.096% - Test accuracy: 86.889%\n",
      "----------------------------------------------------------------\n",
      "Reducing learning rate on plateau at epoch 114\n",
      "----------------------------------------------------------------\n"
     ]
    },
    {
     "name": "stdout",
     "output_type": "stream",
     "text": [
      "Epoch 115/150 - Train accuracy: 93.200% - Test accuracy: 86.919%\n"
     ]
    },
    {
     "name": "stdout",
     "output_type": "stream",
     "text": [
      "Epoch 116/150 - Train accuracy: 93.308% - Test accuracy: 86.919%\n"
     ]
    },
    {
     "name": "stdout",
     "output_type": "stream",
     "text": [
      "Epoch 117/150 - Train accuracy: 93.166% - Test accuracy: 86.889%\n"
     ]
    },
    {
     "name": "stdout",
     "output_type": "stream",
     "text": [
      "Epoch 118/150 - Train accuracy: 93.252% - Test accuracy: 86.789%\n"
     ]
    },
    {
     "name": "stdout",
     "output_type": "stream",
     "text": [
      "Epoch 119/150 - Train accuracy: 93.236% - Test accuracy: 86.899%\n",
      "----------------------------------------------------------------\n",
      "Early stopping at epoch 119\n",
      "----------------------------------------------------------------\n"
     ]
    },
    {
     "name": "stdout",
     "output_type": "stream",
     "text": [
      "----------------------------------------------------------------\n",
      "Running experiment with seed 46...\n"
     ]
    },
    {
     "name": "stdout",
     "output_type": "stream",
     "text": [
      "Files already downloaded and verified\n"
     ]
    },
    {
     "name": "stdout",
     "output_type": "stream",
     "text": [
      "Files already downloaded and verified\n"
     ]
    },
    {
     "name": "stdout",
     "output_type": "stream",
     "text": [
      "Epoch   1/150 - Train accuracy: 10.179% - Test accuracy: 10.016%\n"
     ]
    },
    {
     "name": "stdout",
     "output_type": "stream",
     "text": [
      "Epoch   2/150 - Train accuracy: 21.769% - Test accuracy: 27.965%\n"
     ]
    },
    {
     "name": "stdout",
     "output_type": "stream",
     "text": [
      "Epoch   3/150 - Train accuracy: 35.537% - Test accuracy: 39.523%\n"
     ]
    },
    {
     "name": "stdout",
     "output_type": "stream",
     "text": [
      "Epoch   4/150 - Train accuracy: 43.522% - Test accuracy: 48.868%\n"
     ]
    },
    {
     "name": "stdout",
     "output_type": "stream",
     "text": [
      "Epoch   5/150 - Train accuracy: 48.566% - Test accuracy: 52.905%\n"
     ]
    },
    {
     "name": "stdout",
     "output_type": "stream",
     "text": [
      "Epoch   6/150 - Train accuracy: 53.429% - Test accuracy: 57.402%\n"
     ]
    },
    {
     "name": "stdout",
     "output_type": "stream",
     "text": [
      "Epoch   7/150 - Train accuracy: 57.348% - Test accuracy: 61.569%\n"
     ]
    },
    {
     "name": "stdout",
     "output_type": "stream",
     "text": [
      "Epoch   8/150 - Train accuracy: 60.097% - Test accuracy: 63.311%\n"
     ]
    },
    {
     "name": "stdout",
     "output_type": "stream",
     "text": [
      "Epoch   9/150 - Train accuracy: 62.240% - Test accuracy: 60.076%\n"
     ]
    },
    {
     "name": "stdout",
     "output_type": "stream",
     "text": [
      "Epoch  10/150 - Train accuracy: 64.177% - Test accuracy: 66.977%\n"
     ]
    },
    {
     "name": "stdout",
     "output_type": "stream",
     "text": [
      "Epoch  11/150 - Train accuracy: 65.421% - Test accuracy: 68.470%\n"
     ]
    },
    {
     "name": "stdout",
     "output_type": "stream",
     "text": [
      "Epoch  12/150 - Train accuracy: 66.985% - Test accuracy: 71.745%\n"
     ]
    },
    {
     "name": "stdout",
     "output_type": "stream",
     "text": [
      "Epoch  13/150 - Train accuracy: 68.402% - Test accuracy: 70.272%\n"
     ]
    },
    {
     "name": "stdout",
     "output_type": "stream",
     "text": [
      "Epoch  14/150 - Train accuracy: 69.372% - Test accuracy: 71.765%\n"
     ]
    },
    {
     "name": "stdout",
     "output_type": "stream",
     "text": [
      "Epoch  15/150 - Train accuracy: 70.507% - Test accuracy: 71.605%\n"
     ]
    },
    {
     "name": "stdout",
     "output_type": "stream",
     "text": [
      "Epoch  16/150 - Train accuracy: 71.251% - Test accuracy: 72.095%\n"
     ]
    },
    {
     "name": "stdout",
     "output_type": "stream",
     "text": [
      "Epoch  17/150 - Train accuracy: 72.035% - Test accuracy: 74.189%\n"
     ]
    },
    {
     "name": "stdout",
     "output_type": "stream",
     "text": [
      "Epoch  18/150 - Train accuracy: 72.719% - Test accuracy: 71.434%\n"
     ]
    },
    {
     "name": "stdout",
     "output_type": "stream",
     "text": [
      "Epoch  19/150 - Train accuracy: 73.209% - Test accuracy: 74.629%\n"
     ]
    },
    {
     "name": "stdout",
     "output_type": "stream",
     "text": [
      "Epoch  20/150 - Train accuracy: 74.038% - Test accuracy: 74.269%\n"
     ]
    },
    {
     "name": "stdout",
     "output_type": "stream",
     "text": [
      "Epoch  21/150 - Train accuracy: 74.566% - Test accuracy: 73.287%\n"
     ]
    },
    {
     "name": "stdout",
     "output_type": "stream",
     "text": [
      "Epoch  22/150 - Train accuracy: 75.262% - Test accuracy: 73.488%\n"
     ]
    },
    {
     "name": "stdout",
     "output_type": "stream",
     "text": [
      "Epoch  23/150 - Train accuracy: 75.278% - Test accuracy: 76.072%\n"
     ]
    },
    {
     "name": "stdout",
     "output_type": "stream",
     "text": [
      "Epoch  24/150 - Train accuracy: 75.864% - Test accuracy: 74.730%\n"
     ]
    },
    {
     "name": "stdout",
     "output_type": "stream",
     "text": [
      "Epoch  25/150 - Train accuracy: 76.506% - Test accuracy: 73.638%\n"
     ]
    },
    {
     "name": "stdout",
     "output_type": "stream",
     "text": [
      "Epoch  26/150 - Train accuracy: 76.913% - Test accuracy: 76.673%\n"
     ]
    },
    {
     "name": "stdout",
     "output_type": "stream",
     "text": [
      "Epoch  27/150 - Train accuracy: 77.341% - Test accuracy: 76.573%\n"
     ]
    },
    {
     "name": "stdout",
     "output_type": "stream",
     "text": [
      "Epoch  28/150 - Train accuracy: 77.433% - Test accuracy: 76.562%\n"
     ]
    },
    {
     "name": "stdout",
     "output_type": "stream",
     "text": [
      "Epoch  29/150 - Train accuracy: 77.785% - Test accuracy: 75.671%\n"
     ]
    },
    {
     "name": "stdout",
     "output_type": "stream",
     "text": [
      "Epoch  30/150 - Train accuracy: 78.275% - Test accuracy: 76.232%\n"
     ]
    },
    {
     "name": "stdout",
     "output_type": "stream",
     "text": [
      "Epoch  31/150 - Train accuracy: 78.517% - Test accuracy: 79.127%\n"
     ]
    },
    {
     "name": "stdout",
     "output_type": "stream",
     "text": [
      "Epoch  32/150 - Train accuracy: 78.797% - Test accuracy: 77.354%\n"
     ]
    },
    {
     "name": "stdout",
     "output_type": "stream",
     "text": [
      "Epoch  33/150 - Train accuracy: 79.485% - Test accuracy: 78.526%\n"
     ]
    },
    {
     "name": "stdout",
     "output_type": "stream",
     "text": [
      "Epoch  34/150 - Train accuracy: 79.477% - Test accuracy: 75.431%\n"
     ]
    },
    {
     "name": "stdout",
     "output_type": "stream",
     "text": [
      "Epoch  35/150 - Train accuracy: 79.702% - Test accuracy: 78.415%\n"
     ]
    },
    {
     "name": "stdout",
     "output_type": "stream",
     "text": [
      "Epoch  36/150 - Train accuracy: 80.058% - Test accuracy: 76.743%\n"
     ]
    },
    {
     "name": "stdout",
     "output_type": "stream",
     "text": [
      "Epoch  37/150 - Train accuracy: 79.806% - Test accuracy: 77.935%\n"
     ]
    },
    {
     "name": "stdout",
     "output_type": "stream",
     "text": [
      "Epoch  38/150 - Train accuracy: 80.190% - Test accuracy: 78.546%\n"
     ]
    },
    {
     "name": "stdout",
     "output_type": "stream",
     "text": [
      "Epoch  39/150 - Train accuracy: 80.552% - Test accuracy: 78.886%\n"
     ]
    },
    {
     "name": "stdout",
     "output_type": "stream",
     "text": [
      "Epoch  40/150 - Train accuracy: 80.986% - Test accuracy: 79.988%\n"
     ]
    },
    {
     "name": "stdout",
     "output_type": "stream",
     "text": [
      "Epoch  41/150 - Train accuracy: 81.002% - Test accuracy: 81.140%\n"
     ]
    },
    {
     "name": "stdout",
     "output_type": "stream",
     "text": [
      "Epoch  42/150 - Train accuracy: 81.092% - Test accuracy: 81.090%\n"
     ]
    },
    {
     "name": "stdout",
     "output_type": "stream",
     "text": [
      "Epoch  43/150 - Train accuracy: 81.650% - Test accuracy: 79.657%\n"
     ]
    },
    {
     "name": "stdout",
     "output_type": "stream",
     "text": [
      "Epoch  44/150 - Train accuracy: 81.764% - Test accuracy: 79.868%\n"
     ]
    },
    {
     "name": "stdout",
     "output_type": "stream",
     "text": [
      "Epoch  45/150 - Train accuracy: 81.912% - Test accuracy: 80.549%\n"
     ]
    },
    {
     "name": "stdout",
     "output_type": "stream",
     "text": [
      "Epoch  46/150 - Train accuracy: 81.564% - Test accuracy: 76.643%\n"
     ]
    },
    {
     "name": "stdout",
     "output_type": "stream",
     "text": [
      "Epoch  47/150 - Train accuracy: 81.680% - Test accuracy: 80.349%\n"
     ]
    },
    {
     "name": "stdout",
     "output_type": "stream",
     "text": [
      "Epoch  48/150 - Train accuracy: 82.204% - Test accuracy: 80.950%\n"
     ]
    },
    {
     "name": "stdout",
     "output_type": "stream",
     "text": [
      "Epoch  49/150 - Train accuracy: 82.198% - Test accuracy: 78.155%\n"
     ]
    },
    {
     "name": "stdout",
     "output_type": "stream",
     "text": [
      "Epoch  50/150 - Train accuracy: 81.830% - Test accuracy: 80.168%\n"
     ]
    },
    {
     "name": "stdout",
     "output_type": "stream",
     "text": [
      "Epoch  51/150 - Train accuracy: 82.328% - Test accuracy: 78.085%\n"
     ]
    },
    {
     "name": "stdout",
     "output_type": "stream",
     "text": [
      "Epoch  52/150 - Train accuracy: 82.336% - Test accuracy: 81.180%\n"
     ]
    },
    {
     "name": "stdout",
     "output_type": "stream",
     "text": [
      "Epoch  53/150 - Train accuracy: 82.688% - Test accuracy: 79.267%\n"
     ]
    },
    {
     "name": "stdout",
     "output_type": "stream",
     "text": [
      "Epoch  54/150 - Train accuracy: 82.558% - Test accuracy: 79.046%\n"
     ]
    },
    {
     "name": "stdout",
     "output_type": "stream",
     "text": [
      "Epoch  55/150 - Train accuracy: 82.995% - Test accuracy: 80.439%\n"
     ]
    },
    {
     "name": "stdout",
     "output_type": "stream",
     "text": [
      "Epoch  56/150 - Train accuracy: 82.810% - Test accuracy: 80.399%\n",
      "----------------------------------------------------------------\n",
      "Reducing learning rate on plateau at epoch 56\n",
      "----------------------------------------------------------------\n"
     ]
    },
    {
     "name": "stdout",
     "output_type": "stream",
     "text": [
      "Epoch  57/150 - Train accuracy: 87.402% - Test accuracy: 83.804%\n"
     ]
    },
    {
     "name": "stdout",
     "output_type": "stream",
     "text": [
      "Epoch  58/150 - Train accuracy: 88.198% - Test accuracy: 84.014%\n"
     ]
    },
    {
     "name": "stdout",
     "output_type": "stream",
     "text": [
      "Epoch  59/150 - Train accuracy: 88.492% - Test accuracy: 84.365%\n"
     ]
    },
    {
     "name": "stdout",
     "output_type": "stream",
     "text": [
      "Epoch  60/150 - Train accuracy: 88.606% - Test accuracy: 84.175%\n"
     ]
    },
    {
     "name": "stdout",
     "output_type": "stream",
     "text": [
      "Epoch  61/150 - Train accuracy: 88.886% - Test accuracy: 84.044%\n"
     ]
    },
    {
     "name": "stdout",
     "output_type": "stream",
     "text": [
      "Epoch  62/150 - Train accuracy: 88.770% - Test accuracy: 84.685%\n"
     ]
    },
    {
     "name": "stdout",
     "output_type": "stream",
     "text": [
      "Epoch  63/150 - Train accuracy: 89.187% - Test accuracy: 84.696%\n"
     ]
    },
    {
     "name": "stdout",
     "output_type": "stream",
     "text": [
      "Epoch  64/150 - Train accuracy: 89.127% - Test accuracy: 84.996%\n"
     ]
    },
    {
     "name": "stdout",
     "output_type": "stream",
     "text": [
      "Epoch  65/150 - Train accuracy: 89.375% - Test accuracy: 84.876%\n"
     ]
    },
    {
     "name": "stdout",
     "output_type": "stream",
     "text": [
      "Epoch  66/150 - Train accuracy: 89.209% - Test accuracy: 84.125%\n"
     ]
    },
    {
     "name": "stdout",
     "output_type": "stream",
     "text": [
      "Epoch  67/150 - Train accuracy: 89.371% - Test accuracy: 85.246%\n"
     ]
    },
    {
     "name": "stdout",
     "output_type": "stream",
     "text": [
      "Epoch  68/150 - Train accuracy: 89.583% - Test accuracy: 84.806%\n"
     ]
    },
    {
     "name": "stdout",
     "output_type": "stream",
     "text": [
      "Epoch  69/150 - Train accuracy: 89.687% - Test accuracy: 85.216%\n"
     ]
    },
    {
     "name": "stdout",
     "output_type": "stream",
     "text": [
      "Epoch  70/150 - Train accuracy: 89.637% - Test accuracy: 84.235%\n"
     ]
    },
    {
     "name": "stdout",
     "output_type": "stream",
     "text": [
      "Epoch  71/150 - Train accuracy: 89.883% - Test accuracy: 84.906%\n"
     ]
    },
    {
     "name": "stdout",
     "output_type": "stream",
     "text": [
      "Epoch  72/150 - Train accuracy: 90.151% - Test accuracy: 85.276%\n"
     ]
    },
    {
     "name": "stdout",
     "output_type": "stream",
     "text": [
      "Epoch  73/150 - Train accuracy: 89.883% - Test accuracy: 85.317%\n"
     ]
    },
    {
     "name": "stdout",
     "output_type": "stream",
     "text": [
      "Epoch  74/150 - Train accuracy: 89.925% - Test accuracy: 85.266%\n"
     ]
    },
    {
     "name": "stdout",
     "output_type": "stream",
     "text": [
      "Epoch  75/150 - Train accuracy: 90.035% - Test accuracy: 84.876%\n"
     ]
    },
    {
     "name": "stdout",
     "output_type": "stream",
     "text": [
      "Epoch  76/150 - Train accuracy: 90.175% - Test accuracy: 85.377%\n"
     ]
    },
    {
     "name": "stdout",
     "output_type": "stream",
     "text": [
      "Epoch  77/150 - Train accuracy: 89.937% - Test accuracy: 85.286%\n"
     ]
    },
    {
     "name": "stdout",
     "output_type": "stream",
     "text": [
      "Epoch  78/150 - Train accuracy: 90.289% - Test accuracy: 84.986%\n"
     ]
    },
    {
     "name": "stdout",
     "output_type": "stream",
     "text": [
      "Epoch  79/150 - Train accuracy: 90.353% - Test accuracy: 84.956%\n",
      "----------------------------------------------------------------\n",
      "Reducing learning rate on plateau at epoch 79\n",
      "----------------------------------------------------------------\n"
     ]
    },
    {
     "name": "stdout",
     "output_type": "stream",
     "text": [
      "Epoch  80/150 - Train accuracy: 91.801% - Test accuracy: 86.358%\n"
     ]
    },
    {
     "name": "stdout",
     "output_type": "stream",
     "text": [
      "Epoch  81/150 - Train accuracy: 91.955% - Test accuracy: 86.819%\n"
     ]
    },
    {
     "name": "stdout",
     "output_type": "stream",
     "text": [
      "Epoch  82/150 - Train accuracy: 92.071% - Test accuracy: 86.498%\n"
     ]
    },
    {
     "name": "stdout",
     "output_type": "stream",
     "text": [
      "Epoch  83/150 - Train accuracy: 92.041% - Test accuracy: 86.749%\n"
     ]
    },
    {
     "name": "stdout",
     "output_type": "stream",
     "text": [
      "Epoch  84/150 - Train accuracy: 92.047% - Test accuracy: 86.158%\n"
     ]
    },
    {
     "name": "stdout",
     "output_type": "stream",
     "text": [
      "Epoch  85/150 - Train accuracy: 92.228% - Test accuracy: 86.699%\n"
     ]
    },
    {
     "name": "stdout",
     "output_type": "stream",
     "text": [
      "Epoch  86/150 - Train accuracy: 92.135% - Test accuracy: 86.338%\n"
     ]
    },
    {
     "name": "stdout",
     "output_type": "stream",
     "text": [
      "Epoch  87/150 - Train accuracy: 92.085% - Test accuracy: 86.398%\n"
     ]
    },
    {
     "name": "stdout",
     "output_type": "stream",
     "text": [
      "Epoch  88/150 - Train accuracy: 92.256% - Test accuracy: 86.909%\n"
     ]
    },
    {
     "name": "stdout",
     "output_type": "stream",
     "text": [
      "Epoch  89/150 - Train accuracy: 92.334% - Test accuracy: 86.348%\n"
     ]
    },
    {
     "name": "stdout",
     "output_type": "stream",
     "text": [
      "Epoch  90/150 - Train accuracy: 92.324% - Test accuracy: 86.569%\n"
     ]
    },
    {
     "name": "stdout",
     "output_type": "stream",
     "text": [
      "Epoch  91/150 - Train accuracy: 92.260% - Test accuracy: 86.899%\n"
     ]
    },
    {
     "name": "stdout",
     "output_type": "stream",
     "text": [
      "Epoch  92/150 - Train accuracy: 92.200% - Test accuracy: 86.619%\n"
     ]
    },
    {
     "name": "stdout",
     "output_type": "stream",
     "text": [
      "Epoch  93/150 - Train accuracy: 92.290% - Test accuracy: 86.799%\n"
     ]
    },
    {
     "name": "stdout",
     "output_type": "stream",
     "text": [
      "Epoch  94/150 - Train accuracy: 92.314% - Test accuracy: 86.819%\n"
     ]
    },
    {
     "name": "stdout",
     "output_type": "stream",
     "text": [
      "Epoch  95/150 - Train accuracy: 92.284% - Test accuracy: 86.468%\n",
      "----------------------------------------------------------------\n",
      "Reducing learning rate on plateau at epoch 95\n",
      "----------------------------------------------------------------\n"
     ]
    },
    {
     "name": "stdout",
     "output_type": "stream",
     "text": [
      "Epoch  96/150 - Train accuracy: 92.830% - Test accuracy: 86.969%\n"
     ]
    },
    {
     "name": "stdout",
     "output_type": "stream",
     "text": [
      "Epoch  97/150 - Train accuracy: 93.120% - Test accuracy: 86.999%\n"
     ]
    },
    {
     "name": "stdout",
     "output_type": "stream",
     "text": [
      "Epoch  98/150 - Train accuracy: 92.614% - Test accuracy: 86.969%\n"
     ]
    },
    {
     "name": "stdout",
     "output_type": "stream",
     "text": [
      "Epoch  99/150 - Train accuracy: 92.818% - Test accuracy: 87.129%\n"
     ]
    },
    {
     "name": "stdout",
     "output_type": "stream",
     "text": [
      "Epoch 100/150 - Train accuracy: 92.844% - Test accuracy: 86.809%\n"
     ]
    },
    {
     "name": "stdout",
     "output_type": "stream",
     "text": [
      "Epoch 101/150 - Train accuracy: 92.810% - Test accuracy: 87.019%\n"
     ]
    },
    {
     "name": "stdout",
     "output_type": "stream",
     "text": [
      "Epoch 102/150 - Train accuracy: 92.874% - Test accuracy: 87.009%\n"
     ]
    },
    {
     "name": "stdout",
     "output_type": "stream",
     "text": [
      "Epoch 103/150 - Train accuracy: 92.830% - Test accuracy: 86.869%\n"
     ]
    },
    {
     "name": "stdout",
     "output_type": "stream",
     "text": [
      "Epoch 104/150 - Train accuracy: 92.868% - Test accuracy: 86.999%\n"
     ]
    },
    {
     "name": "stdout",
     "output_type": "stream",
     "text": [
      "Epoch 105/150 - Train accuracy: 92.970% - Test accuracy: 86.909%\n"
     ]
    },
    {
     "name": "stdout",
     "output_type": "stream",
     "text": [
      "Epoch 106/150 - Train accuracy: 92.802% - Test accuracy: 86.859%\n"
     ]
    },
    {
     "name": "stdout",
     "output_type": "stream",
     "text": [
      "Epoch 107/150 - Train accuracy: 92.920% - Test accuracy: 86.749%\n"
     ]
    },
    {
     "name": "stdout",
     "output_type": "stream",
     "text": [
      "Epoch 108/150 - Train accuracy: 92.850% - Test accuracy: 86.839%\n"
     ]
    },
    {
     "name": "stdout",
     "output_type": "stream",
     "text": [
      "Epoch 109/150 - Train accuracy: 92.896% - Test accuracy: 87.009%\n"
     ]
    },
    {
     "name": "stdout",
     "output_type": "stream",
     "text": [
      "Epoch 110/150 - Train accuracy: 92.782% - Test accuracy: 86.889%\n",
      "----------------------------------------------------------------\n",
      "Reducing learning rate on plateau at epoch 110\n",
      "----------------------------------------------------------------\n"
     ]
    },
    {
     "name": "stdout",
     "output_type": "stream",
     "text": [
      "Epoch 111/150 - Train accuracy: 93.082% - Test accuracy: 87.179%\n"
     ]
    },
    {
     "name": "stdout",
     "output_type": "stream",
     "text": [
      "Epoch 112/150 - Train accuracy: 93.052% - Test accuracy: 86.969%\n"
     ]
    },
    {
     "name": "stdout",
     "output_type": "stream",
     "text": [
      "Epoch 113/150 - Train accuracy: 93.060% - Test accuracy: 87.059%\n"
     ]
    },
    {
     "name": "stdout",
     "output_type": "stream",
     "text": [
      "Epoch 114/150 - Train accuracy: 93.076% - Test accuracy: 86.929%\n"
     ]
    },
    {
     "name": "stdout",
     "output_type": "stream",
     "text": [
      "Epoch 115/150 - Train accuracy: 92.942% - Test accuracy: 86.849%\n",
      "----------------------------------------------------------------\n",
      "Early stopping at epoch 115\n",
      "----------------------------------------------------------------\n"
     ]
    },
    {
     "name": "stdout",
     "output_type": "stream",
     "text": [
      "----------------------------------------------------------------\n",
      "Running experiment with seed 47...\n"
     ]
    },
    {
     "name": "stdout",
     "output_type": "stream",
     "text": [
      "Files already downloaded and verified\n"
     ]
    },
    {
     "name": "stdout",
     "output_type": "stream",
     "text": [
      "Files already downloaded and verified\n"
     ]
    },
    {
     "name": "stdout",
     "output_type": "stream",
     "text": [
      "Epoch   1/150 - Train accuracy: 10.017% - Test accuracy: 10.006%\n"
     ]
    },
    {
     "name": "stdout",
     "output_type": "stream",
     "text": [
      "Epoch   2/150 - Train accuracy: 21.229% - Test accuracy: 26.813%\n"
     ]
    },
    {
     "name": "stdout",
     "output_type": "stream",
     "text": [
      "Epoch   3/150 - Train accuracy: 33.907% - Test accuracy: 39.032%\n"
     ]
    },
    {
     "name": "stdout",
     "output_type": "stream",
     "text": [
      "Epoch   4/150 - Train accuracy: 43.482% - Test accuracy: 48.197%\n"
     ]
    },
    {
     "name": "stdout",
     "output_type": "stream",
     "text": [
      "Epoch   5/150 - Train accuracy: 49.116% - Test accuracy: 54.016%\n"
     ]
    },
    {
     "name": "stdout",
     "output_type": "stream",
     "text": [
      "Epoch   6/150 - Train accuracy: 54.251% - Test accuracy: 60.487%\n"
     ]
    },
    {
     "name": "stdout",
     "output_type": "stream",
     "text": [
      "Epoch   7/150 - Train accuracy: 57.452% - Test accuracy: 60.577%\n"
     ]
    },
    {
     "name": "stdout",
     "output_type": "stream",
     "text": [
      "Epoch   8/150 - Train accuracy: 60.591% - Test accuracy: 64.413%\n"
     ]
    },
    {
     "name": "stdout",
     "output_type": "stream",
     "text": [
      "Epoch   9/150 - Train accuracy: 62.372% - Test accuracy: 64.203%\n"
     ]
    },
    {
     "name": "stdout",
     "output_type": "stream",
     "text": [
      "Epoch  10/150 - Train accuracy: 64.427% - Test accuracy: 66.046%\n"
     ]
    },
    {
     "name": "stdout",
     "output_type": "stream",
     "text": [
      "Epoch  11/150 - Train accuracy: 66.281% - Test accuracy: 70.343%\n"
     ]
    },
    {
     "name": "stdout",
     "output_type": "stream",
     "text": [
      "Epoch  12/150 - Train accuracy: 67.458% - Test accuracy: 69.221%\n"
     ]
    },
    {
     "name": "stdout",
     "output_type": "stream",
     "text": [
      "Epoch  13/150 - Train accuracy: 68.786% - Test accuracy: 69.651%\n"
     ]
    },
    {
     "name": "stdout",
     "output_type": "stream",
     "text": [
      "Epoch  14/150 - Train accuracy: 69.820% - Test accuracy: 71.865%\n"
     ]
    },
    {
     "name": "stdout",
     "output_type": "stream",
     "text": [
      "Epoch  15/150 - Train accuracy: 70.288% - Test accuracy: 70.132%\n"
     ]
    },
    {
     "name": "stdout",
     "output_type": "stream",
     "text": [
      "Epoch  16/150 - Train accuracy: 71.413% - Test accuracy: 74.429%\n"
     ]
    },
    {
     "name": "stdout",
     "output_type": "stream",
     "text": [
      "Epoch  17/150 - Train accuracy: 72.097% - Test accuracy: 74.079%\n"
     ]
    },
    {
     "name": "stdout",
     "output_type": "stream",
     "text": [
      "Epoch  18/150 - Train accuracy: 72.597% - Test accuracy: 71.154%\n"
     ]
    },
    {
     "name": "stdout",
     "output_type": "stream",
     "text": [
      "Epoch  19/150 - Train accuracy: 73.261% - Test accuracy: 73.097%\n"
     ]
    },
    {
     "name": "stdout",
     "output_type": "stream",
     "text": [
      "Epoch  20/150 - Train accuracy: 74.062% - Test accuracy: 75.280%\n"
     ]
    },
    {
     "name": "stdout",
     "output_type": "stream",
     "text": [
      "Epoch  21/150 - Train accuracy: 74.588% - Test accuracy: 75.901%\n"
     ]
    },
    {
     "name": "stdout",
     "output_type": "stream",
     "text": [
      "Epoch  22/150 - Train accuracy: 74.846% - Test accuracy: 76.733%\n"
     ]
    },
    {
     "name": "stdout",
     "output_type": "stream",
     "text": [
      "Epoch  23/150 - Train accuracy: 75.428% - Test accuracy: 75.361%\n"
     ]
    },
    {
     "name": "stdout",
     "output_type": "stream",
     "text": [
      "Epoch  24/150 - Train accuracy: 76.200% - Test accuracy: 76.382%\n"
     ]
    },
    {
     "name": "stdout",
     "output_type": "stream",
     "text": [
      "Epoch  25/150 - Train accuracy: 76.408% - Test accuracy: 77.374%\n"
     ]
    },
    {
     "name": "stdout",
     "output_type": "stream",
     "text": [
      "Epoch  26/150 - Train accuracy: 76.679% - Test accuracy: 74.900%\n"
     ]
    },
    {
     "name": "stdout",
     "output_type": "stream",
     "text": [
      "Epoch  27/150 - Train accuracy: 77.247% - Test accuracy: 76.312%\n"
     ]
    },
    {
     "name": "stdout",
     "output_type": "stream",
     "text": [
      "Epoch  28/150 - Train accuracy: 77.235% - Test accuracy: 77.584%\n"
     ]
    },
    {
     "name": "stdout",
     "output_type": "stream",
     "text": [
      "Epoch  29/150 - Train accuracy: 77.815% - Test accuracy: 77.023%\n"
     ]
    },
    {
     "name": "stdout",
     "output_type": "stream",
     "text": [
      "Epoch  30/150 - Train accuracy: 78.577% - Test accuracy: 77.654%\n"
     ]
    },
    {
     "name": "stdout",
     "output_type": "stream",
     "text": [
      "Epoch  31/150 - Train accuracy: 78.007% - Test accuracy: 77.554%\n"
     ]
    },
    {
     "name": "stdout",
     "output_type": "stream",
     "text": [
      "Epoch  32/150 - Train accuracy: 78.719% - Test accuracy: 78.976%\n"
     ]
    },
    {
     "name": "stdout",
     "output_type": "stream",
     "text": [
      "Epoch  33/150 - Train accuracy: 79.241% - Test accuracy: 78.115%\n"
     ]
    },
    {
     "name": "stdout",
     "output_type": "stream",
     "text": [
      "Epoch  34/150 - Train accuracy: 79.461% - Test accuracy: 73.558%\n"
     ]
    },
    {
     "name": "stdout",
     "output_type": "stream",
     "text": [
      "Epoch  35/150 - Train accuracy: 79.700% - Test accuracy: 77.464%\n"
     ]
    },
    {
     "name": "stdout",
     "output_type": "stream",
     "text": [
      "Epoch  36/150 - Train accuracy: 79.986% - Test accuracy: 75.581%\n"
     ]
    },
    {
     "name": "stdout",
     "output_type": "stream",
     "text": [
      "Epoch  37/150 - Train accuracy: 79.996% - Test accuracy: 76.923%\n"
     ]
    },
    {
     "name": "stdout",
     "output_type": "stream",
     "text": [
      "Epoch  38/150 - Train accuracy: 80.480% - Test accuracy: 79.087%\n"
     ]
    },
    {
     "name": "stdout",
     "output_type": "stream",
     "text": [
      "Epoch  39/150 - Train accuracy: 80.232% - Test accuracy: 79.207%\n"
     ]
    },
    {
     "name": "stdout",
     "output_type": "stream",
     "text": [
      "Epoch  40/150 - Train accuracy: 80.542% - Test accuracy: 80.339%\n"
     ]
    },
    {
     "name": "stdout",
     "output_type": "stream",
     "text": [
      "Epoch  41/150 - Train accuracy: 80.736% - Test accuracy: 81.651%\n"
     ]
    },
    {
     "name": "stdout",
     "output_type": "stream",
     "text": [
      "Epoch  42/150 - Train accuracy: 81.050% - Test accuracy: 78.195%\n"
     ]
    },
    {
     "name": "stdout",
     "output_type": "stream",
     "text": [
      "Epoch  43/150 - Train accuracy: 81.100% - Test accuracy: 78.486%\n"
     ]
    },
    {
     "name": "stdout",
     "output_type": "stream",
     "text": [
      "Epoch  44/150 - Train accuracy: 81.632% - Test accuracy: 80.339%\n"
     ]
    },
    {
     "name": "stdout",
     "output_type": "stream",
     "text": [
      "Epoch  45/150 - Train accuracy: 81.234% - Test accuracy: 80.439%\n"
     ]
    },
    {
     "name": "stdout",
     "output_type": "stream",
     "text": [
      "Epoch  46/150 - Train accuracy: 81.696% - Test accuracy: 78.636%\n"
     ]
    },
    {
     "name": "stdout",
     "output_type": "stream",
     "text": [
      "Epoch  47/150 - Train accuracy: 82.074% - Test accuracy: 80.238%\n"
     ]
    },
    {
     "name": "stdout",
     "output_type": "stream",
     "text": [
      "Epoch  48/150 - Train accuracy: 81.826% - Test accuracy: 79.187%\n"
     ]
    },
    {
     "name": "stdout",
     "output_type": "stream",
     "text": [
      "Epoch  49/150 - Train accuracy: 81.792% - Test accuracy: 78.896%\n"
     ]
    },
    {
     "name": "stdout",
     "output_type": "stream",
     "text": [
      "Epoch  50/150 - Train accuracy: 82.062% - Test accuracy: 79.818%\n"
     ]
    },
    {
     "name": "stdout",
     "output_type": "stream",
     "text": [
      "Epoch  51/150 - Train accuracy: 82.336% - Test accuracy: 79.347%\n"
     ]
    },
    {
     "name": "stdout",
     "output_type": "stream",
     "text": [
      "Epoch  52/150 - Train accuracy: 82.384% - Test accuracy: 77.234%\n"
     ]
    },
    {
     "name": "stdout",
     "output_type": "stream",
     "text": [
      "Epoch  53/150 - Train accuracy: 82.786% - Test accuracy: 79.878%\n"
     ]
    },
    {
     "name": "stdout",
     "output_type": "stream",
     "text": [
      "Epoch  54/150 - Train accuracy: 82.945% - Test accuracy: 79.507%\n"
     ]
    },
    {
     "name": "stdout",
     "output_type": "stream",
     "text": [
      "Epoch  55/150 - Train accuracy: 82.566% - Test accuracy: 81.030%\n"
     ]
    },
    {
     "name": "stdout",
     "output_type": "stream",
     "text": [
      "Epoch  56/150 - Train accuracy: 82.638% - Test accuracy: 81.571%\n",
      "----------------------------------------------------------------\n",
      "Reducing learning rate on plateau at epoch 56\n",
      "----------------------------------------------------------------\n"
     ]
    },
    {
     "name": "stdout",
     "output_type": "stream",
     "text": [
      "Epoch  57/150 - Train accuracy: 87.214% - Test accuracy: 84.095%\n"
     ]
    },
    {
     "name": "stdout",
     "output_type": "stream",
     "text": [
      "Epoch  58/150 - Train accuracy: 87.930% - Test accuracy: 84.155%\n"
     ]
    },
    {
     "name": "stdout",
     "output_type": "stream",
     "text": [
      "Epoch  59/150 - Train accuracy: 88.530% - Test accuracy: 84.425%\n"
     ]
    },
    {
     "name": "stdout",
     "output_type": "stream",
     "text": [
      "Epoch  60/150 - Train accuracy: 88.640% - Test accuracy: 84.515%\n"
     ]
    },
    {
     "name": "stdout",
     "output_type": "stream",
     "text": [
      "Epoch  61/150 - Train accuracy: 88.800% - Test accuracy: 84.345%\n"
     ]
    },
    {
     "name": "stdout",
     "output_type": "stream",
     "text": [
      "Epoch  62/150 - Train accuracy: 88.932% - Test accuracy: 84.425%\n"
     ]
    },
    {
     "name": "stdout",
     "output_type": "stream",
     "text": [
      "Epoch  63/150 - Train accuracy: 89.105% - Test accuracy: 84.635%\n"
     ]
    },
    {
     "name": "stdout",
     "output_type": "stream",
     "text": [
      "Epoch  64/150 - Train accuracy: 89.237% - Test accuracy: 84.906%\n"
     ]
    },
    {
     "name": "stdout",
     "output_type": "stream",
     "text": [
      "Epoch  65/150 - Train accuracy: 89.297% - Test accuracy: 84.896%\n"
     ]
    },
    {
     "name": "stdout",
     "output_type": "stream",
     "text": [
      "Epoch  66/150 - Train accuracy: 89.267% - Test accuracy: 85.156%\n"
     ]
    },
    {
     "name": "stdout",
     "output_type": "stream",
     "text": [
      "Epoch  67/150 - Train accuracy: 89.563% - Test accuracy: 84.736%\n"
     ]
    },
    {
     "name": "stdout",
     "output_type": "stream",
     "text": [
      "Epoch  68/150 - Train accuracy: 89.517% - Test accuracy: 85.286%\n"
     ]
    },
    {
     "name": "stdout",
     "output_type": "stream",
     "text": [
      "Epoch  69/150 - Train accuracy: 89.761% - Test accuracy: 84.986%\n"
     ]
    },
    {
     "name": "stdout",
     "output_type": "stream",
     "text": [
      "Epoch  70/150 - Train accuracy: 90.063% - Test accuracy: 85.427%\n"
     ]
    },
    {
     "name": "stdout",
     "output_type": "stream",
     "text": [
      "Epoch  71/150 - Train accuracy: 89.693% - Test accuracy: 85.156%\n"
     ]
    },
    {
     "name": "stdout",
     "output_type": "stream",
     "text": [
      "Epoch  72/150 - Train accuracy: 89.971% - Test accuracy: 84.645%\n"
     ]
    },
    {
     "name": "stdout",
     "output_type": "stream",
     "text": [
      "Epoch  73/150 - Train accuracy: 89.999% - Test accuracy: 85.377%\n"
     ]
    },
    {
     "name": "stdout",
     "output_type": "stream",
     "text": [
      "Epoch  74/150 - Train accuracy: 89.873% - Test accuracy: 84.706%\n"
     ]
    },
    {
     "name": "stdout",
     "output_type": "stream",
     "text": [
      "Epoch  75/150 - Train accuracy: 90.085% - Test accuracy: 84.575%\n"
     ]
    },
    {
     "name": "stdout",
     "output_type": "stream",
     "text": [
      "Epoch  76/150 - Train accuracy: 90.391% - Test accuracy: 84.896%\n"
     ]
    },
    {
     "name": "stdout",
     "output_type": "stream",
     "text": [
      "Epoch  77/150 - Train accuracy: 90.069% - Test accuracy: 84.044%\n"
     ]
    },
    {
     "name": "stdout",
     "output_type": "stream",
     "text": [
      "Epoch  78/150 - Train accuracy: 90.083% - Test accuracy: 85.367%\n"
     ]
    },
    {
     "name": "stdout",
     "output_type": "stream",
     "text": [
      "Epoch  79/150 - Train accuracy: 90.153% - Test accuracy: 85.727%\n"
     ]
    },
    {
     "name": "stdout",
     "output_type": "stream",
     "text": [
      "Epoch  80/150 - Train accuracy: 90.547% - Test accuracy: 85.387%\n"
     ]
    },
    {
     "name": "stdout",
     "output_type": "stream",
     "text": [
      "Epoch  81/150 - Train accuracy: 90.483% - Test accuracy: 85.827%\n",
      "----------------------------------------------------------------\n",
      "Reducing learning rate on plateau at epoch 81\n",
      "----------------------------------------------------------------\n"
     ]
    },
    {
     "name": "stdout",
     "output_type": "stream",
     "text": [
      "Epoch  82/150 - Train accuracy: 91.869% - Test accuracy: 86.849%\n"
     ]
    },
    {
     "name": "stdout",
     "output_type": "stream",
     "text": [
      "Epoch  83/150 - Train accuracy: 92.274% - Test accuracy: 86.819%\n"
     ]
    },
    {
     "name": "stdout",
     "output_type": "stream",
     "text": [
      "Epoch  84/150 - Train accuracy: 92.167% - Test accuracy: 86.829%\n"
     ]
    },
    {
     "name": "stdout",
     "output_type": "stream",
     "text": [
      "Epoch  85/150 - Train accuracy: 92.312% - Test accuracy: 86.879%\n"
     ]
    },
    {
     "name": "stdout",
     "output_type": "stream",
     "text": [
      "Epoch  86/150 - Train accuracy: 92.204% - Test accuracy: 86.619%\n"
     ]
    },
    {
     "name": "stdout",
     "output_type": "stream",
     "text": [
      "Epoch  87/150 - Train accuracy: 92.400% - Test accuracy: 86.949%\n"
     ]
    },
    {
     "name": "stdout",
     "output_type": "stream",
     "text": [
      "Epoch  88/150 - Train accuracy: 92.057% - Test accuracy: 86.899%\n"
     ]
    },
    {
     "name": "stdout",
     "output_type": "stream",
     "text": [
      "Epoch  89/150 - Train accuracy: 92.342% - Test accuracy: 86.819%\n"
     ]
    },
    {
     "name": "stdout",
     "output_type": "stream",
     "text": [
      "Epoch  90/150 - Train accuracy: 92.340% - Test accuracy: 87.099%\n"
     ]
    },
    {
     "name": "stdout",
     "output_type": "stream",
     "text": [
      "Epoch  91/150 - Train accuracy: 92.334% - Test accuracy: 87.079%\n"
     ]
    },
    {
     "name": "stdout",
     "output_type": "stream",
     "text": [
      "Epoch  92/150 - Train accuracy: 92.510% - Test accuracy: 87.270%\n"
     ]
    },
    {
     "name": "stdout",
     "output_type": "stream",
     "text": [
      "Epoch  93/150 - Train accuracy: 92.444% - Test accuracy: 86.659%\n"
     ]
    },
    {
     "name": "stdout",
     "output_type": "stream",
     "text": [
      "Epoch  94/150 - Train accuracy: 92.326% - Test accuracy: 86.929%\n"
     ]
    },
    {
     "name": "stdout",
     "output_type": "stream",
     "text": [
      "Epoch  95/150 - Train accuracy: 92.410% - Test accuracy: 86.849%\n"
     ]
    },
    {
     "name": "stdout",
     "output_type": "stream",
     "text": [
      "Epoch  96/150 - Train accuracy: 92.382% - Test accuracy: 87.059%\n"
     ]
    },
    {
     "name": "stdout",
     "output_type": "stream",
     "text": [
      "Epoch  97/150 - Train accuracy: 92.486% - Test accuracy: 87.169%\n",
      "----------------------------------------------------------------\n",
      "Reducing learning rate on plateau at epoch 97\n",
      "----------------------------------------------------------------\n"
     ]
    },
    {
     "name": "stdout",
     "output_type": "stream",
     "text": [
      "Epoch  98/150 - Train accuracy: 92.794% - Test accuracy: 87.470%\n"
     ]
    },
    {
     "name": "stdout",
     "output_type": "stream",
     "text": [
      "Epoch  99/150 - Train accuracy: 92.944% - Test accuracy: 87.540%\n"
     ]
    },
    {
     "name": "stdout",
     "output_type": "stream",
     "text": [
      "Epoch 100/150 - Train accuracy: 92.942% - Test accuracy: 87.510%\n"
     ]
    },
    {
     "name": "stdout",
     "output_type": "stream",
     "text": [
      "Epoch 101/150 - Train accuracy: 92.862% - Test accuracy: 87.530%\n"
     ]
    },
    {
     "name": "stdout",
     "output_type": "stream",
     "text": [
      "Epoch 102/150 - Train accuracy: 92.958% - Test accuracy: 87.390%\n"
     ]
    },
    {
     "name": "stdout",
     "output_type": "stream",
     "text": [
      "Epoch 103/150 - Train accuracy: 93.178% - Test accuracy: 87.250%\n"
     ]
    },
    {
     "name": "stdout",
     "output_type": "stream",
     "text": [
      "Epoch 104/150 - Train accuracy: 93.174% - Test accuracy: 87.520%\n"
     ]
    },
    {
     "name": "stdout",
     "output_type": "stream",
     "text": [
      "Epoch 105/150 - Train accuracy: 93.142% - Test accuracy: 87.430%\n"
     ]
    },
    {
     "name": "stdout",
     "output_type": "stream",
     "text": [
      "Epoch 106/150 - Train accuracy: 93.068% - Test accuracy: 87.320%\n"
     ]
    },
    {
     "name": "stdout",
     "output_type": "stream",
     "text": [
      "Epoch 107/150 - Train accuracy: 92.900% - Test accuracy: 87.570%\n"
     ]
    },
    {
     "name": "stdout",
     "output_type": "stream",
     "text": [
      "Epoch 108/150 - Train accuracy: 93.106% - Test accuracy: 87.500%\n"
     ]
    },
    {
     "name": "stdout",
     "output_type": "stream",
     "text": [
      "Epoch 109/150 - Train accuracy: 93.134% - Test accuracy: 87.280%\n"
     ]
    },
    {
     "name": "stdout",
     "output_type": "stream",
     "text": [
      "Epoch 110/150 - Train accuracy: 93.150% - Test accuracy: 87.550%\n"
     ]
    },
    {
     "name": "stdout",
     "output_type": "stream",
     "text": [
      "Epoch 111/150 - Train accuracy: 93.032% - Test accuracy: 87.440%\n"
     ]
    },
    {
     "name": "stdout",
     "output_type": "stream",
     "text": [
      "Epoch 112/150 - Train accuracy: 92.960% - Test accuracy: 87.510%\n",
      "----------------------------------------------------------------\n",
      "Reducing learning rate on plateau at epoch 112\n",
      "----------------------------------------------------------------\n"
     ]
    },
    {
     "name": "stdout",
     "output_type": "stream",
     "text": [
      "Epoch 113/150 - Train accuracy: 93.272% - Test accuracy: 87.470%\n"
     ]
    },
    {
     "name": "stdout",
     "output_type": "stream",
     "text": [
      "Epoch 114/150 - Train accuracy: 93.272% - Test accuracy: 87.570%\n"
     ]
    },
    {
     "name": "stdout",
     "output_type": "stream",
     "text": [
      "Epoch 115/150 - Train accuracy: 93.364% - Test accuracy: 87.560%\n"
     ]
    },
    {
     "name": "stdout",
     "output_type": "stream",
     "text": [
      "Epoch 116/150 - Train accuracy: 93.208% - Test accuracy: 87.610%\n"
     ]
    },
    {
     "name": "stdout",
     "output_type": "stream",
     "text": [
      "Epoch 117/150 - Train accuracy: 93.242% - Test accuracy: 87.540%\n",
      "----------------------------------------------------------------\n",
      "Early stopping at epoch 117\n",
      "----------------------------------------------------------------\n"
     ]
    },
    {
     "name": "stdout",
     "output_type": "stream",
     "text": [
      "----------------------------------------------------------------\n",
      "Running experiment with seed 48...\n"
     ]
    },
    {
     "name": "stdout",
     "output_type": "stream",
     "text": [
      "Files already downloaded and verified\n"
     ]
    },
    {
     "name": "stdout",
     "output_type": "stream",
     "text": [
      "Files already downloaded and verified\n"
     ]
    },
    {
     "name": "stdout",
     "output_type": "stream",
     "text": [
      "Epoch   1/150 - Train accuracy: 10.081% - Test accuracy: 09.986%\n"
     ]
    },
    {
     "name": "stdout",
     "output_type": "stream",
     "text": [
      "Epoch   2/150 - Train accuracy: 21.183% - Test accuracy: 32.452%\n"
     ]
    },
    {
     "name": "stdout",
     "output_type": "stream",
     "text": [
      "Epoch   3/150 - Train accuracy: 34.867% - Test accuracy: 43.970%\n"
     ]
    },
    {
     "name": "stdout",
     "output_type": "stream",
     "text": [
      "Epoch   4/150 - Train accuracy: 43.584% - Test accuracy: 50.451%\n"
     ]
    },
    {
     "name": "stdout",
     "output_type": "stream",
     "text": [
      "Epoch   5/150 - Train accuracy: 48.968% - Test accuracy: 51.973%\n"
     ]
    },
    {
     "name": "stdout",
     "output_type": "stream",
     "text": [
      "Epoch   6/150 - Train accuracy: 53.561% - Test accuracy: 59.886%\n"
     ]
    },
    {
     "name": "stdout",
     "output_type": "stream",
     "text": [
      "Epoch   7/150 - Train accuracy: 57.774% - Test accuracy: 61.298%\n"
     ]
    },
    {
     "name": "stdout",
     "output_type": "stream",
     "text": [
      "Epoch   8/150 - Train accuracy: 59.745% - Test accuracy: 63.662%\n"
     ]
    },
    {
     "name": "stdout",
     "output_type": "stream",
     "text": [
      "Epoch   9/150 - Train accuracy: 62.146% - Test accuracy: 65.014%\n"
     ]
    },
    {
     "name": "stdout",
     "output_type": "stream",
     "text": [
      "Epoch  10/150 - Train accuracy: 64.275% - Test accuracy: 65.074%\n"
     ]
    },
    {
     "name": "stdout",
     "output_type": "stream",
     "text": [
      "Epoch  11/150 - Train accuracy: 65.663% - Test accuracy: 68.339%\n"
     ]
    },
    {
     "name": "stdout",
     "output_type": "stream",
     "text": [
      "Epoch  12/150 - Train accuracy: 67.262% - Test accuracy: 71.074%\n"
     ]
    },
    {
     "name": "stdout",
     "output_type": "stream",
     "text": [
      "Epoch  13/150 - Train accuracy: 68.142% - Test accuracy: 71.845%\n"
     ]
    },
    {
     "name": "stdout",
     "output_type": "stream",
     "text": [
      "Epoch  14/150 - Train accuracy: 69.238% - Test accuracy: 70.563%\n"
     ]
    },
    {
     "name": "stdout",
     "output_type": "stream",
     "text": [
      "Epoch  15/150 - Train accuracy: 70.381% - Test accuracy: 70.252%\n"
     ]
    },
    {
     "name": "stdout",
     "output_type": "stream",
     "text": [
      "Epoch  16/150 - Train accuracy: 70.857% - Test accuracy: 71.394%\n"
     ]
    },
    {
     "name": "stdout",
     "output_type": "stream",
     "text": [
      "Epoch  17/150 - Train accuracy: 71.749% - Test accuracy: 73.628%\n"
     ]
    },
    {
     "name": "stdout",
     "output_type": "stream",
     "text": [
      "Epoch  18/150 - Train accuracy: 72.611% - Test accuracy: 70.122%\n"
     ]
    },
    {
     "name": "stdout",
     "output_type": "stream",
     "text": [
      "Epoch  19/150 - Train accuracy: 73.365% - Test accuracy: 72.646%\n"
     ]
    },
    {
     "name": "stdout",
     "output_type": "stream",
     "text": [
      "Epoch  20/150 - Train accuracy: 73.946% - Test accuracy: 71.725%\n"
     ]
    },
    {
     "name": "stdout",
     "output_type": "stream",
     "text": [
      "Epoch  21/150 - Train accuracy: 74.410% - Test accuracy: 75.561%\n"
     ]
    },
    {
     "name": "stdout",
     "output_type": "stream",
     "text": [
      "Epoch  22/150 - Train accuracy: 74.924% - Test accuracy: 74.259%\n"
     ]
    },
    {
     "name": "stdout",
     "output_type": "stream",
     "text": [
      "Epoch  23/150 - Train accuracy: 75.332% - Test accuracy: 75.110%\n"
     ]
    },
    {
     "name": "stdout",
     "output_type": "stream",
     "text": [
      "Epoch  24/150 - Train accuracy: 75.946% - Test accuracy: 76.693%\n"
     ]
    },
    {
     "name": "stdout",
     "output_type": "stream",
     "text": [
      "Epoch  25/150 - Train accuracy: 76.208% - Test accuracy: 74.159%\n"
     ]
    },
    {
     "name": "stdout",
     "output_type": "stream",
     "text": [
      "Epoch  26/150 - Train accuracy: 76.987% - Test accuracy: 73.838%\n"
     ]
    },
    {
     "name": "stdout",
     "output_type": "stream",
     "text": [
      "Epoch  27/150 - Train accuracy: 76.546% - Test accuracy: 72.706%\n"
     ]
    },
    {
     "name": "stdout",
     "output_type": "stream",
     "text": [
      "Epoch  28/150 - Train accuracy: 77.465% - Test accuracy: 77.574%\n"
     ]
    },
    {
     "name": "stdout",
     "output_type": "stream",
     "text": [
      "Epoch  29/150 - Train accuracy: 77.567% - Test accuracy: 76.893%\n"
     ]
    },
    {
     "name": "stdout",
     "output_type": "stream",
     "text": [
      "Epoch  30/150 - Train accuracy: 78.105% - Test accuracy: 76.703%\n"
     ]
    },
    {
     "name": "stdout",
     "output_type": "stream",
     "text": [
      "Epoch  31/150 - Train accuracy: 78.303% - Test accuracy: 78.966%\n"
     ]
    },
    {
     "name": "stdout",
     "output_type": "stream",
     "text": [
      "Epoch  32/150 - Train accuracy: 78.425% - Test accuracy: 77.895%\n"
     ]
    },
    {
     "name": "stdout",
     "output_type": "stream",
     "text": [
      "Epoch  33/150 - Train accuracy: 79.209% - Test accuracy: 78.325%\n"
     ]
    },
    {
     "name": "stdout",
     "output_type": "stream",
     "text": [
      "Epoch  34/150 - Train accuracy: 78.923% - Test accuracy: 76.593%\n"
     ]
    },
    {
     "name": "stdout",
     "output_type": "stream",
     "text": [
      "Epoch  35/150 - Train accuracy: 79.549% - Test accuracy: 79.417%\n"
     ]
    },
    {
     "name": "stdout",
     "output_type": "stream",
     "text": [
      "Epoch  36/150 - Train accuracy: 79.567% - Test accuracy: 78.476%\n"
     ]
    },
    {
     "name": "stdout",
     "output_type": "stream",
     "text": [
      "Epoch  37/150 - Train accuracy: 79.619% - Test accuracy: 79.497%\n"
     ]
    },
    {
     "name": "stdout",
     "output_type": "stream",
     "text": [
      "Epoch  38/150 - Train accuracy: 79.822% - Test accuracy: 80.429%\n"
     ]
    },
    {
     "name": "stdout",
     "output_type": "stream",
     "text": [
      "Epoch  39/150 - Train accuracy: 80.094% - Test accuracy: 79.046%\n"
     ]
    },
    {
     "name": "stdout",
     "output_type": "stream",
     "text": [
      "Epoch  40/150 - Train accuracy: 80.176% - Test accuracy: 73.548%\n"
     ]
    },
    {
     "name": "stdout",
     "output_type": "stream",
     "text": [
      "Epoch  41/150 - Train accuracy: 80.704% - Test accuracy: 78.906%\n"
     ]
    },
    {
     "name": "stdout",
     "output_type": "stream",
     "text": [
      "Epoch  42/150 - Train accuracy: 80.822% - Test accuracy: 77.624%\n"
     ]
    },
    {
     "name": "stdout",
     "output_type": "stream",
     "text": [
      "Epoch  43/150 - Train accuracy: 80.864% - Test accuracy: 79.627%\n"
     ]
    },
    {
     "name": "stdout",
     "output_type": "stream",
     "text": [
      "Epoch  44/150 - Train accuracy: 81.474% - Test accuracy: 78.415%\n"
     ]
    },
    {
     "name": "stdout",
     "output_type": "stream",
     "text": [
      "Epoch  45/150 - Train accuracy: 81.036% - Test accuracy: 77.694%\n"
     ]
    },
    {
     "name": "stdout",
     "output_type": "stream",
     "text": [
      "Epoch  46/150 - Train accuracy: 81.108% - Test accuracy: 79.718%\n"
     ]
    },
    {
     "name": "stdout",
     "output_type": "stream",
     "text": [
      "Epoch  47/150 - Train accuracy: 81.270% - Test accuracy: 79.808%\n"
     ]
    },
    {
     "name": "stdout",
     "output_type": "stream",
     "text": [
      "Epoch  48/150 - Train accuracy: 81.980% - Test accuracy: 79.087%\n"
     ]
    },
    {
     "name": "stdout",
     "output_type": "stream",
     "text": [
      "Epoch  49/150 - Train accuracy: 82.042% - Test accuracy: 80.068%\n"
     ]
    },
    {
     "name": "stdout",
     "output_type": "stream",
     "text": [
      "Epoch  50/150 - Train accuracy: 81.800% - Test accuracy: 79.978%\n"
     ]
    },
    {
     "name": "stdout",
     "output_type": "stream",
     "text": [
      "Epoch  51/150 - Train accuracy: 82.066% - Test accuracy: 79.587%\n"
     ]
    },
    {
     "name": "stdout",
     "output_type": "stream",
     "text": [
      "Epoch  52/150 - Train accuracy: 82.348% - Test accuracy: 79.758%\n"
     ]
    },
    {
     "name": "stdout",
     "output_type": "stream",
     "text": [
      "Epoch  53/150 - Train accuracy: 82.178% - Test accuracy: 77.504%\n",
      "----------------------------------------------------------------\n",
      "Reducing learning rate on plateau at epoch 53\n",
      "----------------------------------------------------------------\n"
     ]
    },
    {
     "name": "stdout",
     "output_type": "stream",
     "text": [
      "Epoch  54/150 - Train accuracy: 86.676% - Test accuracy: 83.704%\n"
     ]
    },
    {
     "name": "stdout",
     "output_type": "stream",
     "text": [
      "Epoch  55/150 - Train accuracy: 87.492% - Test accuracy: 84.014%\n"
     ]
    },
    {
     "name": "stdout",
     "output_type": "stream",
     "text": [
      "Epoch  56/150 - Train accuracy: 87.748% - Test accuracy: 83.984%\n"
     ]
    },
    {
     "name": "stdout",
     "output_type": "stream",
     "text": [
      "Epoch  57/150 - Train accuracy: 88.186% - Test accuracy: 83.964%\n"
     ]
    },
    {
     "name": "stdout",
     "output_type": "stream",
     "text": [
      "Epoch  58/150 - Train accuracy: 88.104% - Test accuracy: 84.295%\n"
     ]
    },
    {
     "name": "stdout",
     "output_type": "stream",
     "text": [
      "Epoch  59/150 - Train accuracy: 88.442% - Test accuracy: 84.075%\n"
     ]
    },
    {
     "name": "stdout",
     "output_type": "stream",
     "text": [
      "Epoch  60/150 - Train accuracy: 88.640% - Test accuracy: 84.305%\n"
     ]
    },
    {
     "name": "stdout",
     "output_type": "stream",
     "text": [
      "Epoch  61/150 - Train accuracy: 88.594% - Test accuracy: 84.435%\n"
     ]
    },
    {
     "name": "stdout",
     "output_type": "stream",
     "text": [
      "Epoch  62/150 - Train accuracy: 88.524% - Test accuracy: 84.425%\n"
     ]
    },
    {
     "name": "stdout",
     "output_type": "stream",
     "text": [
      "Epoch  63/150 - Train accuracy: 88.918% - Test accuracy: 84.085%\n"
     ]
    },
    {
     "name": "stdout",
     "output_type": "stream",
     "text": [
      "Epoch  64/150 - Train accuracy: 88.998% - Test accuracy: 84.645%\n"
     ]
    },
    {
     "name": "stdout",
     "output_type": "stream",
     "text": [
      "Epoch  65/150 - Train accuracy: 89.159% - Test accuracy: 84.716%\n"
     ]
    },
    {
     "name": "stdout",
     "output_type": "stream",
     "text": [
      "Epoch  66/150 - Train accuracy: 89.383% - Test accuracy: 84.265%\n"
     ]
    },
    {
     "name": "stdout",
     "output_type": "stream",
     "text": [
      "Epoch  67/150 - Train accuracy: 89.319% - Test accuracy: 84.445%\n"
     ]
    },
    {
     "name": "stdout",
     "output_type": "stream",
     "text": [
      "Epoch  68/150 - Train accuracy: 89.187% - Test accuracy: 84.786%\n"
     ]
    },
    {
     "name": "stdout",
     "output_type": "stream",
     "text": [
      "Epoch  69/150 - Train accuracy: 89.307% - Test accuracy: 84.996%\n"
     ]
    },
    {
     "name": "stdout",
     "output_type": "stream",
     "text": [
      "Epoch  70/150 - Train accuracy: 89.515% - Test accuracy: 85.236%\n"
     ]
    },
    {
     "name": "stdout",
     "output_type": "stream",
     "text": [
      "Epoch  71/150 - Train accuracy: 89.575% - Test accuracy: 84.756%\n"
     ]
    },
    {
     "name": "stdout",
     "output_type": "stream",
     "text": [
      "Epoch  72/150 - Train accuracy: 89.551% - Test accuracy: 85.256%\n"
     ]
    },
    {
     "name": "stdout",
     "output_type": "stream",
     "text": [
      "Epoch  73/150 - Train accuracy: 89.465% - Test accuracy: 85.146%\n"
     ]
    },
    {
     "name": "stdout",
     "output_type": "stream",
     "text": [
      "Epoch  74/150 - Train accuracy: 89.577% - Test accuracy: 85.407%\n"
     ]
    },
    {
     "name": "stdout",
     "output_type": "stream",
     "text": [
      "Epoch  75/150 - Train accuracy: 89.759% - Test accuracy: 85.487%\n"
     ]
    },
    {
     "name": "stdout",
     "output_type": "stream",
     "text": [
      "Epoch  76/150 - Train accuracy: 89.787% - Test accuracy: 85.477%\n"
     ]
    },
    {
     "name": "stdout",
     "output_type": "stream",
     "text": [
      "Epoch  77/150 - Train accuracy: 90.025% - Test accuracy: 84.545%\n"
     ]
    },
    {
     "name": "stdout",
     "output_type": "stream",
     "text": [
      "Epoch  78/150 - Train accuracy: 89.733% - Test accuracy: 85.286%\n"
     ]
    },
    {
     "name": "stdout",
     "output_type": "stream",
     "text": [
      "Epoch  79/150 - Train accuracy: 90.025% - Test accuracy: 85.266%\n"
     ]
    },
    {
     "name": "stdout",
     "output_type": "stream",
     "text": [
      "Epoch  80/150 - Train accuracy: 90.183% - Test accuracy: 84.886%\n",
      "----------------------------------------------------------------\n",
      "Reducing learning rate on plateau at epoch 80\n",
      "----------------------------------------------------------------\n"
     ]
    },
    {
     "name": "stdout",
     "output_type": "stream",
     "text": [
      "Epoch  81/150 - Train accuracy: 91.497% - Test accuracy: 86.518%\n"
     ]
    },
    {
     "name": "stdout",
     "output_type": "stream",
     "text": [
      "Epoch  82/150 - Train accuracy: 91.885% - Test accuracy: 86.228%\n"
     ]
    },
    {
     "name": "stdout",
     "output_type": "stream",
     "text": [
      "Epoch  83/150 - Train accuracy: 91.699% - Test accuracy: 86.298%\n"
     ]
    },
    {
     "name": "stdout",
     "output_type": "stream",
     "text": [
      "Epoch  84/150 - Train accuracy: 91.785% - Test accuracy: 86.318%\n"
     ]
    },
    {
     "name": "stdout",
     "output_type": "stream",
     "text": [
      "Epoch  85/150 - Train accuracy: 91.985% - Test accuracy: 86.749%\n"
     ]
    },
    {
     "name": "stdout",
     "output_type": "stream",
     "text": [
      "Epoch  86/150 - Train accuracy: 91.875% - Test accuracy: 86.408%\n"
     ]
    },
    {
     "name": "stdout",
     "output_type": "stream",
     "text": [
      "Epoch  87/150 - Train accuracy: 91.995% - Test accuracy: 86.779%\n"
     ]
    },
    {
     "name": "stdout",
     "output_type": "stream",
     "text": [
      "Epoch  88/150 - Train accuracy: 91.983% - Test accuracy: 86.699%\n"
     ]
    },
    {
     "name": "stdout",
     "output_type": "stream",
     "text": [
      "Epoch  89/150 - Train accuracy: 92.175% - Test accuracy: 86.819%\n"
     ]
    },
    {
     "name": "stdout",
     "output_type": "stream",
     "text": [
      "Epoch  90/150 - Train accuracy: 92.049% - Test accuracy: 86.859%\n"
     ]
    },
    {
     "name": "stdout",
     "output_type": "stream",
     "text": [
      "Epoch  91/150 - Train accuracy: 92.029% - Test accuracy: 86.909%\n"
     ]
    },
    {
     "name": "stdout",
     "output_type": "stream",
     "text": [
      "Epoch  92/150 - Train accuracy: 92.019% - Test accuracy: 86.879%\n"
     ]
    },
    {
     "name": "stdout",
     "output_type": "stream",
     "text": [
      "Epoch  93/150 - Train accuracy: 92.061% - Test accuracy: 86.398%\n"
     ]
    },
    {
     "name": "stdout",
     "output_type": "stream",
     "text": [
      "Epoch  94/150 - Train accuracy: 92.089% - Test accuracy: 86.709%\n"
     ]
    },
    {
     "name": "stdout",
     "output_type": "stream",
     "text": [
      "Epoch  95/150 - Train accuracy: 92.278% - Test accuracy: 86.969%\n"
     ]
    },
    {
     "name": "stdout",
     "output_type": "stream",
     "text": [
      "Epoch  96/150 - Train accuracy: 92.139% - Test accuracy: 86.869%\n",
      "----------------------------------------------------------------\n",
      "Reducing learning rate on plateau at epoch 96\n",
      "----------------------------------------------------------------\n"
     ]
    },
    {
     "name": "stdout",
     "output_type": "stream",
     "text": [
      "Epoch  97/150 - Train accuracy: 92.664% - Test accuracy: 87.109%\n"
     ]
    },
    {
     "name": "stdout",
     "output_type": "stream",
     "text": [
      "Epoch  98/150 - Train accuracy: 92.672% - Test accuracy: 86.979%\n"
     ]
    },
    {
     "name": "stdout",
     "output_type": "stream",
     "text": [
      "Epoch  99/150 - Train accuracy: 92.688% - Test accuracy: 87.099%\n"
     ]
    },
    {
     "name": "stdout",
     "output_type": "stream",
     "text": [
      "Epoch 100/150 - Train accuracy: 92.828% - Test accuracy: 87.250%\n"
     ]
    },
    {
     "name": "stdout",
     "output_type": "stream",
     "text": [
      "Epoch 101/150 - Train accuracy: 92.668% - Test accuracy: 87.260%\n"
     ]
    },
    {
     "name": "stdout",
     "output_type": "stream",
     "text": [
      "Epoch 102/150 - Train accuracy: 92.714% - Test accuracy: 87.069%\n"
     ]
    },
    {
     "name": "stdout",
     "output_type": "stream",
     "text": [
      "Epoch 103/150 - Train accuracy: 92.932% - Test accuracy: 87.079%\n"
     ]
    },
    {
     "name": "stdout",
     "output_type": "stream",
     "text": [
      "Epoch 104/150 - Train accuracy: 92.760% - Test accuracy: 87.159%\n"
     ]
    },
    {
     "name": "stdout",
     "output_type": "stream",
     "text": [
      "Epoch 105/150 - Train accuracy: 92.864% - Test accuracy: 87.079%\n"
     ]
    },
    {
     "name": "stdout",
     "output_type": "stream",
     "text": [
      "Epoch 106/150 - Train accuracy: 92.846% - Test accuracy: 87.009%\n"
     ]
    },
    {
     "name": "stdout",
     "output_type": "stream",
     "text": [
      "Epoch 107/150 - Train accuracy: 92.772% - Test accuracy: 87.049%\n"
     ]
    },
    {
     "name": "stdout",
     "output_type": "stream",
     "text": [
      "Epoch 108/150 - Train accuracy: 92.812% - Test accuracy: 87.230%\n"
     ]
    },
    {
     "name": "stdout",
     "output_type": "stream",
     "text": [
      "Epoch 109/150 - Train accuracy: 92.870% - Test accuracy: 87.270%\n"
     ]
    },
    {
     "name": "stdout",
     "output_type": "stream",
     "text": [
      "Epoch 110/150 - Train accuracy: 92.724% - Test accuracy: 87.200%\n"
     ]
    },
    {
     "name": "stdout",
     "output_type": "stream",
     "text": [
      "Epoch 111/150 - Train accuracy: 92.954% - Test accuracy: 86.959%\n",
      "----------------------------------------------------------------\n",
      "Reducing learning rate on plateau at epoch 111\n",
      "----------------------------------------------------------------\n"
     ]
    },
    {
     "name": "stdout",
     "output_type": "stream",
     "text": [
      "Epoch 112/150 - Train accuracy: 92.776% - Test accuracy: 87.049%\n"
     ]
    },
    {
     "name": "stdout",
     "output_type": "stream",
     "text": [
      "Epoch 113/150 - Train accuracy: 92.956% - Test accuracy: 87.039%\n"
     ]
    },
    {
     "name": "stdout",
     "output_type": "stream",
     "text": [
      "Epoch 114/150 - Train accuracy: 93.026% - Test accuracy: 87.079%\n"
     ]
    },
    {
     "name": "stdout",
     "output_type": "stream",
     "text": [
      "Epoch 115/150 - Train accuracy: 92.960% - Test accuracy: 87.230%\n"
     ]
    },
    {
     "name": "stdout",
     "output_type": "stream",
     "text": [
      "Epoch 116/150 - Train accuracy: 93.078% - Test accuracy: 87.250%\n",
      "----------------------------------------------------------------\n",
      "Early stopping at epoch 116\n",
      "----------------------------------------------------------------\n"
     ]
    },
    {
     "name": "stdout",
     "output_type": "stream",
     "text": [
      "----------------------------------------------------------------\n",
      "Running experiment with seed 49...\n"
     ]
    },
    {
     "name": "stdout",
     "output_type": "stream",
     "text": [
      "Files already downloaded and verified\n"
     ]
    },
    {
     "name": "stdout",
     "output_type": "stream",
     "text": [
      "Files already downloaded and verified\n"
     ]
    },
    {
     "name": "stdout",
     "output_type": "stream",
     "text": [
      "Epoch   1/150 - Train accuracy: 10.003% - Test accuracy: 15.194%\n"
     ]
    },
    {
     "name": "stdout",
     "output_type": "stream",
     "text": [
      "Epoch   2/150 - Train accuracy: 21.191% - Test accuracy: 32.622%\n"
     ]
    },
    {
     "name": "stdout",
     "output_type": "stream",
     "text": [
      "Epoch   3/150 - Train accuracy: 35.375% - Test accuracy: 44.030%\n"
     ]
    },
    {
     "name": "stdout",
     "output_type": "stream",
     "text": [
      "Epoch   4/150 - Train accuracy: 43.280% - Test accuracy: 49.629%\n"
     ]
    },
    {
     "name": "stdout",
     "output_type": "stream",
     "text": [
      "Epoch   5/150 - Train accuracy: 47.981% - Test accuracy: 50.861%\n"
     ]
    },
    {
     "name": "stdout",
     "output_type": "stream",
     "text": [
      "Epoch   6/150 - Train accuracy: 52.895% - Test accuracy: 55.329%\n"
     ]
    },
    {
     "name": "stdout",
     "output_type": "stream",
     "text": [
      "Epoch   7/150 - Train accuracy: 56.568% - Test accuracy: 59.115%\n"
     ]
    },
    {
     "name": "stdout",
     "output_type": "stream",
     "text": [
      "Epoch   8/150 - Train accuracy: 59.357% - Test accuracy: 61.468%\n"
     ]
    },
    {
     "name": "stdout",
     "output_type": "stream",
     "text": [
      "Epoch   9/150 - Train accuracy: 61.954% - Test accuracy: 59.565%\n"
     ]
    },
    {
     "name": "stdout",
     "output_type": "stream",
     "text": [
      "Epoch  10/150 - Train accuracy: 63.936% - Test accuracy: 63.732%\n"
     ]
    },
    {
     "name": "stdout",
     "output_type": "stream",
     "text": [
      "Epoch  11/150 - Train accuracy: 65.215% - Test accuracy: 68.319%\n"
     ]
    },
    {
     "name": "stdout",
     "output_type": "stream",
     "text": [
      "Epoch  12/150 - Train accuracy: 66.247% - Test accuracy: 68.910%\n"
     ]
    },
    {
     "name": "stdout",
     "output_type": "stream",
     "text": [
      "Epoch  13/150 - Train accuracy: 67.788% - Test accuracy: 70.863%\n"
     ]
    },
    {
     "name": "stdout",
     "output_type": "stream",
     "text": [
      "Epoch  14/150 - Train accuracy: 68.702% - Test accuracy: 70.232%\n"
     ]
    },
    {
     "name": "stdout",
     "output_type": "stream",
     "text": [
      "Epoch  15/150 - Train accuracy: 69.878% - Test accuracy: 71.364%\n"
     ]
    },
    {
     "name": "stdout",
     "output_type": "stream",
     "text": [
      "Epoch  16/150 - Train accuracy: 70.715% - Test accuracy: 71.955%\n"
     ]
    },
    {
     "name": "stdout",
     "output_type": "stream",
     "text": [
      "Epoch  17/150 - Train accuracy: 71.001% - Test accuracy: 72.616%\n"
     ]
    },
    {
     "name": "stdout",
     "output_type": "stream",
     "text": [
      "Epoch  18/150 - Train accuracy: 72.323% - Test accuracy: 73.698%\n"
     ]
    },
    {
     "name": "stdout",
     "output_type": "stream",
     "text": [
      "Epoch  19/150 - Train accuracy: 73.141% - Test accuracy: 74.309%\n"
     ]
    },
    {
     "name": "stdout",
     "output_type": "stream",
     "text": [
      "Epoch  20/150 - Train accuracy: 73.538% - Test accuracy: 72.756%\n"
     ]
    },
    {
     "name": "stdout",
     "output_type": "stream",
     "text": [
      "Epoch  21/150 - Train accuracy: 74.206% - Test accuracy: 74.619%\n"
     ]
    },
    {
     "name": "stdout",
     "output_type": "stream",
     "text": [
      "Epoch  22/150 - Train accuracy: 74.476% - Test accuracy: 76.202%\n"
     ]
    },
    {
     "name": "stdout",
     "output_type": "stream",
     "text": [
      "Epoch  23/150 - Train accuracy: 75.104% - Test accuracy: 75.030%\n"
     ]
    },
    {
     "name": "stdout",
     "output_type": "stream",
     "text": [
      "Epoch  24/150 - Train accuracy: 76.070% - Test accuracy: 74.659%\n"
     ]
    },
    {
     "name": "stdout",
     "output_type": "stream",
     "text": [
      "Epoch  25/150 - Train accuracy: 75.686% - Test accuracy: 77.935%\n"
     ]
    },
    {
     "name": "stdout",
     "output_type": "stream",
     "text": [
      "Epoch  26/150 - Train accuracy: 76.957% - Test accuracy: 77.554%\n"
     ]
    },
    {
     "name": "stdout",
     "output_type": "stream",
     "text": [
      "Epoch  27/150 - Train accuracy: 76.979% - Test accuracy: 77.143%\n"
     ]
    },
    {
     "name": "stdout",
     "output_type": "stream",
     "text": [
      "Epoch  28/150 - Train accuracy: 77.311% - Test accuracy: 78.866%\n"
     ]
    },
    {
     "name": "stdout",
     "output_type": "stream",
     "text": [
      "Epoch  29/150 - Train accuracy: 77.691% - Test accuracy: 76.653%\n"
     ]
    },
    {
     "name": "stdout",
     "output_type": "stream",
     "text": [
      "Epoch  30/150 - Train accuracy: 77.963% - Test accuracy: 76.022%\n"
     ]
    },
    {
     "name": "stdout",
     "output_type": "stream",
     "text": [
      "Epoch  31/150 - Train accuracy: 78.593% - Test accuracy: 79.277%\n"
     ]
    },
    {
     "name": "stdout",
     "output_type": "stream",
     "text": [
      "Epoch  32/150 - Train accuracy: 78.499% - Test accuracy: 78.536%\n"
     ]
    },
    {
     "name": "stdout",
     "output_type": "stream",
     "text": [
      "Epoch  33/150 - Train accuracy: 79.095% - Test accuracy: 77.274%\n"
     ]
    },
    {
     "name": "stdout",
     "output_type": "stream",
     "text": [
      "Epoch  34/150 - Train accuracy: 79.049% - Test accuracy: 77.594%\n"
     ]
    },
    {
     "name": "stdout",
     "output_type": "stream",
     "text": [
      "Epoch  35/150 - Train accuracy: 79.377% - Test accuracy: 75.561%\n"
     ]
    },
    {
     "name": "stdout",
     "output_type": "stream",
     "text": [
      "Epoch  36/150 - Train accuracy: 79.105% - Test accuracy: 78.245%\n"
     ]
    },
    {
     "name": "stdout",
     "output_type": "stream",
     "text": [
      "Epoch  37/150 - Train accuracy: 80.058% - Test accuracy: 78.946%\n"
     ]
    },
    {
     "name": "stdout",
     "output_type": "stream",
     "text": [
      "Epoch  38/150 - Train accuracy: 79.854% - Test accuracy: 75.441%\n"
     ]
    },
    {
     "name": "stdout",
     "output_type": "stream",
     "text": [
      "Epoch  39/150 - Train accuracy: 80.360% - Test accuracy: 78.966%\n"
     ]
    },
    {
     "name": "stdout",
     "output_type": "stream",
     "text": [
      "Epoch  40/150 - Train accuracy: 80.346% - Test accuracy: 79.948%\n"
     ]
    },
    {
     "name": "stdout",
     "output_type": "stream",
     "text": [
      "Epoch  41/150 - Train accuracy: 80.534% - Test accuracy: 79.607%\n"
     ]
    },
    {
     "name": "stdout",
     "output_type": "stream",
     "text": [
      "Epoch  42/150 - Train accuracy: 80.868% - Test accuracy: 78.275%\n"
     ]
    },
    {
     "name": "stdout",
     "output_type": "stream",
     "text": [
      "Epoch  43/150 - Train accuracy: 80.742% - Test accuracy: 80.058%\n"
     ]
    },
    {
     "name": "stdout",
     "output_type": "stream",
     "text": [
      "Epoch  44/150 - Train accuracy: 81.244% - Test accuracy: 79.647%\n"
     ]
    },
    {
     "name": "stdout",
     "output_type": "stream",
     "text": [
      "Epoch  45/150 - Train accuracy: 81.336% - Test accuracy: 78.325%\n"
     ]
    },
    {
     "name": "stdout",
     "output_type": "stream",
     "text": [
      "Epoch  46/150 - Train accuracy: 81.670% - Test accuracy: 77.804%\n",
      "----------------------------------------------------------------\n",
      "Reducing learning rate on plateau at epoch 46\n",
      "----------------------------------------------------------------\n"
     ]
    },
    {
     "name": "stdout",
     "output_type": "stream",
     "text": [
      "Epoch  47/150 - Train accuracy: 86.042% - Test accuracy: 83.774%\n"
     ]
    },
    {
     "name": "stdout",
     "output_type": "stream",
     "text": [
      "Epoch  48/150 - Train accuracy: 86.774% - Test accuracy: 83.784%\n"
     ]
    },
    {
     "name": "stdout",
     "output_type": "stream",
     "text": [
      "Epoch  49/150 - Train accuracy: 87.258% - Test accuracy: 83.924%\n"
     ]
    },
    {
     "name": "stdout",
     "output_type": "stream",
     "text": [
      "Epoch  50/150 - Train accuracy: 87.234% - Test accuracy: 83.914%\n"
     ]
    },
    {
     "name": "stdout",
     "output_type": "stream",
     "text": [
      "Epoch  51/150 - Train accuracy: 87.468% - Test accuracy: 84.195%\n"
     ]
    },
    {
     "name": "stdout",
     "output_type": "stream",
     "text": [
      "Epoch  52/150 - Train accuracy: 87.872% - Test accuracy: 84.665%\n"
     ]
    },
    {
     "name": "stdout",
     "output_type": "stream",
     "text": [
      "Epoch  53/150 - Train accuracy: 87.904% - Test accuracy: 84.415%\n"
     ]
    },
    {
     "name": "stdout",
     "output_type": "stream",
     "text": [
      "Epoch  54/150 - Train accuracy: 87.958% - Test accuracy: 83.994%\n"
     ]
    },
    {
     "name": "stdout",
     "output_type": "stream",
     "text": [
      "Epoch  55/150 - Train accuracy: 88.272% - Test accuracy: 85.246%\n"
     ]
    },
    {
     "name": "stdout",
     "output_type": "stream",
     "text": [
      "Epoch  56/150 - Train accuracy: 88.074% - Test accuracy: 84.175%\n"
     ]
    },
    {
     "name": "stdout",
     "output_type": "stream",
     "text": [
      "Epoch  57/150 - Train accuracy: 88.270% - Test accuracy: 85.176%\n"
     ]
    },
    {
     "name": "stdout",
     "output_type": "stream",
     "text": [
      "Epoch  58/150 - Train accuracy: 88.548% - Test accuracy: 85.226%\n"
     ]
    },
    {
     "name": "stdout",
     "output_type": "stream",
     "text": [
      "Epoch  59/150 - Train accuracy: 88.676% - Test accuracy: 84.966%\n"
     ]
    },
    {
     "name": "stdout",
     "output_type": "stream",
     "text": [
      "Epoch  60/150 - Train accuracy: 88.424% - Test accuracy: 84.826%\n"
     ]
    },
    {
     "name": "stdout",
     "output_type": "stream",
     "text": [
      "Epoch  61/150 - Train accuracy: 88.892% - Test accuracy: 84.645%\n"
     ]
    },
    {
     "name": "stdout",
     "output_type": "stream",
     "text": [
      "Epoch  62/150 - Train accuracy: 88.834% - Test accuracy: 85.467%\n"
     ]
    },
    {
     "name": "stdout",
     "output_type": "stream",
     "text": [
      "Epoch  63/150 - Train accuracy: 88.944% - Test accuracy: 84.806%\n"
     ]
    },
    {
     "name": "stdout",
     "output_type": "stream",
     "text": [
      "Epoch  64/150 - Train accuracy: 88.888% - Test accuracy: 85.056%\n"
     ]
    },
    {
     "name": "stdout",
     "output_type": "stream",
     "text": [
      "Epoch  65/150 - Train accuracy: 88.922% - Test accuracy: 84.655%\n"
     ]
    },
    {
     "name": "stdout",
     "output_type": "stream",
     "text": [
      "Epoch  66/150 - Train accuracy: 89.008% - Test accuracy: 85.036%\n"
     ]
    },
    {
     "name": "stdout",
     "output_type": "stream",
     "text": [
      "Epoch  67/150 - Train accuracy: 89.048% - Test accuracy: 84.535%\n"
     ]
    },
    {
     "name": "stdout",
     "output_type": "stream",
     "text": [
      "Epoch  68/150 - Train accuracy: 89.103% - Test accuracy: 84.936%\n"
     ]
    },
    {
     "name": "stdout",
     "output_type": "stream",
     "text": [
      "Epoch  69/150 - Train accuracy: 89.487% - Test accuracy: 84.996%\n"
     ]
    },
    {
     "name": "stdout",
     "output_type": "stream",
     "text": [
      "Epoch  70/150 - Train accuracy: 89.393% - Test accuracy: 84.655%\n",
      "----------------------------------------------------------------\n",
      "Reducing learning rate on plateau at epoch 70\n",
      "----------------------------------------------------------------\n"
     ]
    },
    {
     "name": "stdout",
     "output_type": "stream",
     "text": [
      "Epoch  71/150 - Train accuracy: 90.941% - Test accuracy: 86.298%\n"
     ]
    },
    {
     "name": "stdout",
     "output_type": "stream",
     "text": [
      "Epoch  72/150 - Train accuracy: 91.219% - Test accuracy: 86.558%\n"
     ]
    },
    {
     "name": "stdout",
     "output_type": "stream",
     "text": [
      "Epoch  73/150 - Train accuracy: 91.219% - Test accuracy: 86.609%\n"
     ]
    },
    {
     "name": "stdout",
     "output_type": "stream",
     "text": [
      "Epoch  74/150 - Train accuracy: 91.047% - Test accuracy: 86.438%\n"
     ]
    },
    {
     "name": "stdout",
     "output_type": "stream",
     "text": [
      "Epoch  75/150 - Train accuracy: 91.299% - Test accuracy: 86.729%\n"
     ]
    },
    {
     "name": "stdout",
     "output_type": "stream",
     "text": [
      "Epoch  76/150 - Train accuracy: 91.171% - Test accuracy: 86.198%\n"
     ]
    },
    {
     "name": "stdout",
     "output_type": "stream",
     "text": [
      "Epoch  77/150 - Train accuracy: 91.241% - Test accuracy: 86.759%\n"
     ]
    },
    {
     "name": "stdout",
     "output_type": "stream",
     "text": [
      "Epoch  78/150 - Train accuracy: 91.239% - Test accuracy: 86.408%\n"
     ]
    },
    {
     "name": "stdout",
     "output_type": "stream",
     "text": [
      "Epoch  79/150 - Train accuracy: 91.105% - Test accuracy: 86.649%\n"
     ]
    },
    {
     "name": "stdout",
     "output_type": "stream",
     "text": [
      "Epoch  80/150 - Train accuracy: 91.389% - Test accuracy: 86.278%\n"
     ]
    },
    {
     "name": "stdout",
     "output_type": "stream",
     "text": [
      "Epoch  81/150 - Train accuracy: 91.267% - Test accuracy: 86.659%\n"
     ]
    },
    {
     "name": "stdout",
     "output_type": "stream",
     "text": [
      "Epoch  82/150 - Train accuracy: 91.271% - Test accuracy: 86.779%\n"
     ]
    },
    {
     "name": "stdout",
     "output_type": "stream",
     "text": [
      "Epoch  83/150 - Train accuracy: 91.339% - Test accuracy: 86.729%\n"
     ]
    },
    {
     "name": "stdout",
     "output_type": "stream",
     "text": [
      "Epoch  84/150 - Train accuracy: 91.339% - Test accuracy: 86.769%\n"
     ]
    },
    {
     "name": "stdout",
     "output_type": "stream",
     "text": [
      "Epoch  85/150 - Train accuracy: 91.491% - Test accuracy: 86.949%\n"
     ]
    },
    {
     "name": "stdout",
     "output_type": "stream",
     "text": [
      "Epoch  86/150 - Train accuracy: 91.487% - Test accuracy: 86.949%\n",
      "----------------------------------------------------------------\n",
      "Reducing learning rate on plateau at epoch 86\n",
      "----------------------------------------------------------------\n"
     ]
    },
    {
     "name": "stdout",
     "output_type": "stream",
     "text": [
      "Epoch  87/150 - Train accuracy: 91.797% - Test accuracy: 87.009%\n"
     ]
    },
    {
     "name": "stdout",
     "output_type": "stream",
     "text": [
      "Epoch  88/150 - Train accuracy: 91.977% - Test accuracy: 87.129%\n"
     ]
    },
    {
     "name": "stdout",
     "output_type": "stream",
     "text": [
      "Epoch  89/150 - Train accuracy: 92.049% - Test accuracy: 87.280%\n"
     ]
    },
    {
     "name": "stdout",
     "output_type": "stream",
     "text": [
      "Epoch  90/150 - Train accuracy: 92.111% - Test accuracy: 86.999%\n"
     ]
    },
    {
     "name": "stdout",
     "output_type": "stream",
     "text": [
      "Epoch  91/150 - Train accuracy: 92.019% - Test accuracy: 87.009%\n"
     ]
    },
    {
     "name": "stdout",
     "output_type": "stream",
     "text": [
      "Epoch  92/150 - Train accuracy: 92.041% - Test accuracy: 87.300%\n"
     ]
    },
    {
     "name": "stdout",
     "output_type": "stream",
     "text": [
      "Epoch  93/150 - Train accuracy: 92.031% - Test accuracy: 87.039%\n"
     ]
    },
    {
     "name": "stdout",
     "output_type": "stream",
     "text": [
      "Epoch  94/150 - Train accuracy: 92.065% - Test accuracy: 87.240%\n"
     ]
    },
    {
     "name": "stdout",
     "output_type": "stream",
     "text": [
      "Epoch  95/150 - Train accuracy: 92.133% - Test accuracy: 87.109%\n"
     ]
    },
    {
     "name": "stdout",
     "output_type": "stream",
     "text": [
      "Epoch  96/150 - Train accuracy: 92.121% - Test accuracy: 87.169%\n"
     ]
    },
    {
     "name": "stdout",
     "output_type": "stream",
     "text": [
      "Epoch  97/150 - Train accuracy: 92.248% - Test accuracy: 87.099%\n"
     ]
    },
    {
     "name": "stdout",
     "output_type": "stream",
     "text": [
      "Epoch  98/150 - Train accuracy: 92.067% - Test accuracy: 87.270%\n"
     ]
    },
    {
     "name": "stdout",
     "output_type": "stream",
     "text": [
      "Epoch  99/150 - Train accuracy: 92.240% - Test accuracy: 87.049%\n"
     ]
    },
    {
     "name": "stdout",
     "output_type": "stream",
     "text": [
      "Epoch 100/150 - Train accuracy: 92.093% - Test accuracy: 87.099%\n"
     ]
    },
    {
     "name": "stdout",
     "output_type": "stream",
     "text": [
      "Epoch 101/150 - Train accuracy: 92.155% - Test accuracy: 86.939%\n"
     ]
    },
    {
     "name": "stdout",
     "output_type": "stream",
     "text": [
      "Epoch 102/150 - Train accuracy: 92.055% - Test accuracy: 86.829%\n"
     ]
    },
    {
     "name": "stdout",
     "output_type": "stream",
     "text": [
      "Epoch 103/150 - Train accuracy: 92.103% - Test accuracy: 86.859%\n"
     ]
    },
    {
     "name": "stdout",
     "output_type": "stream",
     "text": [
      "Epoch 104/150 - Train accuracy: 92.177% - Test accuracy: 87.179%\n"
     ]
    },
    {
     "name": "stdout",
     "output_type": "stream",
     "text": [
      "Epoch 105/150 - Train accuracy: 92.145% - Test accuracy: 87.059%\n"
     ]
    },
    {
     "name": "stdout",
     "output_type": "stream",
     "text": [
      "Epoch 106/150 - Train accuracy: 92.173% - Test accuracy: 87.109%\n"
     ]
    },
    {
     "name": "stdout",
     "output_type": "stream",
     "text": [
      "Epoch 107/150 - Train accuracy: 92.344% - Test accuracy: 87.089%\n",
      "----------------------------------------------------------------\n",
      "Reducing learning rate on plateau at epoch 107\n",
      "----------------------------------------------------------------\n"
     ]
    },
    {
     "name": "stdout",
     "output_type": "stream",
     "text": [
      "Epoch 108/150 - Train accuracy: 91.977% - Test accuracy: 87.200%\n"
     ]
    },
    {
     "name": "stdout",
     "output_type": "stream",
     "text": [
      "Epoch 109/150 - Train accuracy: 92.344% - Test accuracy: 87.190%\n"
     ]
    },
    {
     "name": "stdout",
     "output_type": "stream",
     "text": [
      "Epoch 110/150 - Train accuracy: 92.336% - Test accuracy: 87.129%\n"
     ]
    },
    {
     "name": "stdout",
     "output_type": "stream",
     "text": [
      "Epoch 111/150 - Train accuracy: 92.272% - Test accuracy: 87.340%\n"
     ]
    },
    {
     "name": "stdout",
     "output_type": "stream",
     "text": [
      "Epoch 112/150 - Train accuracy: 92.248% - Test accuracy: 87.260%\n"
     ]
    },
    {
     "name": "stdout",
     "output_type": "stream",
     "text": [
      "Epoch 113/150 - Train accuracy: 92.328% - Test accuracy: 87.250%\n"
     ]
    },
    {
     "name": "stdout",
     "output_type": "stream",
     "text": [
      "Epoch 114/150 - Train accuracy: 92.292% - Test accuracy: 87.330%\n"
     ]
    },
    {
     "name": "stdout",
     "output_type": "stream",
     "text": [
      "Epoch 115/150 - Train accuracy: 92.418% - Test accuracy: 87.200%\n"
     ]
    },
    {
     "name": "stdout",
     "output_type": "stream",
     "text": [
      "Epoch 116/150 - Train accuracy: 92.362% - Test accuracy: 87.179%\n"
     ]
    },
    {
     "name": "stdout",
     "output_type": "stream",
     "text": [
      "Epoch 117/150 - Train accuracy: 92.472% - Test accuracy: 87.270%\n"
     ]
    },
    {
     "name": "stdout",
     "output_type": "stream",
     "text": [
      "Epoch 118/150 - Train accuracy: 92.272% - Test accuracy: 87.230%\n"
     ]
    },
    {
     "name": "stdout",
     "output_type": "stream",
     "text": [
      "Epoch 119/150 - Train accuracy: 92.382% - Test accuracy: 87.320%\n"
     ]
    },
    {
     "name": "stdout",
     "output_type": "stream",
     "text": [
      "Epoch 120/150 - Train accuracy: 92.482% - Test accuracy: 87.210%\n"
     ]
    },
    {
     "name": "stdout",
     "output_type": "stream",
     "text": [
      "Epoch 121/150 - Train accuracy: 92.202% - Test accuracy: 87.440%\n"
     ]
    },
    {
     "name": "stdout",
     "output_type": "stream",
     "text": [
      "Epoch 122/150 - Train accuracy: 92.280% - Test accuracy: 87.380%\n",
      "----------------------------------------------------------------\n",
      "Reducing learning rate on plateau at epoch 122\n",
      "----------------------------------------------------------------\n"
     ]
    },
    {
     "name": "stdout",
     "output_type": "stream",
     "text": [
      "Epoch 123/150 - Train accuracy: 92.408% - Test accuracy: 87.340%\n"
     ]
    },
    {
     "name": "stdout",
     "output_type": "stream",
     "text": [
      "Epoch 124/150 - Train accuracy: 92.468% - Test accuracy: 87.470%\n"
     ]
    },
    {
     "name": "stdout",
     "output_type": "stream",
     "text": [
      "Epoch 125/150 - Train accuracy: 92.328% - Test accuracy: 87.380%\n"
     ]
    },
    {
     "name": "stdout",
     "output_type": "stream",
     "text": [
      "Epoch 126/150 - Train accuracy: 92.456% - Test accuracy: 87.290%\n"
     ]
    },
    {
     "name": "stdout",
     "output_type": "stream",
     "text": [
      "Epoch 127/150 - Train accuracy: 92.532% - Test accuracy: 87.340%\n",
      "----------------------------------------------------------------\n",
      "Early stopping at epoch 127\n",
      "----------------------------------------------------------------\n"
     ]
    },
    {
     "name": "stdout",
     "output_type": "stream",
     "text": [
      "----------------------------------------------------------------\n",
      "Running experiment with seed 50...\n"
     ]
    },
    {
     "name": "stdout",
     "output_type": "stream",
     "text": [
      "Files already downloaded and verified\n"
     ]
    },
    {
     "name": "stdout",
     "output_type": "stream",
     "text": [
      "Files already downloaded and verified\n"
     ]
    },
    {
     "name": "stdout",
     "output_type": "stream",
     "text": [
      "Epoch   1/150 - Train accuracy: 10.035% - Test accuracy: 10.006%\n"
     ]
    },
    {
     "name": "stdout",
     "output_type": "stream",
     "text": [
      "Epoch   2/150 - Train accuracy: 21.309% - Test accuracy: 25.481%\n"
     ]
    },
    {
     "name": "stdout",
     "output_type": "stream",
     "text": [
      "Epoch   3/150 - Train accuracy: 34.599% - Test accuracy: 43.309%\n"
     ]
    },
    {
     "name": "stdout",
     "output_type": "stream",
     "text": [
      "Epoch   4/150 - Train accuracy: 43.422% - Test accuracy: 46.945%\n"
     ]
    },
    {
     "name": "stdout",
     "output_type": "stream",
     "text": [
      "Epoch   5/150 - Train accuracy: 48.642% - Test accuracy: 50.531%\n"
     ]
    },
    {
     "name": "stdout",
     "output_type": "stream",
     "text": [
      "Epoch   6/150 - Train accuracy: 53.651% - Test accuracy: 58.904%\n"
     ]
    },
    {
     "name": "stdout",
     "output_type": "stream",
     "text": [
      "Epoch   7/150 - Train accuracy: 57.352% - Test accuracy: 62.350%\n"
     ]
    },
    {
     "name": "stdout",
     "output_type": "stream",
     "text": [
      "Epoch   8/150 - Train accuracy: 60.415% - Test accuracy: 62.360%\n"
     ]
    },
    {
     "name": "stdout",
     "output_type": "stream",
     "text": [
      "Epoch   9/150 - Train accuracy: 62.672% - Test accuracy: 64.143%\n"
     ]
    },
    {
     "name": "stdout",
     "output_type": "stream",
     "text": [
      "Epoch  10/150 - Train accuracy: 64.347% - Test accuracy: 64.543%\n"
     ]
    },
    {
     "name": "stdout",
     "output_type": "stream",
     "text": [
      "Epoch  11/150 - Train accuracy: 65.791% - Test accuracy: 64.293%\n"
     ]
    },
    {
     "name": "stdout",
     "output_type": "stream",
     "text": [
      "Epoch  12/150 - Train accuracy: 66.995% - Test accuracy: 68.379%\n"
     ]
    },
    {
     "name": "stdout",
     "output_type": "stream",
     "text": [
      "Epoch  13/150 - Train accuracy: 68.342% - Test accuracy: 70.403%\n"
     ]
    },
    {
     "name": "stdout",
     "output_type": "stream",
     "text": [
      "Epoch  14/150 - Train accuracy: 69.564% - Test accuracy: 73.277%\n"
     ]
    },
    {
     "name": "stdout",
     "output_type": "stream",
     "text": [
      "Epoch  15/150 - Train accuracy: 70.527% - Test accuracy: 72.546%\n"
     ]
    },
    {
     "name": "stdout",
     "output_type": "stream",
     "text": [
      "Epoch  16/150 - Train accuracy: 71.127% - Test accuracy: 70.172%\n"
     ]
    },
    {
     "name": "stdout",
     "output_type": "stream",
     "text": [
      "Epoch  17/150 - Train accuracy: 72.447% - Test accuracy: 74.099%\n"
     ]
    },
    {
     "name": "stdout",
     "output_type": "stream",
     "text": [
      "Epoch  18/150 - Train accuracy: 73.015% - Test accuracy: 73.107%\n"
     ]
    },
    {
     "name": "stdout",
     "output_type": "stream",
     "text": [
      "Epoch  19/150 - Train accuracy: 73.548% - Test accuracy: 74.459%\n"
     ]
    },
    {
     "name": "stdout",
     "output_type": "stream",
     "text": [
      "Epoch  20/150 - Train accuracy: 73.934% - Test accuracy: 75.781%\n"
     ]
    },
    {
     "name": "stdout",
     "output_type": "stream",
     "text": [
      "Epoch  21/150 - Train accuracy: 74.550% - Test accuracy: 76.032%\n"
     ]
    },
    {
     "name": "stdout",
     "output_type": "stream",
     "text": [
      "Epoch  22/150 - Train accuracy: 74.980% - Test accuracy: 75.120%\n"
     ]
    },
    {
     "name": "stdout",
     "output_type": "stream",
     "text": [
      "Epoch  23/150 - Train accuracy: 75.692% - Test accuracy: 75.411%\n"
     ]
    },
    {
     "name": "stdout",
     "output_type": "stream",
     "text": [
      "Epoch  24/150 - Train accuracy: 75.862% - Test accuracy: 77.214%\n"
     ]
    },
    {
     "name": "stdout",
     "output_type": "stream",
     "text": [
      "Epoch  25/150 - Train accuracy: 76.693% - Test accuracy: 77.895%\n"
     ]
    },
    {
     "name": "stdout",
     "output_type": "stream",
     "text": [
      "Epoch  26/150 - Train accuracy: 76.945% - Test accuracy: 76.593%\n"
     ]
    },
    {
     "name": "stdout",
     "output_type": "stream",
     "text": [
      "Epoch  27/150 - Train accuracy: 77.845% - Test accuracy: 77.484%\n"
     ]
    },
    {
     "name": "stdout",
     "output_type": "stream",
     "text": [
      "Epoch  28/150 - Train accuracy: 77.791% - Test accuracy: 78.536%\n"
     ]
    },
    {
     "name": "stdout",
     "output_type": "stream",
     "text": [
      "Epoch  29/150 - Train accuracy: 78.145% - Test accuracy: 77.394%\n"
     ]
    },
    {
     "name": "stdout",
     "output_type": "stream",
     "text": [
      "Epoch  30/150 - Train accuracy: 78.557% - Test accuracy: 74.159%\n"
     ]
    },
    {
     "name": "stdout",
     "output_type": "stream",
     "text": [
      "Epoch  31/150 - Train accuracy: 78.793% - Test accuracy: 78.345%\n"
     ]
    },
    {
     "name": "stdout",
     "output_type": "stream",
     "text": [
      "Epoch  32/150 - Train accuracy: 79.187% - Test accuracy: 78.405%\n"
     ]
    },
    {
     "name": "stdout",
     "output_type": "stream",
     "text": [
      "Epoch  33/150 - Train accuracy: 79.235% - Test accuracy: 76.993%\n"
     ]
    },
    {
     "name": "stdout",
     "output_type": "stream",
     "text": [
      "Epoch  34/150 - Train accuracy: 79.573% - Test accuracy: 79.097%\n"
     ]
    },
    {
     "name": "stdout",
     "output_type": "stream",
     "text": [
      "Epoch  35/150 - Train accuracy: 79.754% - Test accuracy: 77.724%\n"
     ]
    },
    {
     "name": "stdout",
     "output_type": "stream",
     "text": [
      "Epoch  36/150 - Train accuracy: 80.032% - Test accuracy: 78.616%\n"
     ]
    },
    {
     "name": "stdout",
     "output_type": "stream",
     "text": [
      "Epoch  37/150 - Train accuracy: 80.354% - Test accuracy: 78.746%\n"
     ]
    },
    {
     "name": "stdout",
     "output_type": "stream",
     "text": [
      "Epoch  38/150 - Train accuracy: 80.242% - Test accuracy: 78.456%\n"
     ]
    },
    {
     "name": "stdout",
     "output_type": "stream",
     "text": [
      "Epoch  39/150 - Train accuracy: 80.308% - Test accuracy: 77.704%\n"
     ]
    },
    {
     "name": "stdout",
     "output_type": "stream",
     "text": [
      "Epoch  40/150 - Train accuracy: 80.568% - Test accuracy: 78.736%\n"
     ]
    },
    {
     "name": "stdout",
     "output_type": "stream",
     "text": [
      "Epoch  41/150 - Train accuracy: 80.680% - Test accuracy: 78.696%\n"
     ]
    },
    {
     "name": "stdout",
     "output_type": "stream",
     "text": [
      "Epoch  42/150 - Train accuracy: 81.206% - Test accuracy: 80.569%\n"
     ]
    },
    {
     "name": "stdout",
     "output_type": "stream",
     "text": [
      "Epoch  43/150 - Train accuracy: 81.294% - Test accuracy: 79.497%\n"
     ]
    },
    {
     "name": "stdout",
     "output_type": "stream",
     "text": [
      "Epoch  44/150 - Train accuracy: 81.716% - Test accuracy: 80.038%\n"
     ]
    },
    {
     "name": "stdout",
     "output_type": "stream",
     "text": [
      "Epoch  45/150 - Train accuracy: 81.306% - Test accuracy: 77.794%\n"
     ]
    },
    {
     "name": "stdout",
     "output_type": "stream",
     "text": [
      "Epoch  46/150 - Train accuracy: 81.826% - Test accuracy: 79.367%\n"
     ]
    },
    {
     "name": "stdout",
     "output_type": "stream",
     "text": [
      "Epoch  47/150 - Train accuracy: 82.004% - Test accuracy: 79.728%\n"
     ]
    },
    {
     "name": "stdout",
     "output_type": "stream",
     "text": [
      "Epoch  48/150 - Train accuracy: 81.970% - Test accuracy: 79.998%\n"
     ]
    },
    {
     "name": "stdout",
     "output_type": "stream",
     "text": [
      "Epoch  49/150 - Train accuracy: 82.140% - Test accuracy: 78.716%\n"
     ]
    },
    {
     "name": "stdout",
     "output_type": "stream",
     "text": [
      "Epoch  50/150 - Train accuracy: 82.356% - Test accuracy: 80.909%\n"
     ]
    },
    {
     "name": "stdout",
     "output_type": "stream",
     "text": [
      "Epoch  51/150 - Train accuracy: 82.526% - Test accuracy: 78.405%\n"
     ]
    },
    {
     "name": "stdout",
     "output_type": "stream",
     "text": [
      "Epoch  52/150 - Train accuracy: 82.400% - Test accuracy: 79.748%\n"
     ]
    },
    {
     "name": "stdout",
     "output_type": "stream",
     "text": [
      "Epoch  53/150 - Train accuracy: 82.382% - Test accuracy: 79.307%\n"
     ]
    },
    {
     "name": "stdout",
     "output_type": "stream",
     "text": [
      "Epoch  54/150 - Train accuracy: 82.474% - Test accuracy: 80.188%\n"
     ]
    },
    {
     "name": "stdout",
     "output_type": "stream",
     "text": [
      "Epoch  55/150 - Train accuracy: 82.506% - Test accuracy: 79.858%\n"
     ]
    },
    {
     "name": "stdout",
     "output_type": "stream",
     "text": [
      "Epoch  56/150 - Train accuracy: 82.660% - Test accuracy: 79.848%\n"
     ]
    },
    {
     "name": "stdout",
     "output_type": "stream",
     "text": [
      "Epoch  57/150 - Train accuracy: 82.788% - Test accuracy: 79.808%\n",
      "----------------------------------------------------------------\n",
      "Reducing learning rate on plateau at epoch 57\n",
      "----------------------------------------------------------------\n"
     ]
    },
    {
     "name": "stdout",
     "output_type": "stream",
     "text": [
      "Epoch  58/150 - Train accuracy: 87.280% - Test accuracy: 84.155%\n"
     ]
    },
    {
     "name": "stdout",
     "output_type": "stream",
     "text": [
      "Epoch  59/150 - Train accuracy: 88.068% - Test accuracy: 84.345%\n"
     ]
    },
    {
     "name": "stdout",
     "output_type": "stream",
     "text": [
      "Epoch  60/150 - Train accuracy: 88.224% - Test accuracy: 84.685%\n"
     ]
    },
    {
     "name": "stdout",
     "output_type": "stream",
     "text": [
      "Epoch  61/150 - Train accuracy: 88.666% - Test accuracy: 84.135%\n"
     ]
    },
    {
     "name": "stdout",
     "output_type": "stream",
     "text": [
      "Epoch  62/150 - Train accuracy: 88.830% - Test accuracy: 84.696%\n"
     ]
    },
    {
     "name": "stdout",
     "output_type": "stream",
     "text": [
      "Epoch  63/150 - Train accuracy: 89.091% - Test accuracy: 84.605%\n"
     ]
    },
    {
     "name": "stdout",
     "output_type": "stream",
     "text": [
      "Epoch  64/150 - Train accuracy: 89.036% - Test accuracy: 85.156%\n"
     ]
    },
    {
     "name": "stdout",
     "output_type": "stream",
     "text": [
      "Epoch  65/150 - Train accuracy: 89.257% - Test accuracy: 85.136%\n"
     ]
    },
    {
     "name": "stdout",
     "output_type": "stream",
     "text": [
      "Epoch  66/150 - Train accuracy: 89.381% - Test accuracy: 85.086%\n"
     ]
    },
    {
     "name": "stdout",
     "output_type": "stream",
     "text": [
      "Epoch  67/150 - Train accuracy: 89.447% - Test accuracy: 84.405%\n"
     ]
    },
    {
     "name": "stdout",
     "output_type": "stream",
     "text": [
      "Epoch  68/150 - Train accuracy: 89.341% - Test accuracy: 84.766%\n"
     ]
    },
    {
     "name": "stdout",
     "output_type": "stream",
     "text": [
      "Epoch  69/150 - Train accuracy: 89.581% - Test accuracy: 85.377%\n"
     ]
    },
    {
     "name": "stdout",
     "output_type": "stream",
     "text": [
      "Epoch  70/150 - Train accuracy: 89.699% - Test accuracy: 84.505%\n"
     ]
    },
    {
     "name": "stdout",
     "output_type": "stream",
     "text": [
      "Epoch  71/150 - Train accuracy: 89.765% - Test accuracy: 85.347%\n"
     ]
    },
    {
     "name": "stdout",
     "output_type": "stream",
     "text": [
      "Epoch  72/150 - Train accuracy: 89.925% - Test accuracy: 84.655%\n"
     ]
    },
    {
     "name": "stdout",
     "output_type": "stream",
     "text": [
      "Epoch  73/150 - Train accuracy: 89.643% - Test accuracy: 84.685%\n"
     ]
    },
    {
     "name": "stdout",
     "output_type": "stream",
     "text": [
      "Epoch  74/150 - Train accuracy: 89.975% - Test accuracy: 85.447%\n"
     ]
    },
    {
     "name": "stdout",
     "output_type": "stream",
     "text": [
      "Epoch  75/150 - Train accuracy: 89.961% - Test accuracy: 85.537%\n"
     ]
    },
    {
     "name": "stdout",
     "output_type": "stream",
     "text": [
      "Epoch  76/150 - Train accuracy: 90.203% - Test accuracy: 84.786%\n"
     ]
    },
    {
     "name": "stdout",
     "output_type": "stream",
     "text": [
      "Epoch  77/150 - Train accuracy: 90.173% - Test accuracy: 84.075%\n"
     ]
    },
    {
     "name": "stdout",
     "output_type": "stream",
     "text": [
      "Epoch  78/150 - Train accuracy: 90.313% - Test accuracy: 83.604%\n"
     ]
    },
    {
     "name": "stdout",
     "output_type": "stream",
     "text": [
      "Epoch  79/150 - Train accuracy: 90.341% - Test accuracy: 84.756%\n",
      "----------------------------------------------------------------\n",
      "Reducing learning rate on plateau at epoch 79\n",
      "----------------------------------------------------------------\n"
     ]
    },
    {
     "name": "stdout",
     "output_type": "stream",
     "text": [
      "Epoch  80/150 - Train accuracy: 91.729% - Test accuracy: 85.867%\n"
     ]
    },
    {
     "name": "stdout",
     "output_type": "stream",
     "text": [
      "Epoch  81/150 - Train accuracy: 91.887% - Test accuracy: 86.448%\n"
     ]
    },
    {
     "name": "stdout",
     "output_type": "stream",
     "text": [
      "Epoch  82/150 - Train accuracy: 91.925% - Test accuracy: 86.308%\n"
     ]
    },
    {
     "name": "stdout",
     "output_type": "stream",
     "text": [
      "Epoch  83/150 - Train accuracy: 91.827% - Test accuracy: 86.318%\n"
     ]
    },
    {
     "name": "stdout",
     "output_type": "stream",
     "text": [
      "Epoch  84/150 - Train accuracy: 92.129% - Test accuracy: 86.669%\n"
     ]
    },
    {
     "name": "stdout",
     "output_type": "stream",
     "text": [
      "Epoch  85/150 - Train accuracy: 92.043% - Test accuracy: 86.438%\n"
     ]
    },
    {
     "name": "stdout",
     "output_type": "stream",
     "text": [
      "Epoch  86/150 - Train accuracy: 92.015% - Test accuracy: 86.488%\n"
     ]
    },
    {
     "name": "stdout",
     "output_type": "stream",
     "text": [
      "Epoch  87/150 - Train accuracy: 91.897% - Test accuracy: 86.508%\n"
     ]
    },
    {
     "name": "stdout",
     "output_type": "stream",
     "text": [
      "Epoch  88/150 - Train accuracy: 91.923% - Test accuracy: 86.599%\n"
     ]
    },
    {
     "name": "stdout",
     "output_type": "stream",
     "text": [
      "Epoch  89/150 - Train accuracy: 92.326% - Test accuracy: 86.639%\n"
     ]
    },
    {
     "name": "stdout",
     "output_type": "stream",
     "text": [
      "Epoch  90/150 - Train accuracy: 92.125% - Test accuracy: 86.709%\n"
     ]
    },
    {
     "name": "stdout",
     "output_type": "stream",
     "text": [
      "Epoch  91/150 - Train accuracy: 92.222% - Test accuracy: 86.769%\n"
     ]
    },
    {
     "name": "stdout",
     "output_type": "stream",
     "text": [
      "Epoch  92/150 - Train accuracy: 92.192% - Test accuracy: 86.659%\n"
     ]
    },
    {
     "name": "stdout",
     "output_type": "stream",
     "text": [
      "Epoch  93/150 - Train accuracy: 92.250% - Test accuracy: 86.849%\n"
     ]
    },
    {
     "name": "stdout",
     "output_type": "stream",
     "text": [
      "Epoch  94/150 - Train accuracy: 92.119% - Test accuracy: 86.589%\n"
     ]
    },
    {
     "name": "stdout",
     "output_type": "stream",
     "text": [
      "Epoch  95/150 - Train accuracy: 91.923% - Test accuracy: 86.558%\n"
     ]
    },
    {
     "name": "stdout",
     "output_type": "stream",
     "text": [
      "Epoch  96/150 - Train accuracy: 92.181% - Test accuracy: 86.859%\n",
      "----------------------------------------------------------------\n",
      "Reducing learning rate on plateau at epoch 96\n",
      "----------------------------------------------------------------\n"
     ]
    },
    {
     "name": "stdout",
     "output_type": "stream",
     "text": [
      "Epoch  97/150 - Train accuracy: 92.708% - Test accuracy: 86.889%\n"
     ]
    },
    {
     "name": "stdout",
     "output_type": "stream",
     "text": [
      "Epoch  98/150 - Train accuracy: 92.648% - Test accuracy: 86.849%\n"
     ]
    },
    {
     "name": "stdout",
     "output_type": "stream",
     "text": [
      "Epoch  99/150 - Train accuracy: 92.802% - Test accuracy: 86.939%\n"
     ]
    },
    {
     "name": "stdout",
     "output_type": "stream",
     "text": [
      "Epoch 100/150 - Train accuracy: 93.020% - Test accuracy: 86.789%\n"
     ]
    },
    {
     "name": "stdout",
     "output_type": "stream",
     "text": [
      "Epoch 101/150 - Train accuracy: 92.688% - Test accuracy: 86.749%\n"
     ]
    },
    {
     "name": "stdout",
     "output_type": "stream",
     "text": [
      "Epoch 102/150 - Train accuracy: 92.730% - Test accuracy: 86.689%\n"
     ]
    },
    {
     "name": "stdout",
     "output_type": "stream",
     "text": [
      "Epoch 103/150 - Train accuracy: 92.736% - Test accuracy: 86.869%\n"
     ]
    },
    {
     "name": "stdout",
     "output_type": "stream",
     "text": [
      "Epoch 104/150 - Train accuracy: 92.966% - Test accuracy: 86.849%\n"
     ]
    },
    {
     "name": "stdout",
     "output_type": "stream",
     "text": [
      "Epoch 105/150 - Train accuracy: 92.682% - Test accuracy: 86.639%\n"
     ]
    },
    {
     "name": "stdout",
     "output_type": "stream",
     "text": [
      "Epoch 106/150 - Train accuracy: 92.780% - Test accuracy: 86.769%\n"
     ]
    },
    {
     "name": "stdout",
     "output_type": "stream",
     "text": [
      "Epoch 107/150 - Train accuracy: 92.702% - Test accuracy: 86.659%\n"
     ]
    },
    {
     "name": "stdout",
     "output_type": "stream",
     "text": [
      "Epoch 108/150 - Train accuracy: 93.010% - Test accuracy: 86.949%\n"
     ]
    },
    {
     "name": "stdout",
     "output_type": "stream",
     "text": [
      "Epoch 109/150 - Train accuracy: 92.882% - Test accuracy: 87.039%\n"
     ]
    },
    {
     "name": "stdout",
     "output_type": "stream",
     "text": [
      "Epoch 110/150 - Train accuracy: 92.612% - Test accuracy: 86.869%\n"
     ]
    },
    {
     "name": "stdout",
     "output_type": "stream",
     "text": [
      "Epoch 111/150 - Train accuracy: 92.988% - Test accuracy: 86.919%\n",
      "----------------------------------------------------------------\n",
      "Reducing learning rate on plateau at epoch 111\n",
      "----------------------------------------------------------------\n"
     ]
    },
    {
     "name": "stdout",
     "output_type": "stream",
     "text": [
      "Epoch 112/150 - Train accuracy: 92.850% - Test accuracy: 87.119%\n"
     ]
    },
    {
     "name": "stdout",
     "output_type": "stream",
     "text": [
      "Epoch 113/150 - Train accuracy: 93.068% - Test accuracy: 87.049%\n"
     ]
    },
    {
     "name": "stdout",
     "output_type": "stream",
     "text": [
      "Epoch 114/150 - Train accuracy: 92.928% - Test accuracy: 86.899%\n"
     ]
    },
    {
     "name": "stdout",
     "output_type": "stream",
     "text": [
      "Epoch 115/150 - Train accuracy: 93.088% - Test accuracy: 87.119%\n"
     ]
    },
    {
     "name": "stdout",
     "output_type": "stream",
     "text": [
      "Epoch 116/150 - Train accuracy: 92.878% - Test accuracy: 87.039%\n",
      "----------------------------------------------------------------\n",
      "Early stopping at epoch 116\n",
      "----------------------------------------------------------------\n"
     ]
    },
    {
     "name": "stdout",
     "output_type": "stream",
     "text": [
      "----------------------------------------------------------------\n",
      "Running experiment with seed 51...\n"
     ]
    },
    {
     "name": "stdout",
     "output_type": "stream",
     "text": [
      "Files already downloaded and verified\n"
     ]
    },
    {
     "name": "stdout",
     "output_type": "stream",
     "text": [
      "Files already downloaded and verified\n"
     ]
    },
    {
     "name": "stdout",
     "output_type": "stream",
     "text": [
      "Epoch   1/150 - Train accuracy: 10.295% - Test accuracy: 16.857%\n"
     ]
    },
    {
     "name": "stdout",
     "output_type": "stream",
     "text": [
      "Epoch   2/150 - Train accuracy: 22.421% - Test accuracy: 31.100%\n"
     ]
    },
    {
     "name": "stdout",
     "output_type": "stream",
     "text": [
      "Epoch   3/150 - Train accuracy: 35.385% - Test accuracy: 42.768%\n"
     ]
    },
    {
     "name": "stdout",
     "output_type": "stream",
     "text": [
      "Epoch   4/150 - Train accuracy: 42.962% - Test accuracy: 47.155%\n"
     ]
    },
    {
     "name": "stdout",
     "output_type": "stream",
     "text": [
      "Epoch   5/150 - Train accuracy: 48.007% - Test accuracy: 49.529%\n"
     ]
    },
    {
     "name": "stdout",
     "output_type": "stream",
     "text": [
      "Epoch   6/150 - Train accuracy: 52.691% - Test accuracy: 57.041%\n"
     ]
    },
    {
     "name": "stdout",
     "output_type": "stream",
     "text": [
      "Epoch   7/150 - Train accuracy: 56.718% - Test accuracy: 53.636%\n"
     ]
    },
    {
     "name": "stdout",
     "output_type": "stream",
     "text": [
      "Epoch   8/150 - Train accuracy: 59.159% - Test accuracy: 60.327%\n"
     ]
    },
    {
     "name": "stdout",
     "output_type": "stream",
     "text": [
      "Epoch   9/150 - Train accuracy: 61.748% - Test accuracy: 62.440%\n"
     ]
    },
    {
     "name": "stdout",
     "output_type": "stream",
     "text": [
      "Epoch  10/150 - Train accuracy: 63.266% - Test accuracy: 67.298%\n"
     ]
    },
    {
     "name": "stdout",
     "output_type": "stream",
     "text": [
      "Epoch  11/150 - Train accuracy: 65.171% - Test accuracy: 67.007%\n"
     ]
    },
    {
     "name": "stdout",
     "output_type": "stream",
     "text": [
      "Epoch  12/150 - Train accuracy: 66.487% - Test accuracy: 68.700%\n"
     ]
    },
    {
     "name": "stdout",
     "output_type": "stream",
     "text": [
      "Epoch  13/150 - Train accuracy: 67.706% - Test accuracy: 69.621%\n"
     ]
    },
    {
     "name": "stdout",
     "output_type": "stream",
     "text": [
      "Epoch  14/150 - Train accuracy: 69.092% - Test accuracy: 70.262%\n"
     ]
    },
    {
     "name": "stdout",
     "output_type": "stream",
     "text": [
      "Epoch  15/150 - Train accuracy: 69.608% - Test accuracy: 71.985%\n"
     ]
    },
    {
     "name": "stdout",
     "output_type": "stream",
     "text": [
      "Epoch  16/150 - Train accuracy: 70.763% - Test accuracy: 70.793%\n"
     ]
    },
    {
     "name": "stdout",
     "output_type": "stream",
     "text": [
      "Epoch  17/150 - Train accuracy: 71.837% - Test accuracy: 72.456%\n"
     ]
    },
    {
     "name": "stdout",
     "output_type": "stream",
     "text": [
      "Epoch  18/150 - Train accuracy: 71.425% - Test accuracy: 71.224%\n"
     ]
    },
    {
     "name": "stdout",
     "output_type": "stream",
     "text": [
      "Epoch  19/150 - Train accuracy: 72.157% - Test accuracy: 73.317%\n"
     ]
    },
    {
     "name": "stdout",
     "output_type": "stream",
     "text": [
      "Epoch  20/150 - Train accuracy: 73.377% - Test accuracy: 76.102%\n"
     ]
    },
    {
     "name": "stdout",
     "output_type": "stream",
     "text": [
      "Epoch  21/150 - Train accuracy: 73.624% - Test accuracy: 72.266%\n"
     ]
    },
    {
     "name": "stdout",
     "output_type": "stream",
     "text": [
      "Epoch  22/150 - Train accuracy: 74.768% - Test accuracy: 74.129%\n"
     ]
    },
    {
     "name": "stdout",
     "output_type": "stream",
     "text": [
      "Epoch  23/150 - Train accuracy: 75.220% - Test accuracy: 76.953%\n"
     ]
    },
    {
     "name": "stdout",
     "output_type": "stream",
     "text": [
      "Epoch  24/150 - Train accuracy: 75.082% - Test accuracy: 76.102%\n"
     ]
    },
    {
     "name": "stdout",
     "output_type": "stream",
     "text": [
      "Epoch  25/150 - Train accuracy: 76.356% - Test accuracy: 75.591%\n"
     ]
    },
    {
     "name": "stdout",
     "output_type": "stream",
     "text": [
      "Epoch  26/150 - Train accuracy: 76.284% - Test accuracy: 75.110%\n"
     ]
    },
    {
     "name": "stdout",
     "output_type": "stream",
     "text": [
      "Epoch  27/150 - Train accuracy: 76.973% - Test accuracy: 77.825%\n"
     ]
    },
    {
     "name": "stdout",
     "output_type": "stream",
     "text": [
      "Epoch  28/150 - Train accuracy: 77.179% - Test accuracy: 75.050%\n"
     ]
    },
    {
     "name": "stdout",
     "output_type": "stream",
     "text": [
      "Epoch  29/150 - Train accuracy: 76.969% - Test accuracy: 77.073%\n"
     ]
    },
    {
     "name": "stdout",
     "output_type": "stream",
     "text": [
      "Epoch  30/150 - Train accuracy: 77.567% - Test accuracy: 75.901%\n"
     ]
    },
    {
     "name": "stdout",
     "output_type": "stream",
     "text": [
      "Epoch  31/150 - Train accuracy: 78.269% - Test accuracy: 76.953%\n"
     ]
    },
    {
     "name": "stdout",
     "output_type": "stream",
     "text": [
      "Epoch  32/150 - Train accuracy: 78.831% - Test accuracy: 78.295%\n"
     ]
    },
    {
     "name": "stdout",
     "output_type": "stream",
     "text": [
      "Epoch  33/150 - Train accuracy: 79.367% - Test accuracy: 78.385%\n"
     ]
    },
    {
     "name": "stdout",
     "output_type": "stream",
     "text": [
      "Epoch  34/150 - Train accuracy: 78.795% - Test accuracy: 77.354%\n"
     ]
    },
    {
     "name": "stdout",
     "output_type": "stream",
     "text": [
      "Epoch  35/150 - Train accuracy: 79.349% - Test accuracy: 78.756%\n"
     ]
    },
    {
     "name": "stdout",
     "output_type": "stream",
     "text": [
      "Epoch  36/150 - Train accuracy: 79.435% - Test accuracy: 79.267%\n"
     ]
    },
    {
     "name": "stdout",
     "output_type": "stream",
     "text": [
      "Epoch  37/150 - Train accuracy: 79.850% - Test accuracy: 78.946%\n"
     ]
    },
    {
     "name": "stdout",
     "output_type": "stream",
     "text": [
      "Epoch  38/150 - Train accuracy: 79.728% - Test accuracy: 77.584%\n"
     ]
    },
    {
     "name": "stdout",
     "output_type": "stream",
     "text": [
      "Epoch  39/150 - Train accuracy: 80.236% - Test accuracy: 79.227%\n"
     ]
    },
    {
     "name": "stdout",
     "output_type": "stream",
     "text": [
      "Epoch  40/150 - Train accuracy: 80.564% - Test accuracy: 78.696%\n"
     ]
    },
    {
     "name": "stdout",
     "output_type": "stream",
     "text": [
      "Epoch  41/150 - Train accuracy: 80.548% - Test accuracy: 78.836%\n"
     ]
    },
    {
     "name": "stdout",
     "output_type": "stream",
     "text": [
      "Epoch  42/150 - Train accuracy: 80.740% - Test accuracy: 79.217%\n"
     ]
    },
    {
     "name": "stdout",
     "output_type": "stream",
     "text": [
      "Epoch  43/150 - Train accuracy: 80.866% - Test accuracy: 80.509%\n"
     ]
    },
    {
     "name": "stdout",
     "output_type": "stream",
     "text": [
      "Epoch  44/150 - Train accuracy: 80.918% - Test accuracy: 78.626%\n"
     ]
    },
    {
     "name": "stdout",
     "output_type": "stream",
     "text": [
      "Epoch  45/150 - Train accuracy: 81.014% - Test accuracy: 77.654%\n"
     ]
    },
    {
     "name": "stdout",
     "output_type": "stream",
     "text": [
      "Epoch  46/150 - Train accuracy: 81.536% - Test accuracy: 78.786%\n"
     ]
    },
    {
     "name": "stdout",
     "output_type": "stream",
     "text": [
      "Epoch  47/150 - Train accuracy: 81.364% - Test accuracy: 77.935%\n"
     ]
    },
    {
     "name": "stdout",
     "output_type": "stream",
     "text": [
      "Epoch  48/150 - Train accuracy: 81.388% - Test accuracy: 80.950%\n"
     ]
    },
    {
     "name": "stdout",
     "output_type": "stream",
     "text": [
      "Epoch  49/150 - Train accuracy: 81.598% - Test accuracy: 80.108%\n"
     ]
    },
    {
     "name": "stdout",
     "output_type": "stream",
     "text": [
      "Epoch  50/150 - Train accuracy: 81.950% - Test accuracy: 80.158%\n"
     ]
    },
    {
     "name": "stdout",
     "output_type": "stream",
     "text": [
      "Epoch  51/150 - Train accuracy: 81.710% - Test accuracy: 79.938%\n"
     ]
    },
    {
     "name": "stdout",
     "output_type": "stream",
     "text": [
      "Epoch  52/150 - Train accuracy: 82.112% - Test accuracy: 80.629%\n"
     ]
    },
    {
     "name": "stdout",
     "output_type": "stream",
     "text": [
      "Epoch  53/150 - Train accuracy: 81.978% - Test accuracy: 80.298%\n"
     ]
    },
    {
     "name": "stdout",
     "output_type": "stream",
     "text": [
      "Epoch  54/150 - Train accuracy: 82.166% - Test accuracy: 80.819%\n"
     ]
    },
    {
     "name": "stdout",
     "output_type": "stream",
     "text": [
      "Epoch  55/150 - Train accuracy: 82.516% - Test accuracy: 80.919%\n"
     ]
    },
    {
     "name": "stdout",
     "output_type": "stream",
     "text": [
      "Epoch  56/150 - Train accuracy: 82.122% - Test accuracy: 81.671%\n"
     ]
    },
    {
     "name": "stdout",
     "output_type": "stream",
     "text": [
      "Epoch  57/150 - Train accuracy: 82.478% - Test accuracy: 80.659%\n"
     ]
    },
    {
     "name": "stdout",
     "output_type": "stream",
     "text": [
      "Epoch  58/150 - Train accuracy: 82.640% - Test accuracy: 81.240%\n"
     ]
    },
    {
     "name": "stdout",
     "output_type": "stream",
     "text": [
      "Epoch  59/150 - Train accuracy: 82.833% - Test accuracy: 80.339%\n"
     ]
    },
    {
     "name": "stdout",
     "output_type": "stream",
     "text": [
      "Epoch  60/150 - Train accuracy: 82.628% - Test accuracy: 81.430%\n"
     ]
    },
    {
     "name": "stdout",
     "output_type": "stream",
     "text": [
      "Epoch  61/150 - Train accuracy: 82.873% - Test accuracy: 77.774%\n"
     ]
    },
    {
     "name": "stdout",
     "output_type": "stream",
     "text": [
      "Epoch  62/150 - Train accuracy: 83.107% - Test accuracy: 79.647%\n"
     ]
    },
    {
     "name": "stdout",
     "output_type": "stream",
     "text": [
      "Epoch  63/150 - Train accuracy: 83.003% - Test accuracy: 78.696%\n"
     ]
    },
    {
     "name": "stdout",
     "output_type": "stream",
     "text": [
      "Epoch  64/150 - Train accuracy: 82.971% - Test accuracy: 81.430%\n"
     ]
    },
    {
     "name": "stdout",
     "output_type": "stream",
     "text": [
      "Epoch  65/150 - Train accuracy: 82.833% - Test accuracy: 78.906%\n"
     ]
    },
    {
     "name": "stdout",
     "output_type": "stream",
     "text": [
      "Epoch  66/150 - Train accuracy: 83.045% - Test accuracy: 80.950%\n"
     ]
    },
    {
     "name": "stdout",
     "output_type": "stream",
     "text": [
      "Epoch  67/150 - Train accuracy: 83.029% - Test accuracy: 78.986%\n"
     ]
    },
    {
     "name": "stdout",
     "output_type": "stream",
     "text": [
      "Epoch  68/150 - Train accuracy: 83.415% - Test accuracy: 81.330%\n"
     ]
    },
    {
     "name": "stdout",
     "output_type": "stream",
     "text": [
      "Epoch  69/150 - Train accuracy: 83.155% - Test accuracy: 80.238%\n"
     ]
    },
    {
     "name": "stdout",
     "output_type": "stream",
     "text": [
      "Epoch  70/150 - Train accuracy: 82.788% - Test accuracy: 81.110%\n"
     ]
    },
    {
     "name": "stdout",
     "output_type": "stream",
     "text": [
      "Epoch  71/150 - Train accuracy: 83.427% - Test accuracy: 80.359%\n",
      "----------------------------------------------------------------\n",
      "Reducing learning rate on plateau at epoch 71\n",
      "----------------------------------------------------------------\n"
     ]
    },
    {
     "name": "stdout",
     "output_type": "stream",
     "text": [
      "Epoch  72/150 - Train accuracy: 88.088% - Test accuracy: 84.535%\n"
     ]
    },
    {
     "name": "stdout",
     "output_type": "stream",
     "text": [
      "Epoch  73/150 - Train accuracy: 88.618% - Test accuracy: 84.565%\n"
     ]
    },
    {
     "name": "stdout",
     "output_type": "stream",
     "text": [
      "Epoch  74/150 - Train accuracy: 89.111% - Test accuracy: 84.726%\n"
     ]
    },
    {
     "name": "stdout",
     "output_type": "stream",
     "text": [
      "Epoch  75/150 - Train accuracy: 89.337% - Test accuracy: 85.116%\n"
     ]
    },
    {
     "name": "stdout",
     "output_type": "stream",
     "text": [
      "Epoch  76/150 - Train accuracy: 89.411% - Test accuracy: 85.397%\n"
     ]
    },
    {
     "name": "stdout",
     "output_type": "stream",
     "text": [
      "Epoch  77/150 - Train accuracy: 89.697% - Test accuracy: 85.537%\n"
     ]
    },
    {
     "name": "stdout",
     "output_type": "stream",
     "text": [
      "Epoch  78/150 - Train accuracy: 90.009% - Test accuracy: 85.367%\n"
     ]
    },
    {
     "name": "stdout",
     "output_type": "stream",
     "text": [
      "Epoch  79/150 - Train accuracy: 90.049% - Test accuracy: 85.507%\n"
     ]
    },
    {
     "name": "stdout",
     "output_type": "stream",
     "text": [
      "Epoch  80/150 - Train accuracy: 90.289% - Test accuracy: 86.038%\n"
     ]
    },
    {
     "name": "stdout",
     "output_type": "stream",
     "text": [
      "Epoch  81/150 - Train accuracy: 90.033% - Test accuracy: 85.527%\n"
     ]
    },
    {
     "name": "stdout",
     "output_type": "stream",
     "text": [
      "Epoch  82/150 - Train accuracy: 90.141% - Test accuracy: 85.867%\n"
     ]
    },
    {
     "name": "stdout",
     "output_type": "stream",
     "text": [
      "Epoch  83/150 - Train accuracy: 90.391% - Test accuracy: 85.387%\n"
     ]
    },
    {
     "name": "stdout",
     "output_type": "stream",
     "text": [
      "Epoch  84/150 - Train accuracy: 90.585% - Test accuracy: 85.887%\n"
     ]
    },
    {
     "name": "stdout",
     "output_type": "stream",
     "text": [
      "Epoch  85/150 - Train accuracy: 90.451% - Test accuracy: 85.417%\n"
     ]
    },
    {
     "name": "stdout",
     "output_type": "stream",
     "text": [
      "Epoch  86/150 - Train accuracy: 90.685% - Test accuracy: 85.397%\n"
     ]
    },
    {
     "name": "stdout",
     "output_type": "stream",
     "text": [
      "Epoch  87/150 - Train accuracy: 90.687% - Test accuracy: 85.477%\n"
     ]
    },
    {
     "name": "stdout",
     "output_type": "stream",
     "text": [
      "Epoch  88/150 - Train accuracy: 90.549% - Test accuracy: 86.258%\n"
     ]
    },
    {
     "name": "stdout",
     "output_type": "stream",
     "text": [
      "Epoch  89/150 - Train accuracy: 90.817% - Test accuracy: 85.697%\n"
     ]
    },
    {
     "name": "stdout",
     "output_type": "stream",
     "text": [
      "Epoch  90/150 - Train accuracy: 90.859% - Test accuracy: 85.357%\n"
     ]
    },
    {
     "name": "stdout",
     "output_type": "stream",
     "text": [
      "Epoch  91/150 - Train accuracy: 90.895% - Test accuracy: 85.567%\n"
     ]
    },
    {
     "name": "stdout",
     "output_type": "stream",
     "text": [
      "Epoch  92/150 - Train accuracy: 90.645% - Test accuracy: 85.607%\n",
      "----------------------------------------------------------------\n",
      "Reducing learning rate on plateau at epoch 92\n",
      "----------------------------------------------------------------\n"
     ]
    },
    {
     "name": "stdout",
     "output_type": "stream",
     "text": [
      "Epoch  93/150 - Train accuracy: 92.294% - Test accuracy: 86.989%\n"
     ]
    },
    {
     "name": "stdout",
     "output_type": "stream",
     "text": [
      "Epoch  94/150 - Train accuracy: 92.728% - Test accuracy: 87.179%\n"
     ]
    },
    {
     "name": "stdout",
     "output_type": "stream",
     "text": [
      "Epoch  95/150 - Train accuracy: 92.438% - Test accuracy: 87.230%\n"
     ]
    },
    {
     "name": "stdout",
     "output_type": "stream",
     "text": [
      "Epoch  96/150 - Train accuracy: 92.612% - Test accuracy: 87.290%\n"
     ]
    },
    {
     "name": "stdout",
     "output_type": "stream",
     "text": [
      "Epoch  97/150 - Train accuracy: 92.708% - Test accuracy: 86.949%\n"
     ]
    },
    {
     "name": "stdout",
     "output_type": "stream",
     "text": [
      "Epoch  98/150 - Train accuracy: 92.494% - Test accuracy: 87.270%\n"
     ]
    },
    {
     "name": "stdout",
     "output_type": "stream",
     "text": [
      "Epoch  99/150 - Train accuracy: 92.804% - Test accuracy: 86.999%\n"
     ]
    },
    {
     "name": "stdout",
     "output_type": "stream",
     "text": [
      "Epoch 100/150 - Train accuracy: 92.642% - Test accuracy: 87.220%\n"
     ]
    },
    {
     "name": "stdout",
     "output_type": "stream",
     "text": [
      "Epoch 101/150 - Train accuracy: 92.682% - Test accuracy: 86.919%\n"
     ]
    },
    {
     "name": "stdout",
     "output_type": "stream",
     "text": [
      "Epoch 102/150 - Train accuracy: 92.928% - Test accuracy: 87.460%\n"
     ]
    },
    {
     "name": "stdout",
     "output_type": "stream",
     "text": [
      "Epoch 103/150 - Train accuracy: 92.910% - Test accuracy: 87.420%\n"
     ]
    },
    {
     "name": "stdout",
     "output_type": "stream",
     "text": [
      "Epoch 104/150 - Train accuracy: 92.692% - Test accuracy: 87.420%\n"
     ]
    },
    {
     "name": "stdout",
     "output_type": "stream",
     "text": [
      "Epoch 105/150 - Train accuracy: 92.686% - Test accuracy: 87.480%\n"
     ]
    },
    {
     "name": "stdout",
     "output_type": "stream",
     "text": [
      "Epoch 106/150 - Train accuracy: 92.934% - Test accuracy: 87.570%\n"
     ]
    },
    {
     "name": "stdout",
     "output_type": "stream",
     "text": [
      "Epoch 107/150 - Train accuracy: 92.982% - Test accuracy: 87.220%\n"
     ]
    },
    {
     "name": "stdout",
     "output_type": "stream",
     "text": [
      "Epoch 108/150 - Train accuracy: 92.966% - Test accuracy: 87.460%\n",
      "----------------------------------------------------------------\n",
      "Reducing learning rate on plateau at epoch 108\n",
      "----------------------------------------------------------------\n"
     ]
    },
    {
     "name": "stdout",
     "output_type": "stream",
     "text": [
      "Epoch 109/150 - Train accuracy: 93.178% - Test accuracy: 87.600%\n"
     ]
    },
    {
     "name": "stdout",
     "output_type": "stream",
     "text": [
      "Epoch 110/150 - Train accuracy: 93.376% - Test accuracy: 87.710%\n"
     ]
    },
    {
     "name": "stdout",
     "output_type": "stream",
     "text": [
      "Epoch 111/150 - Train accuracy: 93.354% - Test accuracy: 87.770%\n"
     ]
    },
    {
     "name": "stdout",
     "output_type": "stream",
     "text": [
      "Epoch 112/150 - Train accuracy: 93.496% - Test accuracy: 87.810%\n"
     ]
    },
    {
     "name": "stdout",
     "output_type": "stream",
     "text": [
      "Epoch 113/150 - Train accuracy: 93.296% - Test accuracy: 87.810%\n"
     ]
    },
    {
     "name": "stdout",
     "output_type": "stream",
     "text": [
      "Epoch 114/150 - Train accuracy: 93.436% - Test accuracy: 87.800%\n"
     ]
    },
    {
     "name": "stdout",
     "output_type": "stream",
     "text": [
      "Epoch 115/150 - Train accuracy: 93.456% - Test accuracy: 87.951%\n"
     ]
    },
    {
     "name": "stdout",
     "output_type": "stream",
     "text": [
      "Epoch 116/150 - Train accuracy: 93.356% - Test accuracy: 87.720%\n"
     ]
    },
    {
     "name": "stdout",
     "output_type": "stream",
     "text": [
      "Epoch 117/150 - Train accuracy: 93.362% - Test accuracy: 87.991%\n"
     ]
    },
    {
     "name": "stdout",
     "output_type": "stream",
     "text": [
      "Epoch 118/150 - Train accuracy: 93.340% - Test accuracy: 87.720%\n"
     ]
    },
    {
     "name": "stdout",
     "output_type": "stream",
     "text": [
      "Epoch 119/150 - Train accuracy: 93.550% - Test accuracy: 87.861%\n"
     ]
    },
    {
     "name": "stdout",
     "output_type": "stream",
     "text": [
      "Epoch 120/150 - Train accuracy: 93.558% - Test accuracy: 87.790%\n"
     ]
    },
    {
     "name": "stdout",
     "output_type": "stream",
     "text": [
      "Epoch 121/150 - Train accuracy: 93.444% - Test accuracy: 87.770%\n"
     ]
    },
    {
     "name": "stdout",
     "output_type": "stream",
     "text": [
      "Epoch 122/150 - Train accuracy: 93.424% - Test accuracy: 87.690%\n"
     ]
    },
    {
     "name": "stdout",
     "output_type": "stream",
     "text": [
      "Epoch 123/150 - Train accuracy: 93.276% - Test accuracy: 87.730%\n"
     ]
    },
    {
     "name": "stdout",
     "output_type": "stream",
     "text": [
      "Epoch 124/150 - Train accuracy: 93.376% - Test accuracy: 87.831%\n"
     ]
    },
    {
     "name": "stdout",
     "output_type": "stream",
     "text": [
      "Epoch 125/150 - Train accuracy: 93.254% - Test accuracy: 87.911%\n"
     ]
    },
    {
     "name": "stdout",
     "output_type": "stream",
     "text": [
      "Epoch 126/150 - Train accuracy: 93.516% - Test accuracy: 87.760%\n"
     ]
    },
    {
     "name": "stdout",
     "output_type": "stream",
     "text": [
      "Epoch 127/150 - Train accuracy: 93.308% - Test accuracy: 87.831%\n"
     ]
    },
    {
     "name": "stdout",
     "output_type": "stream",
     "text": [
      "Epoch 128/150 - Train accuracy: 93.388% - Test accuracy: 87.881%\n"
     ]
    },
    {
     "name": "stdout",
     "output_type": "stream",
     "text": [
      "Epoch 129/150 - Train accuracy: 93.428% - Test accuracy: 87.851%\n"
     ]
    },
    {
     "name": "stdout",
     "output_type": "stream",
     "text": [
      "Epoch 130/150 - Train accuracy: 93.282% - Test accuracy: 87.770%\n"
     ]
    },
    {
     "name": "stdout",
     "output_type": "stream",
     "text": [
      "Epoch 131/150 - Train accuracy: 93.334% - Test accuracy: 87.941%\n"
     ]
    },
    {
     "name": "stdout",
     "output_type": "stream",
     "text": [
      "Epoch 132/150 - Train accuracy: 93.388% - Test accuracy: 87.931%\n",
      "----------------------------------------------------------------\n",
      "Reducing learning rate on plateau at epoch 132\n",
      "----------------------------------------------------------------\n"
     ]
    },
    {
     "name": "stdout",
     "output_type": "stream",
     "text": [
      "Epoch 133/150 - Train accuracy: 93.594% - Test accuracy: 87.991%\n"
     ]
    },
    {
     "name": "stdout",
     "output_type": "stream",
     "text": [
      "Epoch 134/150 - Train accuracy: 93.554% - Test accuracy: 87.861%\n"
     ]
    },
    {
     "name": "stdout",
     "output_type": "stream",
     "text": [
      "Epoch 135/150 - Train accuracy: 93.524% - Test accuracy: 87.821%\n"
     ]
    },
    {
     "name": "stdout",
     "output_type": "stream",
     "text": [
      "Epoch 136/150 - Train accuracy: 93.546% - Test accuracy: 87.931%\n"
     ]
    },
    {
     "name": "stdout",
     "output_type": "stream",
     "text": [
      "Epoch 137/150 - Train accuracy: 93.528% - Test accuracy: 87.861%\n"
     ]
    },
    {
     "name": "stdout",
     "output_type": "stream",
     "text": [
      "Epoch 138/150 - Train accuracy: 93.546% - Test accuracy: 87.821%\n"
     ]
    },
    {
     "name": "stdout",
     "output_type": "stream",
     "text": [
      "Epoch 139/150 - Train accuracy: 93.604% - Test accuracy: 87.901%\n"
     ]
    },
    {
     "name": "stdout",
     "output_type": "stream",
     "text": [
      "Epoch 140/150 - Train accuracy: 93.594% - Test accuracy: 87.941%\n"
     ]
    },
    {
     "name": "stdout",
     "output_type": "stream",
     "text": [
      "Epoch 141/150 - Train accuracy: 93.582% - Test accuracy: 87.911%\n"
     ]
    },
    {
     "name": "stdout",
     "output_type": "stream",
     "text": [
      "Epoch 142/150 - Train accuracy: 93.612% - Test accuracy: 87.861%\n"
     ]
    },
    {
     "name": "stdout",
     "output_type": "stream",
     "text": [
      "Epoch 143/150 - Train accuracy: 93.592% - Test accuracy: 87.871%\n"
     ]
    },
    {
     "name": "stdout",
     "output_type": "stream",
     "text": [
      "Epoch 144/150 - Train accuracy: 93.668% - Test accuracy: 87.941%\n"
     ]
    },
    {
     "name": "stdout",
     "output_type": "stream",
     "text": [
      "Epoch 145/150 - Train accuracy: 93.644% - Test accuracy: 88.061%\n"
     ]
    },
    {
     "name": "stdout",
     "output_type": "stream",
     "text": [
      "Epoch 146/150 - Train accuracy: 93.482% - Test accuracy: 87.951%\n"
     ]
    },
    {
     "name": "stdout",
     "output_type": "stream",
     "text": [
      "Epoch 147/150 - Train accuracy: 93.544% - Test accuracy: 88.041%\n",
      "----------------------------------------------------------------\n",
      "Reducing learning rate on plateau at epoch 147\n",
      "----------------------------------------------------------------\n"
     ]
    },
    {
     "name": "stdout",
     "output_type": "stream",
     "text": [
      "Epoch 148/150 - Train accuracy: 93.698% - Test accuracy: 88.141%\n"
     ]
    },
    {
     "name": "stdout",
     "output_type": "stream",
     "text": [
      "Epoch 149/150 - Train accuracy: 93.542% - Test accuracy: 87.971%\n"
     ]
    },
    {
     "name": "stdout",
     "output_type": "stream",
     "text": [
      "Epoch 150/150 - Train accuracy: 93.828% - Test accuracy: 88.021%\n"
     ]
    }
   ],
   "source": [
    "N_EXPERIMENTS = 10\n",
    "for i in range(N_EXPERIMENTS):\n",
    "    run_experiment(config)\n",
    "    config[\"seed\"] += 1"
   ]
  },
  {
   "cell_type": "markdown",
   "id": "a2c2e9a81e8f2a4f",
   "metadata": {},
   "source": [
    "## Aggregated results"
   ]
  },
  {
   "cell_type": "code",
   "execution_count": 13,
   "id": "b3c9022e5a0a5b7a",
   "metadata": {
    "ExecuteTime": {
     "end_time": "2024-05-15T12:31:50.017488Z",
     "start_time": "2024-05-15T12:31:49.999311Z"
    },
    "execution": {
     "iopub.execute_input": "2024-05-20T15:12:52.697088Z",
     "iopub.status.busy": "2024-05-20T15:12:52.696536Z",
     "iopub.status.idle": "2024-05-20T15:12:52.705979Z",
     "shell.execute_reply": "2024-05-20T15:12:52.704087Z"
    }
   },
   "outputs": [],
   "source": [
    "with open('results.csv', mode='r') as file:\n",
    "    results = np.array(list(csv.reader(file)), dtype=np.float32)"
   ]
  },
  {
   "cell_type": "code",
   "execution_count": 14,
   "id": "b87694d71ae859d1",
   "metadata": {
    "ExecuteTime": {
     "end_time": "2024-05-15T12:31:50.023015Z",
     "start_time": "2024-05-15T12:31:50.018601Z"
    },
    "execution": {
     "iopub.execute_input": "2024-05-20T15:12:52.712277Z",
     "iopub.status.busy": "2024-05-20T15:12:52.711738Z",
     "iopub.status.idle": "2024-05-20T15:12:52.721318Z",
     "shell.execute_reply": "2024-05-20T15:12:52.719397Z"
    }
   },
   "outputs": [],
   "source": [
    "# Compute mean and standard deviation\n",
    "mean_train_acc = np.mean(results[:,1])\n",
    "std_train_acc = np.std(results[:,1])\n",
    "mean_test_acc = np.mean(results[:,2])\n",
    "std_test_acc = np.std(results[:,2])"
   ]
  },
  {
   "cell_type": "code",
   "execution_count": 15,
   "id": "5f60c5c5cbdedb8e",
   "metadata": {
    "ExecuteTime": {
     "end_time": "2024-05-15T12:31:50.029034Z",
     "start_time": "2024-05-15T12:31:50.024135Z"
    },
    "execution": {
     "iopub.execute_input": "2024-05-20T15:12:52.727584Z",
     "iopub.status.busy": "2024-05-20T15:12:52.727045Z",
     "iopub.status.idle": "2024-05-20T15:12:52.736251Z",
     "shell.execute_reply": "2024-05-20T15:12:52.734312Z"
    }
   },
   "outputs": [
    {
     "name": "stdout",
     "output_type": "stream",
     "text": [
      "Mean results with 95% confidence interval:\n",
      "- Train accuracy: 93.13% ± 0.73%\n",
      "-  Test accuracy: 87.39% ± 0.64%\n"
     ]
    }
   ],
   "source": [
    "print(\"Mean results with 95% confidence interval:\")\n",
    "print(f\"- Train accuracy: {mean_train_acc:.2%} ± {std_train_acc * 2:.2%}\")\n",
    "print(f\"-  Test accuracy: {mean_test_acc:.2%} ± {std_test_acc * 2:.2%}\")"
   ]
  }
 ],
 "metadata": {
  "kernelspec": {
   "display_name": "Python 3",
   "language": "python",
   "name": "python3"
  },
  "language_info": {
   "codemirror_mode": {
    "name": "ipython",
    "version": 3
   },
   "file_extension": ".py",
   "mimetype": "text/x-python",
   "name": "python",
   "nbconvert_exporter": "python",
   "pygments_lexer": "ipython3",
   "version": "3.11.9"
  }
 },
 "nbformat": 4,
 "nbformat_minor": 5
}
