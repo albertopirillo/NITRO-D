{
 "cells": [
  {
   "cell_type": "markdown",
   "id": "3081df066748711b",
   "metadata": {},
   "source": [
    "# VGG8B - FashionMNIST"
   ]
  },
  {
   "cell_type": "code",
   "execution_count": 1,
   "id": "e582a1f102c5c554",
   "metadata": {
    "ExecuteTime": {
     "end_time": "2024-05-16T21:40:03.026752Z",
     "start_time": "2024-05-16T21:40:02.599556Z"
    }
   },
   "outputs": [],
   "source": [
    "import numpy as np\n",
    "import cupy as cp\n",
    "import pathlib\n",
    "import pickle\n",
    "import csv\n",
    "import sys"
   ]
  },
  {
   "cell_type": "code",
   "execution_count": 2,
   "id": "a36c83d0",
   "metadata": {
    "ExecuteTime": {
     "end_time": "2024-05-16T21:40:03.031441Z",
     "start_time": "2024-05-16T21:40:03.027756Z"
    }
   },
   "outputs": [],
   "source": [
    "sys.path.append(str(pathlib.Path('../../').resolve()))"
   ]
  },
  {
   "cell_type": "code",
   "execution_count": 3,
   "id": "4a5ce8e9a8902dff",
   "metadata": {
    "ExecuteTime": {
     "end_time": "2024-05-16T21:40:06.366038Z",
     "start_time": "2024-05-16T21:40:03.032460Z"
    }
   },
   "outputs": [],
   "source": [
    "from lib.experiments import train_test_experiment, build_CNN, build_augmentation_pipeline\n",
    "from lib.utils.enums import NonLinearity, Initialization, Dataset, OptimizerName\n",
    "from lib.utils.data import load_integer_dataset"
   ]
  },
  {
   "cell_type": "markdown",
   "id": "d1649196b987bc01",
   "metadata": {},
   "source": [
    "## Experiments config"
   ]
  },
  {
   "cell_type": "code",
   "execution_count": 4,
   "id": "5859029d6a812144",
   "metadata": {
    "ExecuteTime": {
     "end_time": "2024-05-16T21:40:06.370394Z",
     "start_time": "2024-05-16T21:40:06.367058Z"
    }
   },
   "outputs": [],
   "source": [
    "architecture = [\n",
    "    ('Conv2d', 128, 3, 1, 1),\n",
    "    ('Conv2d', 256, 3, 1, 1),\n",
    "    ('MaxPool2d', 2, 2),\n",
    "    ('Conv2d', 256, 3, 1, 1),\n",
    "    ('Conv2d', 512, 3, 1, 1),\n",
    "    ('MaxPool2d', 2, 2),\n",
    "    ('Conv2d', 512, 3, 1, 1),\n",
    "    ('MaxPool2d', 2, 2),\n",
    "    ('Conv2d', 512, 3, 1, 1),\n",
    "    ('MaxPool2d', 2, 2),\n",
    "]\n",
    "num_fc_layers = 2\n",
    "num_fc_hidden = [1024]"
   ]
  },
  {
   "cell_type": "code",
   "execution_count": 5,
   "id": "2d636533a1995025",
   "metadata": {
    "ExecuteTime": {
     "end_time": "2024-05-16T21:40:06.376370Z",
     "start_time": "2024-05-16T21:40:06.372401Z"
    }
   },
   "outputs": [],
   "source": [
    "dataset_config = dict(\n",
    "    dataset=Dataset.FASHION_MNIST.name,\n",
    "    subsample_ratio=1.0,\n",
    "    ohe_values=(0, 32),\n",
    "    data_augmentation=True,\n",
    "    normalize=True,\n",
    ")"
   ]
  },
  {
   "cell_type": "code",
   "execution_count": 6,
   "id": "7d1cd09ad113de03",
   "metadata": {
    "ExecuteTime": {
     "end_time": "2024-05-16T21:40:06.381236Z",
     "start_time": "2024-05-16T21:40:06.377376Z"
    }
   },
   "outputs": [],
   "source": [
    "network_config = dict(\n",
    "    architecture=architecture,\n",
    "    num_fc_layers=num_fc_layers,\n",
    "    num_fc_hidden=num_fc_hidden,\n",
    "    non_linearity=NonLinearity.NITRO_LEAKY_RELU.name,\n",
    "    init=Initialization.UNIFORM_KAIMING_LEAKY_RELU.name,\n",
    "    pred_decoder_dim=4096,\n",
    "    fe_dropout_rate=0.0,\n",
    "    fc_dropout_rate=0.1,\n",
    "    seed=42,\n",
    "    dtype='int32',\n",
    "    device='cuda',\n",
    "    local_loss='pred',\n",
    "    pooling_type='max',\n",
    "    bias=False,\n",
    "    debug=False,\n",
    ")"
   ]
  },
  {
   "cell_type": "code",
   "execution_count": 7,
   "id": "9e1722b88a039cfa",
   "metadata": {
    "ExecuteTime": {
     "end_time": "2024-05-16T21:40:06.386552Z",
     "start_time": "2024-05-16T21:40:06.382241Z"
    }
   },
   "outputs": [],
   "source": [
    "training_config = dict(\n",
    "    batch_size=64,\n",
    "    num_epochs=150,\n",
    "    lr_inv=512,\n",
    "    lr_amp_factor=640,\n",
    "    fwd_decay_inv=28_000,\n",
    "    subnet_decay_inv=3500,\n",
    "    optimizer=OptimizerName.INTEGER_SGD.name,\n",
    ")"
   ]
  },
  {
   "cell_type": "code",
   "execution_count": 8,
   "id": "358a533d2ff9b822",
   "metadata": {
    "ExecuteTime": {
     "end_time": "2024-05-16T21:40:06.390517Z",
     "start_time": "2024-05-16T21:40:06.387559Z"
    }
   },
   "outputs": [],
   "source": [
    "config = dataset_config | network_config | training_config"
   ]
  },
  {
   "cell_type": "markdown",
   "id": "7d4ddf255216adb",
   "metadata": {},
   "source": [
    "## Run the configuration"
   ]
  },
  {
   "cell_type": "code",
   "execution_count": 9,
   "id": "15b3c7d6b72d6db",
   "metadata": {
    "ExecuteTime": {
     "end_time": "2024-05-16T21:40:08.797944Z",
     "start_time": "2024-05-16T21:40:06.391524Z"
    }
   },
   "outputs": [
    {
     "name": "stdout",
     "output_type": "stream",
     "text": [
      "Training on 60000 samples\n",
      "Data normalized. New statistics:\n",
      "-  Min: -45\n",
      "-  Max: 114\n",
      "- Mean: 0\n",
      "-  Std: 56\n",
      "\n",
      "Moved data to device: <CUDA Device 0>\n",
      "Train set:  (60000, 1, 28, 28), (60000, 10)\n",
      "Test set:   (10000, 1, 28, 28), (10000, 10)\n",
      "Data types: (int8, int8)\n"
     ]
    },
    {
     "data": {
      "image/png": "[encoded data removed]",
      "text/plain": [
       "<Figure size 2000x2000 with 6 Axes>"
      ]
     },
     "metadata": {},
     "output_type": "display_data"
    }
   ],
   "source": [
    "# Show the data and the model\n",
    "dataset = load_integer_dataset(config, ohe_values=config[\"ohe_values\"], val_dim=0, show_images=True, data_path='../.data')\n",
    "X_train, _, _, y_train, _, _ = dataset"
   ]
  },
  {
   "cell_type": "code",
   "execution_count": 10,
   "id": "9d424675633d629a",
   "metadata": {
    "ExecuteTime": {
     "end_time": "2024-05-16T21:40:08.929075Z",
     "start_time": "2024-05-16T21:40:08.799962Z"
    }
   },
   "outputs": [
    {
     "name": "stdout",
     "output_type": "stream",
     "text": [
      "IntegerLocalLossCNN(\n",
      "\t(0): Sequential(\n",
      "\t\t\t(0): LocalConv2dBlock(\n",
      "\t\t\t(0): IntegerConv2d(in_channels=1, out_channels=128, bias=False, decay_rate_inv=28000)\n",
      "\t\t\t(1): ConstantScaling(fwd_factor=2304, bwd_factor=1)\n",
      "\t\t\t(2): NitroLeakyReLU(negative_slope_inv=4)\n",
      "\t\t\t(learning_layers): Sequential(\n",
      "\t\t\t(0): MaxPool2d(kernel_size=(8, 4), stride=(8, 4), padding=(4, 0))\n",
      "\t\t\t(1): Flatten()\n",
      "\t\t\t(2): IntegerLinear(in_features=3584, out_features=10, bias=False, decay_rate_inv=3500)\n",
      "\t\t\t(3): ConstantScaling(fwd_factor=917504, bwd_factor=1)\n",
      "\t\t)\n",
      "\t)\n",
      "\t\t\t(1): LocalConv2dBlock(\n",
      "\t\t\t(0): IntegerConv2d(in_channels=128, out_channels=256, bias=False, decay_rate_inv=28000)\n",
      "\t\t\t(1): ConstantScaling(fwd_factor=294912, bwd_factor=1)\n",
      "\t\t\t(2): NitroLeakyReLU(negative_slope_inv=4)\n",
      "\t\t\t(learning_layers): Sequential(\n",
      "\t\t\t(0): MaxPool2d(kernel_size=(8, 8), stride=(8, 8), padding=(4, 4))\n",
      "\t\t\t(1): Flatten()\n",
      "\t\t\t(2): IntegerLinear(in_features=4096, out_features=10, bias=False, decay_rate_inv=3500)\n",
      "\t\t\t(3): ConstantScaling(fwd_factor=1048576, bwd_factor=1)\n",
      "\t\t)\n",
      "\t)\n",
      "\t\t\t(2): MaxPool2d(kernel_size=(2, 2), stride=(2, 2), padding=(0, 0))\n",
      "\t\t\t(3): LocalConv2dBlock(\n",
      "\t\t\t(0): IntegerConv2d(in_channels=256, out_channels=256, bias=False, decay_rate_inv=28000)\n",
      "\t\t\t(1): ConstantScaling(fwd_factor=589824, bwd_factor=1)\n",
      "\t\t\t(2): NitroLeakyReLU(negative_slope_inv=4)\n",
      "\t\t\t(learning_layers): Sequential(\n",
      "\t\t\t(0): MaxPool2d(kernel_size=(4, 4), stride=(4, 4), padding=(2, 2))\n",
      "\t\t\t(1): Flatten()\n",
      "\t\t\t(2): IntegerLinear(in_features=4096, out_features=10, bias=False, decay_rate_inv=3500)\n",
      "\t\t\t(3): ConstantScaling(fwd_factor=1048576, bwd_factor=1)\n",
      "\t\t)\n",
      "\t)\n",
      "\t\t\t(4): LocalConv2dBlock(\n",
      "\t\t\t(0): IntegerConv2d(in_channels=256, out_channels=512, bias=False, decay_rate_inv=28000)\n",
      "\t\t\t(1): ConstantScaling(fwd_factor=589824, bwd_factor=1)\n",
      "\t\t\t(2): NitroLeakyReLU(negative_slope_inv=4)\n",
      "\t\t\t(learning_layers): Sequential(\n",
      "\t\t\t(0): MaxPool2d(kernel_size=(8, 4), stride=(8, 4), padding=(4, 2))\n",
      "\t\t\t(1): Flatten()\n",
      "\t\t\t(2): IntegerLinear(in_features=4096, out_features=10, bias=False, decay_rate_inv=3500)\n",
      "\t\t\t(3): ConstantScaling(fwd_factor=1048576, bwd_factor=1)\n",
      "\t\t)\n",
      "\t)\n",
      "\t\t\t(5): MaxPool2d(kernel_size=(2, 2), stride=(2, 2), padding=(0, 0))\n",
      "\t\t\t(6): LocalConv2dBlock(\n",
      "\t\t\t(0): IntegerConv2d(in_channels=512, out_channels=512, bias=False, decay_rate_inv=28000)\n",
      "\t\t\t(1): ConstantScaling(fwd_factor=1179648, bwd_factor=1)\n",
      "\t\t\t(2): NitroLeakyReLU(negative_slope_inv=4)\n",
      "\t\t\t(learning_layers): Sequential(\n",
      "\t\t\t(0): MaxPool2d(kernel_size=(4, 2), stride=(4, 2), padding=(2, 1))\n",
      "\t\t\t(1): Flatten()\n",
      "\t\t\t(2): IntegerLinear(in_features=4096, out_features=10, bias=False, decay_rate_inv=3500)\n",
      "\t\t\t(3): ConstantScaling(fwd_factor=1048576, bwd_factor=1)\n",
      "\t\t)\n",
      "\t)\n",
      "\t\t\t(7): MaxPool2d(kernel_size=(2, 2), stride=(2, 2), padding=(0, 0))\n",
      "\t\t\t(8): LocalConv2dBlock(\n",
      "\t\t\t(0): IntegerConv2d(in_channels=512, out_channels=512, bias=False, decay_rate_inv=28000)\n",
      "\t\t\t(1): ConstantScaling(fwd_factor=1179648, bwd_factor=1)\n",
      "\t\t\t(2): NitroLeakyReLU(negative_slope_inv=4)\n",
      "\t\t\t(learning_layers): Sequential(\n",
      "\t\t\t(0): MaxPool2d(kernel_size=(2, 1), stride=(2, 1), padding=(1, 0))\n",
      "\t\t\t(1): Flatten()\n",
      "\t\t\t(2): IntegerLinear(in_features=3072, out_features=10, bias=False, decay_rate_inv=3500)\n",
      "\t\t\t(3): ConstantScaling(fwd_factor=786432, bwd_factor=1)\n",
      "\t\t)\n",
      "\t)\n",
      "\t\t\t(9): Dropout(dropout_rate=0.1)\n",
      "\t\t\t(10): MaxPool2d(kernel_size=(2, 2), stride=(2, 2), padding=(0, 0))\n",
      "\t\t)\n",
      "\t(1): IntegerLocalLossMLP(\n",
      "\t(0): Sequential(\n",
      "\t\t\t(0): Flatten()\n",
      "\t\t\t(1): LocalLinearBlock(\n",
      "\t\t\t(0): IntegerLinear(in_features=512, out_features=1024, bias=False, decay_rate_inv=28000)\n",
      "\t\t\t(1): ConstantScaling(fwd_factor=131072, bwd_factor=1)\n",
      "\t\t\t(2): NitroLeakyReLU(negative_slope_inv=4)\n",
      "\t\t\t(learning_layers): Sequential(\n",
      "\t\t\t(0): IntegerLinear(in_features=1024, out_features=10, bias=False, decay_rate_inv=3500)\n",
      "\t\t\t(1): ConstantScaling(fwd_factor=262144, bwd_factor=1)\n",
      "\t\t)\n",
      "\t)\n",
      "\t\t\t(2): Dropout(dropout_rate=0.1)\n",
      "\t\t\t(3): Sequential(\n",
      "\t\t\t(0): IntegerLinear(in_features=1024, out_features=10, bias=False, decay_rate_inv=3500)\n",
      "\t\t\t(1): ConstantScaling(fwd_factor=262144, bwd_factor=1)\n",
      "\t\t)\n",
      "\t\t)\n",
      "\t)\n",
      ")\n"
     ]
    }
   ],
   "source": [
    "model = build_CNN(config, X_tr=X_train, y_tr=y_train)\n",
    "print(model.extra_repr(1))"
   ]
  },
  {
   "cell_type": "code",
   "execution_count": 11,
   "id": "e4c1bb797582873b",
   "metadata": {
    "ExecuteTime": {
     "end_time": "2024-05-15T12:27:52.470933Z",
     "start_time": "2024-05-15T12:27:52.465522Z"
    }
   },
   "outputs": [],
   "source": [
    "def run_experiment(exp_config):\n",
    "    # Setup reproducibility\n",
    "    print(f\"{'-' * 64}\")\n",
    "    print(f\"Running experiment with seed {exp_config['seed']}...\")\n",
    "    np.random.seed(exp_config[\"seed\"])\n",
    "    cp.random.seed(exp_config[\"seed\"])\n",
    "    \n",
    "    # Load the dataset\n",
    "    data = load_integer_dataset(exp_config, ohe_values=exp_config[\"ohe_values\"], val_dim=0, show_images=False, show_log=False, data_path='../.data')\n",
    "    X_tr, _, X_test, y_tr, _, y_test = data\n",
    "\n",
    "    # Setup data augmentation\n",
    "    augmentation_pipeline = build_augmentation_pipeline(exp_config)\n",
    "\n",
    "    # Build and train the model\n",
    "    m = build_CNN(exp_config, X_tr=X_tr, y_tr=y_tr)    \n",
    "    best_train_acc, best_test_acc = train_test_experiment(\n",
    "        m, exp_config, X_tr=X_tr, X_te=X_test, y_tr=y_tr, y_te=y_test,\n",
    "        augmentation_pipeline=augmentation_pipeline,\n",
    "        show_local_accuracies=False, show_progress_bar=False\n",
    "    )\n",
    "\n",
    "    # Append the results to a CSV file\n",
    "    with open('./results.csv', mode='a', newline='') as f:\n",
    "        writer = csv.writer(f)\n",
    "        writer.writerow([exp_config[\"seed\"], best_train_acc, best_test_acc])\n",
    "        \n",
    "    # Save the first model\n",
    "    if not pathlib.Path('model.pkl').exists():\n",
    "        with open('model.pkl', 'wb') as f:\n",
    "            pickle.dump(m, f)"
   ]
  },
  {
   "cell_type": "code",
   "execution_count": 12,
   "id": "1977595faf571666",
   "metadata": {
    "ExecuteTime": {
     "end_time": "2024-05-15T12:31:49.998199Z",
     "start_time": "2024-05-15T12:27:52.471939Z"
    }
   },
   "outputs": [
    {
     "name": "stdout",
     "output_type": "stream",
     "text": [
      "----------------------------------------------------------------\n",
      "Running experiment with seed 42...\n",
      "Epoch   1/150 - Train accuracy: 15.063% - Test accuracy: 39.583%\n"
     ]
    }
   ],
   "source": [
    "N_EXPERIMENTS = 10\n",
    "for i in range(N_EXPERIMENTS):\n",
    "    run_experiment(config)\n",
    "    config[\"seed\"] += 1"
   ]
  },
  {
   "cell_type": "markdown",
   "id": "a2c2e9a81e8f2a4f",
   "metadata": {},
   "source": [
    "## Aggregated results"
   ]
  },
  {
   "cell_type": "code",
   "execution_count": null,
   "id": "b3c9022e5a0a5b7a",
   "metadata": {
    "ExecuteTime": {
     "end_time": "2024-05-15T12:31:50.017488Z",
     "start_time": "2024-05-15T12:31:49.999311Z"
    }
   },
   "outputs": [],
   "source": [
    "with open('results.csv', mode='r') as file:\n",
    "    results = np.array(list(csv.reader(file)), dtype=np.float32)"
   ]
  },
  {
   "cell_type": "code",
   "execution_count": null,
   "id": "b87694d71ae859d1",
   "metadata": {
    "ExecuteTime": {
     "end_time": "2024-05-15T12:31:50.023015Z",
     "start_time": "2024-05-15T12:31:50.018601Z"
    }
   },
   "outputs": [],
   "source": [
    "# Compute mean and standard deviation\n",
    "mean_train_acc = np.mean(results[:,1])\n",
    "std_train_acc = np.std(results[:,1])\n",
    "mean_test_acc = np.mean(results[:,2])\n",
    "std_test_acc = np.std(results[:,2])"
   ]
  },
  {
   "cell_type": "code",
   "execution_count": null,
   "id": "5f60c5c5cbdedb8e",
   "metadata": {
    "ExecuteTime": {
     "end_time": "2024-05-15T12:31:50.029034Z",
     "start_time": "2024-05-15T12:31:50.024135Z"
    }
   },
   "outputs": [],
   "source": [
    "print(\"Mean results with 95% confidence interval:\")\n",
    "print(f\"- Train accuracy: {mean_train_acc:.2%} ± {std_train_acc * 2:.2%}\")\n",
    "print(f\"-  Test accuracy: {mean_test_acc:.2%} ± {std_test_acc * 2:.2%}\")"
   ]
  }
 ],
 "metadata": {
  "kernelspec": {
   "display_name": "Python 3",
   "language": "python",
   "name": "python3"
  },
  "language_info": {
   "codemirror_mode": {
    "name": "ipython",
    "version": 3
   },
   "file_extension": ".py",
   "mimetype": "text/x-python",
   "name": "python",
   "nbconvert_exporter": "python",
   "pygments_lexer": "ipython3",
   "version": "3.11.0"
  }
 },
 "nbformat": 4,
 "nbformat_minor": 5
}
